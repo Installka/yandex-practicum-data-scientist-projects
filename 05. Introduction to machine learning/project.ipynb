{
 "cells": [
  {
   "cell_type": "markdown",
   "metadata": {},
   "source": [
    "# Рекомендация тарифов"
   ]
  },
  {
   "cell_type": "markdown",
   "metadata": {},
   "source": [
    "Входные данные - данные о поведении клиентов, которые уже перешли на эти тарифы \"Смарт\" и \"Ультра\" (из проекта курса «Статистический анализ данных»). \n",
    "\n",
    "Задача - построить модель для задачи классификации, которая выберет подходящий тариф (из тарифов \"Смарт\" и \"Ультра\") для клиентов со старыми тарифами. Достичь accuracy не меньше 0.75."
   ]
  },
  {
   "cell_type": "markdown",
   "metadata": {},
   "source": [
    "## Оглавление\n",
    "\n",
    "* [1. Откройте и изучите файл](#1.-Откройте-и-изучите-файл)\n",
    "    * [Выводы (шаг 1)](#Выводы-(шаг-1))\n",
    "* [2. Разбейте данные на выборки](#2.-Разбейте-данные-на-выборки)\n",
    "    * [Выводы (шаг 2)](#Выводы-(шаг-2))\n",
    "* [3. Исследуйте модели](#3.-Исследуйте-модели)\n",
    "    * [Логистическая регрессия](#Логистическая-регрессия)\n",
    "    * [Дерево решений](#Дерево-решений)\n",
    "    * [Случайный лес](#Случайный-лес)\n",
    "    * [Выводы (шаг 3)](#Выводы-(шаг-3))\n",
    "* [4. Проверьте модель на тестовой выборке](#4.-Проверьте-модель-на-тестовой-выборке)\n",
    "    * [Выводы (шаг 4)](#Выводы-(шаг-4))\n",
    "* [5. (бонус) Проверьте модели на адекватность](#5.-(бонус)-Проверьте-модели-на-адекватность)\n",
    "    * [Выводы (шаг 5)](#Выводы-(шаг-5))"
   ]
  },
  {
   "cell_type": "markdown",
   "metadata": {},
   "source": [
    "## 1. Откройте и изучите файл"
   ]
  },
  {
   "cell_type": "code",
   "execution_count": 342,
   "metadata": {},
   "outputs": [],
   "source": [
    "import pandas as pd"
   ]
  },
  {
   "cell_type": "code",
   "execution_count": 343,
   "metadata": {},
   "outputs": [],
   "source": [
    "data = pd.read_csv('users_behavior.csv')"
   ]
  },
  {
   "cell_type": "code",
   "execution_count": 344,
   "metadata": {},
   "outputs": [
    {
     "name": "stdout",
     "output_type": "stream",
     "text": [
      "<class 'pandas.core.frame.DataFrame'>\n",
      "RangeIndex: 3214 entries, 0 to 3213\n",
      "Data columns (total 5 columns):\n",
      " #   Column    Non-Null Count  Dtype  \n",
      "---  ------    --------------  -----  \n",
      " 0   calls     3214 non-null   float64\n",
      " 1   minutes   3214 non-null   float64\n",
      " 2   messages  3214 non-null   float64\n",
      " 3   mb_used   3214 non-null   float64\n",
      " 4   is_ultra  3214 non-null   int64  \n",
      "dtypes: float64(4), int64(1)\n",
      "memory usage: 125.7 KB\n"
     ]
    }
   ],
   "source": [
    "data.info()"
   ]
  },
  {
   "cell_type": "code",
   "execution_count": 345,
   "metadata": {},
   "outputs": [
    {
     "data": {
      "text/html": [
       "<div>\n",
       "<style scoped>\n",
       "    .dataframe tbody tr th:only-of-type {\n",
       "        vertical-align: middle;\n",
       "    }\n",
       "\n",
       "    .dataframe tbody tr th {\n",
       "        vertical-align: top;\n",
       "    }\n",
       "\n",
       "    .dataframe thead th {\n",
       "        text-align: right;\n",
       "    }\n",
       "</style>\n",
       "<table border=\"1\" class=\"dataframe\">\n",
       "  <thead>\n",
       "    <tr style=\"text-align: right;\">\n",
       "      <th></th>\n",
       "      <th>calls</th>\n",
       "      <th>minutes</th>\n",
       "      <th>messages</th>\n",
       "      <th>mb_used</th>\n",
       "      <th>is_ultra</th>\n",
       "    </tr>\n",
       "  </thead>\n",
       "  <tbody>\n",
       "    <tr>\n",
       "      <th>0</th>\n",
       "      <td>40.0</td>\n",
       "      <td>311.90</td>\n",
       "      <td>83.0</td>\n",
       "      <td>19915.42</td>\n",
       "      <td>0</td>\n",
       "    </tr>\n",
       "    <tr>\n",
       "      <th>1</th>\n",
       "      <td>85.0</td>\n",
       "      <td>516.75</td>\n",
       "      <td>56.0</td>\n",
       "      <td>22696.96</td>\n",
       "      <td>0</td>\n",
       "    </tr>\n",
       "    <tr>\n",
       "      <th>2</th>\n",
       "      <td>77.0</td>\n",
       "      <td>467.66</td>\n",
       "      <td>86.0</td>\n",
       "      <td>21060.45</td>\n",
       "      <td>0</td>\n",
       "    </tr>\n",
       "    <tr>\n",
       "      <th>3</th>\n",
       "      <td>106.0</td>\n",
       "      <td>745.53</td>\n",
       "      <td>81.0</td>\n",
       "      <td>8437.39</td>\n",
       "      <td>1</td>\n",
       "    </tr>\n",
       "    <tr>\n",
       "      <th>4</th>\n",
       "      <td>66.0</td>\n",
       "      <td>418.74</td>\n",
       "      <td>1.0</td>\n",
       "      <td>14502.75</td>\n",
       "      <td>0</td>\n",
       "    </tr>\n",
       "  </tbody>\n",
       "</table>\n",
       "</div>"
      ],
      "text/plain": [
       "   calls  minutes  messages   mb_used  is_ultra\n",
       "0   40.0   311.90      83.0  19915.42         0\n",
       "1   85.0   516.75      56.0  22696.96         0\n",
       "2   77.0   467.66      86.0  21060.45         0\n",
       "3  106.0   745.53      81.0   8437.39         1\n",
       "4   66.0   418.74       1.0  14502.75         0"
      ]
     },
     "execution_count": 345,
     "metadata": {},
     "output_type": "execute_result"
    }
   ],
   "source": [
    "data.head()"
   ]
  },
  {
   "cell_type": "code",
   "execution_count": 346,
   "metadata": {},
   "outputs": [
    {
     "data": {
      "text/html": [
       "<div>\n",
       "<style scoped>\n",
       "    .dataframe tbody tr th:only-of-type {\n",
       "        vertical-align: middle;\n",
       "    }\n",
       "\n",
       "    .dataframe tbody tr th {\n",
       "        vertical-align: top;\n",
       "    }\n",
       "\n",
       "    .dataframe thead th {\n",
       "        text-align: right;\n",
       "    }\n",
       "</style>\n",
       "<table border=\"1\" class=\"dataframe\">\n",
       "  <thead>\n",
       "    <tr style=\"text-align: right;\">\n",
       "      <th></th>\n",
       "      <th>calls</th>\n",
       "      <th>minutes</th>\n",
       "      <th>messages</th>\n",
       "      <th>mb_used</th>\n",
       "      <th>is_ultra</th>\n",
       "    </tr>\n",
       "  </thead>\n",
       "  <tbody>\n",
       "    <tr>\n",
       "      <th>0</th>\n",
       "      <td>40</td>\n",
       "      <td>311.90</td>\n",
       "      <td>83</td>\n",
       "      <td>19915.42</td>\n",
       "      <td>0</td>\n",
       "    </tr>\n",
       "    <tr>\n",
       "      <th>1</th>\n",
       "      <td>85</td>\n",
       "      <td>516.75</td>\n",
       "      <td>56</td>\n",
       "      <td>22696.96</td>\n",
       "      <td>0</td>\n",
       "    </tr>\n",
       "    <tr>\n",
       "      <th>2</th>\n",
       "      <td>77</td>\n",
       "      <td>467.66</td>\n",
       "      <td>86</td>\n",
       "      <td>21060.45</td>\n",
       "      <td>0</td>\n",
       "    </tr>\n",
       "    <tr>\n",
       "      <th>3</th>\n",
       "      <td>106</td>\n",
       "      <td>745.53</td>\n",
       "      <td>81</td>\n",
       "      <td>8437.39</td>\n",
       "      <td>1</td>\n",
       "    </tr>\n",
       "    <tr>\n",
       "      <th>4</th>\n",
       "      <td>66</td>\n",
       "      <td>418.74</td>\n",
       "      <td>1</td>\n",
       "      <td>14502.75</td>\n",
       "      <td>0</td>\n",
       "    </tr>\n",
       "  </tbody>\n",
       "</table>\n",
       "</div>"
      ],
      "text/plain": [
       "   calls  minutes  messages   mb_used  is_ultra\n",
       "0     40   311.90        83  19915.42         0\n",
       "1     85   516.75        56  22696.96         0\n",
       "2     77   467.66        86  21060.45         0\n",
       "3    106   745.53        81   8437.39         1\n",
       "4     66   418.74         1  14502.75         0"
      ]
     },
     "execution_count": 346,
     "metadata": {},
     "output_type": "execute_result"
    }
   ],
   "source": [
    "# Cast to an integer type to save memory\n",
    "data['calls'] = data['calls'].astype('int')\n",
    "data['messages'] = data['messages'].astype('int')\n",
    "\n",
    "data.head()"
   ]
  },
  {
   "cell_type": "markdown",
   "metadata": {},
   "source": [
    "### Выводы (шаг 1)"
   ]
  },
  {
   "cell_type": "markdown",
   "metadata": {},
   "source": [
    "Файл с данными состоит из 5 столбцов (1 целочисленный и 4 с плавающей точкой) и 3214 записей.\n",
    "\n",
    "В столбце __is_ultra__ содержится целевой признак. \n",
    "\n",
    "Тип столбцов __calls__ и __messages__ был изменен на целочисленный для экономии памяти. Какая-либо другая предобработка отсутствует, так как она уже осуществлена."
   ]
  },
  {
   "cell_type": "markdown",
   "metadata": {},
   "source": [
    "## 2. Разбейте данные на выборки"
   ]
  },
  {
   "cell_type": "code",
   "execution_count": 347,
   "metadata": {},
   "outputs": [],
   "source": [
    "from sklearn.model_selection import train_test_split"
   ]
  },
  {
   "cell_type": "code",
   "execution_count": 348,
   "metadata": {},
   "outputs": [
    {
     "name": "stdout",
     "output_type": "stream",
     "text": [
      "   calls  minutes  messages   mb_used\n",
      "0     40   311.90        83  19915.42\n",
      "1     85   516.75        56  22696.96\n",
      "2     77   467.66        86  21060.45\n",
      "3    106   745.53        81   8437.39\n",
      "4     66   418.74         1  14502.75\n",
      "0    0\n",
      "1    0\n",
      "2    0\n",
      "3    1\n",
      "4    0\n",
      "Name: is_ultra, dtype: int64\n"
     ]
    }
   ],
   "source": [
    "# Splitting data to independent and target features\n",
    "features = data.drop(columns=['is_ultra'])\n",
    "target = data['is_ultra']\n",
    "\n",
    "print(features.head())\n",
    "print(target.head())"
   ]
  },
  {
   "cell_type": "code",
   "execution_count": 349,
   "metadata": {},
   "outputs": [
    {
     "name": "stdout",
     "output_type": "stream",
     "text": [
      "Train sample size -  (1928, 4)\n",
      "Validation sample size -  (643, 4)\n",
      "Test sample size -  (643, 4)\n"
     ]
    }
   ],
   "source": [
    "# Splitting independent features to training, validation and test samples\n",
    "train_features, validation_features = train_test_split(features, test_size=0.4, random_state=42)\n",
    "validation_features, test_features = train_test_split(validation_features, test_size=0.5, random_state=42)\n",
    "\n",
    "print('Train sample size - ', train_features.shape)\n",
    "print('Validation sample size - ', validation_features.shape)\n",
    "print('Test sample size - ', test_features.shape)"
   ]
  },
  {
   "cell_type": "code",
   "execution_count": 350,
   "metadata": {},
   "outputs": [
    {
     "name": "stdout",
     "output_type": "stream",
     "text": [
      "Train target feature size -  (1928,)\n",
      "Validation target feature size -  (643,)\n",
      "Test target feature size -  (643,)\n"
     ]
    }
   ],
   "source": [
    "# Splitting target feature to training, validation and test samples\n",
    "train_target, validation_target = train_test_split(target, test_size=0.4, random_state=42)\n",
    "validation_target, test_target = train_test_split(validation_target, test_size=0.5, random_state=42)\n",
    "\n",
    "print('Train target feature size - ', train_target.shape)\n",
    "print('Validation target feature size - ', validation_target.shape)\n",
    "print('Test target feature size - ', test_target.shape)"
   ]
  },
  {
   "cell_type": "markdown",
   "metadata": {},
   "source": [
    "### Выводы (шаг 2)"
   ]
  },
  {
   "cell_type": "markdown",
   "metadata": {},
   "source": [
    "Данные были разделены на независимые и целевой (__is_ultra__) признаки. После чего данные были разделены на обучающую, валидационную и тестовую выборки в соотношении 3:1:1."
   ]
  },
  {
   "cell_type": "markdown",
   "metadata": {},
   "source": [
    "## 3. Исследуйте модели"
   ]
  },
  {
   "cell_type": "markdown",
   "metadata": {},
   "source": [
    "### Логистическая регрессия"
   ]
  },
  {
   "cell_type": "code",
   "execution_count": 351,
   "metadata": {},
   "outputs": [],
   "source": [
    "import time\n",
    "from sklearn.linear_model import LogisticRegression"
   ]
  },
  {
   "cell_type": "code",
   "execution_count": 352,
   "metadata": {},
   "outputs": [
    {
     "name": "stdout",
     "output_type": "stream",
     "text": [
      "0.040999 s\n"
     ]
    }
   ],
   "source": [
    "start_time = time.time()\n",
    "\n",
    "# Model hyperparameters setup\n",
    "model_logreg = LogisticRegression(random_state=42, max_iter=200)\n",
    "\n",
    "# Model training\n",
    "model_logreg.fit(train_features, train_target)\n",
    "\n",
    "# Calculation of model accuracy with the validation sample\n",
    "model_logreg.score(validation_features, validation_target)\n",
    "\n",
    "print(\"{:.5} s\".format(time.time() - start_time))"
   ]
  },
  {
   "cell_type": "markdown",
   "metadata": {},
   "source": [
    "### Дерево решений"
   ]
  },
  {
   "cell_type": "code",
   "execution_count": 353,
   "metadata": {},
   "outputs": [],
   "source": [
    "from sklearn.tree import DecisionTreeClassifier"
   ]
  },
  {
   "cell_type": "code",
   "execution_count": 359,
   "metadata": {},
   "outputs": [
    {
     "name": "stdout",
     "output_type": "stream",
     "text": [
      "Maximum accuracy = 0.7278382581648523 with max_depth = None, min_samples_split = 2, min_samples_leaf = 1, time - 0.011999 s\n",
      "Maximum accuracy = 0.7589424572317263 with max_depth = None, min_samples_split = 2, min_samples_leaf = 2, time - 0.022998 s\n",
      "Maximum accuracy = 0.7620528771384136 with max_depth = None, min_samples_split = 2, min_samples_leaf = 3, time - 0.033998 s\n",
      "Maximum accuracy = 0.7636080870917574 with max_depth = None, min_samples_split = 2, min_samples_leaf = 8, time - 0.089997 s\n",
      "Maximum accuracy = 0.7776049766718507 with max_depth = None, min_samples_split = 2, min_samples_leaf = 9, time - 0.099997 s\n",
      "Maximum accuracy = 0.7807153965785381 with max_depth = None, min_samples_split = 2, min_samples_leaf = 10, time - 0.11 s\n",
      "Maximum accuracy = 0.7900466562986003 with max_depth = None, min_samples_split = 2, min_samples_leaf = 13, time - 0.137 s\n",
      "Maximum accuracy = 0.7947122861586314 with max_depth = None, min_samples_split = 2, min_samples_leaf = 14, time - 0.146 s\n",
      "Maximum accuracy = 0.7962674961119751 with max_depth = None, min_samples_split = 2, min_samples_leaf = 16, time - 0.16499 s\n",
      "Maximum accuracy = 0.7978227060653188 with max_depth = None, min_samples_split = 2, min_samples_leaf = 17, time - 0.174 s\n",
      "Maximum accuracy = 0.7993779160186625 with max_depth = None, min_samples_split = 2, min_samples_leaf = 19, time - 0.193 s\n",
      "Maximum accuracy = 0.80248833592535 with max_depth = None, min_samples_split = 32, min_samples_leaf = 9, time - 1.185 s\n",
      "Maximum accuracy = 0.8040435458786936 with max_depth = None, min_samples_split = 42, min_samples_leaf = 4, time - 1.495 s\n",
      "Maximum accuracy = 0.8055987558320373 with max_depth = None, min_samples_split = 42, min_samples_leaf = 8, time - 1.531 s\n",
      "Maximum accuracy = 0.807153965785381 with max_depth = None, min_samples_split = 42, min_samples_leaf = 9, time - 1.54 s\n",
      "Maximum accuracy = 0.8087091757387247 with max_depth = None, min_samples_split = 82, min_samples_leaf = 2, time - 2.8629 s\n",
      "Maximum accuracy = 0.8102643856920684 with max_depth = None, min_samples_split = 82, min_samples_leaf = 5, time - 2.8899 s\n",
      "Whole best model finding time - 128.57 s\n"
     ]
    }
   ],
   "source": [
    "start_time = time.time()\n",
    "\n",
    "max_accuracy = -1\n",
    "\n",
    "# Model hyperparameters variation\n",
    "for i in range(21):\n",
    "    for j in range(2, 203, 10):\n",
    "        for k in range(1, 41):\n",
    "            # Model hyperparameters setup\n",
    "            if i == 0:\n",
    "                # Replacement max_depth = 0 with None\n",
    "                model_decisiontree = DecisionTreeClassifier(random_state=42, max_depth=None, min_samples_split=j, min_samples_leaf=k)\n",
    "            else:\n",
    "                model_decisiontree = DecisionTreeClassifier(random_state=42, max_depth=i, min_samples_split=j, min_samples_leaf=k)\n",
    "            \n",
    "            # Model training\n",
    "            model_decisiontree.fit(train_features, train_target)\n",
    "            \n",
    "            # Calculation of model accuracy with the validation sample\n",
    "            accuracy = model_decisiontree.score(validation_features, validation_target)\n",
    "            \n",
    "            # Finding best (by accuracy) model \n",
    "            if accuracy > max_accuracy:\n",
    "                max_accuracy = accuracy\n",
    "                if i == 0:\n",
    "                    max_i = None\n",
    "                else:\n",
    "                    max_i = i\n",
    "                max_j = j\n",
    "                max_k = k\n",
    "\n",
    "                print(\n",
    "                    'Maximum accuracy = {} with max_depth = {}, min_samples_split = {}, min_samples_leaf = {}, time - {:.5} s'\n",
    "                    .format(max_accuracy, max_i, max_j, max_k, time.time() - start_time)\n",
    "                )\n",
    "print('Whole best model finding time - {:.5} s'.format(time.time() - start_time))"
   ]
  },
  {
   "cell_type": "markdown",
   "metadata": {},
   "source": [
    "### Случайный лес"
   ]
  },
  {
   "cell_type": "code",
   "execution_count": 360,
   "metadata": {},
   "outputs": [],
   "source": [
    "from sklearn.ensemble import RandomForestClassifier"
   ]
  },
  {
   "cell_type": "code",
   "execution_count": 361,
   "metadata": {},
   "outputs": [
    {
     "name": "stdout",
     "output_type": "stream",
     "text": [
      "Maximum accuracy = 0.7962674961119751 with n_estimators = 50, max_depth = None, min_samples_split = 2, min_samples_leaf = 1, time - 0.129 s\n",
      "Maximum accuracy = 0.8040435458786936 with n_estimators = 50, max_depth = None, min_samples_split = 2, min_samples_leaf = 2, time - 0.24699 s\n",
      "Maximum accuracy = 0.8055987558320373 with n_estimators = 50, max_depth = None, min_samples_split = 2, min_samples_leaf = 3, time - 0.36299 s\n",
      "Maximum accuracy = 0.8118195956454122 with n_estimators = 50, max_depth = None, min_samples_split = 2, min_samples_leaf = 4, time - 0.48799 s\n",
      "Maximum accuracy = 0.8164852255054432 with n_estimators = 50, max_depth = None, min_samples_split = 2, min_samples_leaf = 6, time - 0.71098 s\n",
      "Maximum accuracy = 0.8211508553654744 with n_estimators = 50, max_depth = None, min_samples_split = 2, min_samples_leaf = 7, time - 0.81898 s\n",
      "Maximum accuracy = 0.8227060653188181 with n_estimators = 80, max_depth = None, min_samples_split = 22, min_samples_leaf = 1, time - 904.83 s\n",
      "Maximum accuracy = 0.8242612752721618 with n_estimators = 90, max_depth = None, min_samples_split = 22, min_samples_leaf = 1, time - 1314.4 s\n",
      "Whole best model finding time - 2206.205057621002\n"
     ]
    }
   ],
   "source": [
    "start_time = time.time()\n",
    "\n",
    "max_accuracy = -1\n",
    "\n",
    "# Model hyperparameters variation\n",
    "for i in range(50, 101, 10):\n",
    "    for j in range(11):\n",
    "        for k in range(2, 103, 10):\n",
    "            for l in range(1, 21):\n",
    "                # Model hyperparameters setup\n",
    "                if j == 0:\n",
    "                     # Replacement max_depth = 0 with None\n",
    "                    model_randomforest = RandomForestClassifier(random_state=42, n_estimators=i, max_depth=None, min_samples_split=k, min_samples_leaf=l, n_jobs=-1)\n",
    "                else:\n",
    "                    model_randomforest = RandomForestClassifier(random_state=42, n_estimators=i, max_depth=j, min_samples_split=k, min_samples_leaf=l, n_jobs=-1)\n",
    "                \n",
    "                # Model training\n",
    "                model_randomforest.fit(train_features, train_target)\n",
    "                \n",
    "                # Calculation of model accuracy with the validation sample\n",
    "                accuracy = model_randomforest.score(validation_features, validation_target)\n",
    "                \n",
    "                # Finding best (by accuracy) model \n",
    "                if accuracy > max_accuracy:\n",
    "                    max_accuracy = accuracy\n",
    "                    max_i = i\n",
    "                    if j == 0:\n",
    "                        max_j = None\n",
    "                    else:\n",
    "                        max_j = j\n",
    "                    max_k = k\n",
    "                    max_l = l\n",
    "\n",
    "                    print(\n",
    "                        'Maximum accuracy = {} with n_estimators = {}, max_depth = {}, min_samples_split = {}, min_samples_leaf = {}, time - {:.5} s'\n",
    "                        .format(max_accuracy, max_i, max_j, max_k, max_l, time.time() - start_time)\n",
    "                    )\n",
    "\n",
    "print('Whole best model finding time -', time.time() - start_time)"
   ]
  },
  {
   "cell_type": "markdown",
   "metadata": {},
   "source": [
    "### Выводы (шаг 3)"
   ]
  },
  {
   "cell_type": "markdown",
   "metadata": {},
   "source": [
    "В ходе исследования были рассмотрены 3 модели:\n",
    "- __Логистическая регрессия__. Модель обучается быстрее всего (41 мс) за счет отсутствия гиперпараметров, которые можно варьировать. Но и результат проверки модели на валидационной выборке худший - __accuracy__ около __0.74__;\n",
    "- __Дерево решений__. Модель обучается значительно медленнее (3 с для лучшего результата и более 2 мин перебора вариантов гиперпараметров), чем логистическая регрессия, за счет варьирования гиперпараметров. Но и результат проверки модели на валидационной выборке значительно лучше - __accuracy__ около __0.81__. Лучшая модель получается при:\n",
    "    - отсутствие ограничения на максимальную глубину дерева;\n",
    "    - достаточно большом (около 100) значении минимального количества объектов, необходимых для разбиения;\n",
    "    - достаточно небольшом (около 5) значении минимального количества объектов, необходимых для создания листа.\n",
    "- __Случайны лес__. Модель достигает уровня 0.81 быстрее (0.5 с), чем дерево решений, за счет добавления количества деревьев в гиперпараметры, но общее время обучения у нее намного дольше (22 мин для лучшего результата, 0.8 с для результата очень близкого к лучшему и более 36 мин перебора вариантов гиперпараметров). Результат проверки модели на валидационной выборке чуть лучше, чем у дерева решений - __accuracy__ около __0.82__. Лучшая модель получается при:\n",
    "    - количестве деревьев около 90;\n",
    "    - отсутствие ограничения на максимальную глубину дерева;\n",
    "    - достаточно небольшом (около 20) значении минимального количества объектов, необходимых для разбиения;\n",
    "    - минимальном (1) значении минимального количества объектов, необходимых для создания листа.\n",
    "\n",
    "Важно заметить, что варьирование параметров дерева решений дает больший эффект за меньшее время, чем у случайного леса. У дерева решений прирост accuracy составил около 0.9 (с 0.72 до 0.81), а у случайного леса accuracy сразу был значительно выше, но прирост составил около 0.3 (с 0.79 до 0.82).\n",
    "\n",
    "Из этого можно сделать вывод, что __моделью с лучшим показателем accuracy__ на валидационной выборке является __случайный лес__. Он сразу имеет хорошие (по сравнению с другими моделями) показатели, а при долгом обучении может их увеличить.\n",
    "\n",
    "Важно отметить, что для полноценного сравнения моделей, данного тестирования недостаточно, ввиду наличие лишь одной выборки и отсутствия времени на тестирование различных вариантов варьирования гиперпараметров."
   ]
  },
  {
   "cell_type": "markdown",
   "metadata": {},
   "source": [
    "## 4. Проверьте модель на тестовой выборке"
   ]
  },
  {
   "cell_type": "code",
   "execution_count": 362,
   "metadata": {},
   "outputs": [],
   "source": [
    "# Best model hyperparameters setup\n",
    "best_model = RandomForestClassifier(random_state=42, n_estimators=90, min_samples_split=22, n_jobs=-1)"
   ]
  },
  {
   "cell_type": "code",
   "execution_count": 363,
   "metadata": {},
   "outputs": [
    {
     "data": {
      "text/plain": [
       "RandomForestClassifier(min_samples_split=22, n_estimators=90, n_jobs=-1,\n",
       "                       random_state=42)"
      ]
     },
     "execution_count": 363,
     "metadata": {},
     "output_type": "execute_result"
    }
   ],
   "source": [
    "# Best model training\n",
    "best_model.fit(train_features.append(validation_features), train_target.append(validation_target))"
   ]
  },
  {
   "cell_type": "code",
   "execution_count": 364,
   "metadata": {},
   "outputs": [
    {
     "data": {
      "text/plain": [
       "0.8164852255054432"
      ]
     },
     "execution_count": 364,
     "metadata": {},
     "output_type": "execute_result"
    }
   ],
   "source": [
    "# Calculation of model accuracy with the test sample\n",
    "best_model.score(test_features, test_target)"
   ]
  },
  {
   "cell_type": "code",
   "execution_count": 365,
   "metadata": {},
   "outputs": [
    {
     "data": {
      "text/plain": [
       "0.8630882924931933"
      ]
     },
     "execution_count": 365,
     "metadata": {},
     "output_type": "execute_result"
    }
   ],
   "source": [
    "# Overfitting test\n",
    "best_model.score(train_features.append(validation_features), train_target.append(validation_target))"
   ]
  },
  {
   "cell_type": "markdown",
   "metadata": {},
   "source": [
    "### Выводы (шаг 4)"
   ]
  },
  {
   "cell_type": "markdown",
   "metadata": {},
   "source": [
    "Лучшей моделью стал случайный лес со следующими параметрами:\n",
    "- n_estimators = 90;\n",
    "- max_depth = None (стандартное значение);\n",
    "- min_samples_split = 22;\n",
    "- min_samples_leaf = 1 (стандартное значение).\n",
    "\n",
    "Данная модель была обучена на выборке, объединенной из обучающей и валидационной выборок для улучшения ее показателей за счет максимизации обучающей выборки. После этого была рассчитана точность модели для тестовой выборки, которая составила __0.82__, что является достаточным результатом для выполнения данной работы, но я бы не назвал данный результат достаточным для реального применения данной модели. Также у этой модели наблюдается небольшая степень переобучения - accuracy для обучающей выборки составляет 0.86."
   ]
  },
  {
   "cell_type": "markdown",
   "metadata": {},
   "source": [
    "## 5. (бонус) Проверьте модели на адекватность"
   ]
  },
  {
   "cell_type": "code",
   "execution_count": 367,
   "metadata": {},
   "outputs": [
    {
     "data": {
      "text/plain": [
       "0    448\n",
       "1    195\n",
       "Name: is_ultra, dtype: int64"
      ]
     },
     "execution_count": 367,
     "metadata": {},
     "output_type": "execute_result"
    }
   ],
   "source": [
    "# Classes ratio\n",
    "test_target.value_counts()"
   ]
  },
  {
   "cell_type": "code",
   "execution_count": 368,
   "metadata": {},
   "outputs": [
    {
     "data": {
      "text/plain": [
       "0.6967340590979783"
      ]
     },
     "execution_count": 368,
     "metadata": {},
     "output_type": "execute_result"
    }
   ],
   "source": [
    "# Proportion of larger class\n",
    "len(test_target[test_target == 0]) / len(test_target)"
   ]
  },
  {
   "cell_type": "markdown",
   "metadata": {},
   "source": [
    "### Выводы (шаг 5)"
   ]
  },
  {
   "cell_type": "markdown",
   "metadata": {},
   "source": [
    "Исходя из того, что 70% тестовой выборки составляют пользователи тарифа Smart и 30% процентов пользователи тарифа Ultra. То если бы любая модель всегда выбирала тариф Smart, то была бы права в 70% случаев. Все из представленных моделей имеют показатель точности более 70%, что говорит об их адекватности."
   ]
  },
  {
   "cell_type": "markdown",
   "metadata": {},
   "source": [
    "## Чек-лист готовности проекта"
   ]
  },
  {
   "cell_type": "markdown",
   "metadata": {},
   "source": [
    "- [x] Jupyter Notebook открыт\n",
    "- [x] Весь код исполняется без ошибок\n",
    "- [x] Ячейки с кодом расположены в порядке исполнения\n",
    "- [x] Выполнено задание 1: данные загружены и изучены\n",
    "- [x] Выполнено задание 2: данные разбиты на три выборки\n",
    "- [x] Выполнено задание 3: проведено исследование моделей\n",
    "    - [x] Рассмотрено больше одной модели\n",
    "    - [x] Рассмотрено хотя бы 3 значения гипепараметров для какой-нибудь модели\n",
    "    - [x] Написаны выводы по результатам исследования\n",
    "- [x] Выполнено задание 4: Проведено тестирование\n",
    "- [x] Удалось достичь accuracy не меньше 0.75"
   ]
  }
 ],
 "metadata": {
  "kernelspec": {
   "display_name": "praktikum",
   "language": "python",
   "name": "praktikum"
  },
  "language_info": {
   "codemirror_mode": {
    "name": "ipython",
    "version": 3
   },
   "file_extension": ".py",
   "mimetype": "text/x-python",
   "name": "python",
   "nbconvert_exporter": "python",
   "pygments_lexer": "ipython3",
   "version": "3.9.10"
  },
  "toc-autonumbering": false
 },
 "nbformat": 4,
 "nbformat_minor": 4
}
