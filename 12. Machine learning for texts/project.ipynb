{
 "cells": [
  {
   "cell_type": "markdown",
   "metadata": {},
   "source": [
    "# Поиск токсичных комментариев"
   ]
  },
  {
   "cell_type": "markdown",
   "metadata": {
    "tags": []
   },
   "source": [
    "Входные данные - комментарии к товарам с разметкой о токсичности.\n",
    "\n",
    "Здача - построить модель, которая будет классифицировать комментарии на позитивные и негативные со значением метрики качества *F1* не меньше 0.75. "
   ]
  },
  {
   "cell_type": "markdown",
   "metadata": {},
   "source": [
    "# Оглавление\n",
    "\n",
    "* [1. Подготовка](#1.-Подготовка)\n",
    "    * [Загрузка данных](#Загрузка-данных)\n",
    "    * [Создание дополнительных признаков](#Создание-дополнительных-признаков)\n",
    "    * [Удаление лишних символов, токенизация и лемматизация](#Удаление-лишних-символов,-токенизация-и-лемматизация)\n",
    "    * [Создание признака - количество символов в тексте](#Создание-признака---количество-символов-в-тексте)\n",
    "    * [Разделение на тестовую и обучающую выборки](#Разделение-на-тестовую-и-обучающую-выборки)\n",
    "    * [Выводы (шаг 1)](#Выводы-(шаг-1))\n",
    "* [2. Обучение](#2.-Обучение)\n",
    "    * [TF-IDF](#TF-IDF)\n",
    "    * [BERT](#BERT)\n",
    "* [3. Тестирование](#3.-Тестирование)\n",
    "* [4. Выводы](#4.-Выводы)"
   ]
  },
  {
   "cell_type": "markdown",
   "metadata": {},
   "source": [
    "# 1. Подготовка"
   ]
  },
  {
   "cell_type": "markdown",
   "metadata": {},
   "source": [
    "## Загрузка данных"
   ]
  },
  {
   "cell_type": "code",
   "execution_count": 1,
   "metadata": {},
   "outputs": [],
   "source": [
    "import pandas as pd\n",
    "import numpy as np\n",
    "import matplotlib.pyplot as plt\n",
    "import re\n",
    "import nltk\n",
    "\n",
    "from scipy.stats import mannwhitneyu"
   ]
  },
  {
   "cell_type": "code",
   "execution_count": 2,
   "metadata": {},
   "outputs": [
    {
     "name": "stderr",
     "output_type": "stream",
     "text": [
      "[nltk_data] Downloading package wordnet to\n",
      "[nltk_data]     C:\\Users\\stepa\\AppData\\Roaming\\nltk_data...\n",
      "[nltk_data]   Package wordnet is already up-to-date!\n"
     ]
    },
    {
     "data": {
      "text/plain": [
       "True"
      ]
     },
     "execution_count": 2,
     "metadata": {},
     "output_type": "execute_result"
    }
   ],
   "source": [
    "nltk.download('wordnet')"
   ]
  },
  {
   "cell_type": "code",
   "execution_count": 3,
   "metadata": {},
   "outputs": [
    {
     "name": "stderr",
     "output_type": "stream",
     "text": [
      "[nltk_data] Downloading package punkt to\n",
      "[nltk_data]     C:\\Users\\stepa\\AppData\\Roaming\\nltk_data...\n",
      "[nltk_data]   Package punkt is already up-to-date!\n"
     ]
    },
    {
     "data": {
      "text/plain": [
       "True"
      ]
     },
     "execution_count": 3,
     "metadata": {},
     "output_type": "execute_result"
    }
   ],
   "source": [
    "nltk.download('punkt')"
   ]
  },
  {
   "cell_type": "code",
   "execution_count": 4,
   "metadata": {},
   "outputs": [],
   "source": [
    "data = pd.read_csv('toxic_comments.csv')"
   ]
  },
  {
   "cell_type": "code",
   "execution_count": 5,
   "metadata": {},
   "outputs": [
    {
     "name": "stdout",
     "output_type": "stream",
     "text": [
      "<class 'pandas.core.frame.DataFrame'>\n",
      "RangeIndex: 159571 entries, 0 to 159570\n",
      "Data columns (total 2 columns):\n",
      " #   Column  Non-Null Count   Dtype \n",
      "---  ------  --------------   ----- \n",
      " 0   text    159571 non-null  object\n",
      " 1   toxic   159571 non-null  int64 \n",
      "dtypes: int64(1), object(1)\n",
      "memory usage: 2.4+ MB\n"
     ]
    }
   ],
   "source": [
    "data.info()"
   ]
  },
  {
   "cell_type": "code",
   "execution_count": 6,
   "metadata": {},
   "outputs": [
    {
     "data": {
      "text/html": [
       "<div>\n",
       "<style scoped>\n",
       "    .dataframe tbody tr th:only-of-type {\n",
       "        vertical-align: middle;\n",
       "    }\n",
       "\n",
       "    .dataframe tbody tr th {\n",
       "        vertical-align: top;\n",
       "    }\n",
       "\n",
       "    .dataframe thead th {\n",
       "        text-align: right;\n",
       "    }\n",
       "</style>\n",
       "<table border=\"1\" class=\"dataframe\">\n",
       "  <thead>\n",
       "    <tr style=\"text-align: right;\">\n",
       "      <th></th>\n",
       "      <th>text</th>\n",
       "      <th>toxic</th>\n",
       "    </tr>\n",
       "  </thead>\n",
       "  <tbody>\n",
       "    <tr>\n",
       "      <th>0</th>\n",
       "      <td>Explanation\\r\\nWhy the edits made under my use...</td>\n",
       "      <td>0</td>\n",
       "    </tr>\n",
       "    <tr>\n",
       "      <th>1</th>\n",
       "      <td>D'aww! He matches this background colour I'm s...</td>\n",
       "      <td>0</td>\n",
       "    </tr>\n",
       "    <tr>\n",
       "      <th>2</th>\n",
       "      <td>Hey man, I'm really not trying to edit war. It...</td>\n",
       "      <td>0</td>\n",
       "    </tr>\n",
       "    <tr>\n",
       "      <th>3</th>\n",
       "      <td>\"\\r\\nMore\\r\\nI can't make any real suggestions...</td>\n",
       "      <td>0</td>\n",
       "    </tr>\n",
       "    <tr>\n",
       "      <th>4</th>\n",
       "      <td>You, sir, are my hero. Any chance you remember...</td>\n",
       "      <td>0</td>\n",
       "    </tr>\n",
       "  </tbody>\n",
       "</table>\n",
       "</div>"
      ],
      "text/plain": [
       "                                                text  toxic\n",
       "0  Explanation\\r\\nWhy the edits made under my use...      0\n",
       "1  D'aww! He matches this background colour I'm s...      0\n",
       "2  Hey man, I'm really not trying to edit war. It...      0\n",
       "3  \"\\r\\nMore\\r\\nI can't make any real suggestions...      0\n",
       "4  You, sir, are my hero. Any chance you remember...      0"
      ]
     },
     "execution_count": 6,
     "metadata": {},
     "output_type": "execute_result"
    }
   ],
   "source": [
    "data.head()"
   ]
  },
  {
   "cell_type": "code",
   "execution_count": 7,
   "metadata": {},
   "outputs": [
    {
     "data": {
      "text/plain": [
       "0    143346\n",
       "1     16225\n",
       "Name: toxic, dtype: int64"
      ]
     },
     "execution_count": 7,
     "metadata": {},
     "output_type": "execute_result"
    }
   ],
   "source": [
    "data['toxic'].value_counts()"
   ]
  },
  {
   "cell_type": "code",
   "execution_count": 8,
   "metadata": {},
   "outputs": [],
   "source": [
    "# cast to unicode\n",
    "data['text'] = data['text'].values.astype('U')"
   ]
  },
  {
   "cell_type": "markdown",
   "metadata": {},
   "source": [
    "## Создание дополнительных признаков"
   ]
  },
  {
   "cell_type": "code",
   "execution_count": 9,
   "metadata": {},
   "outputs": [],
   "source": [
    "def feature_boxplot(feature, xlabel, threshold=None):\n",
    "    \"\"\"\n",
    "    Function for plotting two boxplots for toxic and not toxic comments for chosen feature from dataset.\n",
    "    Boxplots can be plotted on data with feature values smaller then chosen threshold.\n",
    "    \n",
    "    Parameters:\n",
    "    feature (string): Dataset feature\n",
    "    xlabel (string): x axis label\n",
    "    threshold (numeric): Maximum feature value to plot boxplots with (default=None)\n",
    "    \"\"\"\n",
    "    \n",
    "    if threshold == None:\n",
    "        threshold = data[feature].max()\n",
    "    \n",
    "    plt.figure(figsize=(15, 10))\n",
    "    plt.boxplot([data.loc[(data['toxic'] == 0) & (data[feature] < threshold), feature], data.loc[(data['toxic'] == 1) & (data[feature] < threshold), feature]], vert=False, labels=['Not toxic', 'Toxic'])\n",
    "    plt.xlabel(xlabel)\n",
    "    plt.grid(linewidth=0.5)\n",
    "    plt.title(f'{feature} distribution')\n",
    "    plt.show()"
   ]
  },
  {
   "cell_type": "code",
   "execution_count": 10,
   "metadata": {},
   "outputs": [],
   "source": [
    "def features_distr_by_toxicity(feature, ylabel, threshold=None):\n",
    "    \"\"\"\n",
    "    Function for plotting two histograms for toxic and not toxic comments for chosen feature from dataset.\n",
    "    Histograms can be plotted on data with feature values smaller then chosen threshold.\n",
    "    \n",
    "    Parameters:\n",
    "    feature (string): Dataset feature\n",
    "    xlabel (string): x axis label\n",
    "    threshold (numeric): Maximum feature value to plot histograms with (default=None)\n",
    "    \"\"\"\n",
    "    \n",
    "    fig, (ax1, ax2) = plt.subplots(\n",
    "        nrows=1, ncols=2,\n",
    "        figsize=(20, 7)\n",
    "    )\n",
    "    \n",
    "    if threshold == None:\n",
    "        threshold = data[feature].max()\n",
    "        bins = 200\n",
    "    else:\n",
    "        bins = threshold\n",
    "\n",
    "    data.loc[(data['toxic'] == 0) & (data[feature] < threshold), feature].hist(bins=bins, ax=ax1)\n",
    "    data.loc[(data['toxic'] == 1) & (data[feature] < threshold), feature].hist(bins=bins, ax=ax2)\n",
    "\n",
    "    fig.suptitle(f'{feature} distibution for toxic and non-toxic comments', fontsize=16)\n",
    "\n",
    "    ax1.set_xlabel('Texts')\n",
    "    ax1.set_ylabel(ylabel)\n",
    "    ax1.grid(linewidth=0.1)\n",
    "    ax1.set_title('Non-toxic')\n",
    "\n",
    "    ax2.set_xlabel('Texts')\n",
    "    ax2.set_ylabel(ylabel)\n",
    "    ax2.grid(linewidth=0.1)\n",
    "    ax2.set_title('Toxic')\n",
    "    plt.show()"
   ]
  },
  {
   "cell_type": "markdown",
   "metadata": {},
   "source": [
    "### Количество прописных букв в комментарии"
   ]
  },
  {
   "cell_type": "code",
   "execution_count": 11,
   "metadata": {},
   "outputs": [],
   "source": [
    "# number of uppercase letters in a comment\n",
    "data['upper_letters'] = data['text'].apply(lambda text: len([symbol for symbol in text if symbol.isupper()]))"
   ]
  },
  {
   "cell_type": "code",
   "execution_count": 12,
   "metadata": {},
   "outputs": [
    {
     "data": {
      "image/png": "[encoded data removed]",
      "text/plain": [
       "<Figure size 1080x720 with 1 Axes>"
      ]
     },
     "metadata": {
      "needs_background": "light"
     },
     "output_type": "display_data"
    }
   ],
   "source": [
    "feature_boxplot('upper_letters', 'Upper case letter amount')"
   ]
  },
  {
   "cell_type": "code",
   "execution_count": 13,
   "metadata": {},
   "outputs": [
    {
     "data": {
      "image/png": "[encoded data removed]",
      "text/plain": [
       "<Figure size 1080x720 with 1 Axes>"
      ]
     },
     "metadata": {
      "needs_background": "light"
     },
     "output_type": "display_data"
    }
   ],
   "source": [
    "feature_boxplot('upper_letters', 'Upper case letter amount', 100)"
   ]
  },
  {
   "cell_type": "code",
   "execution_count": 14,
   "metadata": {},
   "outputs": [
    {
     "data": {
      "text/plain": [
       "count    143346.000000\n",
       "mean         14.236993\n",
       "std          41.675348\n",
       "min           0.000000\n",
       "25%           3.000000\n",
       "50%           7.000000\n",
       "75%          15.000000\n",
       "max        4512.000000\n",
       "Name: upper_letters, dtype: float64"
      ]
     },
     "execution_count": 14,
     "metadata": {},
     "output_type": "execute_result"
    }
   ],
   "source": [
    "data.loc[data['toxic'] == 0, 'upper_letters'].describe()"
   ]
  },
  {
   "cell_type": "code",
   "execution_count": 15,
   "metadata": {},
   "outputs": [
    {
     "data": {
      "text/plain": [
       "count    16225.000000\n",
       "mean        42.980770\n",
       "std        274.873633\n",
       "min          0.000000\n",
       "25%          2.000000\n",
       "50%          5.000000\n",
       "75%         15.000000\n",
       "max       4960.000000\n",
       "Name: upper_letters, dtype: float64"
      ]
     },
     "execution_count": 15,
     "metadata": {},
     "output_type": "execute_result"
    }
   ],
   "source": [
    "data.loc[data['toxic'] == 1, 'upper_letters'].describe()"
   ]
  },
  {
   "cell_type": "code",
   "execution_count": 16,
   "metadata": {},
   "outputs": [
    {
     "data": {
      "image/png": "[encoded data removed]",
      "text/plain": [
       "<Figure size 1440x504 with 2 Axes>"
      ]
     },
     "metadata": {
      "needs_background": "light"
     },
     "output_type": "display_data"
    }
   ],
   "source": [
    "features_distr_by_toxicity('upper_letters', 'Upper case letters', threshold=200)"
   ]
  },
  {
   "cell_type": "code",
   "execution_count": 17,
   "metadata": {},
   "outputs": [],
   "source": [
    "alpha=0.05"
   ]
  },
  {
   "cell_type": "code",
   "execution_count": 18,
   "metadata": {},
   "outputs": [
    {
     "name": "stdout",
     "output_type": "stream",
     "text": [
      "p-value: 1.0\n",
      "It's not possible to reject the null hypothesis, which states that the average number of upper letters in non-toxic comments is no less than in toxic ones.\n"
     ]
    }
   ],
   "source": [
    "results = mannwhitneyu(\n",
    "    data.loc[data['toxic'] == 0, 'upper_letters'],\n",
    "    data.loc[data['toxic'] == 1, 'upper_letters'],\n",
    "    alternative='less'\n",
    ")\n",
    "\n",
    "print('p-value:', results.pvalue)\n",
    "\n",
    "if (results.pvalue < alpha) and (data.loc[data['toxic'] == 0, 'upper_letters'].mean() < data.loc[data['toxic'] == 1, 'upper_letters'].mean()):\n",
    "    print(\"We reject the null hypothesis that the average number of upper letters in non-toxic comments is not less than in toxic ones - the average number of upper letters in non-toxic comments is less than in toxic ones.\")\n",
    "else:\n",
    "    print(\"It's not possible to reject the null hypothesis, which states that the average number of upper letters in non-toxic comments is no less than in toxic ones.\")"
   ]
  },
  {
   "cell_type": "code",
   "execution_count": 19,
   "metadata": {},
   "outputs": [],
   "source": [
    "data.drop(columns=['upper_letters'], inplace=True)"
   ]
  },
  {
   "cell_type": "markdown",
   "metadata": {},
   "source": [
    "### Количество восклицательных знаков в комментарии"
   ]
  },
  {
   "cell_type": "code",
   "execution_count": 20,
   "metadata": {},
   "outputs": [],
   "source": [
    "# Number of exclamation points in a comment\n",
    "data['exclamation_points'] = data['text'].apply(lambda text: len([symbol for symbol in text if symbol == '!']))"
   ]
  },
  {
   "cell_type": "code",
   "execution_count": 21,
   "metadata": {},
   "outputs": [
    {
     "data": {
      "image/png": "[encoded data removed]",
      "text/plain": [
       "<Figure size 1080x720 with 1 Axes>"
      ]
     },
     "metadata": {
      "needs_background": "light"
     },
     "output_type": "display_data"
    }
   ],
   "source": [
    "feature_boxplot('exclamation_points', 'Exclamaition points amount')"
   ]
  },
  {
   "cell_type": "code",
   "execution_count": 22,
   "metadata": {},
   "outputs": [
    {
     "data": {
      "image/png": "[encoded data removed]",
      "text/plain": [
       "<Figure size 1080x720 with 1 Axes>"
      ]
     },
     "metadata": {
      "needs_background": "light"
     },
     "output_type": "display_data"
    }
   ],
   "source": [
    "feature_boxplot('exclamation_points', 'Exclamaition points amount',  100)"
   ]
  },
  {
   "cell_type": "code",
   "execution_count": 23,
   "metadata": {},
   "outputs": [
    {
     "data": {
      "text/plain": [
       "count    143346.000000\n",
       "mean          0.343442\n",
       "std          10.450405\n",
       "min           0.000000\n",
       "25%           0.000000\n",
       "50%           0.000000\n",
       "75%           0.000000\n",
       "max        2762.000000\n",
       "Name: exclamation_points, dtype: float64"
      ]
     },
     "execution_count": 23,
     "metadata": {},
     "output_type": "execute_result"
    }
   ],
   "source": [
    "data.loc[data['toxic'] == 0, 'exclamation_points'].describe()"
   ]
  },
  {
   "cell_type": "code",
   "execution_count": 24,
   "metadata": {},
   "outputs": [
    {
     "data": {
      "text/plain": [
       "count    16225.000000\n",
       "mean         3.472727\n",
       "std         74.991734\n",
       "min          0.000000\n",
       "25%          0.000000\n",
       "50%          0.000000\n",
       "75%          1.000000\n",
       "max       4942.000000\n",
       "Name: exclamation_points, dtype: float64"
      ]
     },
     "execution_count": 24,
     "metadata": {},
     "output_type": "execute_result"
    }
   ],
   "source": [
    "data.loc[data['toxic'] == 1, 'exclamation_points'].describe()"
   ]
  },
  {
   "cell_type": "code",
   "execution_count": 25,
   "metadata": {},
   "outputs": [
    {
     "data": {
      "image/png": "[encoded data removed]",
      "text/plain": [
       "<Figure size 1440x504 with 2 Axes>"
      ]
     },
     "metadata": {
      "needs_background": "light"
     },
     "output_type": "display_data"
    }
   ],
   "source": [
    "features_distr_by_toxicity('exclamation_points', 'Exclamation points', threshold=20)"
   ]
  },
  {
   "cell_type": "code",
   "execution_count": 26,
   "metadata": {},
   "outputs": [
    {
     "name": "stdout",
     "output_type": "stream",
     "text": [
      "p-value: 0.0\n",
      "We reject the null hypothesis that the average number of exclamation points in non-toxic comments is not less than in toxic ones - the average number of exclamation points in non-toxic comments is less than in toxic ones.\n"
     ]
    }
   ],
   "source": [
    "results = mannwhitneyu(\n",
    "    data.loc[data['toxic'] == 0, 'exclamation_points'],\n",
    "    data.loc[data['toxic'] == 1, 'exclamation_points'],\n",
    "    alternative='less'\n",
    ")\n",
    "\n",
    "print('p-value:', results.pvalue)\n",
    "\n",
    "if (results.pvalue < alpha) and (data.loc[data['toxic'] == 0, 'exclamation_points'].mean() < data.loc[data['toxic'] == 1, 'exclamation_points'].mean()):\n",
    "    print(\"We reject the null hypothesis that the average number of exclamation points in non-toxic comments is not less than in toxic ones - the average number of exclamation points in non-toxic comments is less than in toxic ones.\")\n",
    "else:\n",
    "    print(\"It's not possible to reject the null hypothesis, which states that the average number of exclamation points in non-toxic comments is no less than in toxic ones.\")"
   ]
  },
  {
   "cell_type": "markdown",
   "metadata": {},
   "source": [
    "### Количество вопросительных знаков в комментарии"
   ]
  },
  {
   "cell_type": "code",
   "execution_count": 27,
   "metadata": {},
   "outputs": [],
   "source": [
    "# Number of question marks in a comment\n",
    "data['question_marks'] = data['text'].apply(lambda text: len([symbol for symbol in text if symbol == '?']))"
   ]
  },
  {
   "cell_type": "code",
   "execution_count": 28,
   "metadata": {},
   "outputs": [
    {
     "data": {
      "image/png": "[encoded data removed]",
      "text/plain": [
       "<Figure size 1080x720 with 1 Axes>"
      ]
     },
     "metadata": {
      "needs_background": "light"
     },
     "output_type": "display_data"
    }
   ],
   "source": [
    "feature_boxplot('question_marks', 'Question marks amount')"
   ]
  },
  {
   "cell_type": "code",
   "execution_count": 29,
   "metadata": {},
   "outputs": [
    {
     "data": {
      "image/png": "[encoded data removed]",
      "text/plain": [
       "<Figure size 1080x720 with 1 Axes>"
      ]
     },
     "metadata": {
      "needs_background": "light"
     },
     "output_type": "display_data"
    }
   ],
   "source": [
    "feature_boxplot('question_marks', 'Question marks amount', 100)"
   ]
  },
  {
   "cell_type": "code",
   "execution_count": 30,
   "metadata": {},
   "outputs": [
    {
     "data": {
      "text/plain": [
       "count    143346.000000\n",
       "mean          0.433573\n",
       "std           1.301386\n",
       "min           0.000000\n",
       "25%           0.000000\n",
       "50%           0.000000\n",
       "75%           1.000000\n",
       "max         168.000000\n",
       "Name: question_marks, dtype: float64"
      ]
     },
     "execution_count": 30,
     "metadata": {},
     "output_type": "execute_result"
    }
   ],
   "source": [
    "data.loc[data['toxic'] == 0, 'question_marks'].describe()"
   ]
  },
  {
   "cell_type": "code",
   "execution_count": 31,
   "metadata": {},
   "outputs": [
    {
     "data": {
      "text/plain": [
       "count    16225.000000\n",
       "mean         0.588043\n",
       "std          3.142731\n",
       "min          0.000000\n",
       "25%          0.000000\n",
       "50%          0.000000\n",
       "75%          1.000000\n",
       "max        209.000000\n",
       "Name: question_marks, dtype: float64"
      ]
     },
     "execution_count": 31,
     "metadata": {},
     "output_type": "execute_result"
    }
   ],
   "source": [
    "data.loc[data['toxic'] == 1, 'question_marks'].describe()"
   ]
  },
  {
   "cell_type": "code",
   "execution_count": 32,
   "metadata": {},
   "outputs": [
    {
     "data": {
      "image/png": "[encoded data removed]",
      "text/plain": [
       "<Figure size 1440x504 with 2 Axes>"
      ]
     },
     "metadata": {
      "needs_background": "light"
     },
     "output_type": "display_data"
    }
   ],
   "source": [
    "features_distr_by_toxicity('question_marks', 'Question marks', threshold=20)"
   ]
  },
  {
   "cell_type": "code",
   "execution_count": 33,
   "metadata": {},
   "outputs": [
    {
     "name": "stdout",
     "output_type": "stream",
     "text": [
      "p-value: 0.07218351847770535\n",
      "It's not possible to reject the null hypothesis, which states that the average number of question marks in non-toxic comments is no less than in toxic ones.\n"
     ]
    }
   ],
   "source": [
    "results = mannwhitneyu(\n",
    "    data.loc[data['toxic'] == 0, 'question_marks'],\n",
    "    data.loc[data['toxic'] == 1, 'question_marks'],\n",
    "    alternative='less'\n",
    ")\n",
    "\n",
    "print('p-value:', results.pvalue)\n",
    "\n",
    "if (results.pvalue < alpha) and (data.loc[data['toxic'] == 0, 'question_marks'].mean() < data.loc[data['toxic'] == 1, 'question_marks'].mean()):\n",
    "    print(\"We reject the null hypothesis that the average number of question marks in non-toxic comments is not less than in toxic ones - the average number of question marks in non-toxic comments is less than in toxic ones.\")\n",
    "else:\n",
    "    print(\"It's not possible to reject the null hypothesis, which states that the average number of question marks in non-toxic comments is no less than in toxic ones.\")"
   ]
  },
  {
   "cell_type": "code",
   "execution_count": 34,
   "metadata": {},
   "outputs": [],
   "source": [
    "data.drop(columns=['question_marks'], inplace=True)"
   ]
  },
  {
   "cell_type": "code",
   "execution_count": 35,
   "metadata": {},
   "outputs": [
    {
     "name": "stdout",
     "output_type": "stream",
     "text": [
      "<class 'pandas.core.frame.DataFrame'>\n",
      "RangeIndex: 159571 entries, 0 to 159570\n",
      "Data columns (total 3 columns):\n",
      " #   Column              Non-Null Count   Dtype \n",
      "---  ------              --------------   ----- \n",
      " 0   text                159571 non-null  object\n",
      " 1   toxic               159571 non-null  int64 \n",
      " 2   exclamation_points  159571 non-null  int64 \n",
      "dtypes: int64(2), object(1)\n",
      "memory usage: 3.7+ MB\n"
     ]
    }
   ],
   "source": [
    "data.info()"
   ]
  },
  {
   "cell_type": "markdown",
   "metadata": {},
   "source": [
    "## Удаление лишних символов, токенизация и лемматизация"
   ]
  },
  {
   "cell_type": "code",
   "execution_count": 36,
   "metadata": {},
   "outputs": [],
   "source": [
    "tokenizer = nltk.tokenize.wordpunct_tokenize\n",
    "wnl = nltk.WordNetLemmatizer()"
   ]
  },
  {
   "cell_type": "code",
   "execution_count": 37,
   "metadata": {},
   "outputs": [],
   "source": [
    "def text_prepocessing(text):\n",
    "    \"\"\"\n",
    "    Function for comments preprocessing:\n",
    "    - converting text to lowercase;\n",
    "    - removing unnecessary symbols (all, except letters and \"'\");\n",
    "    - text tokenization;\n",
    "    - text lemmatization;\n",
    "    \n",
    "    Parameters:\n",
    "    text (string): Text\n",
    "    \"\"\"\n",
    "    # converting text to lowercase and removing unnecessary symbols (all, except letters and \"'\")\n",
    "    text_cleared = ' '.join(re.sub(r'[^a-z\\' ]', ' ', text.lower()).split())\n",
    "    \n",
    "    # text tokenization and lemmatization\n",
    "    tokens_lemmatized = [wnl.lemmatize(token) for token in tokenizer(text_cleared)]\n",
    "    \n",
    "    # raplacment of spaces near apostrophes\n",
    "    tokens_lemmatized = re.sub(r'(\\s\\'\\s)', '\\'', ' '.join(tokens_lemmatized))\n",
    "    \n",
    "    return tokens_lemmatized"
   ]
  },
  {
   "cell_type": "markdown",
   "metadata": {},
   "source": [
    "### Тестирование предобработки текста"
   ]
  },
  {
   "cell_type": "code",
   "execution_count": 38,
   "metadata": {},
   "outputs": [
    {
     "name": "stdout",
     "output_type": "stream",
     "text": [
      "Explanation\n",
      "Why the edits made under my username Hardcore Metallica Fan were reverted? They weren't vandalisms, just closure on some GAs after I voted at New York Dolls FAC. And please don't remove the template from the talk page since I'm retired now.89.205.38.27\n"
     ]
    }
   ],
   "source": [
    "print(data.loc[0, 'text'])"
   ]
  },
  {
   "cell_type": "code",
   "execution_count": 39,
   "metadata": {},
   "outputs": [
    {
     "data": {
      "text/plain": [
       "\"explanation why the edits made under my username hardcore metallica fan were reverted they weren't vandalism just closure on some gas after i voted at new york doll fac and please don't remove the template from the talk page since i'm retired now\""
      ]
     },
     "execution_count": 39,
     "metadata": {},
     "output_type": "execute_result"
    }
   ],
   "source": [
    "text_prepocessing(data.loc[0, 'text'])"
   ]
  },
  {
   "cell_type": "code",
   "execution_count": 40,
   "metadata": {},
   "outputs": [
    {
     "name": "stdout",
     "output_type": "stream",
     "text": [
      "D'aww! He matches this background colour I'm seemingly stuck with. Thanks.  (talk) 21:51, January 11, 2016 (UTC)\n"
     ]
    }
   ],
   "source": [
    "print(data.loc[1, 'text'])"
   ]
  },
  {
   "cell_type": "code",
   "execution_count": 41,
   "metadata": {},
   "outputs": [
    {
     "data": {
      "text/plain": [
       "\"d'aww he match this background colour i'm seemingly stuck with thanks talk january utc\""
      ]
     },
     "execution_count": 41,
     "metadata": {},
     "output_type": "execute_result"
    }
   ],
   "source": [
    "text_prepocessing(data.loc[1, 'text'])"
   ]
  },
  {
   "cell_type": "code",
   "execution_count": 42,
   "metadata": {},
   "outputs": [
    {
     "name": "stdout",
     "output_type": "stream",
     "text": [
      "Hey man, I'm really not trying to edit war. It's just that this guy is constantly removing relevant information and talking to me through edits instead of my talk page. He seems to care more about the formatting than the actual info.\n"
     ]
    }
   ],
   "source": [
    "print(data.loc[2, 'text'])"
   ]
  },
  {
   "cell_type": "code",
   "execution_count": 43,
   "metadata": {},
   "outputs": [
    {
     "data": {
      "text/plain": [
       "\"hey man i'm really not trying to edit war it's just that this guy is constantly removing relevant information and talking to me through edits instead of my talk page he seems to care more about the formatting than the actual info\""
      ]
     },
     "execution_count": 43,
     "metadata": {},
     "output_type": "execute_result"
    }
   ],
   "source": [
    "text_prepocessing(data.loc[2, 'text'])"
   ]
  },
  {
   "cell_type": "code",
   "execution_count": 44,
   "metadata": {},
   "outputs": [
    {
     "name": "stdout",
     "output_type": "stream",
     "text": [
      "\"\n",
      "More\n",
      "I can't make any real suggestions on improvement - I wondered if the section statistics should be later on, or a subsection of \"\"types of accidents\"\"  -I think the references may need tidying so that they are all in the exact same format ie date format etc. I can do that later on, if no-one else does first - if you have any preferences for formatting style on references or want to do it yourself please let me know.\n",
      "\n",
      "There appears to be a backlog on articles for review so I guess there may be a delay until a reviewer turns up. It's listed in the relevant form eg Wikipedia:Good_article_nominations#Transport  \"\n"
     ]
    }
   ],
   "source": [
    "print(data.loc[3, 'text'])"
   ]
  },
  {
   "cell_type": "code",
   "execution_count": 45,
   "metadata": {},
   "outputs": [
    {
     "data": {
      "text/plain": [
       "\"more i can't make any real suggestion on improvement i wondered if the section statistic should be later on or a subsection of type of accident i think the reference may need tidying so that they are all in the exact same format ie date format etc i can do that later on if no one else doe first if you have any preference for formatting style on reference or want to do it yourself please let me know there appears to be a backlog on article for review so i guess there may be a delay until a reviewer turn up it's listed in the relevant form eg wikipedia good article nomination transport\""
      ]
     },
     "execution_count": 45,
     "metadata": {},
     "output_type": "execute_result"
    }
   ],
   "source": [
    "text_prepocessing(data.loc[3, 'text'])"
   ]
  },
  {
   "cell_type": "markdown",
   "metadata": {},
   "source": [
    "### Предобработка текста"
   ]
  },
  {
   "cell_type": "code",
   "execution_count": 46,
   "metadata": {},
   "outputs": [],
   "source": [
    "data['lemmatized_tokens'] = data['text'].apply(text_prepocessing)"
   ]
  },
  {
   "cell_type": "code",
   "execution_count": 47,
   "metadata": {},
   "outputs": [
    {
     "data": {
      "text/html": [
       "<div>\n",
       "<style scoped>\n",
       "    .dataframe tbody tr th:only-of-type {\n",
       "        vertical-align: middle;\n",
       "    }\n",
       "\n",
       "    .dataframe tbody tr th {\n",
       "        vertical-align: top;\n",
       "    }\n",
       "\n",
       "    .dataframe thead th {\n",
       "        text-align: right;\n",
       "    }\n",
       "</style>\n",
       "<table border=\"1\" class=\"dataframe\">\n",
       "  <thead>\n",
       "    <tr style=\"text-align: right;\">\n",
       "      <th></th>\n",
       "      <th>text</th>\n",
       "      <th>toxic</th>\n",
       "      <th>exclamation_points</th>\n",
       "      <th>lemmatized_tokens</th>\n",
       "    </tr>\n",
       "  </thead>\n",
       "  <tbody>\n",
       "    <tr>\n",
       "      <th>0</th>\n",
       "      <td>Explanation\\r\\nWhy the edits made under my use...</td>\n",
       "      <td>0</td>\n",
       "      <td>0</td>\n",
       "      <td>explanation why the edits made under my userna...</td>\n",
       "    </tr>\n",
       "    <tr>\n",
       "      <th>1</th>\n",
       "      <td>D'aww! He matches this background colour I'm s...</td>\n",
       "      <td>0</td>\n",
       "      <td>1</td>\n",
       "      <td>d'aww he match this background colour i'm seem...</td>\n",
       "    </tr>\n",
       "    <tr>\n",
       "      <th>2</th>\n",
       "      <td>Hey man, I'm really not trying to edit war. It...</td>\n",
       "      <td>0</td>\n",
       "      <td>0</td>\n",
       "      <td>hey man i'm really not trying to edit war it's...</td>\n",
       "    </tr>\n",
       "    <tr>\n",
       "      <th>3</th>\n",
       "      <td>\"\\r\\nMore\\r\\nI can't make any real suggestions...</td>\n",
       "      <td>0</td>\n",
       "      <td>0</td>\n",
       "      <td>more i can't make any real suggestion on impro...</td>\n",
       "    </tr>\n",
       "    <tr>\n",
       "      <th>4</th>\n",
       "      <td>You, sir, are my hero. Any chance you remember...</td>\n",
       "      <td>0</td>\n",
       "      <td>0</td>\n",
       "      <td>you sir are my hero any chance you remember wh...</td>\n",
       "    </tr>\n",
       "  </tbody>\n",
       "</table>\n",
       "</div>"
      ],
      "text/plain": [
       "                                                text  toxic  \\\n",
       "0  Explanation\\r\\nWhy the edits made under my use...      0   \n",
       "1  D'aww! He matches this background colour I'm s...      0   \n",
       "2  Hey man, I'm really not trying to edit war. It...      0   \n",
       "3  \"\\r\\nMore\\r\\nI can't make any real suggestions...      0   \n",
       "4  You, sir, are my hero. Any chance you remember...      0   \n",
       "\n",
       "   exclamation_points                                  lemmatized_tokens  \n",
       "0                   0  explanation why the edits made under my userna...  \n",
       "1                   1  d'aww he match this background colour i'm seem...  \n",
       "2                   0  hey man i'm really not trying to edit war it's...  \n",
       "3                   0  more i can't make any real suggestion on impro...  \n",
       "4                   0  you sir are my hero any chance you remember wh...  "
      ]
     },
     "execution_count": 47,
     "metadata": {},
     "output_type": "execute_result"
    }
   ],
   "source": [
    "data.head()"
   ]
  },
  {
   "cell_type": "markdown",
   "metadata": {},
   "source": [
    "## Создание признака - количество символов в тексте"
   ]
  },
  {
   "cell_type": "code",
   "execution_count": 48,
   "metadata": {},
   "outputs": [
    {
     "data": {
      "text/plain": [
       "0    265\n",
       "1    112\n",
       "2    233\n",
       "3    626\n",
       "4     67\n",
       "Name: length, dtype: int64"
      ]
     },
     "execution_count": 48,
     "metadata": {},
     "output_type": "execute_result"
    }
   ],
   "source": [
    "data['length'] = data['text'].apply(len)\n",
    "data['length'].head()"
   ]
  },
  {
   "cell_type": "code",
   "execution_count": 49,
   "metadata": {},
   "outputs": [
    {
     "data": {
      "image/png": "[encoded data removed]",
      "text/plain": [
       "<Figure size 1080x720 with 1 Axes>"
      ]
     },
     "metadata": {
      "needs_background": "light"
     },
     "output_type": "display_data"
    }
   ],
   "source": [
    "feature_boxplot('length', xlabel='Text length')"
   ]
  },
  {
   "cell_type": "code",
   "execution_count": 50,
   "metadata": {},
   "outputs": [
    {
     "data": {
      "text/plain": [
       "count    143346.000000\n",
       "mean        406.885138\n",
       "std         590.177739\n",
       "min           6.000000\n",
       "25%         103.000000\n",
       "50%         218.000000\n",
       "75%         455.000000\n",
       "max        5000.000000\n",
       "Name: length, dtype: float64"
      ]
     },
     "execution_count": 50,
     "metadata": {},
     "output_type": "execute_result"
    }
   ],
   "source": [
    "data.loc[data['toxic'] == 0, 'length'].describe()"
   ]
  },
  {
   "cell_type": "code",
   "execution_count": 51,
   "metadata": {},
   "outputs": [
    {
     "data": {
      "text/plain": [
       "count    16225.000000\n",
       "mean       305.672604\n",
       "std        623.040359\n",
       "min          8.000000\n",
       "25%         62.000000\n",
       "50%        129.000000\n",
       "75%        285.000000\n",
       "max       5000.000000\n",
       "Name: length, dtype: float64"
      ]
     },
     "execution_count": 51,
     "metadata": {},
     "output_type": "execute_result"
    }
   ],
   "source": [
    "data.loc[data['toxic'] == 1, 'length'].describe()"
   ]
  },
  {
   "cell_type": "code",
   "execution_count": 52,
   "metadata": {},
   "outputs": [
    {
     "data": {
      "image/png": "[encoded data removed]",
      "text/plain": [
       "<Figure size 1440x504 with 2 Axes>"
      ]
     },
     "metadata": {
      "needs_background": "light"
     },
     "output_type": "display_data"
    }
   ],
   "source": [
    "features_distr_by_toxicity('length', 'Text length')"
   ]
  },
  {
   "cell_type": "code",
   "execution_count": 53,
   "metadata": {},
   "outputs": [
    {
     "name": "stdout",
     "output_type": "stream",
     "text": [
      "p-value: 0.0\n",
      "We reject the null hypothesis that the average length of non-toxic comments is not greater than of toxic one - the average number of length of non-toxic comments is greater than of toxic ones.\n"
     ]
    }
   ],
   "source": [
    "results = mannwhitneyu(\n",
    "    data.loc[data['toxic'] == 0, 'length'],\n",
    "    data.loc[data['toxic'] == 1, 'length'],\n",
    "    alternative='greater'\n",
    ")\n",
    "\n",
    "print('p-value:', results.pvalue)\n",
    "\n",
    "if (results.pvalue < alpha) and (data.loc[data['toxic'] == 0, 'length'].mean() > data.loc[data['toxic'] == 1, 'length'].mean()):\n",
    "    print(\"We reject the null hypothesis that the average length of non-toxic comments is not greater than of toxic one - the average number of length of non-toxic comments is greater than of toxic ones.\")\n",
    "else:\n",
    "    print(\"It's not possible to reject the null hypothesis, which states that the average length of non-toxic comments is no greater than in toxic ones.\")"
   ]
  },
  {
   "cell_type": "markdown",
   "metadata": {},
   "source": [
    "## Разделение на тестовую и обучающую выборки"
   ]
  },
  {
   "cell_type": "code",
   "execution_count": 54,
   "metadata": {},
   "outputs": [],
   "source": [
    "from sklearn.model_selection import train_test_split"
   ]
  },
  {
   "cell_type": "code",
   "execution_count": 55,
   "metadata": {},
   "outputs": [],
   "source": [
    "train, test = train_test_split(data, test_size=0.2, random_state=42)"
   ]
  },
  {
   "cell_type": "code",
   "execution_count": 56,
   "metadata": {},
   "outputs": [
    {
     "data": {
      "text/plain": [
       "((127656, 5), (31915, 5))"
      ]
     },
     "execution_count": 56,
     "metadata": {},
     "output_type": "execute_result"
    }
   ],
   "source": [
    "train.shape, test.shape"
   ]
  },
  {
   "cell_type": "markdown",
   "metadata": {},
   "source": [
    "## Выводы (шаг 1)"
   ]
  },
  {
   "cell_type": "markdown",
   "metadata": {},
   "source": [
    "Файл с данными состоит из 2 столбцов (1 со строками и 1 с целыми числами) и 159571 записей.\n",
    "В ходе предобработки комментарии были:\n",
    " - приведенных к нижнему регистру;\n",
    " - очищены от всех лишних символов. Были оставлены только буквы и апострофы, т.к. они имеют важное значение в английском языке;\n",
    " - токенезированы с помощью токенизатора wordpunct_tokenize из библиотеки NLTK;\n",
    " - лемматизированы с помощью лемматизатора WordNetLemmatizer из библиотеки NLTK.\n",
    "\n",
    "Также в ходе предобработки было проведено сравнение токсичных и не токсичных комментариев по различным параметрам. Было выдвинуто предположение, что токсичные и не токсичные комментарии будут значимо отличаться по этим параметрам:\n",
    " - количество прописных букв, восклицательных и вопросительных знаков - были выдвинуты гипотезы, гласящие, что в токсичных комментариях будет больше каждых из указанных символов, т.к. таким образом можно выразить сильные негативные эмоции;\n",
    " - длина текста - была выдвинуты гипотеза, гласящие, что длина токсичных комментариев будет меньше, т.к. люди более коротко излагают свои негативные мысли в порывах ярости и не утруждают себя написанием больших сообщений. Все гипотезы были проверены с помощью теста Манна-Уитни (т.к. все указанные признаки распределены не нормально). \n",
    " \n",
    "В результате анализа диаграмм размаха и проверки гипотез были сделаны следующие выводы:\n",
    " - гипотезы о количестве восклицательных знаков и длине текста подтвердились - признаки были оставлены для использования в моделях;\n",
    " - количество прописных букв отличается, причем в токсичных комментариях оно меньше, а не больше, как предполагалось. Предположительно, это можно объяснить большей длиной текстов (количеством предложений) в не токсичных комментариях. В связи с этим решено было не использовать данный признак;\n",
    " - гипотеза о различие количество вопросительных знаков также была отвергнута, а признак также было решено не использовать."
   ]
  },
  {
   "cell_type": "markdown",
   "metadata": {},
   "source": [
    "# 2. Обучение"
   ]
  },
  {
   "cell_type": "markdown",
   "metadata": {},
   "source": [
    "## TF-IDF"
   ]
  },
  {
   "cell_type": "code",
   "execution_count": 57,
   "metadata": {},
   "outputs": [],
   "source": [
    "from sklearn.compose import ColumnTransformer\n",
    "from sklearn.feature_extraction.text import TfidfVectorizer\n",
    "from sklearn.pipeline import Pipeline\n",
    "from sklearn.linear_model import LogisticRegression\n",
    "from sklearn.tree import DecisionTreeClassifier\n",
    "from sklearn.ensemble import RandomForestClassifier\n",
    "from sklearn.model_selection import GridSearchCV\n",
    "from sklearn.preprocessing import StandardScaler\n",
    "from lightgbm import LGBMClassifier\n",
    "from sklearn.metrics import f1_score"
   ]
  },
  {
   "cell_type": "code",
   "execution_count": 58,
   "metadata": {},
   "outputs": [],
   "source": [
    "features = train.drop(columns=['text', 'toxic'])\n",
    "target = train['toxic']"
   ]
  },
  {
   "cell_type": "code",
   "execution_count": 59,
   "metadata": {},
   "outputs": [
    {
     "data": {
      "text/html": [
       "<div>\n",
       "<style scoped>\n",
       "    .dataframe tbody tr th:only-of-type {\n",
       "        vertical-align: middle;\n",
       "    }\n",
       "\n",
       "    .dataframe tbody tr th {\n",
       "        vertical-align: top;\n",
       "    }\n",
       "\n",
       "    .dataframe thead th {\n",
       "        text-align: right;\n",
       "    }\n",
       "</style>\n",
       "<table border=\"1\" class=\"dataframe\">\n",
       "  <thead>\n",
       "    <tr style=\"text-align: right;\">\n",
       "      <th></th>\n",
       "      <th>exclamation_points</th>\n",
       "      <th>lemmatized_tokens</th>\n",
       "      <th>length</th>\n",
       "    </tr>\n",
       "  </thead>\n",
       "  <tbody>\n",
       "    <tr>\n",
       "      <th>140030</th>\n",
       "      <td>1</td>\n",
       "      <td>grandma terri should burn in trash grandma ter...</td>\n",
       "      <td>112</td>\n",
       "    </tr>\n",
       "    <tr>\n",
       "      <th>159124</th>\n",
       "      <td>0</td>\n",
       "      <td>may utc it would be easiest if you were to adm...</td>\n",
       "      <td>503</td>\n",
       "    </tr>\n",
       "    <tr>\n",
       "      <th>60006</th>\n",
       "      <td>0</td>\n",
       "      <td>the objectivity of this discussion is doubtful...</td>\n",
       "      <td>4631</td>\n",
       "    </tr>\n",
       "    <tr>\n",
       "      <th>65432</th>\n",
       "      <td>0</td>\n",
       "      <td>shelly shock shelly shock is</td>\n",
       "      <td>37</td>\n",
       "    </tr>\n",
       "    <tr>\n",
       "      <th>154979</th>\n",
       "      <td>0</td>\n",
       "      <td>i do not care refer to ong teng cheong talk pa...</td>\n",
       "      <td>243</td>\n",
       "    </tr>\n",
       "  </tbody>\n",
       "</table>\n",
       "</div>"
      ],
      "text/plain": [
       "        exclamation_points                                  lemmatized_tokens  \\\n",
       "140030                   1  grandma terri should burn in trash grandma ter...   \n",
       "159124                   0  may utc it would be easiest if you were to adm...   \n",
       "60006                    0  the objectivity of this discussion is doubtful...   \n",
       "65432                    0                       shelly shock shelly shock is   \n",
       "154979                   0  i do not care refer to ong teng cheong talk pa...   \n",
       "\n",
       "        length  \n",
       "140030     112  \n",
       "159124     503  \n",
       "60006     4631  \n",
       "65432       37  \n",
       "154979     243  "
      ]
     },
     "execution_count": 59,
     "metadata": {},
     "output_type": "execute_result"
    }
   ],
   "source": [
    "features.head()"
   ]
  },
  {
   "cell_type": "code",
   "execution_count": 60,
   "metadata": {},
   "outputs": [],
   "source": [
    "# features transfromation - TF-IDF for text and scaling for other features\n",
    "ct_tfidf = ColumnTransformer([\n",
    "    (\"text\", TfidfVectorizer(stop_words={'english'}), 1),\n",
    "    (\"numeric\", StandardScaler(), [0, 2])\n",
    "])"
   ]
  },
  {
   "cell_type": "markdown",
   "metadata": {},
   "source": [
    "### Логистическая регрессия"
   ]
  },
  {
   "cell_type": "code",
   "execution_count": 501,
   "metadata": {},
   "outputs": [],
   "source": [
    "pipe_logreg = Pipeline([('columns_transfrom', ct_tfidf), ('logreg', LogisticRegression(class_weight='balanced', n_jobs=4))])"
   ]
  },
  {
   "cell_type": "code",
   "execution_count": 502,
   "metadata": {},
   "outputs": [],
   "source": [
    "# Hyperparameters values grid\n",
    "param_grid = {\n",
    "    'logreg__C': np.geomspace(1, 100, 70),\n",
    "}"
   ]
  },
  {
   "cell_type": "code",
   "execution_count": 503,
   "metadata": {},
   "outputs": [],
   "source": [
    "# GridSearch settings\n",
    "search_logreg = GridSearchCV(pipe_logreg, param_grid, return_train_score=True, scoring='f1', verbose=5, n_jobs=-1)"
   ]
  },
  {
   "cell_type": "code",
   "execution_count": 504,
   "metadata": {},
   "outputs": [
    {
     "name": "stdout",
     "output_type": "stream",
     "text": [
      "Fitting 5 folds for each of 70 candidates, totalling 350 fits\n"
     ]
    },
    {
     "name": "stderr",
     "output_type": "stream",
     "text": [
      "[Parallel(n_jobs=-1)]: Using backend LokyBackend with 8 concurrent workers.\n",
      "[Parallel(n_jobs=-1)]: Done   2 tasks      | elapsed:   53.1s\n",
      "[Parallel(n_jobs=-1)]: Done  56 tasks      | elapsed:  5.1min\n",
      "[Parallel(n_jobs=-1)]: Done 146 tasks      | elapsed: 12.8min\n",
      "[Parallel(n_jobs=-1)]: Done 272 tasks      | elapsed: 23.5min\n",
      "[Parallel(n_jobs=-1)]: Done 350 out of 350 | elapsed: 30.5min finished\n"
     ]
    },
    {
     "data": {
      "text/plain": [
       "GridSearchCV(estimator=Pipeline(steps=[('columns_transfrom',\n",
       "                                        ColumnTransformer(transformers=[('text',\n",
       "                                                                         TfidfVectorizer(stop_words={'english'}),\n",
       "                                                                         1),\n",
       "                                                                        ('numeric',\n",
       "                                                                         StandardScaler(),\n",
       "                                                                         [0,\n",
       "                                                                          2])])),\n",
       "                                       ('logreg',\n",
       "                                        LogisticRegression(class_weight='balanced',\n",
       "                                                           n_jobs=4))]),\n",
       "             n_jobs=-1,\n",
       "             param_grid={'logreg__C': array([  1.        ,   1.0690192 ,   1.14280206,   1.22167735,\n",
       "         1.30599655,   1.39613539,   1.492...\n",
       "        18.85221217,  20.15337686,  21.5443469 ,  23.03132059,\n",
       "        24.62092401,  26.32024061,  28.13684268,  30.07882518,\n",
       "        32.15484177,  34.37414337,  36.74661941,  39.28284185,\n",
       "        41.99411235,  44.89251258,  47.99095809,  51.30325585,\n",
       "        54.84416576,  58.62946646,  62.6760256 ,  67.00187504,\n",
       "        71.62629116,  76.5698808 ,  81.85467307,  87.5042175 ,\n",
       "        93.54368899, 100.        ])},\n",
       "             return_train_score=True, scoring='f1', verbose=5)"
      ]
     },
     "execution_count": 504,
     "metadata": {},
     "output_type": "execute_result"
    }
   ],
   "source": [
    "# Best hyperparameters values search\n",
    "search_logreg.fit(features, target)"
   ]
  },
  {
   "cell_type": "code",
   "execution_count": 534,
   "metadata": {},
   "outputs": [
    {
     "data": {
      "text/html": [
       "<div>\n",
       "<style scoped>\n",
       "    .dataframe tbody tr th:only-of-type {\n",
       "        vertical-align: middle;\n",
       "    }\n",
       "\n",
       "    .dataframe tbody tr th {\n",
       "        vertical-align: top;\n",
       "    }\n",
       "\n",
       "    .dataframe thead th {\n",
       "        text-align: right;\n",
       "    }\n",
       "</style>\n",
       "<table border=\"1\" class=\"dataframe\">\n",
       "  <thead>\n",
       "    <tr style=\"text-align: right;\">\n",
       "      <th></th>\n",
       "      <th>mean_fit_time</th>\n",
       "      <th>std_fit_time</th>\n",
       "      <th>mean_score_time</th>\n",
       "      <th>std_score_time</th>\n",
       "      <th>param_logreg__C</th>\n",
       "      <th>params</th>\n",
       "      <th>split0_test_score</th>\n",
       "      <th>split1_test_score</th>\n",
       "      <th>split2_test_score</th>\n",
       "      <th>split3_test_score</th>\n",
       "      <th>...</th>\n",
       "      <th>mean_test_score</th>\n",
       "      <th>std_test_score</th>\n",
       "      <th>rank_test_score</th>\n",
       "      <th>split0_train_score</th>\n",
       "      <th>split1_train_score</th>\n",
       "      <th>split2_train_score</th>\n",
       "      <th>split3_train_score</th>\n",
       "      <th>split4_train_score</th>\n",
       "      <th>mean_train_score</th>\n",
       "      <th>std_train_score</th>\n",
       "    </tr>\n",
       "  </thead>\n",
       "  <tbody>\n",
       "    <tr>\n",
       "      <th>14</th>\n",
       "      <td>22.788546</td>\n",
       "      <td>1.227592</td>\n",
       "      <td>3.831998</td>\n",
       "      <td>0.421505</td>\n",
       "      <td>2.54564</td>\n",
       "      <td>{'logreg__C': 2.545640673860415}</td>\n",
       "      <td>0.763199</td>\n",
       "      <td>0.755259</td>\n",
       "      <td>0.757068</td>\n",
       "      <td>0.764485</td>\n",
       "      <td>...</td>\n",
       "      <td>0.760700</td>\n",
       "      <td>0.003772</td>\n",
       "      <td>57</td>\n",
       "      <td>0.868140</td>\n",
       "      <td>0.860279</td>\n",
       "      <td>0.860601</td>\n",
       "      <td>0.858424</td>\n",
       "      <td>0.852709</td>\n",
       "      <td>0.860031</td>\n",
       "      <td>0.004946</td>\n",
       "    </tr>\n",
       "    <tr>\n",
       "      <th>12</th>\n",
       "      <td>23.330037</td>\n",
       "      <td>1.995738</td>\n",
       "      <td>3.173924</td>\n",
       "      <td>0.148333</td>\n",
       "      <td>2.22754</td>\n",
       "      <td>{'logreg__C': 2.2275429519995575}</td>\n",
       "      <td>0.761856</td>\n",
       "      <td>0.753154</td>\n",
       "      <td>0.753574</td>\n",
       "      <td>0.761986</td>\n",
       "      <td>...</td>\n",
       "      <td>0.758705</td>\n",
       "      <td>0.004379</td>\n",
       "      <td>58</td>\n",
       "      <td>0.862326</td>\n",
       "      <td>0.856020</td>\n",
       "      <td>0.853975</td>\n",
       "      <td>0.855339</td>\n",
       "      <td>0.856713</td>\n",
       "      <td>0.856874</td>\n",
       "      <td>0.002872</td>\n",
       "    </tr>\n",
       "    <tr>\n",
       "      <th>11</th>\n",
       "      <td>22.236463</td>\n",
       "      <td>1.487804</td>\n",
       "      <td>3.431518</td>\n",
       "      <td>0.209643</td>\n",
       "      <td>2.08373</td>\n",
       "      <td>{'logreg__C': 2.08372585114296}</td>\n",
       "      <td>0.762019</td>\n",
       "      <td>0.755297</td>\n",
       "      <td>0.752105</td>\n",
       "      <td>0.757728</td>\n",
       "      <td>...</td>\n",
       "      <td>0.758312</td>\n",
       "      <td>0.004448</td>\n",
       "      <td>59</td>\n",
       "      <td>0.861839</td>\n",
       "      <td>0.857538</td>\n",
       "      <td>0.854202</td>\n",
       "      <td>0.845729</td>\n",
       "      <td>0.855624</td>\n",
       "      <td>0.854986</td>\n",
       "      <td>0.005295</td>\n",
       "    </tr>\n",
       "    <tr>\n",
       "      <th>10</th>\n",
       "      <td>24.604007</td>\n",
       "      <td>0.381258</td>\n",
       "      <td>3.296720</td>\n",
       "      <td>0.333685</td>\n",
       "      <td>1.94919</td>\n",
       "      <td>{'logreg__C': 1.9491940296028527}</td>\n",
       "      <td>0.761352</td>\n",
       "      <td>0.753450</td>\n",
       "      <td>0.753229</td>\n",
       "      <td>0.760311</td>\n",
       "      <td>...</td>\n",
       "      <td>0.757981</td>\n",
       "      <td>0.003814</td>\n",
       "      <td>60</td>\n",
       "      <td>0.856230</td>\n",
       "      <td>0.852919</td>\n",
       "      <td>0.845479</td>\n",
       "      <td>0.851440</td>\n",
       "      <td>0.852892</td>\n",
       "      <td>0.851792</td>\n",
       "      <td>0.003526</td>\n",
       "    </tr>\n",
       "    <tr>\n",
       "      <th>9</th>\n",
       "      <td>23.493033</td>\n",
       "      <td>1.880928</td>\n",
       "      <td>3.219922</td>\n",
       "      <td>0.352372</td>\n",
       "      <td>1.82335</td>\n",
       "      <td>{'logreg__C': 1.823348000868441}</td>\n",
       "      <td>0.760866</td>\n",
       "      <td>0.753909</td>\n",
       "      <td>0.751216</td>\n",
       "      <td>0.761065</td>\n",
       "      <td>...</td>\n",
       "      <td>0.757668</td>\n",
       "      <td>0.004257</td>\n",
       "      <td>61</td>\n",
       "      <td>0.855775</td>\n",
       "      <td>0.852186</td>\n",
       "      <td>0.850394</td>\n",
       "      <td>0.850707</td>\n",
       "      <td>0.849042</td>\n",
       "      <td>0.851621</td>\n",
       "      <td>0.002305</td>\n",
       "    </tr>\n",
       "    <tr>\n",
       "      <th>7</th>\n",
       "      <td>25.360589</td>\n",
       "      <td>0.278525</td>\n",
       "      <td>3.124324</td>\n",
       "      <td>0.086528</td>\n",
       "      <td>1.59551</td>\n",
       "      <td>{'logreg__C': 1.595506400444829}</td>\n",
       "      <td>0.757730</td>\n",
       "      <td>0.752462</td>\n",
       "      <td>0.750628</td>\n",
       "      <td>0.761134</td>\n",
       "      <td>...</td>\n",
       "      <td>0.756710</td>\n",
       "      <td>0.004461</td>\n",
       "      <td>62</td>\n",
       "      <td>0.850804</td>\n",
       "      <td>0.848422</td>\n",
       "      <td>0.846785</td>\n",
       "      <td>0.846816</td>\n",
       "      <td>0.845368</td>\n",
       "      <td>0.847639</td>\n",
       "      <td>0.001854</td>\n",
       "    </tr>\n",
       "    <tr>\n",
       "      <th>8</th>\n",
       "      <td>23.437635</td>\n",
       "      <td>1.796461</td>\n",
       "      <td>3.463917</td>\n",
       "      <td>0.331762</td>\n",
       "      <td>1.70563</td>\n",
       "      <td>{'logreg__C': 1.705626983142528}</td>\n",
       "      <td>0.759032</td>\n",
       "      <td>0.750337</td>\n",
       "      <td>0.749708</td>\n",
       "      <td>0.758260</td>\n",
       "      <td>...</td>\n",
       "      <td>0.755835</td>\n",
       "      <td>0.004897</td>\n",
       "      <td>63</td>\n",
       "      <td>0.854289</td>\n",
       "      <td>0.844825</td>\n",
       "      <td>0.845601</td>\n",
       "      <td>0.845700</td>\n",
       "      <td>0.848180</td>\n",
       "      <td>0.847719</td>\n",
       "      <td>0.003473</td>\n",
       "    </tr>\n",
       "    <tr>\n",
       "      <th>6</th>\n",
       "      <td>24.117218</td>\n",
       "      <td>2.283721</td>\n",
       "      <td>3.377720</td>\n",
       "      <td>0.324859</td>\n",
       "      <td>1.4925</td>\n",
       "      <td>{'logreg__C': 1.4924955450518296}</td>\n",
       "      <td>0.755202</td>\n",
       "      <td>0.754109</td>\n",
       "      <td>0.749666</td>\n",
       "      <td>0.757438</td>\n",
       "      <td>...</td>\n",
       "      <td>0.755376</td>\n",
       "      <td>0.003588</td>\n",
       "      <td>64</td>\n",
       "      <td>0.846937</td>\n",
       "      <td>0.846689</td>\n",
       "      <td>0.843808</td>\n",
       "      <td>0.842040</td>\n",
       "      <td>0.842114</td>\n",
       "      <td>0.844318</td>\n",
       "      <td>0.002135</td>\n",
       "    </tr>\n",
       "    <tr>\n",
       "      <th>5</th>\n",
       "      <td>25.742579</td>\n",
       "      <td>1.273461</td>\n",
       "      <td>3.323520</td>\n",
       "      <td>0.320440</td>\n",
       "      <td>1.39614</td>\n",
       "      <td>{'logreg__C': 1.396135390856794}</td>\n",
       "      <td>0.754564</td>\n",
       "      <td>0.751389</td>\n",
       "      <td>0.749037</td>\n",
       "      <td>0.757739</td>\n",
       "      <td>...</td>\n",
       "      <td>0.754410</td>\n",
       "      <td>0.003827</td>\n",
       "      <td>65</td>\n",
       "      <td>0.843592</td>\n",
       "      <td>0.839828</td>\n",
       "      <td>0.842718</td>\n",
       "      <td>0.841315</td>\n",
       "      <td>0.837301</td>\n",
       "      <td>0.840951</td>\n",
       "      <td>0.002228</td>\n",
       "    </tr>\n",
       "    <tr>\n",
       "      <th>4</th>\n",
       "      <td>25.231992</td>\n",
       "      <td>2.261529</td>\n",
       "      <td>3.362919</td>\n",
       "      <td>0.353564</td>\n",
       "      <td>1.306</td>\n",
       "      <td>{'logreg__C': 1.3059965479060531}</td>\n",
       "      <td>0.753413</td>\n",
       "      <td>0.751305</td>\n",
       "      <td>0.746229</td>\n",
       "      <td>0.757972</td>\n",
       "      <td>...</td>\n",
       "      <td>0.753560</td>\n",
       "      <td>0.004617</td>\n",
       "      <td>66</td>\n",
       "      <td>0.841531</td>\n",
       "      <td>0.837924</td>\n",
       "      <td>0.834470</td>\n",
       "      <td>0.838047</td>\n",
       "      <td>0.838146</td>\n",
       "      <td>0.838024</td>\n",
       "      <td>0.002234</td>\n",
       "    </tr>\n",
       "    <tr>\n",
       "      <th>3</th>\n",
       "      <td>26.081571</td>\n",
       "      <td>1.340095</td>\n",
       "      <td>3.657512</td>\n",
       "      <td>0.303551</td>\n",
       "      <td>1.22168</td>\n",
       "      <td>{'logreg__C': 1.221677348996792}</td>\n",
       "      <td>0.753457</td>\n",
       "      <td>0.751435</td>\n",
       "      <td>0.747959</td>\n",
       "      <td>0.753546</td>\n",
       "      <td>...</td>\n",
       "      <td>0.752906</td>\n",
       "      <td>0.003306</td>\n",
       "      <td>67</td>\n",
       "      <td>0.839646</td>\n",
       "      <td>0.837044</td>\n",
       "      <td>0.836024</td>\n",
       "      <td>0.832117</td>\n",
       "      <td>0.832433</td>\n",
       "      <td>0.835453</td>\n",
       "      <td>0.002852</td>\n",
       "    </tr>\n",
       "    <tr>\n",
       "      <th>2</th>\n",
       "      <td>27.473338</td>\n",
       "      <td>0.313134</td>\n",
       "      <td>3.197322</td>\n",
       "      <td>0.108427</td>\n",
       "      <td>1.1428</td>\n",
       "      <td>{'logreg__C': 1.1428020598100326}</td>\n",
       "      <td>0.751428</td>\n",
       "      <td>0.750884</td>\n",
       "      <td>0.747136</td>\n",
       "      <td>0.751872</td>\n",
       "      <td>...</td>\n",
       "      <td>0.751710</td>\n",
       "      <td>0.003231</td>\n",
       "      <td>68</td>\n",
       "      <td>0.836312</td>\n",
       "      <td>0.833995</td>\n",
       "      <td>0.833133</td>\n",
       "      <td>0.831321</td>\n",
       "      <td>0.830428</td>\n",
       "      <td>0.833038</td>\n",
       "      <td>0.002069</td>\n",
       "    </tr>\n",
       "    <tr>\n",
       "      <th>1</th>\n",
       "      <td>27.615735</td>\n",
       "      <td>1.435748</td>\n",
       "      <td>3.352917</td>\n",
       "      <td>0.358401</td>\n",
       "      <td>1.06902</td>\n",
       "      <td>{'logreg__C': 1.069019204603001}</td>\n",
       "      <td>0.749916</td>\n",
       "      <td>0.749411</td>\n",
       "      <td>0.747471</td>\n",
       "      <td>0.753000</td>\n",
       "      <td>...</td>\n",
       "      <td>0.750954</td>\n",
       "      <td>0.002680</td>\n",
       "      <td>69</td>\n",
       "      <td>0.833810</td>\n",
       "      <td>0.833678</td>\n",
       "      <td>0.830106</td>\n",
       "      <td>0.830740</td>\n",
       "      <td>0.825796</td>\n",
       "      <td>0.830826</td>\n",
       "      <td>0.002928</td>\n",
       "    </tr>\n",
       "    <tr>\n",
       "      <th>0</th>\n",
       "      <td>29.074698</td>\n",
       "      <td>0.342101</td>\n",
       "      <td>3.086324</td>\n",
       "      <td>0.065929</td>\n",
       "      <td>1</td>\n",
       "      <td>{'logreg__C': 1.0}</td>\n",
       "      <td>0.747620</td>\n",
       "      <td>0.747613</td>\n",
       "      <td>0.745046</td>\n",
       "      <td>0.751745</td>\n",
       "      <td>...</td>\n",
       "      <td>0.749554</td>\n",
       "      <td>0.003767</td>\n",
       "      <td>70</td>\n",
       "      <td>0.828892</td>\n",
       "      <td>0.828260</td>\n",
       "      <td>0.826526</td>\n",
       "      <td>0.827016</td>\n",
       "      <td>0.825275</td>\n",
       "      <td>0.827194</td>\n",
       "      <td>0.001279</td>\n",
       "    </tr>\n",
       "  </tbody>\n",
       "</table>\n",
       "<p>14 rows × 21 columns</p>\n",
       "</div>"
      ],
      "text/plain": [
       "    mean_fit_time  std_fit_time  mean_score_time  std_score_time  \\\n",
       "14      22.788546      1.227592         3.831998        0.421505   \n",
       "12      23.330037      1.995738         3.173924        0.148333   \n",
       "11      22.236463      1.487804         3.431518        0.209643   \n",
       "10      24.604007      0.381258         3.296720        0.333685   \n",
       "9       23.493033      1.880928         3.219922        0.352372   \n",
       "7       25.360589      0.278525         3.124324        0.086528   \n",
       "8       23.437635      1.796461         3.463917        0.331762   \n",
       "6       24.117218      2.283721         3.377720        0.324859   \n",
       "5       25.742579      1.273461         3.323520        0.320440   \n",
       "4       25.231992      2.261529         3.362919        0.353564   \n",
       "3       26.081571      1.340095         3.657512        0.303551   \n",
       "2       27.473338      0.313134         3.197322        0.108427   \n",
       "1       27.615735      1.435748         3.352917        0.358401   \n",
       "0       29.074698      0.342101         3.086324        0.065929   \n",
       "\n",
       "   param_logreg__C                             params  split0_test_score  \\\n",
       "14         2.54564   {'logreg__C': 2.545640673860415}           0.763199   \n",
       "12         2.22754  {'logreg__C': 2.2275429519995575}           0.761856   \n",
       "11         2.08373    {'logreg__C': 2.08372585114296}           0.762019   \n",
       "10         1.94919  {'logreg__C': 1.9491940296028527}           0.761352   \n",
       "9          1.82335   {'logreg__C': 1.823348000868441}           0.760866   \n",
       "7          1.59551   {'logreg__C': 1.595506400444829}           0.757730   \n",
       "8          1.70563   {'logreg__C': 1.705626983142528}           0.759032   \n",
       "6           1.4925  {'logreg__C': 1.4924955450518296}           0.755202   \n",
       "5          1.39614   {'logreg__C': 1.396135390856794}           0.754564   \n",
       "4            1.306  {'logreg__C': 1.3059965479060531}           0.753413   \n",
       "3          1.22168   {'logreg__C': 1.221677348996792}           0.753457   \n",
       "2           1.1428  {'logreg__C': 1.1428020598100326}           0.751428   \n",
       "1          1.06902   {'logreg__C': 1.069019204603001}           0.749916   \n",
       "0                1                 {'logreg__C': 1.0}           0.747620   \n",
       "\n",
       "    split1_test_score  split2_test_score  split3_test_score  ...  \\\n",
       "14           0.755259           0.757068           0.764485  ...   \n",
       "12           0.753154           0.753574           0.761986  ...   \n",
       "11           0.755297           0.752105           0.757728  ...   \n",
       "10           0.753450           0.753229           0.760311  ...   \n",
       "9            0.753909           0.751216           0.761065  ...   \n",
       "7            0.752462           0.750628           0.761134  ...   \n",
       "8            0.750337           0.749708           0.758260  ...   \n",
       "6            0.754109           0.749666           0.757438  ...   \n",
       "5            0.751389           0.749037           0.757739  ...   \n",
       "4            0.751305           0.746229           0.757972  ...   \n",
       "3            0.751435           0.747959           0.753546  ...   \n",
       "2            0.750884           0.747136           0.751872  ...   \n",
       "1            0.749411           0.747471           0.753000  ...   \n",
       "0            0.747613           0.745046           0.751745  ...   \n",
       "\n",
       "    mean_test_score  std_test_score  rank_test_score  split0_train_score  \\\n",
       "14         0.760700        0.003772               57            0.868140   \n",
       "12         0.758705        0.004379               58            0.862326   \n",
       "11         0.758312        0.004448               59            0.861839   \n",
       "10         0.757981        0.003814               60            0.856230   \n",
       "9          0.757668        0.004257               61            0.855775   \n",
       "7          0.756710        0.004461               62            0.850804   \n",
       "8          0.755835        0.004897               63            0.854289   \n",
       "6          0.755376        0.003588               64            0.846937   \n",
       "5          0.754410        0.003827               65            0.843592   \n",
       "4          0.753560        0.004617               66            0.841531   \n",
       "3          0.752906        0.003306               67            0.839646   \n",
       "2          0.751710        0.003231               68            0.836312   \n",
       "1          0.750954        0.002680               69            0.833810   \n",
       "0          0.749554        0.003767               70            0.828892   \n",
       "\n",
       "    split1_train_score  split2_train_score  split3_train_score  \\\n",
       "14            0.860279            0.860601            0.858424   \n",
       "12            0.856020            0.853975            0.855339   \n",
       "11            0.857538            0.854202            0.845729   \n",
       "10            0.852919            0.845479            0.851440   \n",
       "9             0.852186            0.850394            0.850707   \n",
       "7             0.848422            0.846785            0.846816   \n",
       "8             0.844825            0.845601            0.845700   \n",
       "6             0.846689            0.843808            0.842040   \n",
       "5             0.839828            0.842718            0.841315   \n",
       "4             0.837924            0.834470            0.838047   \n",
       "3             0.837044            0.836024            0.832117   \n",
       "2             0.833995            0.833133            0.831321   \n",
       "1             0.833678            0.830106            0.830740   \n",
       "0             0.828260            0.826526            0.827016   \n",
       "\n",
       "    split4_train_score  mean_train_score  std_train_score  \n",
       "14            0.852709          0.860031         0.004946  \n",
       "12            0.856713          0.856874         0.002872  \n",
       "11            0.855624          0.854986         0.005295  \n",
       "10            0.852892          0.851792         0.003526  \n",
       "9             0.849042          0.851621         0.002305  \n",
       "7             0.845368          0.847639         0.001854  \n",
       "8             0.848180          0.847719         0.003473  \n",
       "6             0.842114          0.844318         0.002135  \n",
       "5             0.837301          0.840951         0.002228  \n",
       "4             0.838146          0.838024         0.002234  \n",
       "3             0.832433          0.835453         0.002852  \n",
       "2             0.830428          0.833038         0.002069  \n",
       "1             0.825796          0.830826         0.002928  \n",
       "0             0.825275          0.827194         0.001279  \n",
       "\n",
       "[14 rows x 21 columns]"
      ]
     },
     "execution_count": 534,
     "metadata": {},
     "output_type": "execute_result"
    }
   ],
   "source": [
    "logreg_results = pd.DataFrame(search_logreg.cv_results_)[(pd.DataFrame(search_logreg.cv_results_)['mean_train_score'] - pd.DataFrame(search_logreg.cv_results_)['mean_test_score']) < 0.1].sort_values('rank_test_score')\n",
    "logreg_results"
   ]
  },
  {
   "cell_type": "code",
   "execution_count": 539,
   "metadata": {},
   "outputs": [
    {
     "data": {
      "text/html": [
       "<div>\n",
       "<style scoped>\n",
       "    .dataframe tbody tr th:only-of-type {\n",
       "        vertical-align: middle;\n",
       "    }\n",
       "\n",
       "    .dataframe tbody tr th {\n",
       "        vertical-align: top;\n",
       "    }\n",
       "\n",
       "    .dataframe thead th {\n",
       "        text-align: right;\n",
       "    }\n",
       "</style>\n",
       "<table border=\"1\" class=\"dataframe\">\n",
       "  <thead>\n",
       "    <tr style=\"text-align: right;\">\n",
       "      <th></th>\n",
       "      <th>param_logreg__C</th>\n",
       "    </tr>\n",
       "  </thead>\n",
       "  <tbody>\n",
       "    <tr>\n",
       "      <th>14</th>\n",
       "      <td>2.54564</td>\n",
       "    </tr>\n",
       "  </tbody>\n",
       "</table>\n",
       "</div>"
      ],
      "text/plain": [
       "   param_logreg__C\n",
       "14         2.54564"
      ]
     },
     "execution_count": 539,
     "metadata": {},
     "output_type": "execute_result"
    }
   ],
   "source": [
    "# Best hyperparameters values\n",
    "logreg_results.head(1)[['param_logreg__C']]"
   ]
  },
  {
   "cell_type": "code",
   "execution_count": 575,
   "metadata": {},
   "outputs": [
    {
     "name": "stdout",
     "output_type": "stream",
     "text": [
      "F1 with logistic regression - 0.761\n"
     ]
    }
   ],
   "source": [
    "print('F1 with logistic regression - {:.3f}'.format(float(logreg_results.head(1)['mean_test_score'])))"
   ]
  },
  {
   "cell_type": "markdown",
   "metadata": {},
   "source": [
    "### Дерево решений"
   ]
  },
  {
   "cell_type": "markdown",
   "metadata": {},
   "source": [
    "#### Часть 1"
   ]
  },
  {
   "cell_type": "code",
   "execution_count": 62,
   "metadata": {},
   "outputs": [],
   "source": [
    "pipe_tree = Pipeline([('columns_transfrom', ct_tfidf), ('tree', DecisionTreeClassifier(class_weight='balanced', random_state=42))])"
   ]
  },
  {
   "cell_type": "code",
   "execution_count": 463,
   "metadata": {},
   "outputs": [],
   "source": [
    "# Hyperparameters values grid\n",
    "param_grid = {\n",
    "    'tree__max_depth': np.arange(1, 11),\n",
    "    'tree__min_samples_split': np.arange(2, 223, 20),\n",
    "    'tree__min_samples_leaf': np.arange(1, 26, 5)\n",
    "}"
   ]
  },
  {
   "cell_type": "code",
   "execution_count": 464,
   "metadata": {},
   "outputs": [],
   "source": [
    "# GridSearch settings\n",
    "search_tree = GridSearchCV(pipe_tree, param_grid, return_train_score=True, scoring='f1', verbose=5, n_jobs=-1)"
   ]
  },
  {
   "cell_type": "code",
   "execution_count": 465,
   "metadata": {},
   "outputs": [
    {
     "name": "stdout",
     "output_type": "stream",
     "text": [
      "Fitting 5 folds for each of 600 candidates, totalling 3000 fits\n"
     ]
    },
    {
     "name": "stderr",
     "output_type": "stream",
     "text": [
      "[Parallel(n_jobs=-1)]: Using backend LokyBackend with 8 concurrent workers.\n",
      "[Parallel(n_jobs=-1)]: Done   2 tasks      | elapsed:   36.1s\n",
      "[Parallel(n_jobs=-1)]: Done  56 tasks      | elapsed:  3.7min\n",
      "[Parallel(n_jobs=-1)]: Done 146 tasks      | elapsed:  9.5min\n",
      "[Parallel(n_jobs=-1)]: Done 272 tasks      | elapsed: 17.5min\n",
      "[Parallel(n_jobs=-1)]: Done 434 tasks      | elapsed: 27.8min\n",
      "[Parallel(n_jobs=-1)]: Done 632 tasks      | elapsed: 40.7min\n",
      "[Parallel(n_jobs=-1)]: Done 866 tasks      | elapsed: 56.4min\n",
      "[Parallel(n_jobs=-1)]: Done 1136 tasks      | elapsed: 75.1min\n",
      "[Parallel(n_jobs=-1)]: Done 1442 tasks      | elapsed: 97.0min\n",
      "[Parallel(n_jobs=-1)]: Done 1784 tasks      | elapsed: 122.6min\n",
      "[Parallel(n_jobs=-1)]: Done 2162 tasks      | elapsed: 152.5min\n",
      "[Parallel(n_jobs=-1)]: Done 2576 tasks      | elapsed: 186.7min\n",
      "[Parallel(n_jobs=-1)]: Done 3000 out of 3000 | elapsed: 223.6min finished\n"
     ]
    },
    {
     "data": {
      "text/plain": [
       "GridSearchCV(estimator=Pipeline(steps=[('columns_transfrom',\n",
       "                                        ColumnTransformer(transformers=[('text',\n",
       "                                                                         TfidfVectorizer(stop_words={'english'}),\n",
       "                                                                         1),\n",
       "                                                                        ('numeric',\n",
       "                                                                         StandardScaler(),\n",
       "                                                                         [0,\n",
       "                                                                          2])])),\n",
       "                                       ('tree',\n",
       "                                        DecisionTreeClassifier(class_weight='balanced',\n",
       "                                                               random_state=42))]),\n",
       "             n_jobs=-1,\n",
       "             param_grid={'tree__max_depth': array([ 1,  2,  3,  4,  5,  6,  7,  8,  9, 10]),\n",
       "                         'tree__min_samples_leaf': array([ 1,  6, 11, 16, 21]),\n",
       "                         'tree__min_samples_split': array([  2,  22,  42,  62,  82, 102, 122, 142, 162, 182, 202, 222])},\n",
       "             return_train_score=True, scoring='f1', verbose=5)"
      ]
     },
     "execution_count": 465,
     "metadata": {},
     "output_type": "execute_result"
    }
   ],
   "source": [
    "# Best hyperparameters values search\n",
    "search_tree.fit(features, target)"
   ]
  },
  {
   "cell_type": "code",
   "execution_count": 535,
   "metadata": {},
   "outputs": [
    {
     "data": {
      "text/html": [
       "<div>\n",
       "<style scoped>\n",
       "    .dataframe tbody tr th:only-of-type {\n",
       "        vertical-align: middle;\n",
       "    }\n",
       "\n",
       "    .dataframe tbody tr th {\n",
       "        vertical-align: top;\n",
       "    }\n",
       "\n",
       "    .dataframe thead th {\n",
       "        text-align: right;\n",
       "    }\n",
       "</style>\n",
       "<table border=\"1\" class=\"dataframe\">\n",
       "  <thead>\n",
       "    <tr style=\"text-align: right;\">\n",
       "      <th></th>\n",
       "      <th>mean_fit_time</th>\n",
       "      <th>std_fit_time</th>\n",
       "      <th>mean_score_time</th>\n",
       "      <th>std_score_time</th>\n",
       "      <th>param_tree__max_depth</th>\n",
       "      <th>param_tree__min_samples_leaf</th>\n",
       "      <th>param_tree__min_samples_split</th>\n",
       "      <th>params</th>\n",
       "      <th>split0_test_score</th>\n",
       "      <th>split1_test_score</th>\n",
       "      <th>...</th>\n",
       "      <th>mean_test_score</th>\n",
       "      <th>std_test_score</th>\n",
       "      <th>rank_test_score</th>\n",
       "      <th>split0_train_score</th>\n",
       "      <th>split1_train_score</th>\n",
       "      <th>split2_train_score</th>\n",
       "      <th>split3_train_score</th>\n",
       "      <th>split4_train_score</th>\n",
       "      <th>mean_train_score</th>\n",
       "      <th>std_train_score</th>\n",
       "    </tr>\n",
       "  </thead>\n",
       "  <tbody>\n",
       "    <tr>\n",
       "      <th>502</th>\n",
       "      <td>25.125394</td>\n",
       "      <td>0.537503</td>\n",
       "      <td>2.999127</td>\n",
       "      <td>0.099588</td>\n",
       "      <td>9</td>\n",
       "      <td>6</td>\n",
       "      <td>202</td>\n",
       "      <td>{'tree__max_depth': 9, 'tree__min_samples_leaf...</td>\n",
       "      <td>0.455417</td>\n",
       "      <td>0.481219</td>\n",
       "      <td>...</td>\n",
       "      <td>0.468116</td>\n",
       "      <td>0.015917</td>\n",
       "      <td>1</td>\n",
       "      <td>0.466072</td>\n",
       "      <td>0.486275</td>\n",
       "      <td>0.462697</td>\n",
       "      <td>0.473329</td>\n",
       "      <td>0.502470</td>\n",
       "      <td>0.478169</td>\n",
       "      <td>0.014597</td>\n",
       "    </tr>\n",
       "    <tr>\n",
       "      <th>500</th>\n",
       "      <td>24.933998</td>\n",
       "      <td>0.943244</td>\n",
       "      <td>2.991728</td>\n",
       "      <td>0.129308</td>\n",
       "      <td>9</td>\n",
       "      <td>6</td>\n",
       "      <td>162</td>\n",
       "      <td>{'tree__max_depth': 9, 'tree__min_samples_leaf...</td>\n",
       "      <td>0.455131</td>\n",
       "      <td>0.481001</td>\n",
       "      <td>...</td>\n",
       "      <td>0.467867</td>\n",
       "      <td>0.016222</td>\n",
       "      <td>2</td>\n",
       "      <td>0.466180</td>\n",
       "      <td>0.486456</td>\n",
       "      <td>0.463569</td>\n",
       "      <td>0.473786</td>\n",
       "      <td>0.503865</td>\n",
       "      <td>0.478771</td>\n",
       "      <td>0.014854</td>\n",
       "    </tr>\n",
       "    <tr>\n",
       "      <th>501</th>\n",
       "      <td>24.256614</td>\n",
       "      <td>0.458688</td>\n",
       "      <td>3.081326</td>\n",
       "      <td>0.160715</td>\n",
       "      <td>9</td>\n",
       "      <td>6</td>\n",
       "      <td>182</td>\n",
       "      <td>{'tree__max_depth': 9, 'tree__min_samples_leaf...</td>\n",
       "      <td>0.455417</td>\n",
       "      <td>0.480241</td>\n",
       "      <td>...</td>\n",
       "      <td>0.467838</td>\n",
       "      <td>0.015725</td>\n",
       "      <td>3</td>\n",
       "      <td>0.466072</td>\n",
       "      <td>0.486420</td>\n",
       "      <td>0.462899</td>\n",
       "      <td>0.473688</td>\n",
       "      <td>0.502470</td>\n",
       "      <td>0.478310</td>\n",
       "      <td>0.014547</td>\n",
       "    </tr>\n",
       "    <tr>\n",
       "      <th>503</th>\n",
       "      <td>23.936822</td>\n",
       "      <td>0.715576</td>\n",
       "      <td>3.032127</td>\n",
       "      <td>0.191298</td>\n",
       "      <td>9</td>\n",
       "      <td>6</td>\n",
       "      <td>222</td>\n",
       "      <td>{'tree__max_depth': 9, 'tree__min_samples_leaf...</td>\n",
       "      <td>0.455620</td>\n",
       "      <td>0.479724</td>\n",
       "      <td>...</td>\n",
       "      <td>0.467723</td>\n",
       "      <td>0.015491</td>\n",
       "      <td>4</td>\n",
       "      <td>0.465872</td>\n",
       "      <td>0.484893</td>\n",
       "      <td>0.462697</td>\n",
       "      <td>0.472938</td>\n",
       "      <td>0.501697</td>\n",
       "      <td>0.477619</td>\n",
       "      <td>0.014250</td>\n",
       "    </tr>\n",
       "    <tr>\n",
       "      <th>490</th>\n",
       "      <td>24.946997</td>\n",
       "      <td>0.968675</td>\n",
       "      <td>2.989529</td>\n",
       "      <td>0.059734</td>\n",
       "      <td>9</td>\n",
       "      <td>1</td>\n",
       "      <td>202</td>\n",
       "      <td>{'tree__max_depth': 9, 'tree__min_samples_leaf...</td>\n",
       "      <td>0.454306</td>\n",
       "      <td>0.479456</td>\n",
       "      <td>...</td>\n",
       "      <td>0.467591</td>\n",
       "      <td>0.015520</td>\n",
       "      <td>5</td>\n",
       "      <td>0.467046</td>\n",
       "      <td>0.487550</td>\n",
       "      <td>0.464222</td>\n",
       "      <td>0.474577</td>\n",
       "      <td>0.503807</td>\n",
       "      <td>0.479440</td>\n",
       "      <td>0.014617</td>\n",
       "    </tr>\n",
       "    <tr>\n",
       "      <th>...</th>\n",
       "      <td>...</td>\n",
       "      <td>...</td>\n",
       "      <td>...</td>\n",
       "      <td>...</td>\n",
       "      <td>...</td>\n",
       "      <td>...</td>\n",
       "      <td>...</td>\n",
       "      <td>...</td>\n",
       "      <td>...</td>\n",
       "      <td>...</td>\n",
       "      <td>...</td>\n",
       "      <td>...</td>\n",
       "      <td>...</td>\n",
       "      <td>...</td>\n",
       "      <td>...</td>\n",
       "      <td>...</td>\n",
       "      <td>...</td>\n",
       "      <td>...</td>\n",
       "      <td>...</td>\n",
       "      <td>...</td>\n",
       "      <td>...</td>\n",
       "    </tr>\n",
       "    <tr>\n",
       "      <th>69</th>\n",
       "      <td>15.308231</td>\n",
       "      <td>0.180074</td>\n",
       "      <td>3.044927</td>\n",
       "      <td>0.170992</td>\n",
       "      <td>2</td>\n",
       "      <td>1</td>\n",
       "      <td>182</td>\n",
       "      <td>{'tree__max_depth': 2, 'tree__min_samples_leaf...</td>\n",
       "      <td>0.257912</td>\n",
       "      <td>0.274564</td>\n",
       "      <td>...</td>\n",
       "      <td>0.261923</td>\n",
       "      <td>0.008667</td>\n",
       "      <td>589</td>\n",
       "      <td>0.256997</td>\n",
       "      <td>0.264904</td>\n",
       "      <td>0.258492</td>\n",
       "      <td>0.257635</td>\n",
       "      <td>0.266144</td>\n",
       "      <td>0.260835</td>\n",
       "      <td>0.003878</td>\n",
       "    </tr>\n",
       "    <tr>\n",
       "      <th>71</th>\n",
       "      <td>15.448628</td>\n",
       "      <td>0.253128</td>\n",
       "      <td>3.060325</td>\n",
       "      <td>0.025942</td>\n",
       "      <td>2</td>\n",
       "      <td>1</td>\n",
       "      <td>222</td>\n",
       "      <td>{'tree__max_depth': 2, 'tree__min_samples_leaf...</td>\n",
       "      <td>0.257912</td>\n",
       "      <td>0.274564</td>\n",
       "      <td>...</td>\n",
       "      <td>0.261923</td>\n",
       "      <td>0.008667</td>\n",
       "      <td>589</td>\n",
       "      <td>0.256997</td>\n",
       "      <td>0.264904</td>\n",
       "      <td>0.258492</td>\n",
       "      <td>0.257635</td>\n",
       "      <td>0.266144</td>\n",
       "      <td>0.260835</td>\n",
       "      <td>0.003878</td>\n",
       "    </tr>\n",
       "    <tr>\n",
       "      <th>60</th>\n",
       "      <td>15.604222</td>\n",
       "      <td>0.181581</td>\n",
       "      <td>3.020127</td>\n",
       "      <td>0.137125</td>\n",
       "      <td>2</td>\n",
       "      <td>1</td>\n",
       "      <td>2</td>\n",
       "      <td>{'tree__max_depth': 2, 'tree__min_samples_leaf...</td>\n",
       "      <td>0.257912</td>\n",
       "      <td>0.274564</td>\n",
       "      <td>...</td>\n",
       "      <td>0.261923</td>\n",
       "      <td>0.008667</td>\n",
       "      <td>589</td>\n",
       "      <td>0.256997</td>\n",
       "      <td>0.264904</td>\n",
       "      <td>0.258492</td>\n",
       "      <td>0.257635</td>\n",
       "      <td>0.266144</td>\n",
       "      <td>0.260835</td>\n",
       "      <td>0.003878</td>\n",
       "    </tr>\n",
       "    <tr>\n",
       "      <th>67</th>\n",
       "      <td>15.097836</td>\n",
       "      <td>0.236491</td>\n",
       "      <td>2.979128</td>\n",
       "      <td>0.174929</td>\n",
       "      <td>2</td>\n",
       "      <td>1</td>\n",
       "      <td>142</td>\n",
       "      <td>{'tree__max_depth': 2, 'tree__min_samples_leaf...</td>\n",
       "      <td>0.257912</td>\n",
       "      <td>0.274564</td>\n",
       "      <td>...</td>\n",
       "      <td>0.261923</td>\n",
       "      <td>0.008667</td>\n",
       "      <td>589</td>\n",
       "      <td>0.256997</td>\n",
       "      <td>0.264904</td>\n",
       "      <td>0.258492</td>\n",
       "      <td>0.257635</td>\n",
       "      <td>0.266144</td>\n",
       "      <td>0.260835</td>\n",
       "      <td>0.003878</td>\n",
       "    </tr>\n",
       "    <tr>\n",
       "      <th>61</th>\n",
       "      <td>15.131234</td>\n",
       "      <td>0.308496</td>\n",
       "      <td>3.010528</td>\n",
       "      <td>0.114914</td>\n",
       "      <td>2</td>\n",
       "      <td>1</td>\n",
       "      <td>22</td>\n",
       "      <td>{'tree__max_depth': 2, 'tree__min_samples_leaf...</td>\n",
       "      <td>0.257912</td>\n",
       "      <td>0.274564</td>\n",
       "      <td>...</td>\n",
       "      <td>0.261923</td>\n",
       "      <td>0.008667</td>\n",
       "      <td>589</td>\n",
       "      <td>0.256997</td>\n",
       "      <td>0.264904</td>\n",
       "      <td>0.258492</td>\n",
       "      <td>0.257635</td>\n",
       "      <td>0.266144</td>\n",
       "      <td>0.260835</td>\n",
       "      <td>0.003878</td>\n",
       "    </tr>\n",
       "  </tbody>\n",
       "</table>\n",
       "<p>600 rows × 23 columns</p>\n",
       "</div>"
      ],
      "text/plain": [
       "     mean_fit_time  std_fit_time  mean_score_time  std_score_time  \\\n",
       "502      25.125394      0.537503         2.999127        0.099588   \n",
       "500      24.933998      0.943244         2.991728        0.129308   \n",
       "501      24.256614      0.458688         3.081326        0.160715   \n",
       "503      23.936822      0.715576         3.032127        0.191298   \n",
       "490      24.946997      0.968675         2.989529        0.059734   \n",
       "..             ...           ...              ...             ...   \n",
       "69       15.308231      0.180074         3.044927        0.170992   \n",
       "71       15.448628      0.253128         3.060325        0.025942   \n",
       "60       15.604222      0.181581         3.020127        0.137125   \n",
       "67       15.097836      0.236491         2.979128        0.174929   \n",
       "61       15.131234      0.308496         3.010528        0.114914   \n",
       "\n",
       "    param_tree__max_depth param_tree__min_samples_leaf  \\\n",
       "502                     9                            6   \n",
       "500                     9                            6   \n",
       "501                     9                            6   \n",
       "503                     9                            6   \n",
       "490                     9                            1   \n",
       "..                    ...                          ...   \n",
       "69                      2                            1   \n",
       "71                      2                            1   \n",
       "60                      2                            1   \n",
       "67                      2                            1   \n",
       "61                      2                            1   \n",
       "\n",
       "    param_tree__min_samples_split  \\\n",
       "502                           202   \n",
       "500                           162   \n",
       "501                           182   \n",
       "503                           222   \n",
       "490                           202   \n",
       "..                            ...   \n",
       "69                            182   \n",
       "71                            222   \n",
       "60                              2   \n",
       "67                            142   \n",
       "61                             22   \n",
       "\n",
       "                                                params  split0_test_score  \\\n",
       "502  {'tree__max_depth': 9, 'tree__min_samples_leaf...           0.455417   \n",
       "500  {'tree__max_depth': 9, 'tree__min_samples_leaf...           0.455131   \n",
       "501  {'tree__max_depth': 9, 'tree__min_samples_leaf...           0.455417   \n",
       "503  {'tree__max_depth': 9, 'tree__min_samples_leaf...           0.455620   \n",
       "490  {'tree__max_depth': 9, 'tree__min_samples_leaf...           0.454306   \n",
       "..                                                 ...                ...   \n",
       "69   {'tree__max_depth': 2, 'tree__min_samples_leaf...           0.257912   \n",
       "71   {'tree__max_depth': 2, 'tree__min_samples_leaf...           0.257912   \n",
       "60   {'tree__max_depth': 2, 'tree__min_samples_leaf...           0.257912   \n",
       "67   {'tree__max_depth': 2, 'tree__min_samples_leaf...           0.257912   \n",
       "61   {'tree__max_depth': 2, 'tree__min_samples_leaf...           0.257912   \n",
       "\n",
       "     split1_test_score  ...  mean_test_score  std_test_score  rank_test_score  \\\n",
       "502           0.481219  ...         0.468116        0.015917                1   \n",
       "500           0.481001  ...         0.467867        0.016222                2   \n",
       "501           0.480241  ...         0.467838        0.015725                3   \n",
       "503           0.479724  ...         0.467723        0.015491                4   \n",
       "490           0.479456  ...         0.467591        0.015520                5   \n",
       "..                 ...  ...              ...             ...              ...   \n",
       "69            0.274564  ...         0.261923        0.008667              589   \n",
       "71            0.274564  ...         0.261923        0.008667              589   \n",
       "60            0.274564  ...         0.261923        0.008667              589   \n",
       "67            0.274564  ...         0.261923        0.008667              589   \n",
       "61            0.274564  ...         0.261923        0.008667              589   \n",
       "\n",
       "     split0_train_score  split1_train_score  split2_train_score  \\\n",
       "502            0.466072            0.486275            0.462697   \n",
       "500            0.466180            0.486456            0.463569   \n",
       "501            0.466072            0.486420            0.462899   \n",
       "503            0.465872            0.484893            0.462697   \n",
       "490            0.467046            0.487550            0.464222   \n",
       "..                  ...                 ...                 ...   \n",
       "69             0.256997            0.264904            0.258492   \n",
       "71             0.256997            0.264904            0.258492   \n",
       "60             0.256997            0.264904            0.258492   \n",
       "67             0.256997            0.264904            0.258492   \n",
       "61             0.256997            0.264904            0.258492   \n",
       "\n",
       "     split3_train_score  split4_train_score  mean_train_score  std_train_score  \n",
       "502            0.473329            0.502470          0.478169         0.014597  \n",
       "500            0.473786            0.503865          0.478771         0.014854  \n",
       "501            0.473688            0.502470          0.478310         0.014547  \n",
       "503            0.472938            0.501697          0.477619         0.014250  \n",
       "490            0.474577            0.503807          0.479440         0.014617  \n",
       "..                  ...                 ...               ...              ...  \n",
       "69             0.257635            0.266144          0.260835         0.003878  \n",
       "71             0.257635            0.266144          0.260835         0.003878  \n",
       "60             0.257635            0.266144          0.260835         0.003878  \n",
       "67             0.257635            0.266144          0.260835         0.003878  \n",
       "61             0.257635            0.266144          0.260835         0.003878  \n",
       "\n",
       "[600 rows x 23 columns]"
      ]
     },
     "execution_count": 535,
     "metadata": {},
     "output_type": "execute_result"
    }
   ],
   "source": [
    "tree_results = pd.DataFrame(search_tree.cv_results_)[(pd.DataFrame(search_tree.cv_results_)['mean_train_score'] - pd.DataFrame(search_tree.cv_results_)['mean_test_score']) < 0.1].sort_values('rank_test_score')\n",
    "tree_results"
   ]
  },
  {
   "cell_type": "code",
   "execution_count": 545,
   "metadata": {},
   "outputs": [
    {
     "data": {
      "text/html": [
       "<div>\n",
       "<style scoped>\n",
       "    .dataframe tbody tr th:only-of-type {\n",
       "        vertical-align: middle;\n",
       "    }\n",
       "\n",
       "    .dataframe tbody tr th {\n",
       "        vertical-align: top;\n",
       "    }\n",
       "\n",
       "    .dataframe thead th {\n",
       "        text-align: right;\n",
       "    }\n",
       "</style>\n",
       "<table border=\"1\" class=\"dataframe\">\n",
       "  <thead>\n",
       "    <tr style=\"text-align: right;\">\n",
       "      <th></th>\n",
       "      <th>param_tree__max_depth</th>\n",
       "      <th>param_tree__min_samples_leaf</th>\n",
       "      <th>param_tree__min_samples_split</th>\n",
       "    </tr>\n",
       "  </thead>\n",
       "  <tbody>\n",
       "    <tr>\n",
       "      <th>502</th>\n",
       "      <td>9</td>\n",
       "      <td>6</td>\n",
       "      <td>202</td>\n",
       "    </tr>\n",
       "  </tbody>\n",
       "</table>\n",
       "</div>"
      ],
      "text/plain": [
       "    param_tree__max_depth param_tree__min_samples_leaf  \\\n",
       "502                     9                            6   \n",
       "\n",
       "    param_tree__min_samples_split  \n",
       "502                           202  "
      ]
     },
     "execution_count": 545,
     "metadata": {},
     "output_type": "execute_result"
    }
   ],
   "source": [
    "# Best hyperparameters values\n",
    "tree_results.head(1)[['param_tree__max_depth', 'param_tree__min_samples_leaf', 'param_tree__min_samples_split']]"
   ]
  },
  {
   "cell_type": "markdown",
   "metadata": {},
   "source": [
    "#### Часть 2"
   ]
  },
  {
   "cell_type": "code",
   "execution_count": 524,
   "metadata": {},
   "outputs": [],
   "source": [
    "# Hyperparameters values grid\n",
    "param_grid_2 = {\n",
    "    'tree__max_depth': np.arange(11, 32, 4),\n",
    "    'tree__min_samples_split': np.arange(2, 300, 80),\n",
    "    'tree__min_samples_leaf': np.arange(1, 22, 5)\n",
    "}"
   ]
  },
  {
   "cell_type": "code",
   "execution_count": 525,
   "metadata": {},
   "outputs": [],
   "source": [
    "# GridSearch settings\n",
    "search_tree_2 = GridSearchCV(pipe_tree, param_grid_2, return_train_score=True, scoring='f1', verbose=5, n_jobs=-1)"
   ]
  },
  {
   "cell_type": "code",
   "execution_count": 526,
   "metadata": {},
   "outputs": [
    {
     "name": "stdout",
     "output_type": "stream",
     "text": [
      "Fitting 5 folds for each of 120 candidates, totalling 600 fits\n"
     ]
    },
    {
     "name": "stderr",
     "output_type": "stream",
     "text": [
      "[Parallel(n_jobs=-1)]: Using backend LokyBackend with 8 concurrent workers.\n",
      "[Parallel(n_jobs=-1)]: Done   2 tasks      | elapsed:   55.0s\n",
      "[Parallel(n_jobs=-1)]: Done  56 tasks      | elapsed:  5.9min\n",
      "[Parallel(n_jobs=-1)]: Done 146 tasks      | elapsed: 16.5min\n",
      "[Parallel(n_jobs=-1)]: Done 272 tasks      | elapsed: 32.9min\n",
      "[Parallel(n_jobs=-1)]: Done 434 tasks      | elapsed: 58.2min\n",
      "[Parallel(n_jobs=-1)]: Done 600 out of 600 | elapsed: 86.8min finished\n"
     ]
    },
    {
     "data": {
      "text/plain": [
       "GridSearchCV(estimator=Pipeline(steps=[('columns_transfrom',\n",
       "                                        ColumnTransformer(transformers=[('text',\n",
       "                                                                         TfidfVectorizer(stop_words={'english'}),\n",
       "                                                                         1),\n",
       "                                                                        ('numeric',\n",
       "                                                                         StandardScaler(),\n",
       "                                                                         [0,\n",
       "                                                                          2])])),\n",
       "                                       ('tree',\n",
       "                                        DecisionTreeClassifier(class_weight='balanced',\n",
       "                                                               random_state=42))]),\n",
       "             n_jobs=-1,\n",
       "             param_grid={'tree__max_depth': array([11, 15, 19, 23, 27, 31]),\n",
       "                         'tree__min_samples_leaf': array([ 1,  6, 11, 16, 21]),\n",
       "                         'tree__min_samples_split': array([  2,  82, 162, 242])},\n",
       "             return_train_score=True, scoring='f1', verbose=5)"
      ]
     },
     "execution_count": 526,
     "metadata": {},
     "output_type": "execute_result"
    }
   ],
   "source": [
    "# Best hyperparameters values search\n",
    "search_tree_2.fit(features, target)"
   ]
  },
  {
   "cell_type": "code",
   "execution_count": 536,
   "metadata": {},
   "outputs": [
    {
     "data": {
      "text/html": [
       "<div>\n",
       "<style scoped>\n",
       "    .dataframe tbody tr th:only-of-type {\n",
       "        vertical-align: middle;\n",
       "    }\n",
       "\n",
       "    .dataframe tbody tr th {\n",
       "        vertical-align: top;\n",
       "    }\n",
       "\n",
       "    .dataframe thead th {\n",
       "        text-align: right;\n",
       "    }\n",
       "</style>\n",
       "<table border=\"1\" class=\"dataframe\">\n",
       "  <thead>\n",
       "    <tr style=\"text-align: right;\">\n",
       "      <th></th>\n",
       "      <th>mean_fit_time</th>\n",
       "      <th>std_fit_time</th>\n",
       "      <th>mean_score_time</th>\n",
       "      <th>std_score_time</th>\n",
       "      <th>param_tree__max_depth</th>\n",
       "      <th>param_tree__min_samples_leaf</th>\n",
       "      <th>param_tree__min_samples_split</th>\n",
       "      <th>params</th>\n",
       "      <th>split0_test_score</th>\n",
       "      <th>split1_test_score</th>\n",
       "      <th>...</th>\n",
       "      <th>mean_test_score</th>\n",
       "      <th>std_test_score</th>\n",
       "      <th>rank_test_score</th>\n",
       "      <th>split0_train_score</th>\n",
       "      <th>split1_train_score</th>\n",
       "      <th>split2_train_score</th>\n",
       "      <th>split3_train_score</th>\n",
       "      <th>split4_train_score</th>\n",
       "      <th>mean_train_score</th>\n",
       "      <th>std_train_score</th>\n",
       "    </tr>\n",
       "  </thead>\n",
       "  <tbody>\n",
       "    <tr>\n",
       "      <th>82</th>\n",
       "      <td>61.694737</td>\n",
       "      <td>1.614012</td>\n",
       "      <td>3.226722</td>\n",
       "      <td>0.112904</td>\n",
       "      <td>27</td>\n",
       "      <td>1</td>\n",
       "      <td>162</td>\n",
       "      <td>{'tree__max_depth': 27, 'tree__min_samples_lea...</td>\n",
       "      <td>0.501153</td>\n",
       "      <td>0.521363</td>\n",
       "      <td>...</td>\n",
       "      <td>0.508686</td>\n",
       "      <td>0.009146</td>\n",
       "      <td>12</td>\n",
       "      <td>0.601574</td>\n",
       "      <td>0.605585</td>\n",
       "      <td>0.589363</td>\n",
       "      <td>0.590871</td>\n",
       "      <td>0.614366</td>\n",
       "      <td>0.600352</td>\n",
       "      <td>0.009337</td>\n",
       "    </tr>\n",
       "    <tr>\n",
       "      <th>103</th>\n",
       "      <td>68.370395</td>\n",
       "      <td>0.792282</td>\n",
       "      <td>3.085326</td>\n",
       "      <td>0.196402</td>\n",
       "      <td>31</td>\n",
       "      <td>1</td>\n",
       "      <td>242</td>\n",
       "      <td>{'tree__max_depth': 31, 'tree__min_samples_lea...</td>\n",
       "      <td>0.500996</td>\n",
       "      <td>0.518304</td>\n",
       "      <td>...</td>\n",
       "      <td>0.508540</td>\n",
       "      <td>0.007320</td>\n",
       "      <td>13</td>\n",
       "      <td>0.597566</td>\n",
       "      <td>0.605553</td>\n",
       "      <td>0.584946</td>\n",
       "      <td>0.586921</td>\n",
       "      <td>0.599254</td>\n",
       "      <td>0.594848</td>\n",
       "      <td>0.007775</td>\n",
       "    </tr>\n",
       "    <tr>\n",
       "      <th>83</th>\n",
       "      <td>58.363191</td>\n",
       "      <td>1.155726</td>\n",
       "      <td>3.064327</td>\n",
       "      <td>0.094656</td>\n",
       "      <td>27</td>\n",
       "      <td>1</td>\n",
       "      <td>242</td>\n",
       "      <td>{'tree__max_depth': 27, 'tree__min_samples_lea...</td>\n",
       "      <td>0.497690</td>\n",
       "      <td>0.522101</td>\n",
       "      <td>...</td>\n",
       "      <td>0.507185</td>\n",
       "      <td>0.009495</td>\n",
       "      <td>15</td>\n",
       "      <td>0.582671</td>\n",
       "      <td>0.596700</td>\n",
       "      <td>0.575551</td>\n",
       "      <td>0.575119</td>\n",
       "      <td>0.590230</td>\n",
       "      <td>0.584054</td>\n",
       "      <td>0.008392</td>\n",
       "    </tr>\n",
       "    <tr>\n",
       "      <th>61</th>\n",
       "      <td>62.037604</td>\n",
       "      <td>2.560946</td>\n",
       "      <td>3.091525</td>\n",
       "      <td>0.100631</td>\n",
       "      <td>23</td>\n",
       "      <td>1</td>\n",
       "      <td>82</td>\n",
       "      <td>{'tree__max_depth': 23, 'tree__min_samples_lea...</td>\n",
       "      <td>0.497769</td>\n",
       "      <td>0.518206</td>\n",
       "      <td>...</td>\n",
       "      <td>0.505834</td>\n",
       "      <td>0.009605</td>\n",
       "      <td>16</td>\n",
       "      <td>0.610974</td>\n",
       "      <td>0.604265</td>\n",
       "      <td>0.584566</td>\n",
       "      <td>0.603096</td>\n",
       "      <td>0.616674</td>\n",
       "      <td>0.603915</td>\n",
       "      <td>0.010843</td>\n",
       "    </tr>\n",
       "    <tr>\n",
       "      <th>44</th>\n",
       "      <td>56.384187</td>\n",
       "      <td>2.347188</td>\n",
       "      <td>3.426303</td>\n",
       "      <td>0.290428</td>\n",
       "      <td>19</td>\n",
       "      <td>6</td>\n",
       "      <td>2</td>\n",
       "      <td>{'tree__max_depth': 19, 'tree__min_samples_lea...</td>\n",
       "      <td>0.494144</td>\n",
       "      <td>0.508674</td>\n",
       "      <td>...</td>\n",
       "      <td>0.504876</td>\n",
       "      <td>0.005532</td>\n",
       "      <td>18</td>\n",
       "      <td>0.590737</td>\n",
       "      <td>0.583615</td>\n",
       "      <td>0.580082</td>\n",
       "      <td>0.578421</td>\n",
       "      <td>0.587942</td>\n",
       "      <td>0.584159</td>\n",
       "      <td>0.004635</td>\n",
       "    </tr>\n",
       "    <tr>\n",
       "      <th>...</th>\n",
       "      <td>...</td>\n",
       "      <td>...</td>\n",
       "      <td>...</td>\n",
       "      <td>...</td>\n",
       "      <td>...</td>\n",
       "      <td>...</td>\n",
       "      <td>...</td>\n",
       "      <td>...</td>\n",
       "      <td>...</td>\n",
       "      <td>...</td>\n",
       "      <td>...</td>\n",
       "      <td>...</td>\n",
       "      <td>...</td>\n",
       "      <td>...</td>\n",
       "      <td>...</td>\n",
       "      <td>...</td>\n",
       "      <td>...</td>\n",
       "      <td>...</td>\n",
       "      <td>...</td>\n",
       "      <td>...</td>\n",
       "      <td>...</td>\n",
       "    </tr>\n",
       "    <tr>\n",
       "      <th>118</th>\n",
       "      <td>64.778310</td>\n",
       "      <td>1.799783</td>\n",
       "      <td>3.266322</td>\n",
       "      <td>0.196021</td>\n",
       "      <td>31</td>\n",
       "      <td>21</td>\n",
       "      <td>162</td>\n",
       "      <td>{'tree__max_depth': 31, 'tree__min_samples_lea...</td>\n",
       "      <td>0.462268</td>\n",
       "      <td>0.476855</td>\n",
       "      <td>...</td>\n",
       "      <td>0.472477</td>\n",
       "      <td>0.012162</td>\n",
       "      <td>116</td>\n",
       "      <td>0.540367</td>\n",
       "      <td>0.548894</td>\n",
       "      <td>0.544093</td>\n",
       "      <td>0.546114</td>\n",
       "      <td>0.527263</td>\n",
       "      <td>0.541346</td>\n",
       "      <td>0.007570</td>\n",
       "    </tr>\n",
       "    <tr>\n",
       "      <th>37</th>\n",
       "      <td>38.335902</td>\n",
       "      <td>1.109670</td>\n",
       "      <td>3.567715</td>\n",
       "      <td>0.236258</td>\n",
       "      <td>15</td>\n",
       "      <td>21</td>\n",
       "      <td>82</td>\n",
       "      <td>{'tree__max_depth': 15, 'tree__min_samples_lea...</td>\n",
       "      <td>0.471385</td>\n",
       "      <td>0.485757</td>\n",
       "      <td>...</td>\n",
       "      <td>0.472214</td>\n",
       "      <td>0.009465</td>\n",
       "      <td>117</td>\n",
       "      <td>0.518872</td>\n",
       "      <td>0.517457</td>\n",
       "      <td>0.510013</td>\n",
       "      <td>0.486235</td>\n",
       "      <td>0.516116</td>\n",
       "      <td>0.509739</td>\n",
       "      <td>0.012134</td>\n",
       "    </tr>\n",
       "    <tr>\n",
       "      <th>39</th>\n",
       "      <td>38.126329</td>\n",
       "      <td>0.924443</td>\n",
       "      <td>3.748515</td>\n",
       "      <td>0.476422</td>\n",
       "      <td>15</td>\n",
       "      <td>21</td>\n",
       "      <td>242</td>\n",
       "      <td>{'tree__max_depth': 15, 'tree__min_samples_lea...</td>\n",
       "      <td>0.473468</td>\n",
       "      <td>0.488742</td>\n",
       "      <td>...</td>\n",
       "      <td>0.470552</td>\n",
       "      <td>0.011169</td>\n",
       "      <td>118</td>\n",
       "      <td>0.511290</td>\n",
       "      <td>0.515085</td>\n",
       "      <td>0.501182</td>\n",
       "      <td>0.478095</td>\n",
       "      <td>0.501984</td>\n",
       "      <td>0.501527</td>\n",
       "      <td>0.012873</td>\n",
       "    </tr>\n",
       "    <tr>\n",
       "      <th>38</th>\n",
       "      <td>38.429116</td>\n",
       "      <td>1.109452</td>\n",
       "      <td>3.383718</td>\n",
       "      <td>0.164803</td>\n",
       "      <td>15</td>\n",
       "      <td>21</td>\n",
       "      <td>162</td>\n",
       "      <td>{'tree__max_depth': 15, 'tree__min_samples_lea...</td>\n",
       "      <td>0.472540</td>\n",
       "      <td>0.487772</td>\n",
       "      <td>...</td>\n",
       "      <td>0.470517</td>\n",
       "      <td>0.010687</td>\n",
       "      <td>119</td>\n",
       "      <td>0.513030</td>\n",
       "      <td>0.515078</td>\n",
       "      <td>0.504491</td>\n",
       "      <td>0.480878</td>\n",
       "      <td>0.505326</td>\n",
       "      <td>0.503761</td>\n",
       "      <td>0.012171</td>\n",
       "    </tr>\n",
       "    <tr>\n",
       "      <th>119</th>\n",
       "      <td>48.587236</td>\n",
       "      <td>8.367490</td>\n",
       "      <td>2.622549</td>\n",
       "      <td>0.253436</td>\n",
       "      <td>31</td>\n",
       "      <td>21</td>\n",
       "      <td>242</td>\n",
       "      <td>{'tree__max_depth': 31, 'tree__min_samples_lea...</td>\n",
       "      <td>0.463221</td>\n",
       "      <td>0.474007</td>\n",
       "      <td>...</td>\n",
       "      <td>0.470036</td>\n",
       "      <td>0.012607</td>\n",
       "      <td>120</td>\n",
       "      <td>0.530978</td>\n",
       "      <td>0.537368</td>\n",
       "      <td>0.535181</td>\n",
       "      <td>0.538405</td>\n",
       "      <td>0.514560</td>\n",
       "      <td>0.531298</td>\n",
       "      <td>0.008749</td>\n",
       "    </tr>\n",
       "  </tbody>\n",
       "</table>\n",
       "<p>106 rows × 23 columns</p>\n",
       "</div>"
      ],
      "text/plain": [
       "     mean_fit_time  std_fit_time  mean_score_time  std_score_time  \\\n",
       "82       61.694737      1.614012         3.226722        0.112904   \n",
       "103      68.370395      0.792282         3.085326        0.196402   \n",
       "83       58.363191      1.155726         3.064327        0.094656   \n",
       "61       62.037604      2.560946         3.091525        0.100631   \n",
       "44       56.384187      2.347188         3.426303        0.290428   \n",
       "..             ...           ...              ...             ...   \n",
       "118      64.778310      1.799783         3.266322        0.196021   \n",
       "37       38.335902      1.109670         3.567715        0.236258   \n",
       "39       38.126329      0.924443         3.748515        0.476422   \n",
       "38       38.429116      1.109452         3.383718        0.164803   \n",
       "119      48.587236      8.367490         2.622549        0.253436   \n",
       "\n",
       "    param_tree__max_depth param_tree__min_samples_leaf  \\\n",
       "82                     27                            1   \n",
       "103                    31                            1   \n",
       "83                     27                            1   \n",
       "61                     23                            1   \n",
       "44                     19                            6   \n",
       "..                    ...                          ...   \n",
       "118                    31                           21   \n",
       "37                     15                           21   \n",
       "39                     15                           21   \n",
       "38                     15                           21   \n",
       "119                    31                           21   \n",
       "\n",
       "    param_tree__min_samples_split  \\\n",
       "82                            162   \n",
       "103                           242   \n",
       "83                            242   \n",
       "61                             82   \n",
       "44                              2   \n",
       "..                            ...   \n",
       "118                           162   \n",
       "37                             82   \n",
       "39                            242   \n",
       "38                            162   \n",
       "119                           242   \n",
       "\n",
       "                                                params  split0_test_score  \\\n",
       "82   {'tree__max_depth': 27, 'tree__min_samples_lea...           0.501153   \n",
       "103  {'tree__max_depth': 31, 'tree__min_samples_lea...           0.500996   \n",
       "83   {'tree__max_depth': 27, 'tree__min_samples_lea...           0.497690   \n",
       "61   {'tree__max_depth': 23, 'tree__min_samples_lea...           0.497769   \n",
       "44   {'tree__max_depth': 19, 'tree__min_samples_lea...           0.494144   \n",
       "..                                                 ...                ...   \n",
       "118  {'tree__max_depth': 31, 'tree__min_samples_lea...           0.462268   \n",
       "37   {'tree__max_depth': 15, 'tree__min_samples_lea...           0.471385   \n",
       "39   {'tree__max_depth': 15, 'tree__min_samples_lea...           0.473468   \n",
       "38   {'tree__max_depth': 15, 'tree__min_samples_lea...           0.472540   \n",
       "119  {'tree__max_depth': 31, 'tree__min_samples_lea...           0.463221   \n",
       "\n",
       "     split1_test_score  ...  mean_test_score  std_test_score  rank_test_score  \\\n",
       "82            0.521363  ...         0.508686        0.009146               12   \n",
       "103           0.518304  ...         0.508540        0.007320               13   \n",
       "83            0.522101  ...         0.507185        0.009495               15   \n",
       "61            0.518206  ...         0.505834        0.009605               16   \n",
       "44            0.508674  ...         0.504876        0.005532               18   \n",
       "..                 ...  ...              ...             ...              ...   \n",
       "118           0.476855  ...         0.472477        0.012162              116   \n",
       "37            0.485757  ...         0.472214        0.009465              117   \n",
       "39            0.488742  ...         0.470552        0.011169              118   \n",
       "38            0.487772  ...         0.470517        0.010687              119   \n",
       "119           0.474007  ...         0.470036        0.012607              120   \n",
       "\n",
       "     split0_train_score  split1_train_score  split2_train_score  \\\n",
       "82             0.601574            0.605585            0.589363   \n",
       "103            0.597566            0.605553            0.584946   \n",
       "83             0.582671            0.596700            0.575551   \n",
       "61             0.610974            0.604265            0.584566   \n",
       "44             0.590737            0.583615            0.580082   \n",
       "..                  ...                 ...                 ...   \n",
       "118            0.540367            0.548894            0.544093   \n",
       "37             0.518872            0.517457            0.510013   \n",
       "39             0.511290            0.515085            0.501182   \n",
       "38             0.513030            0.515078            0.504491   \n",
       "119            0.530978            0.537368            0.535181   \n",
       "\n",
       "     split3_train_score  split4_train_score  mean_train_score  std_train_score  \n",
       "82             0.590871            0.614366          0.600352         0.009337  \n",
       "103            0.586921            0.599254          0.594848         0.007775  \n",
       "83             0.575119            0.590230          0.584054         0.008392  \n",
       "61             0.603096            0.616674          0.603915         0.010843  \n",
       "44             0.578421            0.587942          0.584159         0.004635  \n",
       "..                  ...                 ...               ...              ...  \n",
       "118            0.546114            0.527263          0.541346         0.007570  \n",
       "37             0.486235            0.516116          0.509739         0.012134  \n",
       "39             0.478095            0.501984          0.501527         0.012873  \n",
       "38             0.480878            0.505326          0.503761         0.012171  \n",
       "119            0.538405            0.514560          0.531298         0.008749  \n",
       "\n",
       "[106 rows x 23 columns]"
      ]
     },
     "execution_count": 536,
     "metadata": {},
     "output_type": "execute_result"
    }
   ],
   "source": [
    "tree_results_2 = pd.DataFrame(search_tree_2.cv_results_)[(pd.DataFrame(search_tree_2.cv_results_)['mean_train_score'] - pd.DataFrame(search_tree_2.cv_results_)['mean_test_score']) < 0.1].sort_values('rank_test_score')\n",
    "tree_results_2"
   ]
  },
  {
   "cell_type": "code",
   "execution_count": 546,
   "metadata": {},
   "outputs": [
    {
     "data": {
      "text/html": [
       "<div>\n",
       "<style scoped>\n",
       "    .dataframe tbody tr th:only-of-type {\n",
       "        vertical-align: middle;\n",
       "    }\n",
       "\n",
       "    .dataframe tbody tr th {\n",
       "        vertical-align: top;\n",
       "    }\n",
       "\n",
       "    .dataframe thead th {\n",
       "        text-align: right;\n",
       "    }\n",
       "</style>\n",
       "<table border=\"1\" class=\"dataframe\">\n",
       "  <thead>\n",
       "    <tr style=\"text-align: right;\">\n",
       "      <th></th>\n",
       "      <th>param_tree__max_depth</th>\n",
       "      <th>param_tree__min_samples_leaf</th>\n",
       "      <th>param_tree__min_samples_split</th>\n",
       "    </tr>\n",
       "  </thead>\n",
       "  <tbody>\n",
       "    <tr>\n",
       "      <th>82</th>\n",
       "      <td>27</td>\n",
       "      <td>1</td>\n",
       "      <td>162</td>\n",
       "    </tr>\n",
       "  </tbody>\n",
       "</table>\n",
       "</div>"
      ],
      "text/plain": [
       "   param_tree__max_depth param_tree__min_samples_leaf  \\\n",
       "82                    27                            1   \n",
       "\n",
       "   param_tree__min_samples_split  \n",
       "82                           162  "
      ]
     },
     "execution_count": 546,
     "metadata": {},
     "output_type": "execute_result"
    }
   ],
   "source": [
    "# Best hyperparameters values\n",
    "tree_results_2.head(1)[['param_tree__max_depth', 'param_tree__min_samples_leaf', 'param_tree__min_samples_split']]"
   ]
  },
  {
   "cell_type": "markdown",
   "metadata": {},
   "source": [
    "#### Часть 3"
   ]
  },
  {
   "cell_type": "code",
   "execution_count": 560,
   "metadata": {},
   "outputs": [],
   "source": [
    "# Hyperparameters values grid\n",
    "param_grid_3 = {\n",
    "    'tree__max_depth': np.arange(32, 100, 15),\n",
    "    'tree__min_samples_split': np.arange(2, 500, 100),\n",
    "    'tree__min_samples_leaf': np.arange(1, 22, 5)\n",
    "}"
   ]
  },
  {
   "cell_type": "code",
   "execution_count": 561,
   "metadata": {},
   "outputs": [],
   "source": [
    "# GridSearch settings\n",
    "search_tree_3 = GridSearchCV(pipe_tree, param_grid_3, return_train_score=True, scoring='f1', verbose=5, n_jobs=-1)"
   ]
  },
  {
   "cell_type": "code",
   "execution_count": 562,
   "metadata": {},
   "outputs": [
    {
     "name": "stdout",
     "output_type": "stream",
     "text": [
      "Fitting 5 folds for each of 125 candidates, totalling 625 fits\n"
     ]
    },
    {
     "name": "stderr",
     "output_type": "stream",
     "text": [
      "[Parallel(n_jobs=-1)]: Using backend LokyBackend with 8 concurrent workers.\n",
      "[Parallel(n_jobs=-1)]: Done   2 tasks      | elapsed:  1.6min\n",
      "[Parallel(n_jobs=-1)]: Done  56 tasks      | elapsed: 10.8min\n",
      "[Parallel(n_jobs=-1)]: Done 146 tasks      | elapsed: 27.4min\n",
      "[Parallel(n_jobs=-1)]: Done 272 tasks      | elapsed: 54.1min\n",
      "[Parallel(n_jobs=-1)]: Done 434 tasks      | elapsed: 94.9min\n",
      "[Parallel(n_jobs=-1)]: Done 625 out of 625 | elapsed: 142.8min finished\n"
     ]
    },
    {
     "data": {
      "text/plain": [
       "GridSearchCV(estimator=Pipeline(steps=[('columns_transfrom',\n",
       "                                        ColumnTransformer(transformers=[('text',\n",
       "                                                                         TfidfVectorizer(stop_words={'english'}),\n",
       "                                                                         1),\n",
       "                                                                        ('numeric',\n",
       "                                                                         StandardScaler(),\n",
       "                                                                         [0,\n",
       "                                                                          2])])),\n",
       "                                       ('tree',\n",
       "                                        DecisionTreeClassifier(class_weight='balanced',\n",
       "                                                               random_state=42))]),\n",
       "             n_jobs=-1,\n",
       "             param_grid={'tree__max_depth': array([32, 47, 62, 77, 92]),\n",
       "                         'tree__min_samples_leaf': array([ 1,  6, 11, 16, 21]),\n",
       "                         'tree__min_samples_split': array([  2, 102, 202, 302, 402])},\n",
       "             return_train_score=True, scoring='f1', verbose=5)"
      ]
     },
     "execution_count": 562,
     "metadata": {},
     "output_type": "execute_result"
    }
   ],
   "source": [
    "# Best hyperparameters values search\n",
    "search_tree_3.fit(features, target)"
   ]
  },
  {
   "cell_type": "code",
   "execution_count": 563,
   "metadata": {},
   "outputs": [
    {
     "data": {
      "text/html": [
       "<div>\n",
       "<style scoped>\n",
       "    .dataframe tbody tr th:only-of-type {\n",
       "        vertical-align: middle;\n",
       "    }\n",
       "\n",
       "    .dataframe tbody tr th {\n",
       "        vertical-align: top;\n",
       "    }\n",
       "\n",
       "    .dataframe thead th {\n",
       "        text-align: right;\n",
       "    }\n",
       "</style>\n",
       "<table border=\"1\" class=\"dataframe\">\n",
       "  <thead>\n",
       "    <tr style=\"text-align: right;\">\n",
       "      <th></th>\n",
       "      <th>mean_fit_time</th>\n",
       "      <th>std_fit_time</th>\n",
       "      <th>mean_score_time</th>\n",
       "      <th>std_score_time</th>\n",
       "      <th>param_tree__max_depth</th>\n",
       "      <th>param_tree__min_samples_leaf</th>\n",
       "      <th>param_tree__min_samples_split</th>\n",
       "      <th>params</th>\n",
       "      <th>split0_test_score</th>\n",
       "      <th>split1_test_score</th>\n",
       "      <th>...</th>\n",
       "      <th>mean_test_score</th>\n",
       "      <th>std_test_score</th>\n",
       "      <th>rank_test_score</th>\n",
       "      <th>split0_train_score</th>\n",
       "      <th>split1_train_score</th>\n",
       "      <th>split2_train_score</th>\n",
       "      <th>split3_train_score</th>\n",
       "      <th>split4_train_score</th>\n",
       "      <th>mean_train_score</th>\n",
       "      <th>std_train_score</th>\n",
       "    </tr>\n",
       "  </thead>\n",
       "  <tbody>\n",
       "    <tr>\n",
       "      <th>2</th>\n",
       "      <td>69.227042</td>\n",
       "      <td>0.688347</td>\n",
       "      <td>3.059933</td>\n",
       "      <td>0.062705</td>\n",
       "      <td>32</td>\n",
       "      <td>1</td>\n",
       "      <td>202</td>\n",
       "      <td>{'tree__max_depth': 32, 'tree__min_samples_lea...</td>\n",
       "      <td>0.501602</td>\n",
       "      <td>0.523557</td>\n",
       "      <td>...</td>\n",
       "      <td>0.510752</td>\n",
       "      <td>0.008258</td>\n",
       "      <td>17</td>\n",
       "      <td>0.607239</td>\n",
       "      <td>0.616313</td>\n",
       "      <td>0.595020</td>\n",
       "      <td>0.595447</td>\n",
       "      <td>0.612497</td>\n",
       "      <td>0.605303</td>\n",
       "      <td>0.008713</td>\n",
       "    </tr>\n",
       "    <tr>\n",
       "      <th>3</th>\n",
       "      <td>66.345993</td>\n",
       "      <td>1.818779</td>\n",
       "      <td>3.083126</td>\n",
       "      <td>0.056140</td>\n",
       "      <td>32</td>\n",
       "      <td>1</td>\n",
       "      <td>302</td>\n",
       "      <td>{'tree__max_depth': 32, 'tree__min_samples_lea...</td>\n",
       "      <td>0.494408</td>\n",
       "      <td>0.515718</td>\n",
       "      <td>...</td>\n",
       "      <td>0.505605</td>\n",
       "      <td>0.008457</td>\n",
       "      <td>20</td>\n",
       "      <td>0.586296</td>\n",
       "      <td>0.595229</td>\n",
       "      <td>0.578292</td>\n",
       "      <td>0.574803</td>\n",
       "      <td>0.594867</td>\n",
       "      <td>0.585897</td>\n",
       "      <td>0.008350</td>\n",
       "    </tr>\n",
       "    <tr>\n",
       "      <th>4</th>\n",
       "      <td>64.948632</td>\n",
       "      <td>1.278289</td>\n",
       "      <td>3.089926</td>\n",
       "      <td>0.145807</td>\n",
       "      <td>32</td>\n",
       "      <td>1</td>\n",
       "      <td>402</td>\n",
       "      <td>{'tree__max_depth': 32, 'tree__min_samples_lea...</td>\n",
       "      <td>0.488324</td>\n",
       "      <td>0.516016</td>\n",
       "      <td>...</td>\n",
       "      <td>0.502833</td>\n",
       "      <td>0.010301</td>\n",
       "      <td>25</td>\n",
       "      <td>0.575145</td>\n",
       "      <td>0.588995</td>\n",
       "      <td>0.560871</td>\n",
       "      <td>0.567075</td>\n",
       "      <td>0.579988</td>\n",
       "      <td>0.574415</td>\n",
       "      <td>0.009813</td>\n",
       "    </tr>\n",
       "    <tr>\n",
       "      <th>28</th>\n",
       "      <td>81.609231</td>\n",
       "      <td>2.861002</td>\n",
       "      <td>3.090325</td>\n",
       "      <td>0.125790</td>\n",
       "      <td>47</td>\n",
       "      <td>1</td>\n",
       "      <td>302</td>\n",
       "      <td>{'tree__max_depth': 47, 'tree__min_samples_lea...</td>\n",
       "      <td>0.486311</td>\n",
       "      <td>0.504993</td>\n",
       "      <td>...</td>\n",
       "      <td>0.500770</td>\n",
       "      <td>0.007837</td>\n",
       "      <td>27</td>\n",
       "      <td>0.591788</td>\n",
       "      <td>0.603048</td>\n",
       "      <td>0.593248</td>\n",
       "      <td>0.592925</td>\n",
       "      <td>0.600844</td>\n",
       "      <td>0.596371</td>\n",
       "      <td>0.004631</td>\n",
       "    </tr>\n",
       "    <tr>\n",
       "      <th>7</th>\n",
       "      <td>64.639397</td>\n",
       "      <td>2.126702</td>\n",
       "      <td>3.147124</td>\n",
       "      <td>0.200499</td>\n",
       "      <td>32</td>\n",
       "      <td>6</td>\n",
       "      <td>202</td>\n",
       "      <td>{'tree__max_depth': 32, 'tree__min_samples_lea...</td>\n",
       "      <td>0.483924</td>\n",
       "      <td>0.509952</td>\n",
       "      <td>...</td>\n",
       "      <td>0.498817</td>\n",
       "      <td>0.008866</td>\n",
       "      <td>29</td>\n",
       "      <td>0.581418</td>\n",
       "      <td>0.593773</td>\n",
       "      <td>0.579600</td>\n",
       "      <td>0.574134</td>\n",
       "      <td>0.590840</td>\n",
       "      <td>0.583953</td>\n",
       "      <td>0.007289</td>\n",
       "    </tr>\n",
       "    <tr>\n",
       "      <th>...</th>\n",
       "      <td>...</td>\n",
       "      <td>...</td>\n",
       "      <td>...</td>\n",
       "      <td>...</td>\n",
       "      <td>...</td>\n",
       "      <td>...</td>\n",
       "      <td>...</td>\n",
       "      <td>...</td>\n",
       "      <td>...</td>\n",
       "      <td>...</td>\n",
       "      <td>...</td>\n",
       "      <td>...</td>\n",
       "      <td>...</td>\n",
       "      <td>...</td>\n",
       "      <td>...</td>\n",
       "      <td>...</td>\n",
       "      <td>...</td>\n",
       "      <td>...</td>\n",
       "      <td>...</td>\n",
       "      <td>...</td>\n",
       "      <td>...</td>\n",
       "    </tr>\n",
       "    <tr>\n",
       "      <th>117</th>\n",
       "      <td>97.450065</td>\n",
       "      <td>6.059775</td>\n",
       "      <td>3.091325</td>\n",
       "      <td>0.156642</td>\n",
       "      <td>92</td>\n",
       "      <td>16</td>\n",
       "      <td>202</td>\n",
       "      <td>{'tree__max_depth': 92, 'tree__min_samples_lea...</td>\n",
       "      <td>0.457449</td>\n",
       "      <td>0.462814</td>\n",
       "      <td>...</td>\n",
       "      <td>0.458066</td>\n",
       "      <td>0.006400</td>\n",
       "      <td>121</td>\n",
       "      <td>0.538811</td>\n",
       "      <td>0.544349</td>\n",
       "      <td>0.547422</td>\n",
       "      <td>0.536776</td>\n",
       "      <td>0.533254</td>\n",
       "      <td>0.540122</td>\n",
       "      <td>0.005123</td>\n",
       "    </tr>\n",
       "    <tr>\n",
       "      <th>118</th>\n",
       "      <td>96.222478</td>\n",
       "      <td>4.349761</td>\n",
       "      <td>3.199323</td>\n",
       "      <td>0.345632</td>\n",
       "      <td>92</td>\n",
       "      <td>16</td>\n",
       "      <td>302</td>\n",
       "      <td>{'tree__max_depth': 92, 'tree__min_samples_lea...</td>\n",
       "      <td>0.459228</td>\n",
       "      <td>0.461574</td>\n",
       "      <td>...</td>\n",
       "      <td>0.457432</td>\n",
       "      <td>0.007650</td>\n",
       "      <td>122</td>\n",
       "      <td>0.531860</td>\n",
       "      <td>0.529345</td>\n",
       "      <td>0.527592</td>\n",
       "      <td>0.530011</td>\n",
       "      <td>0.523327</td>\n",
       "      <td>0.528427</td>\n",
       "      <td>0.002893</td>\n",
       "    </tr>\n",
       "    <tr>\n",
       "      <th>98</th>\n",
       "      <td>90.122712</td>\n",
       "      <td>4.310648</td>\n",
       "      <td>3.733612</td>\n",
       "      <td>0.387523</td>\n",
       "      <td>77</td>\n",
       "      <td>21</td>\n",
       "      <td>302</td>\n",
       "      <td>{'tree__max_depth': 77, 'tree__min_samples_lea...</td>\n",
       "      <td>0.456784</td>\n",
       "      <td>0.457933</td>\n",
       "      <td>...</td>\n",
       "      <td>0.457400</td>\n",
       "      <td>0.005549</td>\n",
       "      <td>123</td>\n",
       "      <td>0.524051</td>\n",
       "      <td>0.526075</td>\n",
       "      <td>0.523123</td>\n",
       "      <td>0.518955</td>\n",
       "      <td>0.516784</td>\n",
       "      <td>0.521798</td>\n",
       "      <td>0.003416</td>\n",
       "    </tr>\n",
       "    <tr>\n",
       "      <th>124</th>\n",
       "      <td>66.279000</td>\n",
       "      <td>10.272558</td>\n",
       "      <td>2.413545</td>\n",
       "      <td>0.662209</td>\n",
       "      <td>92</td>\n",
       "      <td>21</td>\n",
       "      <td>402</td>\n",
       "      <td>{'tree__max_depth': 92, 'tree__min_samples_lea...</td>\n",
       "      <td>0.455585</td>\n",
       "      <td>0.451768</td>\n",
       "      <td>...</td>\n",
       "      <td>0.456408</td>\n",
       "      <td>0.006293</td>\n",
       "      <td>124</td>\n",
       "      <td>0.518876</td>\n",
       "      <td>0.515016</td>\n",
       "      <td>0.516219</td>\n",
       "      <td>0.516839</td>\n",
       "      <td>0.511209</td>\n",
       "      <td>0.515632</td>\n",
       "      <td>0.002540</td>\n",
       "    </tr>\n",
       "    <tr>\n",
       "      <th>123</th>\n",
       "      <td>84.258815</td>\n",
       "      <td>3.690944</td>\n",
       "      <td>3.014927</td>\n",
       "      <td>0.129937</td>\n",
       "      <td>92</td>\n",
       "      <td>21</td>\n",
       "      <td>302</td>\n",
       "      <td>{'tree__max_depth': 92, 'tree__min_samples_lea...</td>\n",
       "      <td>0.454787</td>\n",
       "      <td>0.450888</td>\n",
       "      <td>...</td>\n",
       "      <td>0.455388</td>\n",
       "      <td>0.006272</td>\n",
       "      <td>125</td>\n",
       "      <td>0.523520</td>\n",
       "      <td>0.520409</td>\n",
       "      <td>0.523327</td>\n",
       "      <td>0.518729</td>\n",
       "      <td>0.516715</td>\n",
       "      <td>0.520540</td>\n",
       "      <td>0.002629</td>\n",
       "    </tr>\n",
       "  </tbody>\n",
       "</table>\n",
       "<p>75 rows × 23 columns</p>\n",
       "</div>"
      ],
      "text/plain": [
       "     mean_fit_time  std_fit_time  mean_score_time  std_score_time  \\\n",
       "2        69.227042      0.688347         3.059933        0.062705   \n",
       "3        66.345993      1.818779         3.083126        0.056140   \n",
       "4        64.948632      1.278289         3.089926        0.145807   \n",
       "28       81.609231      2.861002         3.090325        0.125790   \n",
       "7        64.639397      2.126702         3.147124        0.200499   \n",
       "..             ...           ...              ...             ...   \n",
       "117      97.450065      6.059775         3.091325        0.156642   \n",
       "118      96.222478      4.349761         3.199323        0.345632   \n",
       "98       90.122712      4.310648         3.733612        0.387523   \n",
       "124      66.279000     10.272558         2.413545        0.662209   \n",
       "123      84.258815      3.690944         3.014927        0.129937   \n",
       "\n",
       "    param_tree__max_depth param_tree__min_samples_leaf  \\\n",
       "2                      32                            1   \n",
       "3                      32                            1   \n",
       "4                      32                            1   \n",
       "28                     47                            1   \n",
       "7                      32                            6   \n",
       "..                    ...                          ...   \n",
       "117                    92                           16   \n",
       "118                    92                           16   \n",
       "98                     77                           21   \n",
       "124                    92                           21   \n",
       "123                    92                           21   \n",
       "\n",
       "    param_tree__min_samples_split  \\\n",
       "2                             202   \n",
       "3                             302   \n",
       "4                             402   \n",
       "28                            302   \n",
       "7                             202   \n",
       "..                            ...   \n",
       "117                           202   \n",
       "118                           302   \n",
       "98                            302   \n",
       "124                           402   \n",
       "123                           302   \n",
       "\n",
       "                                                params  split0_test_score  \\\n",
       "2    {'tree__max_depth': 32, 'tree__min_samples_lea...           0.501602   \n",
       "3    {'tree__max_depth': 32, 'tree__min_samples_lea...           0.494408   \n",
       "4    {'tree__max_depth': 32, 'tree__min_samples_lea...           0.488324   \n",
       "28   {'tree__max_depth': 47, 'tree__min_samples_lea...           0.486311   \n",
       "7    {'tree__max_depth': 32, 'tree__min_samples_lea...           0.483924   \n",
       "..                                                 ...                ...   \n",
       "117  {'tree__max_depth': 92, 'tree__min_samples_lea...           0.457449   \n",
       "118  {'tree__max_depth': 92, 'tree__min_samples_lea...           0.459228   \n",
       "98   {'tree__max_depth': 77, 'tree__min_samples_lea...           0.456784   \n",
       "124  {'tree__max_depth': 92, 'tree__min_samples_lea...           0.455585   \n",
       "123  {'tree__max_depth': 92, 'tree__min_samples_lea...           0.454787   \n",
       "\n",
       "     split1_test_score  ...  mean_test_score  std_test_score  rank_test_score  \\\n",
       "2             0.523557  ...         0.510752        0.008258               17   \n",
       "3             0.515718  ...         0.505605        0.008457               20   \n",
       "4             0.516016  ...         0.502833        0.010301               25   \n",
       "28            0.504993  ...         0.500770        0.007837               27   \n",
       "7             0.509952  ...         0.498817        0.008866               29   \n",
       "..                 ...  ...              ...             ...              ...   \n",
       "117           0.462814  ...         0.458066        0.006400              121   \n",
       "118           0.461574  ...         0.457432        0.007650              122   \n",
       "98            0.457933  ...         0.457400        0.005549              123   \n",
       "124           0.451768  ...         0.456408        0.006293              124   \n",
       "123           0.450888  ...         0.455388        0.006272              125   \n",
       "\n",
       "     split0_train_score  split1_train_score  split2_train_score  \\\n",
       "2              0.607239            0.616313            0.595020   \n",
       "3              0.586296            0.595229            0.578292   \n",
       "4              0.575145            0.588995            0.560871   \n",
       "28             0.591788            0.603048            0.593248   \n",
       "7              0.581418            0.593773            0.579600   \n",
       "..                  ...                 ...                 ...   \n",
       "117            0.538811            0.544349            0.547422   \n",
       "118            0.531860            0.529345            0.527592   \n",
       "98             0.524051            0.526075            0.523123   \n",
       "124            0.518876            0.515016            0.516219   \n",
       "123            0.523520            0.520409            0.523327   \n",
       "\n",
       "     split3_train_score  split4_train_score  mean_train_score  std_train_score  \n",
       "2              0.595447            0.612497          0.605303         0.008713  \n",
       "3              0.574803            0.594867          0.585897         0.008350  \n",
       "4              0.567075            0.579988          0.574415         0.009813  \n",
       "28             0.592925            0.600844          0.596371         0.004631  \n",
       "7              0.574134            0.590840          0.583953         0.007289  \n",
       "..                  ...                 ...               ...              ...  \n",
       "117            0.536776            0.533254          0.540122         0.005123  \n",
       "118            0.530011            0.523327          0.528427         0.002893  \n",
       "98             0.518955            0.516784          0.521798         0.003416  \n",
       "124            0.516839            0.511209          0.515632         0.002540  \n",
       "123            0.518729            0.516715          0.520540         0.002629  \n",
       "\n",
       "[75 rows x 23 columns]"
      ]
     },
     "execution_count": 563,
     "metadata": {},
     "output_type": "execute_result"
    }
   ],
   "source": [
    "tree_results_3 = pd.DataFrame(search_tree_3.cv_results_)[(pd.DataFrame(search_tree_3.cv_results_)['mean_train_score'] - pd.DataFrame(search_tree_3.cv_results_)['mean_test_score']) < 0.1].sort_values('rank_test_score')\n",
    "tree_results_3"
   ]
  },
  {
   "cell_type": "code",
   "execution_count": 564,
   "metadata": {},
   "outputs": [
    {
     "data": {
      "text/html": [
       "<div>\n",
       "<style scoped>\n",
       "    .dataframe tbody tr th:only-of-type {\n",
       "        vertical-align: middle;\n",
       "    }\n",
       "\n",
       "    .dataframe tbody tr th {\n",
       "        vertical-align: top;\n",
       "    }\n",
       "\n",
       "    .dataframe thead th {\n",
       "        text-align: right;\n",
       "    }\n",
       "</style>\n",
       "<table border=\"1\" class=\"dataframe\">\n",
       "  <thead>\n",
       "    <tr style=\"text-align: right;\">\n",
       "      <th></th>\n",
       "      <th>param_tree__max_depth</th>\n",
       "      <th>param_tree__min_samples_leaf</th>\n",
       "      <th>param_tree__min_samples_split</th>\n",
       "    </tr>\n",
       "  </thead>\n",
       "  <tbody>\n",
       "    <tr>\n",
       "      <th>2</th>\n",
       "      <td>32</td>\n",
       "      <td>1</td>\n",
       "      <td>202</td>\n",
       "    </tr>\n",
       "  </tbody>\n",
       "</table>\n",
       "</div>"
      ],
      "text/plain": [
       "  param_tree__max_depth param_tree__min_samples_leaf  \\\n",
       "2                    32                            1   \n",
       "\n",
       "  param_tree__min_samples_split  \n",
       "2                           202  "
      ]
     },
     "execution_count": 564,
     "metadata": {},
     "output_type": "execute_result"
    }
   ],
   "source": [
    "# Best hyperparameters values\n",
    "tree_results_3.head(1)[['param_tree__max_depth', 'param_tree__min_samples_leaf', 'param_tree__min_samples_split']]"
   ]
  },
  {
   "cell_type": "code",
   "execution_count": 576,
   "metadata": {},
   "outputs": [
    {
     "name": "stdout",
     "output_type": "stream",
     "text": [
      "F1 with decision tree - 0.511\n"
     ]
    }
   ],
   "source": [
    "print('F1 with decision tree - {:.3f}'.format(float(tree_results_3.head(1)['mean_test_score'])))"
   ]
  },
  {
   "cell_type": "markdown",
   "metadata": {},
   "source": [
    "### Случайный лес"
   ]
  },
  {
   "cell_type": "markdown",
   "metadata": {},
   "source": [
    "#### Часть 1"
   ]
  },
  {
   "cell_type": "code",
   "execution_count": 73,
   "metadata": {},
   "outputs": [],
   "source": [
    "# Pipline with scaler and model\n",
    "pipe_forest = Pipeline([('columns_transfrom', ct_tfidf), ('forest', RandomForestClassifier(class_weight='balanced', random_state=42, n_jobs=4))])"
   ]
  },
  {
   "cell_type": "code",
   "execution_count": 480,
   "metadata": {},
   "outputs": [],
   "source": [
    "# Hyperparameters values grid\n",
    "param_grid = {\n",
    "    'forest__n_estimators': np.arange(50, 201, 75),\n",
    "    'forest__max_depth': np.arange(1, 16),\n",
    "    'forest__min_samples_split': np.arange(2, 83, 40),\n",
    "    'forest__min_samples_leaf': np.arange(1, 12, 5)\n",
    "}"
   ]
  },
  {
   "cell_type": "code",
   "execution_count": 481,
   "metadata": {},
   "outputs": [],
   "source": [
    "# GridSearch settings\n",
    "search_forest = GridSearchCV(pipe_forest, param_grid, return_train_score=True, scoring='f1', verbose=5, n_jobs=-1)"
   ]
  },
  {
   "cell_type": "code",
   "execution_count": 482,
   "metadata": {},
   "outputs": [
    {
     "name": "stdout",
     "output_type": "stream",
     "text": [
      "Fitting 5 folds for each of 405 candidates, totalling 2025 fits\n"
     ]
    },
    {
     "name": "stderr",
     "output_type": "stream",
     "text": [
      "[Parallel(n_jobs=-1)]: Using backend LokyBackend with 8 concurrent workers.\n",
      "[Parallel(n_jobs=-1)]: Done   2 tasks      | elapsed:   30.5s\n",
      "[Parallel(n_jobs=-1)]: Done  56 tasks      | elapsed:  5.1min\n",
      "[Parallel(n_jobs=-1)]: Done 146 tasks      | elapsed: 13.0min\n",
      "[Parallel(n_jobs=-1)]: Done 272 tasks      | elapsed: 23.6min\n",
      "[Parallel(n_jobs=-1)]: Done 434 tasks      | elapsed: 38.1min\n",
      "[Parallel(n_jobs=-1)]: Done 632 tasks      | elapsed: 55.4min\n",
      "[Parallel(n_jobs=-1)]: Done 866 tasks      | elapsed: 76.8min\n",
      "[Parallel(n_jobs=-1)]: Done 1136 tasks      | elapsed: 102.0min\n",
      "[Parallel(n_jobs=-1)]: Done 1442 tasks      | elapsed: 131.8min\n",
      "[Parallel(n_jobs=-1)]: Done 1784 tasks      | elapsed: 167.1min\n",
      "[Parallel(n_jobs=-1)]: Done 2025 out of 2025 | elapsed: 192.5min finished\n"
     ]
    },
    {
     "data": {
      "text/plain": [
       "GridSearchCV(estimator=Pipeline(steps=[('columns_transfrom',\n",
       "                                        ColumnTransformer(transformers=[('text',\n",
       "                                                                         TfidfVectorizer(stop_words={'english'}),\n",
       "                                                                         1),\n",
       "                                                                        ('numeric',\n",
       "                                                                         StandardScaler(),\n",
       "                                                                         [0,\n",
       "                                                                          2])])),\n",
       "                                       ('forest',\n",
       "                                        RandomForestClassifier(class_weight='balanced',\n",
       "                                                               n_jobs=4,\n",
       "                                                               random_state=42))]),\n",
       "             n_jobs=-1,\n",
       "             param_grid={'forest__max_depth': array([ 1,  2,  3,  4,  5,  6,  7,  8,  9, 10, 11, 12, 13, 14, 15]),\n",
       "                         'forest__min_samples_leaf': array([ 1,  6, 11]),\n",
       "                         'forest__min_samples_split': array([ 2, 42, 82]),\n",
       "                         'forest__n_estimators': array([ 50, 125, 200])},\n",
       "             return_train_score=True, scoring='f1', verbose=5)"
      ]
     },
     "execution_count": 482,
     "metadata": {},
     "output_type": "execute_result"
    }
   ],
   "source": [
    "# Best hyperparameters values search\n",
    "search_forest.fit(features, target)"
   ]
  },
  {
   "cell_type": "code",
   "execution_count": 577,
   "metadata": {},
   "outputs": [
    {
     "data": {
      "text/html": [
       "<div>\n",
       "<style scoped>\n",
       "    .dataframe tbody tr th:only-of-type {\n",
       "        vertical-align: middle;\n",
       "    }\n",
       "\n",
       "    .dataframe tbody tr th {\n",
       "        vertical-align: top;\n",
       "    }\n",
       "\n",
       "    .dataframe thead th {\n",
       "        text-align: right;\n",
       "    }\n",
       "</style>\n",
       "<table border=\"1\" class=\"dataframe\">\n",
       "  <thead>\n",
       "    <tr style=\"text-align: right;\">\n",
       "      <th></th>\n",
       "      <th>mean_fit_time</th>\n",
       "      <th>std_fit_time</th>\n",
       "      <th>mean_score_time</th>\n",
       "      <th>std_score_time</th>\n",
       "      <th>param_forest__max_depth</th>\n",
       "      <th>param_forest__min_samples_leaf</th>\n",
       "      <th>param_forest__min_samples_split</th>\n",
       "      <th>param_forest__n_estimators</th>\n",
       "      <th>params</th>\n",
       "      <th>split0_test_score</th>\n",
       "      <th>...</th>\n",
       "      <th>mean_test_score</th>\n",
       "      <th>std_test_score</th>\n",
       "      <th>rank_test_score</th>\n",
       "      <th>split0_train_score</th>\n",
       "      <th>split1_train_score</th>\n",
       "      <th>split2_train_score</th>\n",
       "      <th>split3_train_score</th>\n",
       "      <th>split4_train_score</th>\n",
       "      <th>mean_train_score</th>\n",
       "      <th>std_train_score</th>\n",
       "    </tr>\n",
       "  </thead>\n",
       "  <tbody>\n",
       "    <tr>\n",
       "      <th>385</th>\n",
       "      <td>23.250038</td>\n",
       "      <td>1.422855</td>\n",
       "      <td>5.589466</td>\n",
       "      <td>1.601000</td>\n",
       "      <td>15</td>\n",
       "      <td>1</td>\n",
       "      <td>82</td>\n",
       "      <td>125</td>\n",
       "      <td>{'forest__max_depth': 15, 'forest__min_samples...</td>\n",
       "      <td>0.348543</td>\n",
       "      <td>...</td>\n",
       "      <td>0.362273</td>\n",
       "      <td>0.008163</td>\n",
       "      <td>1</td>\n",
       "      <td>0.374017</td>\n",
       "      <td>0.384063</td>\n",
       "      <td>0.386124</td>\n",
       "      <td>0.378141</td>\n",
       "      <td>0.379611</td>\n",
       "      <td>0.380391</td>\n",
       "      <td>0.004305</td>\n",
       "    </tr>\n",
       "    <tr>\n",
       "      <th>386</th>\n",
       "      <td>31.243264</td>\n",
       "      <td>2.358872</td>\n",
       "      <td>5.820861</td>\n",
       "      <td>0.456158</td>\n",
       "      <td>15</td>\n",
       "      <td>1</td>\n",
       "      <td>82</td>\n",
       "      <td>200</td>\n",
       "      <td>{'forest__max_depth': 15, 'forest__min_samples...</td>\n",
       "      <td>0.347186</td>\n",
       "      <td>...</td>\n",
       "      <td>0.360776</td>\n",
       "      <td>0.008945</td>\n",
       "      <td>2</td>\n",
       "      <td>0.372018</td>\n",
       "      <td>0.385681</td>\n",
       "      <td>0.383501</td>\n",
       "      <td>0.374768</td>\n",
       "      <td>0.382527</td>\n",
       "      <td>0.379699</td>\n",
       "      <td>0.005321</td>\n",
       "    </tr>\n",
       "    <tr>\n",
       "      <th>379</th>\n",
       "      <td>26.659556</td>\n",
       "      <td>1.223121</td>\n",
       "      <td>6.880841</td>\n",
       "      <td>1.801531</td>\n",
       "      <td>15</td>\n",
       "      <td>1</td>\n",
       "      <td>2</td>\n",
       "      <td>125</td>\n",
       "      <td>{'forest__max_depth': 15, 'forest__min_samples...</td>\n",
       "      <td>0.347871</td>\n",
       "      <td>...</td>\n",
       "      <td>0.360290</td>\n",
       "      <td>0.007931</td>\n",
       "      <td>3</td>\n",
       "      <td>0.380088</td>\n",
       "      <td>0.388659</td>\n",
       "      <td>0.385879</td>\n",
       "      <td>0.380552</td>\n",
       "      <td>0.384062</td>\n",
       "      <td>0.383848</td>\n",
       "      <td>0.003235</td>\n",
       "    </tr>\n",
       "    <tr>\n",
       "      <th>384</th>\n",
       "      <td>22.339060</td>\n",
       "      <td>1.623665</td>\n",
       "      <td>4.284297</td>\n",
       "      <td>0.454234</td>\n",
       "      <td>15</td>\n",
       "      <td>1</td>\n",
       "      <td>82</td>\n",
       "      <td>50</td>\n",
       "      <td>{'forest__max_depth': 15, 'forest__min_samples...</td>\n",
       "      <td>0.337498</td>\n",
       "      <td>...</td>\n",
       "      <td>0.359878</td>\n",
       "      <td>0.015192</td>\n",
       "      <td>4</td>\n",
       "      <td>0.365498</td>\n",
       "      <td>0.379380</td>\n",
       "      <td>0.391782</td>\n",
       "      <td>0.367064</td>\n",
       "      <td>0.387370</td>\n",
       "      <td>0.378219</td>\n",
       "      <td>0.010538</td>\n",
       "    </tr>\n",
       "    <tr>\n",
       "      <th>382</th>\n",
       "      <td>24.315754</td>\n",
       "      <td>1.077706</td>\n",
       "      <td>5.237475</td>\n",
       "      <td>0.514806</td>\n",
       "      <td>15</td>\n",
       "      <td>1</td>\n",
       "      <td>42</td>\n",
       "      <td>125</td>\n",
       "      <td>{'forest__max_depth': 15, 'forest__min_samples...</td>\n",
       "      <td>0.349258</td>\n",
       "      <td>...</td>\n",
       "      <td>0.359734</td>\n",
       "      <td>0.006393</td>\n",
       "      <td>5</td>\n",
       "      <td>0.374294</td>\n",
       "      <td>0.383645</td>\n",
       "      <td>0.383951</td>\n",
       "      <td>0.375648</td>\n",
       "      <td>0.379387</td>\n",
       "      <td>0.379385</td>\n",
       "      <td>0.003972</td>\n",
       "    </tr>\n",
       "    <tr>\n",
       "      <th>...</th>\n",
       "      <td>...</td>\n",
       "      <td>...</td>\n",
       "      <td>...</td>\n",
       "      <td>...</td>\n",
       "      <td>...</td>\n",
       "      <td>...</td>\n",
       "      <td>...</td>\n",
       "      <td>...</td>\n",
       "      <td>...</td>\n",
       "      <td>...</td>\n",
       "      <td>...</td>\n",
       "      <td>...</td>\n",
       "      <td>...</td>\n",
       "      <td>...</td>\n",
       "      <td>...</td>\n",
       "      <td>...</td>\n",
       "      <td>...</td>\n",
       "      <td>...</td>\n",
       "      <td>...</td>\n",
       "      <td>...</td>\n",
       "      <td>...</td>\n",
       "    </tr>\n",
       "    <tr>\n",
       "      <th>15</th>\n",
       "      <td>19.377202</td>\n",
       "      <td>0.685065</td>\n",
       "      <td>4.544916</td>\n",
       "      <td>0.203222</td>\n",
       "      <td>1</td>\n",
       "      <td>6</td>\n",
       "      <td>82</td>\n",
       "      <td>50</td>\n",
       "      <td>{'forest__max_depth': 1, 'forest__min_samples_...</td>\n",
       "      <td>0.269213</td>\n",
       "      <td>...</td>\n",
       "      <td>0.274157</td>\n",
       "      <td>0.016967</td>\n",
       "      <td>397</td>\n",
       "      <td>0.273268</td>\n",
       "      <td>0.260069</td>\n",
       "      <td>0.298737</td>\n",
       "      <td>0.260262</td>\n",
       "      <td>0.277392</td>\n",
       "      <td>0.273946</td>\n",
       "      <td>0.014190</td>\n",
       "    </tr>\n",
       "    <tr>\n",
       "      <th>21</th>\n",
       "      <td>18.459953</td>\n",
       "      <td>0.785471</td>\n",
       "      <td>3.677312</td>\n",
       "      <td>0.261625</td>\n",
       "      <td>1</td>\n",
       "      <td>11</td>\n",
       "      <td>42</td>\n",
       "      <td>50</td>\n",
       "      <td>{'forest__max_depth': 1, 'forest__min_samples_...</td>\n",
       "      <td>0.269213</td>\n",
       "      <td>...</td>\n",
       "      <td>0.274157</td>\n",
       "      <td>0.016967</td>\n",
       "      <td>397</td>\n",
       "      <td>0.273268</td>\n",
       "      <td>0.260069</td>\n",
       "      <td>0.298737</td>\n",
       "      <td>0.260262</td>\n",
       "      <td>0.277392</td>\n",
       "      <td>0.273946</td>\n",
       "      <td>0.014190</td>\n",
       "    </tr>\n",
       "    <tr>\n",
       "      <th>24</th>\n",
       "      <td>17.793171</td>\n",
       "      <td>0.465318</td>\n",
       "      <td>3.864506</td>\n",
       "      <td>0.395576</td>\n",
       "      <td>1</td>\n",
       "      <td>11</td>\n",
       "      <td>82</td>\n",
       "      <td>50</td>\n",
       "      <td>{'forest__max_depth': 1, 'forest__min_samples_...</td>\n",
       "      <td>0.269213</td>\n",
       "      <td>...</td>\n",
       "      <td>0.274157</td>\n",
       "      <td>0.016967</td>\n",
       "      <td>397</td>\n",
       "      <td>0.273268</td>\n",
       "      <td>0.260069</td>\n",
       "      <td>0.298737</td>\n",
       "      <td>0.260262</td>\n",
       "      <td>0.277392</td>\n",
       "      <td>0.273946</td>\n",
       "      <td>0.014190</td>\n",
       "    </tr>\n",
       "    <tr>\n",
       "      <th>6</th>\n",
       "      <td>17.454379</td>\n",
       "      <td>0.651137</td>\n",
       "      <td>4.548091</td>\n",
       "      <td>0.858622</td>\n",
       "      <td>1</td>\n",
       "      <td>1</td>\n",
       "      <td>82</td>\n",
       "      <td>50</td>\n",
       "      <td>{'forest__max_depth': 1, 'forest__min_samples_...</td>\n",
       "      <td>0.269213</td>\n",
       "      <td>...</td>\n",
       "      <td>0.274157</td>\n",
       "      <td>0.016967</td>\n",
       "      <td>397</td>\n",
       "      <td>0.273268</td>\n",
       "      <td>0.260069</td>\n",
       "      <td>0.298737</td>\n",
       "      <td>0.260262</td>\n",
       "      <td>0.277392</td>\n",
       "      <td>0.273946</td>\n",
       "      <td>0.014190</td>\n",
       "    </tr>\n",
       "    <tr>\n",
       "      <th>0</th>\n",
       "      <td>14.631647</td>\n",
       "      <td>3.430560</td>\n",
       "      <td>3.998302</td>\n",
       "      <td>0.836468</td>\n",
       "      <td>1</td>\n",
       "      <td>1</td>\n",
       "      <td>2</td>\n",
       "      <td>50</td>\n",
       "      <td>{'forest__max_depth': 1, 'forest__min_samples_...</td>\n",
       "      <td>0.269213</td>\n",
       "      <td>...</td>\n",
       "      <td>0.274157</td>\n",
       "      <td>0.016967</td>\n",
       "      <td>397</td>\n",
       "      <td>0.273268</td>\n",
       "      <td>0.260069</td>\n",
       "      <td>0.298737</td>\n",
       "      <td>0.260262</td>\n",
       "      <td>0.277392</td>\n",
       "      <td>0.273946</td>\n",
       "      <td>0.014190</td>\n",
       "    </tr>\n",
       "  </tbody>\n",
       "</table>\n",
       "<p>405 rows × 24 columns</p>\n",
       "</div>"
      ],
      "text/plain": [
       "     mean_fit_time  std_fit_time  mean_score_time  std_score_time  \\\n",
       "385      23.250038      1.422855         5.589466        1.601000   \n",
       "386      31.243264      2.358872         5.820861        0.456158   \n",
       "379      26.659556      1.223121         6.880841        1.801531   \n",
       "384      22.339060      1.623665         4.284297        0.454234   \n",
       "382      24.315754      1.077706         5.237475        0.514806   \n",
       "..             ...           ...              ...             ...   \n",
       "15       19.377202      0.685065         4.544916        0.203222   \n",
       "21       18.459953      0.785471         3.677312        0.261625   \n",
       "24       17.793171      0.465318         3.864506        0.395576   \n",
       "6        17.454379      0.651137         4.548091        0.858622   \n",
       "0        14.631647      3.430560         3.998302        0.836468   \n",
       "\n",
       "    param_forest__max_depth param_forest__min_samples_leaf  \\\n",
       "385                      15                              1   \n",
       "386                      15                              1   \n",
       "379                      15                              1   \n",
       "384                      15                              1   \n",
       "382                      15                              1   \n",
       "..                      ...                            ...   \n",
       "15                        1                              6   \n",
       "21                        1                             11   \n",
       "24                        1                             11   \n",
       "6                         1                              1   \n",
       "0                         1                              1   \n",
       "\n",
       "    param_forest__min_samples_split param_forest__n_estimators  \\\n",
       "385                              82                        125   \n",
       "386                              82                        200   \n",
       "379                               2                        125   \n",
       "384                              82                         50   \n",
       "382                              42                        125   \n",
       "..                              ...                        ...   \n",
       "15                               82                         50   \n",
       "21                               42                         50   \n",
       "24                               82                         50   \n",
       "6                                82                         50   \n",
       "0                                 2                         50   \n",
       "\n",
       "                                                params  split0_test_score  \\\n",
       "385  {'forest__max_depth': 15, 'forest__min_samples...           0.348543   \n",
       "386  {'forest__max_depth': 15, 'forest__min_samples...           0.347186   \n",
       "379  {'forest__max_depth': 15, 'forest__min_samples...           0.347871   \n",
       "384  {'forest__max_depth': 15, 'forest__min_samples...           0.337498   \n",
       "382  {'forest__max_depth': 15, 'forest__min_samples...           0.349258   \n",
       "..                                                 ...                ...   \n",
       "15   {'forest__max_depth': 1, 'forest__min_samples_...           0.269213   \n",
       "21   {'forest__max_depth': 1, 'forest__min_samples_...           0.269213   \n",
       "24   {'forest__max_depth': 1, 'forest__min_samples_...           0.269213   \n",
       "6    {'forest__max_depth': 1, 'forest__min_samples_...           0.269213   \n",
       "0    {'forest__max_depth': 1, 'forest__min_samples_...           0.269213   \n",
       "\n",
       "     ...  mean_test_score  std_test_score  rank_test_score  \\\n",
       "385  ...         0.362273        0.008163                1   \n",
       "386  ...         0.360776        0.008945                2   \n",
       "379  ...         0.360290        0.007931                3   \n",
       "384  ...         0.359878        0.015192                4   \n",
       "382  ...         0.359734        0.006393                5   \n",
       "..   ...              ...             ...              ...   \n",
       "15   ...         0.274157        0.016967              397   \n",
       "21   ...         0.274157        0.016967              397   \n",
       "24   ...         0.274157        0.016967              397   \n",
       "6    ...         0.274157        0.016967              397   \n",
       "0    ...         0.274157        0.016967              397   \n",
       "\n",
       "     split0_train_score  split1_train_score  split2_train_score  \\\n",
       "385            0.374017            0.384063            0.386124   \n",
       "386            0.372018            0.385681            0.383501   \n",
       "379            0.380088            0.388659            0.385879   \n",
       "384            0.365498            0.379380            0.391782   \n",
       "382            0.374294            0.383645            0.383951   \n",
       "..                  ...                 ...                 ...   \n",
       "15             0.273268            0.260069            0.298737   \n",
       "21             0.273268            0.260069            0.298737   \n",
       "24             0.273268            0.260069            0.298737   \n",
       "6              0.273268            0.260069            0.298737   \n",
       "0              0.273268            0.260069            0.298737   \n",
       "\n",
       "     split3_train_score  split4_train_score  mean_train_score  std_train_score  \n",
       "385            0.378141            0.379611          0.380391         0.004305  \n",
       "386            0.374768            0.382527          0.379699         0.005321  \n",
       "379            0.380552            0.384062          0.383848         0.003235  \n",
       "384            0.367064            0.387370          0.378219         0.010538  \n",
       "382            0.375648            0.379387          0.379385         0.003972  \n",
       "..                  ...                 ...               ...              ...  \n",
       "15             0.260262            0.277392          0.273946         0.014190  \n",
       "21             0.260262            0.277392          0.273946         0.014190  \n",
       "24             0.260262            0.277392          0.273946         0.014190  \n",
       "6              0.260262            0.277392          0.273946         0.014190  \n",
       "0              0.260262            0.277392          0.273946         0.014190  \n",
       "\n",
       "[405 rows x 24 columns]"
      ]
     },
     "execution_count": 577,
     "metadata": {},
     "output_type": "execute_result"
    }
   ],
   "source": [
    "forest_results = pd.DataFrame(search_forest.cv_results_)[(pd.DataFrame(search_forest.cv_results_)['mean_train_score'] - pd.DataFrame(search_forest.cv_results_)['mean_test_score']) < 0.1].sort_values('rank_test_score')\n",
    "forest_results"
   ]
  },
  {
   "cell_type": "code",
   "execution_count": 578,
   "metadata": {},
   "outputs": [
    {
     "data": {
      "text/html": [
       "<div>\n",
       "<style scoped>\n",
       "    .dataframe tbody tr th:only-of-type {\n",
       "        vertical-align: middle;\n",
       "    }\n",
       "\n",
       "    .dataframe tbody tr th {\n",
       "        vertical-align: top;\n",
       "    }\n",
       "\n",
       "    .dataframe thead th {\n",
       "        text-align: right;\n",
       "    }\n",
       "</style>\n",
       "<table border=\"1\" class=\"dataframe\">\n",
       "  <thead>\n",
       "    <tr style=\"text-align: right;\">\n",
       "      <th></th>\n",
       "      <th>param_forest__max_depth</th>\n",
       "      <th>param_forest__min_samples_leaf</th>\n",
       "      <th>param_forest__min_samples_split</th>\n",
       "      <th>param_forest__n_estimators</th>\n",
       "    </tr>\n",
       "  </thead>\n",
       "  <tbody>\n",
       "    <tr>\n",
       "      <th>385</th>\n",
       "      <td>15</td>\n",
       "      <td>1</td>\n",
       "      <td>82</td>\n",
       "      <td>125</td>\n",
       "    </tr>\n",
       "  </tbody>\n",
       "</table>\n",
       "</div>"
      ],
      "text/plain": [
       "    param_forest__max_depth param_forest__min_samples_leaf  \\\n",
       "385                      15                              1   \n",
       "\n",
       "    param_forest__min_samples_split param_forest__n_estimators  \n",
       "385                              82                        125  "
      ]
     },
     "execution_count": 578,
     "metadata": {},
     "output_type": "execute_result"
    }
   ],
   "source": [
    "# Best hyperparameters values\n",
    "forest_results.head(1)[['param_forest__max_depth', 'param_forest__min_samples_leaf', 'param_forest__min_samples_split', 'param_forest__n_estimators']]"
   ]
  },
  {
   "cell_type": "markdown",
   "metadata": {},
   "source": [
    "#### Часть 2"
   ]
  },
  {
   "cell_type": "code",
   "execution_count": 590,
   "metadata": {},
   "outputs": [],
   "source": [
    "# Hyperparameters values grid\n",
    "param_grid_2 = {\n",
    "    'forest__n_estimators': np.arange(50, 201, 75),\n",
    "    'forest__max_depth': np.arange(16, 50, 5),\n",
    "    'forest__min_samples_split': np.arange(2, 83, 40),\n",
    "    'forest__min_samples_leaf': np.arange(1, 12, 5)\n",
    "}"
   ]
  },
  {
   "cell_type": "code",
   "execution_count": 591,
   "metadata": {},
   "outputs": [],
   "source": [
    "# GridSearch settings\n",
    "search_forest_2 = GridSearchCV(pipe_forest, param_grid_2, return_train_score=True, scoring='f1', verbose=5, n_jobs=-1)"
   ]
  },
  {
   "cell_type": "code",
   "execution_count": 592,
   "metadata": {},
   "outputs": [
    {
     "name": "stdout",
     "output_type": "stream",
     "text": [
      "Fitting 5 folds for each of 189 candidates, totalling 945 fits\n"
     ]
    },
    {
     "name": "stderr",
     "output_type": "stream",
     "text": [
      "[Parallel(n_jobs=-1)]: Using backend LokyBackend with 8 concurrent workers.\n",
      "[Parallel(n_jobs=-1)]: Done   2 tasks      | elapsed:   54.3s\n",
      "[Parallel(n_jobs=-1)]: Done  56 tasks      | elapsed:  6.6min\n",
      "[Parallel(n_jobs=-1)]: Done 146 tasks      | elapsed: 16.8min\n",
      "[Parallel(n_jobs=-1)]: Done 272 tasks      | elapsed: 31.3min\n",
      "[Parallel(n_jobs=-1)]: Done 434 tasks      | elapsed: 54.7min\n",
      "[Parallel(n_jobs=-1)]: Done 632 tasks      | elapsed: 85.0min\n",
      "[Parallel(n_jobs=-1)]: Done 866 tasks      | elapsed: 129.7min\n",
      "[Parallel(n_jobs=-1)]: Done 945 out of 945 | elapsed: 141.1min finished\n"
     ]
    },
    {
     "data": {
      "text/plain": [
       "GridSearchCV(estimator=Pipeline(steps=[('columns_transfrom',\n",
       "                                        ColumnTransformer(transformers=[('text',\n",
       "                                                                         TfidfVectorizer(stop_words={'english'}),\n",
       "                                                                         1),\n",
       "                                                                        ('numeric',\n",
       "                                                                         StandardScaler(),\n",
       "                                                                         [0,\n",
       "                                                                          2])])),\n",
       "                                       ('forest',\n",
       "                                        RandomForestClassifier(class_weight='balanced',\n",
       "                                                               n_jobs=4,\n",
       "                                                               random_state=42))]),\n",
       "             n_jobs=-1,\n",
       "             param_grid={'forest__max_depth': array([16, 21, 26, 31, 36, 41, 46]),\n",
       "                         'forest__min_samples_leaf': array([ 1,  6, 11]),\n",
       "                         'forest__min_samples_split': array([ 2, 42, 82]),\n",
       "                         'forest__n_estimators': array([ 50, 125, 200])},\n",
       "             return_train_score=True, scoring='f1', verbose=5)"
      ]
     },
     "execution_count": 592,
     "metadata": {},
     "output_type": "execute_result"
    }
   ],
   "source": [
    "# Best hyperparameters values search\n",
    "search_forest_2.fit(features, target)"
   ]
  },
  {
   "cell_type": "code",
   "execution_count": 593,
   "metadata": {},
   "outputs": [
    {
     "data": {
      "text/html": [
       "<div>\n",
       "<style scoped>\n",
       "    .dataframe tbody tr th:only-of-type {\n",
       "        vertical-align: middle;\n",
       "    }\n",
       "\n",
       "    .dataframe tbody tr th {\n",
       "        vertical-align: top;\n",
       "    }\n",
       "\n",
       "    .dataframe thead th {\n",
       "        text-align: right;\n",
       "    }\n",
       "</style>\n",
       "<table border=\"1\" class=\"dataframe\">\n",
       "  <thead>\n",
       "    <tr style=\"text-align: right;\">\n",
       "      <th></th>\n",
       "      <th>mean_fit_time</th>\n",
       "      <th>std_fit_time</th>\n",
       "      <th>mean_score_time</th>\n",
       "      <th>std_score_time</th>\n",
       "      <th>param_forest__max_depth</th>\n",
       "      <th>param_forest__min_samples_leaf</th>\n",
       "      <th>param_forest__min_samples_split</th>\n",
       "      <th>param_forest__n_estimators</th>\n",
       "      <th>params</th>\n",
       "      <th>split0_test_score</th>\n",
       "      <th>...</th>\n",
       "      <th>mean_test_score</th>\n",
       "      <th>std_test_score</th>\n",
       "      <th>rank_test_score</th>\n",
       "      <th>split0_train_score</th>\n",
       "      <th>split1_train_score</th>\n",
       "      <th>split2_train_score</th>\n",
       "      <th>split3_train_score</th>\n",
       "      <th>split4_train_score</th>\n",
       "      <th>mean_train_score</th>\n",
       "      <th>std_train_score</th>\n",
       "    </tr>\n",
       "  </thead>\n",
       "  <tbody>\n",
       "    <tr>\n",
       "      <th>170</th>\n",
       "      <td>76.897554</td>\n",
       "      <td>5.016836</td>\n",
       "      <td>8.657696</td>\n",
       "      <td>3.410937</td>\n",
       "      <td>46</td>\n",
       "      <td>1</td>\n",
       "      <td>82</td>\n",
       "      <td>200</td>\n",
       "      <td>{'forest__max_depth': 46, 'forest__min_samples...</td>\n",
       "      <td>0.463521</td>\n",
       "      <td>...</td>\n",
       "      <td>0.473456</td>\n",
       "      <td>0.007442</td>\n",
       "      <td>1</td>\n",
       "      <td>0.568150</td>\n",
       "      <td>0.574398</td>\n",
       "      <td>0.573068</td>\n",
       "      <td>0.567564</td>\n",
       "      <td>0.566423</td>\n",
       "      <td>0.569921</td>\n",
       "      <td>0.003190</td>\n",
       "    </tr>\n",
       "    <tr>\n",
       "      <th>169</th>\n",
       "      <td>64.330062</td>\n",
       "      <td>4.272059</td>\n",
       "      <td>9.030783</td>\n",
       "      <td>2.388698</td>\n",
       "      <td>46</td>\n",
       "      <td>1</td>\n",
       "      <td>82</td>\n",
       "      <td>125</td>\n",
       "      <td>{'forest__max_depth': 46, 'forest__min_samples...</td>\n",
       "      <td>0.460997</td>\n",
       "      <td>...</td>\n",
       "      <td>0.471297</td>\n",
       "      <td>0.008379</td>\n",
       "      <td>3</td>\n",
       "      <td>0.565781</td>\n",
       "      <td>0.570652</td>\n",
       "      <td>0.572362</td>\n",
       "      <td>0.562350</td>\n",
       "      <td>0.560329</td>\n",
       "      <td>0.566295</td>\n",
       "      <td>0.004631</td>\n",
       "    </tr>\n",
       "    <tr>\n",
       "      <th>168</th>\n",
       "      <td>50.195802</td>\n",
       "      <td>16.149425</td>\n",
       "      <td>8.755009</td>\n",
       "      <td>2.632102</td>\n",
       "      <td>46</td>\n",
       "      <td>1</td>\n",
       "      <td>82</td>\n",
       "      <td>50</td>\n",
       "      <td>{'forest__max_depth': 46, 'forest__min_samples...</td>\n",
       "      <td>0.456081</td>\n",
       "      <td>...</td>\n",
       "      <td>0.465652</td>\n",
       "      <td>0.007276</td>\n",
       "      <td>5</td>\n",
       "      <td>0.555828</td>\n",
       "      <td>0.556587</td>\n",
       "      <td>0.568888</td>\n",
       "      <td>0.549833</td>\n",
       "      <td>0.544495</td>\n",
       "      <td>0.555126</td>\n",
       "      <td>0.008162</td>\n",
       "    </tr>\n",
       "    <tr>\n",
       "      <th>143</th>\n",
       "      <td>68.057430</td>\n",
       "      <td>2.976637</td>\n",
       "      <td>8.866232</td>\n",
       "      <td>2.228312</td>\n",
       "      <td>41</td>\n",
       "      <td>1</td>\n",
       "      <td>82</td>\n",
       "      <td>200</td>\n",
       "      <td>{'forest__max_depth': 41, 'forest__min_samples...</td>\n",
       "      <td>0.448681</td>\n",
       "      <td>...</td>\n",
       "      <td>0.456273</td>\n",
       "      <td>0.007824</td>\n",
       "      <td>9</td>\n",
       "      <td>0.539825</td>\n",
       "      <td>0.536592</td>\n",
       "      <td>0.546820</td>\n",
       "      <td>0.537667</td>\n",
       "      <td>0.537846</td>\n",
       "      <td>0.539750</td>\n",
       "      <td>0.003686</td>\n",
       "    </tr>\n",
       "    <tr>\n",
       "      <th>142</th>\n",
       "      <td>55.018281</td>\n",
       "      <td>3.469508</td>\n",
       "      <td>9.136385</td>\n",
       "      <td>3.059220</td>\n",
       "      <td>41</td>\n",
       "      <td>1</td>\n",
       "      <td>82</td>\n",
       "      <td>125</td>\n",
       "      <td>{'forest__max_depth': 41, 'forest__min_samples...</td>\n",
       "      <td>0.448832</td>\n",
       "      <td>...</td>\n",
       "      <td>0.456232</td>\n",
       "      <td>0.006189</td>\n",
       "      <td>10</td>\n",
       "      <td>0.539443</td>\n",
       "      <td>0.534951</td>\n",
       "      <td>0.546146</td>\n",
       "      <td>0.535339</td>\n",
       "      <td>0.533565</td>\n",
       "      <td>0.537889</td>\n",
       "      <td>0.004570</td>\n",
       "    </tr>\n",
       "    <tr>\n",
       "      <th>...</th>\n",
       "      <td>...</td>\n",
       "      <td>...</td>\n",
       "      <td>...</td>\n",
       "      <td>...</td>\n",
       "      <td>...</td>\n",
       "      <td>...</td>\n",
       "      <td>...</td>\n",
       "      <td>...</td>\n",
       "      <td>...</td>\n",
       "      <td>...</td>\n",
       "      <td>...</td>\n",
       "      <td>...</td>\n",
       "      <td>...</td>\n",
       "      <td>...</td>\n",
       "      <td>...</td>\n",
       "      <td>...</td>\n",
       "      <td>...</td>\n",
       "      <td>...</td>\n",
       "      <td>...</td>\n",
       "      <td>...</td>\n",
       "      <td>...</td>\n",
       "    </tr>\n",
       "    <tr>\n",
       "      <th>19</th>\n",
       "      <td>21.729876</td>\n",
       "      <td>1.115711</td>\n",
       "      <td>6.296248</td>\n",
       "      <td>0.995521</td>\n",
       "      <td>16</td>\n",
       "      <td>11</td>\n",
       "      <td>2</td>\n",
       "      <td>125</td>\n",
       "      <td>{'forest__max_depth': 16, 'forest__min_samples...</td>\n",
       "      <td>0.351554</td>\n",
       "      <td>...</td>\n",
       "      <td>0.358985</td>\n",
       "      <td>0.004409</td>\n",
       "      <td>185</td>\n",
       "      <td>0.366448</td>\n",
       "      <td>0.370253</td>\n",
       "      <td>0.369314</td>\n",
       "      <td>0.369093</td>\n",
       "      <td>0.368649</td>\n",
       "      <td>0.368751</td>\n",
       "      <td>0.001265</td>\n",
       "    </tr>\n",
       "    <tr>\n",
       "      <th>22</th>\n",
       "      <td>22.581282</td>\n",
       "      <td>1.426867</td>\n",
       "      <td>6.564841</td>\n",
       "      <td>1.645198</td>\n",
       "      <td>16</td>\n",
       "      <td>11</td>\n",
       "      <td>42</td>\n",
       "      <td>125</td>\n",
       "      <td>{'forest__max_depth': 16, 'forest__min_samples...</td>\n",
       "      <td>0.352482</td>\n",
       "      <td>...</td>\n",
       "      <td>0.358833</td>\n",
       "      <td>0.004449</td>\n",
       "      <td>186</td>\n",
       "      <td>0.369172</td>\n",
       "      <td>0.370889</td>\n",
       "      <td>0.371440</td>\n",
       "      <td>0.367495</td>\n",
       "      <td>0.368354</td>\n",
       "      <td>0.369470</td>\n",
       "      <td>0.001492</td>\n",
       "    </tr>\n",
       "    <tr>\n",
       "      <th>18</th>\n",
       "      <td>21.523281</td>\n",
       "      <td>0.833994</td>\n",
       "      <td>4.272497</td>\n",
       "      <td>0.337375</td>\n",
       "      <td>16</td>\n",
       "      <td>11</td>\n",
       "      <td>2</td>\n",
       "      <td>50</td>\n",
       "      <td>{'forest__max_depth': 16, 'forest__min_samples...</td>\n",
       "      <td>0.343675</td>\n",
       "      <td>...</td>\n",
       "      <td>0.358721</td>\n",
       "      <td>0.011532</td>\n",
       "      <td>187</td>\n",
       "      <td>0.360829</td>\n",
       "      <td>0.368299</td>\n",
       "      <td>0.376203</td>\n",
       "      <td>0.357818</td>\n",
       "      <td>0.378207</td>\n",
       "      <td>0.368271</td>\n",
       "      <td>0.008078</td>\n",
       "    </tr>\n",
       "    <tr>\n",
       "      <th>21</th>\n",
       "      <td>20.597902</td>\n",
       "      <td>0.681309</td>\n",
       "      <td>4.123901</td>\n",
       "      <td>0.329276</td>\n",
       "      <td>16</td>\n",
       "      <td>11</td>\n",
       "      <td>42</td>\n",
       "      <td>50</td>\n",
       "      <td>{'forest__max_depth': 16, 'forest__min_samples...</td>\n",
       "      <td>0.340958</td>\n",
       "      <td>...</td>\n",
       "      <td>0.358504</td>\n",
       "      <td>0.013125</td>\n",
       "      <td>188</td>\n",
       "      <td>0.360985</td>\n",
       "      <td>0.369813</td>\n",
       "      <td>0.381076</td>\n",
       "      <td>0.355045</td>\n",
       "      <td>0.376360</td>\n",
       "      <td>0.368656</td>\n",
       "      <td>0.009582</td>\n",
       "    </tr>\n",
       "    <tr>\n",
       "      <th>20</th>\n",
       "      <td>28.368316</td>\n",
       "      <td>1.346236</td>\n",
       "      <td>5.500867</td>\n",
       "      <td>0.809646</td>\n",
       "      <td>16</td>\n",
       "      <td>11</td>\n",
       "      <td>2</td>\n",
       "      <td>200</td>\n",
       "      <td>{'forest__max_depth': 16, 'forest__min_samples...</td>\n",
       "      <td>0.348635</td>\n",
       "      <td>...</td>\n",
       "      <td>0.358107</td>\n",
       "      <td>0.006269</td>\n",
       "      <td>189</td>\n",
       "      <td>0.365642</td>\n",
       "      <td>0.372135</td>\n",
       "      <td>0.369803</td>\n",
       "      <td>0.365932</td>\n",
       "      <td>0.370216</td>\n",
       "      <td>0.368745</td>\n",
       "      <td>0.002542</td>\n",
       "    </tr>\n",
       "  </tbody>\n",
       "</table>\n",
       "<p>178 rows × 24 columns</p>\n",
       "</div>"
      ],
      "text/plain": [
       "     mean_fit_time  std_fit_time  mean_score_time  std_score_time  \\\n",
       "170      76.897554      5.016836         8.657696        3.410937   \n",
       "169      64.330062      4.272059         9.030783        2.388698   \n",
       "168      50.195802     16.149425         8.755009        2.632102   \n",
       "143      68.057430      2.976637         8.866232        2.228312   \n",
       "142      55.018281      3.469508         9.136385        3.059220   \n",
       "..             ...           ...              ...             ...   \n",
       "19       21.729876      1.115711         6.296248        0.995521   \n",
       "22       22.581282      1.426867         6.564841        1.645198   \n",
       "18       21.523281      0.833994         4.272497        0.337375   \n",
       "21       20.597902      0.681309         4.123901        0.329276   \n",
       "20       28.368316      1.346236         5.500867        0.809646   \n",
       "\n",
       "    param_forest__max_depth param_forest__min_samples_leaf  \\\n",
       "170                      46                              1   \n",
       "169                      46                              1   \n",
       "168                      46                              1   \n",
       "143                      41                              1   \n",
       "142                      41                              1   \n",
       "..                      ...                            ...   \n",
       "19                       16                             11   \n",
       "22                       16                             11   \n",
       "18                       16                             11   \n",
       "21                       16                             11   \n",
       "20                       16                             11   \n",
       "\n",
       "    param_forest__min_samples_split param_forest__n_estimators  \\\n",
       "170                              82                        200   \n",
       "169                              82                        125   \n",
       "168                              82                         50   \n",
       "143                              82                        200   \n",
       "142                              82                        125   \n",
       "..                              ...                        ...   \n",
       "19                                2                        125   \n",
       "22                               42                        125   \n",
       "18                                2                         50   \n",
       "21                               42                         50   \n",
       "20                                2                        200   \n",
       "\n",
       "                                                params  split0_test_score  \\\n",
       "170  {'forest__max_depth': 46, 'forest__min_samples...           0.463521   \n",
       "169  {'forest__max_depth': 46, 'forest__min_samples...           0.460997   \n",
       "168  {'forest__max_depth': 46, 'forest__min_samples...           0.456081   \n",
       "143  {'forest__max_depth': 41, 'forest__min_samples...           0.448681   \n",
       "142  {'forest__max_depth': 41, 'forest__min_samples...           0.448832   \n",
       "..                                                 ...                ...   \n",
       "19   {'forest__max_depth': 16, 'forest__min_samples...           0.351554   \n",
       "22   {'forest__max_depth': 16, 'forest__min_samples...           0.352482   \n",
       "18   {'forest__max_depth': 16, 'forest__min_samples...           0.343675   \n",
       "21   {'forest__max_depth': 16, 'forest__min_samples...           0.340958   \n",
       "20   {'forest__max_depth': 16, 'forest__min_samples...           0.348635   \n",
       "\n",
       "     ...  mean_test_score  std_test_score  rank_test_score  \\\n",
       "170  ...         0.473456        0.007442                1   \n",
       "169  ...         0.471297        0.008379                3   \n",
       "168  ...         0.465652        0.007276                5   \n",
       "143  ...         0.456273        0.007824                9   \n",
       "142  ...         0.456232        0.006189               10   \n",
       "..   ...              ...             ...              ...   \n",
       "19   ...         0.358985        0.004409              185   \n",
       "22   ...         0.358833        0.004449              186   \n",
       "18   ...         0.358721        0.011532              187   \n",
       "21   ...         0.358504        0.013125              188   \n",
       "20   ...         0.358107        0.006269              189   \n",
       "\n",
       "     split0_train_score  split1_train_score  split2_train_score  \\\n",
       "170            0.568150            0.574398            0.573068   \n",
       "169            0.565781            0.570652            0.572362   \n",
       "168            0.555828            0.556587            0.568888   \n",
       "143            0.539825            0.536592            0.546820   \n",
       "142            0.539443            0.534951            0.546146   \n",
       "..                  ...                 ...                 ...   \n",
       "19             0.366448            0.370253            0.369314   \n",
       "22             0.369172            0.370889            0.371440   \n",
       "18             0.360829            0.368299            0.376203   \n",
       "21             0.360985            0.369813            0.381076   \n",
       "20             0.365642            0.372135            0.369803   \n",
       "\n",
       "     split3_train_score  split4_train_score  mean_train_score  std_train_score  \n",
       "170            0.567564            0.566423          0.569921         0.003190  \n",
       "169            0.562350            0.560329          0.566295         0.004631  \n",
       "168            0.549833            0.544495          0.555126         0.008162  \n",
       "143            0.537667            0.537846          0.539750         0.003686  \n",
       "142            0.535339            0.533565          0.537889         0.004570  \n",
       "..                  ...                 ...               ...              ...  \n",
       "19             0.369093            0.368649          0.368751         0.001265  \n",
       "22             0.367495            0.368354          0.369470         0.001492  \n",
       "18             0.357818            0.378207          0.368271         0.008078  \n",
       "21             0.355045            0.376360          0.368656         0.009582  \n",
       "20             0.365932            0.370216          0.368745         0.002542  \n",
       "\n",
       "[178 rows x 24 columns]"
      ]
     },
     "execution_count": 593,
     "metadata": {},
     "output_type": "execute_result"
    }
   ],
   "source": [
    "forest_results_2 = pd.DataFrame(search_forest_2.cv_results_)[(pd.DataFrame(search_forest_2.cv_results_)['mean_train_score'] - pd.DataFrame(search_forest_2.cv_results_)['mean_test_score']) < 0.1].sort_values('rank_test_score')\n",
    "forest_results_2"
   ]
  },
  {
   "cell_type": "code",
   "execution_count": 594,
   "metadata": {},
   "outputs": [
    {
     "data": {
      "text/html": [
       "<div>\n",
       "<style scoped>\n",
       "    .dataframe tbody tr th:only-of-type {\n",
       "        vertical-align: middle;\n",
       "    }\n",
       "\n",
       "    .dataframe tbody tr th {\n",
       "        vertical-align: top;\n",
       "    }\n",
       "\n",
       "    .dataframe thead th {\n",
       "        text-align: right;\n",
       "    }\n",
       "</style>\n",
       "<table border=\"1\" class=\"dataframe\">\n",
       "  <thead>\n",
       "    <tr style=\"text-align: right;\">\n",
       "      <th></th>\n",
       "      <th>param_forest__max_depth</th>\n",
       "      <th>param_forest__min_samples_leaf</th>\n",
       "      <th>param_forest__min_samples_split</th>\n",
       "      <th>param_forest__n_estimators</th>\n",
       "    </tr>\n",
       "  </thead>\n",
       "  <tbody>\n",
       "    <tr>\n",
       "      <th>170</th>\n",
       "      <td>46</td>\n",
       "      <td>1</td>\n",
       "      <td>82</td>\n",
       "      <td>200</td>\n",
       "    </tr>\n",
       "  </tbody>\n",
       "</table>\n",
       "</div>"
      ],
      "text/plain": [
       "    param_forest__max_depth param_forest__min_samples_leaf  \\\n",
       "170                      46                              1   \n",
       "\n",
       "    param_forest__min_samples_split param_forest__n_estimators  \n",
       "170                              82                        200  "
      ]
     },
     "execution_count": 594,
     "metadata": {},
     "output_type": "execute_result"
    }
   ],
   "source": [
    "# Best hyperparameters values\n",
    "forest_results_2.head(1)[['param_forest__max_depth', 'param_forest__min_samples_leaf', 'param_forest__min_samples_split', 'param_forest__n_estimators']]"
   ]
  },
  {
   "cell_type": "markdown",
   "metadata": {},
   "source": [
    "#### Часть 3"
   ]
  },
  {
   "cell_type": "code",
   "execution_count": 215,
   "metadata": {},
   "outputs": [],
   "source": [
    "# Hyperparameters values grid\n",
    "param_grid_3 = {\n",
    "    'forest__n_estimators': np.arange(50, 201, 75),\n",
    "    'forest__max_depth': np.arange(47, 200, 25),\n",
    "    'forest__min_samples_split': np.arange(2, 83, 40),\n",
    "    'forest__min_samples_leaf': np.arange(1, 12, 5)\n",
    "}"
   ]
  },
  {
   "cell_type": "code",
   "execution_count": 216,
   "metadata": {},
   "outputs": [],
   "source": [
    "# GridSearch settings\n",
    "search_forest_3 = GridSearchCV(pipe_forest, param_grid_3, return_train_score=True, scoring='f1', verbose=5, n_jobs=-1)"
   ]
  },
  {
   "cell_type": "code",
   "execution_count": 217,
   "metadata": {},
   "outputs": [
    {
     "name": "stdout",
     "output_type": "stream",
     "text": [
      "Fitting 5 folds for each of 189 candidates, totalling 945 fits\n"
     ]
    },
    {
     "name": "stderr",
     "output_type": "stream",
     "text": [
      "[Parallel(n_jobs=-1)]: Using backend LokyBackend with 8 concurrent workers.\n",
      "[Parallel(n_jobs=-1)]: Done   2 tasks      | elapsed:  2.1min\n",
      "[Parallel(n_jobs=-1)]: Done  56 tasks      | elapsed: 14.9min\n",
      "[Parallel(n_jobs=-1)]: Done 146 tasks      | elapsed: 35.2min\n",
      "[Parallel(n_jobs=-1)]: Done 272 tasks      | elapsed: 65.2min\n",
      "[Parallel(n_jobs=-1)]: Done 434 tasks      | elapsed: 135.1min\n",
      "[Parallel(n_jobs=-1)]: Done 632 tasks      | elapsed: 209.0min\n",
      "[Parallel(n_jobs=-1)]: Done 866 tasks      | elapsed: 328.8min\n",
      "[Parallel(n_jobs=-1)]: Done 945 out of 945 | elapsed: 342.9min finished\n"
     ]
    },
    {
     "data": {
      "text/plain": [
       "GridSearchCV(estimator=Pipeline(steps=[('columns_transfrom',\n",
       "                                        ColumnTransformer(transformers=[('text',\n",
       "                                                                         TfidfVectorizer(stop_words={'english'}),\n",
       "                                                                         1),\n",
       "                                                                        ('numeric',\n",
       "                                                                         StandardScaler(),\n",
       "                                                                         [0,\n",
       "                                                                          2])])),\n",
       "                                       ('forest',\n",
       "                                        RandomForestClassifier(class_weight='balanced',\n",
       "                                                               n_jobs=4,\n",
       "                                                               random_state=42))]),\n",
       "             n_jobs=-1,\n",
       "             param_grid={'forest__max_depth': array([ 47,  72,  97, 122, 147, 172, 197]),\n",
       "                         'forest__min_samples_leaf': array([ 1,  6, 11]),\n",
       "                         'forest__min_samples_split': array([ 2, 42, 82]),\n",
       "                         'forest__n_estimators': array([ 50, 125, 200])},\n",
       "             return_train_score=True, scoring='f1', verbose=5)"
      ]
     },
     "execution_count": 217,
     "metadata": {},
     "output_type": "execute_result"
    }
   ],
   "source": [
    "# Best hyperparameters values search\n",
    "search_forest_3.fit(features, target)"
   ]
  },
  {
   "cell_type": "code",
   "execution_count": 218,
   "metadata": {},
   "outputs": [
    {
     "data": {
      "text/html": [
       "<div>\n",
       "<style scoped>\n",
       "    .dataframe tbody tr th:only-of-type {\n",
       "        vertical-align: middle;\n",
       "    }\n",
       "\n",
       "    .dataframe tbody tr th {\n",
       "        vertical-align: top;\n",
       "    }\n",
       "\n",
       "    .dataframe thead th {\n",
       "        text-align: right;\n",
       "    }\n",
       "</style>\n",
       "<table border=\"1\" class=\"dataframe\">\n",
       "  <thead>\n",
       "    <tr style=\"text-align: right;\">\n",
       "      <th></th>\n",
       "      <th>mean_fit_time</th>\n",
       "      <th>std_fit_time</th>\n",
       "      <th>mean_score_time</th>\n",
       "      <th>std_score_time</th>\n",
       "      <th>param_forest__max_depth</th>\n",
       "      <th>param_forest__min_samples_leaf</th>\n",
       "      <th>param_forest__min_samples_split</th>\n",
       "      <th>param_forest__n_estimators</th>\n",
       "      <th>params</th>\n",
       "      <th>split0_test_score</th>\n",
       "      <th>...</th>\n",
       "      <th>mean_test_score</th>\n",
       "      <th>std_test_score</th>\n",
       "      <th>rank_test_score</th>\n",
       "      <th>split0_train_score</th>\n",
       "      <th>split1_train_score</th>\n",
       "      <th>split2_train_score</th>\n",
       "      <th>split3_train_score</th>\n",
       "      <th>split4_train_score</th>\n",
       "      <th>mean_train_score</th>\n",
       "      <th>std_train_score</th>\n",
       "    </tr>\n",
       "  </thead>\n",
       "  <tbody>\n",
       "    <tr>\n",
       "      <th>176</th>\n",
       "      <td>80.614054</td>\n",
       "      <td>5.070115</td>\n",
       "      <td>8.715191</td>\n",
       "      <td>2.142838</td>\n",
       "      <td>197</td>\n",
       "      <td>6</td>\n",
       "      <td>42</td>\n",
       "      <td>200</td>\n",
       "      <td>{'forest__max_depth': 197, 'forest__min_sample...</td>\n",
       "      <td>0.573113</td>\n",
       "      <td>...</td>\n",
       "      <td>0.583203</td>\n",
       "      <td>0.009635</td>\n",
       "      <td>25</td>\n",
       "      <td>0.650421</td>\n",
       "      <td>0.657195</td>\n",
       "      <td>0.663626</td>\n",
       "      <td>0.650394</td>\n",
       "      <td>0.662038</td>\n",
       "      <td>0.656735</td>\n",
       "      <td>0.005584</td>\n",
       "    </tr>\n",
       "    <tr>\n",
       "      <th>179</th>\n",
       "      <td>79.037293</td>\n",
       "      <td>4.778929</td>\n",
       "      <td>8.934585</td>\n",
       "      <td>1.932163</td>\n",
       "      <td>197</td>\n",
       "      <td>6</td>\n",
       "      <td>82</td>\n",
       "      <td>200</td>\n",
       "      <td>{'forest__max_depth': 197, 'forest__min_sample...</td>\n",
       "      <td>0.575834</td>\n",
       "      <td>...</td>\n",
       "      <td>0.583138</td>\n",
       "      <td>0.008641</td>\n",
       "      <td>26</td>\n",
       "      <td>0.649454</td>\n",
       "      <td>0.657622</td>\n",
       "      <td>0.660656</td>\n",
       "      <td>0.648510</td>\n",
       "      <td>0.661668</td>\n",
       "      <td>0.655582</td>\n",
       "      <td>0.005559</td>\n",
       "    </tr>\n",
       "    <tr>\n",
       "      <th>178</th>\n",
       "      <td>57.633409</td>\n",
       "      <td>5.706631</td>\n",
       "      <td>10.462548</td>\n",
       "      <td>0.641747</td>\n",
       "      <td>197</td>\n",
       "      <td>6</td>\n",
       "      <td>82</td>\n",
       "      <td>125</td>\n",
       "      <td>{'forest__max_depth': 197, 'forest__min_sample...</td>\n",
       "      <td>0.572143</td>\n",
       "      <td>...</td>\n",
       "      <td>0.582718</td>\n",
       "      <td>0.009340</td>\n",
       "      <td>27</td>\n",
       "      <td>0.643769</td>\n",
       "      <td>0.661369</td>\n",
       "      <td>0.656153</td>\n",
       "      <td>0.647009</td>\n",
       "      <td>0.656577</td>\n",
       "      <td>0.652976</td>\n",
       "      <td>0.006540</td>\n",
       "    </tr>\n",
       "    <tr>\n",
       "      <th>175</th>\n",
       "      <td>64.913633</td>\n",
       "      <td>2.374423</td>\n",
       "      <td>9.334175</td>\n",
       "      <td>2.183484</td>\n",
       "      <td>197</td>\n",
       "      <td>6</td>\n",
       "      <td>42</td>\n",
       "      <td>125</td>\n",
       "      <td>{'forest__max_depth': 197, 'forest__min_sample...</td>\n",
       "      <td>0.572228</td>\n",
       "      <td>...</td>\n",
       "      <td>0.582395</td>\n",
       "      <td>0.009874</td>\n",
       "      <td>28</td>\n",
       "      <td>0.646581</td>\n",
       "      <td>0.657846</td>\n",
       "      <td>0.662899</td>\n",
       "      <td>0.649028</td>\n",
       "      <td>0.658591</td>\n",
       "      <td>0.654989</td>\n",
       "      <td>0.006163</td>\n",
       "    </tr>\n",
       "    <tr>\n",
       "      <th>172</th>\n",
       "      <td>70.760291</td>\n",
       "      <td>2.281389</td>\n",
       "      <td>10.044759</td>\n",
       "      <td>2.012655</td>\n",
       "      <td>197</td>\n",
       "      <td>6</td>\n",
       "      <td>2</td>\n",
       "      <td>125</td>\n",
       "      <td>{'forest__max_depth': 197, 'forest__min_sample...</td>\n",
       "      <td>0.574496</td>\n",
       "      <td>...</td>\n",
       "      <td>0.582045</td>\n",
       "      <td>0.008240</td>\n",
       "      <td>29</td>\n",
       "      <td>0.647986</td>\n",
       "      <td>0.659425</td>\n",
       "      <td>0.663002</td>\n",
       "      <td>0.648778</td>\n",
       "      <td>0.660011</td>\n",
       "      <td>0.655841</td>\n",
       "      <td>0.006214</td>\n",
       "    </tr>\n",
       "    <tr>\n",
       "      <th>...</th>\n",
       "      <td>...</td>\n",
       "      <td>...</td>\n",
       "      <td>...</td>\n",
       "      <td>...</td>\n",
       "      <td>...</td>\n",
       "      <td>...</td>\n",
       "      <td>...</td>\n",
       "      <td>...</td>\n",
       "      <td>...</td>\n",
       "      <td>...</td>\n",
       "      <td>...</td>\n",
       "      <td>...</td>\n",
       "      <td>...</td>\n",
       "      <td>...</td>\n",
       "      <td>...</td>\n",
       "      <td>...</td>\n",
       "      <td>...</td>\n",
       "      <td>...</td>\n",
       "      <td>...</td>\n",
       "      <td>...</td>\n",
       "      <td>...</td>\n",
       "    </tr>\n",
       "    <tr>\n",
       "      <th>26</th>\n",
       "      <td>45.930891</td>\n",
       "      <td>5.124007</td>\n",
       "      <td>8.045406</td>\n",
       "      <td>2.003186</td>\n",
       "      <td>47</td>\n",
       "      <td>11</td>\n",
       "      <td>82</td>\n",
       "      <td>200</td>\n",
       "      <td>{'forest__max_depth': 47, 'forest__min_samples...</td>\n",
       "      <td>0.441765</td>\n",
       "      <td>...</td>\n",
       "      <td>0.447440</td>\n",
       "      <td>0.004111</td>\n",
       "      <td>185</td>\n",
       "      <td>0.472882</td>\n",
       "      <td>0.480153</td>\n",
       "      <td>0.478139</td>\n",
       "      <td>0.477050</td>\n",
       "      <td>0.476987</td>\n",
       "      <td>0.477042</td>\n",
       "      <td>0.002375</td>\n",
       "    </tr>\n",
       "    <tr>\n",
       "      <th>19</th>\n",
       "      <td>33.887784</td>\n",
       "      <td>4.656637</td>\n",
       "      <td>7.808811</td>\n",
       "      <td>1.943934</td>\n",
       "      <td>47</td>\n",
       "      <td>11</td>\n",
       "      <td>2</td>\n",
       "      <td>125</td>\n",
       "      <td>{'forest__max_depth': 47, 'forest__min_samples...</td>\n",
       "      <td>0.440108</td>\n",
       "      <td>...</td>\n",
       "      <td>0.447243</td>\n",
       "      <td>0.006215</td>\n",
       "      <td>186</td>\n",
       "      <td>0.473820</td>\n",
       "      <td>0.479619</td>\n",
       "      <td>0.479863</td>\n",
       "      <td>0.471522</td>\n",
       "      <td>0.473211</td>\n",
       "      <td>0.475607</td>\n",
       "      <td>0.003459</td>\n",
       "    </tr>\n",
       "    <tr>\n",
       "      <th>24</th>\n",
       "      <td>28.644708</td>\n",
       "      <td>1.935450</td>\n",
       "      <td>5.346871</td>\n",
       "      <td>0.783079</td>\n",
       "      <td>47</td>\n",
       "      <td>11</td>\n",
       "      <td>82</td>\n",
       "      <td>50</td>\n",
       "      <td>{'forest__max_depth': 47, 'forest__min_samples...</td>\n",
       "      <td>0.427495</td>\n",
       "      <td>...</td>\n",
       "      <td>0.446088</td>\n",
       "      <td>0.012023</td>\n",
       "      <td>187</td>\n",
       "      <td>0.462935</td>\n",
       "      <td>0.475396</td>\n",
       "      <td>0.485669</td>\n",
       "      <td>0.465474</td>\n",
       "      <td>0.474876</td>\n",
       "      <td>0.472870</td>\n",
       "      <td>0.008095</td>\n",
       "    </tr>\n",
       "    <tr>\n",
       "      <th>21</th>\n",
       "      <td>27.984325</td>\n",
       "      <td>3.109185</td>\n",
       "      <td>4.572890</td>\n",
       "      <td>0.692830</td>\n",
       "      <td>47</td>\n",
       "      <td>11</td>\n",
       "      <td>42</td>\n",
       "      <td>50</td>\n",
       "      <td>{'forest__max_depth': 47, 'forest__min_samples...</td>\n",
       "      <td>0.428937</td>\n",
       "      <td>...</td>\n",
       "      <td>0.444263</td>\n",
       "      <td>0.009825</td>\n",
       "      <td>188</td>\n",
       "      <td>0.465440</td>\n",
       "      <td>0.469074</td>\n",
       "      <td>0.482476</td>\n",
       "      <td>0.465818</td>\n",
       "      <td>0.473092</td>\n",
       "      <td>0.471180</td>\n",
       "      <td>0.006283</td>\n",
       "    </tr>\n",
       "    <tr>\n",
       "      <th>18</th>\n",
       "      <td>26.223366</td>\n",
       "      <td>1.817184</td>\n",
       "      <td>4.921681</td>\n",
       "      <td>1.492922</td>\n",
       "      <td>47</td>\n",
       "      <td>11</td>\n",
       "      <td>2</td>\n",
       "      <td>50</td>\n",
       "      <td>{'forest__max_depth': 47, 'forest__min_samples...</td>\n",
       "      <td>0.426533</td>\n",
       "      <td>...</td>\n",
       "      <td>0.441082</td>\n",
       "      <td>0.011561</td>\n",
       "      <td>189</td>\n",
       "      <td>0.465056</td>\n",
       "      <td>0.466876</td>\n",
       "      <td>0.483812</td>\n",
       "      <td>0.460590</td>\n",
       "      <td>0.469397</td>\n",
       "      <td>0.469146</td>\n",
       "      <td>0.007877</td>\n",
       "    </tr>\n",
       "  </tbody>\n",
       "</table>\n",
       "<p>129 rows × 24 columns</p>\n",
       "</div>"
      ],
      "text/plain": [
       "     mean_fit_time  std_fit_time  mean_score_time  std_score_time  \\\n",
       "176      80.614054      5.070115         8.715191        2.142838   \n",
       "179      79.037293      4.778929         8.934585        1.932163   \n",
       "178      57.633409      5.706631        10.462548        0.641747   \n",
       "175      64.913633      2.374423         9.334175        2.183484   \n",
       "172      70.760291      2.281389        10.044759        2.012655   \n",
       "..             ...           ...              ...             ...   \n",
       "26       45.930891      5.124007         8.045406        2.003186   \n",
       "19       33.887784      4.656637         7.808811        1.943934   \n",
       "24       28.644708      1.935450         5.346871        0.783079   \n",
       "21       27.984325      3.109185         4.572890        0.692830   \n",
       "18       26.223366      1.817184         4.921681        1.492922   \n",
       "\n",
       "    param_forest__max_depth param_forest__min_samples_leaf  \\\n",
       "176                     197                              6   \n",
       "179                     197                              6   \n",
       "178                     197                              6   \n",
       "175                     197                              6   \n",
       "172                     197                              6   \n",
       "..                      ...                            ...   \n",
       "26                       47                             11   \n",
       "19                       47                             11   \n",
       "24                       47                             11   \n",
       "21                       47                             11   \n",
       "18                       47                             11   \n",
       "\n",
       "    param_forest__min_samples_split param_forest__n_estimators  \\\n",
       "176                              42                        200   \n",
       "179                              82                        200   \n",
       "178                              82                        125   \n",
       "175                              42                        125   \n",
       "172                               2                        125   \n",
       "..                              ...                        ...   \n",
       "26                               82                        200   \n",
       "19                                2                        125   \n",
       "24                               82                         50   \n",
       "21                               42                         50   \n",
       "18                                2                         50   \n",
       "\n",
       "                                                params  split0_test_score  \\\n",
       "176  {'forest__max_depth': 197, 'forest__min_sample...           0.573113   \n",
       "179  {'forest__max_depth': 197, 'forest__min_sample...           0.575834   \n",
       "178  {'forest__max_depth': 197, 'forest__min_sample...           0.572143   \n",
       "175  {'forest__max_depth': 197, 'forest__min_sample...           0.572228   \n",
       "172  {'forest__max_depth': 197, 'forest__min_sample...           0.574496   \n",
       "..                                                 ...                ...   \n",
       "26   {'forest__max_depth': 47, 'forest__min_samples...           0.441765   \n",
       "19   {'forest__max_depth': 47, 'forest__min_samples...           0.440108   \n",
       "24   {'forest__max_depth': 47, 'forest__min_samples...           0.427495   \n",
       "21   {'forest__max_depth': 47, 'forest__min_samples...           0.428937   \n",
       "18   {'forest__max_depth': 47, 'forest__min_samples...           0.426533   \n",
       "\n",
       "     ...  mean_test_score  std_test_score  rank_test_score  \\\n",
       "176  ...         0.583203        0.009635               25   \n",
       "179  ...         0.583138        0.008641               26   \n",
       "178  ...         0.582718        0.009340               27   \n",
       "175  ...         0.582395        0.009874               28   \n",
       "172  ...         0.582045        0.008240               29   \n",
       "..   ...              ...             ...              ...   \n",
       "26   ...         0.447440        0.004111              185   \n",
       "19   ...         0.447243        0.006215              186   \n",
       "24   ...         0.446088        0.012023              187   \n",
       "21   ...         0.444263        0.009825              188   \n",
       "18   ...         0.441082        0.011561              189   \n",
       "\n",
       "     split0_train_score  split1_train_score  split2_train_score  \\\n",
       "176            0.650421            0.657195            0.663626   \n",
       "179            0.649454            0.657622            0.660656   \n",
       "178            0.643769            0.661369            0.656153   \n",
       "175            0.646581            0.657846            0.662899   \n",
       "172            0.647986            0.659425            0.663002   \n",
       "..                  ...                 ...                 ...   \n",
       "26             0.472882            0.480153            0.478139   \n",
       "19             0.473820            0.479619            0.479863   \n",
       "24             0.462935            0.475396            0.485669   \n",
       "21             0.465440            0.469074            0.482476   \n",
       "18             0.465056            0.466876            0.483812   \n",
       "\n",
       "     split3_train_score  split4_train_score  mean_train_score  std_train_score  \n",
       "176            0.650394            0.662038          0.656735         0.005584  \n",
       "179            0.648510            0.661668          0.655582         0.005559  \n",
       "178            0.647009            0.656577          0.652976         0.006540  \n",
       "175            0.649028            0.658591          0.654989         0.006163  \n",
       "172            0.648778            0.660011          0.655841         0.006214  \n",
       "..                  ...                 ...               ...              ...  \n",
       "26             0.477050            0.476987          0.477042         0.002375  \n",
       "19             0.471522            0.473211          0.475607         0.003459  \n",
       "24             0.465474            0.474876          0.472870         0.008095  \n",
       "21             0.465818            0.473092          0.471180         0.006283  \n",
       "18             0.460590            0.469397          0.469146         0.007877  \n",
       "\n",
       "[129 rows x 24 columns]"
      ]
     },
     "execution_count": 218,
     "metadata": {},
     "output_type": "execute_result"
    }
   ],
   "source": [
    "forest_results_3 = pd.DataFrame(search_forest_3.cv_results_)[(pd.DataFrame(search_forest_3.cv_results_)['mean_train_score'] - pd.DataFrame(search_forest_3.cv_results_)['mean_test_score']) < 0.1].sort_values('rank_test_score')\n",
    "forest_results_3"
   ]
  },
  {
   "cell_type": "code",
   "execution_count": 219,
   "metadata": {},
   "outputs": [
    {
     "data": {
      "text/html": [
       "<div>\n",
       "<style scoped>\n",
       "    .dataframe tbody tr th:only-of-type {\n",
       "        vertical-align: middle;\n",
       "    }\n",
       "\n",
       "    .dataframe tbody tr th {\n",
       "        vertical-align: top;\n",
       "    }\n",
       "\n",
       "    .dataframe thead th {\n",
       "        text-align: right;\n",
       "    }\n",
       "</style>\n",
       "<table border=\"1\" class=\"dataframe\">\n",
       "  <thead>\n",
       "    <tr style=\"text-align: right;\">\n",
       "      <th></th>\n",
       "      <th>param_forest__max_depth</th>\n",
       "      <th>param_forest__min_samples_leaf</th>\n",
       "      <th>param_forest__min_samples_split</th>\n",
       "      <th>param_forest__n_estimators</th>\n",
       "    </tr>\n",
       "  </thead>\n",
       "  <tbody>\n",
       "    <tr>\n",
       "      <th>176</th>\n",
       "      <td>197</td>\n",
       "      <td>6</td>\n",
       "      <td>42</td>\n",
       "      <td>200</td>\n",
       "    </tr>\n",
       "  </tbody>\n",
       "</table>\n",
       "</div>"
      ],
      "text/plain": [
       "    param_forest__max_depth param_forest__min_samples_leaf  \\\n",
       "176                     197                              6   \n",
       "\n",
       "    param_forest__min_samples_split param_forest__n_estimators  \n",
       "176                              42                        200  "
      ]
     },
     "execution_count": 219,
     "metadata": {},
     "output_type": "execute_result"
    }
   ],
   "source": [
    "# Best hyperparameters values\n",
    "forest_results_3.head(1)[['param_forest__max_depth', 'param_forest__min_samples_leaf', 'param_forest__min_samples_split', 'param_forest__n_estimators']]"
   ]
  },
  {
   "cell_type": "code",
   "execution_count": 220,
   "metadata": {},
   "outputs": [
    {
     "name": "stdout",
     "output_type": "stream",
     "text": [
      "F1 with random forest - 0.583\n"
     ]
    }
   ],
   "source": [
    "print('F1 with random forest - {:.3f}'.format(float(forest_results_3.head(1)['mean_test_score'])))"
   ]
  },
  {
   "cell_type": "markdown",
   "metadata": {},
   "source": [
    "### LightGBM"
   ]
  },
  {
   "cell_type": "code",
   "execution_count": 63,
   "metadata": {},
   "outputs": [],
   "source": [
    "pipe_lgbm = Pipeline([('columns_transfrom', ct_tfidf), ('lgbm', LGBMClassifier(class_weight='balanced', random_state=42, device_type='gpu', n_jobs=4))])"
   ]
  },
  {
   "cell_type": "code",
   "execution_count": 475,
   "metadata": {},
   "outputs": [],
   "source": [
    "# Hyperparameters values grid\n",
    "param_grid = {\n",
    "    'lgbm__n_estimators': np.arange(100, 1000, 200),\n",
    "    'lgbm__max_depth': np.concatenate((np.arange(1, 16), np.arange(-1, 0))),\n",
    "    'lgbm__num_leaves': np.arange(1, 60, 10)\n",
    "}"
   ]
  },
  {
   "cell_type": "code",
   "execution_count": 476,
   "metadata": {},
   "outputs": [],
   "source": [
    "# GridSearch settings\n",
    "search_lgbm = GridSearchCV(pipe_lgbm, param_grid, return_train_score=True, scoring='f1', verbose=5, n_jobs=-1)"
   ]
  },
  {
   "cell_type": "code",
   "execution_count": 477,
   "metadata": {},
   "outputs": [
    {
     "name": "stdout",
     "output_type": "stream",
     "text": [
      "Fitting 5 folds for each of 480 candidates, totalling 2400 fits\n"
     ]
    },
    {
     "name": "stderr",
     "output_type": "stream",
     "text": [
      "[Parallel(n_jobs=-1)]: Using backend LokyBackend with 8 concurrent workers.\n",
      "[Parallel(n_jobs=-1)]: Done   2 tasks      | elapsed:   13.3s\n",
      "[Parallel(n_jobs=-1)]: Done  56 tasks      | elapsed:  9.8min\n",
      "[Parallel(n_jobs=-1)]: Done 146 tasks      | elapsed: 39.5min\n",
      "[Parallel(n_jobs=-1)]: Done 272 tasks      | elapsed: 73.4min\n",
      "[Parallel(n_jobs=-1)]: Done 434 tasks      | elapsed: 133.9min\n",
      "[Parallel(n_jobs=-1)]: Done 632 tasks      | elapsed: 210.1min\n",
      "[Parallel(n_jobs=-1)]: Done 866 tasks      | elapsed: 323.5min\n",
      "[Parallel(n_jobs=-1)]: Done 1136 tasks      | elapsed: 469.3min\n",
      "[Parallel(n_jobs=-1)]: Done 1442 tasks      | elapsed: 661.5min\n",
      "[Parallel(n_jobs=-1)]: Done 1784 tasks      | elapsed: 907.7min\n",
      "[Parallel(n_jobs=-1)]: Done 2162 tasks      | elapsed: 1171.8min\n",
      "[Parallel(n_jobs=-1)]: Done 2400 out of 2400 | elapsed: 1407.8min finished\n"
     ]
    },
    {
     "data": {
      "text/plain": [
       "GridSearchCV(estimator=Pipeline(steps=[('columns_transfrom',\n",
       "                                        ColumnTransformer(transformers=[('text',\n",
       "                                                                         TfidfVectorizer(stop_words={'english'}),\n",
       "                                                                         1),\n",
       "                                                                        ('numeric',\n",
       "                                                                         StandardScaler(),\n",
       "                                                                         [0,\n",
       "                                                                          2])])),\n",
       "                                       ('lgbm',\n",
       "                                        LGBMClassifier(class_weight='balanced',\n",
       "                                                       device_type='gpu',\n",
       "                                                       n_jobs=4,\n",
       "                                                       random_state=42))]),\n",
       "             n_jobs=-1,\n",
       "             param_grid={'lgbm__max_depth': array([ 1,  2,  3,  4,  5,  6,  7,  8,  9, 10, 11, 12, 13, 14, 15, -1]),\n",
       "                         'lgbm__n_estimators': array([100, 300, 500, 700, 900]),\n",
       "                         'lgbm__num_leaves': array([ 1, 11, 21, 31, 41, 51])},\n",
       "             return_train_score=True, scoring='f1', verbose=5)"
      ]
     },
     "execution_count": 477,
     "metadata": {},
     "output_type": "execute_result"
    }
   ],
   "source": [
    "# Best hyperparameters values search\n",
    "search_lgbm.fit(features, target)"
   ]
  },
  {
   "cell_type": "code",
   "execution_count": 570,
   "metadata": {},
   "outputs": [
    {
     "data": {
      "text/html": [
       "<div>\n",
       "<style scoped>\n",
       "    .dataframe tbody tr th:only-of-type {\n",
       "        vertical-align: middle;\n",
       "    }\n",
       "\n",
       "    .dataframe tbody tr th {\n",
       "        vertical-align: top;\n",
       "    }\n",
       "\n",
       "    .dataframe thead th {\n",
       "        text-align: right;\n",
       "    }\n",
       "</style>\n",
       "<table border=\"1\" class=\"dataframe\">\n",
       "  <thead>\n",
       "    <tr style=\"text-align: right;\">\n",
       "      <th></th>\n",
       "      <th>mean_fit_time</th>\n",
       "      <th>std_fit_time</th>\n",
       "      <th>mean_score_time</th>\n",
       "      <th>std_score_time</th>\n",
       "      <th>param_lgbm__max_depth</th>\n",
       "      <th>param_lgbm__n_estimators</th>\n",
       "      <th>param_lgbm__num_leaves</th>\n",
       "      <th>params</th>\n",
       "      <th>split0_test_score</th>\n",
       "      <th>split1_test_score</th>\n",
       "      <th>...</th>\n",
       "      <th>mean_test_score</th>\n",
       "      <th>std_test_score</th>\n",
       "      <th>rank_test_score</th>\n",
       "      <th>split0_train_score</th>\n",
       "      <th>split1_train_score</th>\n",
       "      <th>split2_train_score</th>\n",
       "      <th>split3_train_score</th>\n",
       "      <th>split4_train_score</th>\n",
       "      <th>mean_train_score</th>\n",
       "      <th>std_train_score</th>\n",
       "    </tr>\n",
       "  </thead>\n",
       "  <tbody>\n",
       "    <tr>\n",
       "      <th>464</th>\n",
       "      <td>421.715024</td>\n",
       "      <td>7.054495</td>\n",
       "      <td>5.241273</td>\n",
       "      <td>0.592664</td>\n",
       "      <td>-1</td>\n",
       "      <td>500</td>\n",
       "      <td>21</td>\n",
       "      <td>{'lgbm__max_depth': -1, 'lgbm__n_estimators': ...</td>\n",
       "      <td>0.763103</td>\n",
       "      <td>0.760048</td>\n",
       "      <td>...</td>\n",
       "      <td>0.764038</td>\n",
       "      <td>0.003557</td>\n",
       "      <td>97</td>\n",
       "      <td>0.849127</td>\n",
       "      <td>0.850444</td>\n",
       "      <td>0.852520</td>\n",
       "      <td>0.847391</td>\n",
       "      <td>0.852200</td>\n",
       "      <td>0.850336</td>\n",
       "      <td>0.001918</td>\n",
       "    </tr>\n",
       "    <tr>\n",
       "      <th>434</th>\n",
       "      <td>383.402748</td>\n",
       "      <td>5.784884</td>\n",
       "      <td>4.800285</td>\n",
       "      <td>0.346495</td>\n",
       "      <td>15</td>\n",
       "      <td>500</td>\n",
       "      <td>21</td>\n",
       "      <td>{'lgbm__max_depth': 15, 'lgbm__n_estimators': ...</td>\n",
       "      <td>0.763681</td>\n",
       "      <td>0.764289</td>\n",
       "      <td>...</td>\n",
       "      <td>0.763675</td>\n",
       "      <td>0.000987</td>\n",
       "      <td>99</td>\n",
       "      <td>0.852078</td>\n",
       "      <td>0.852705</td>\n",
       "      <td>0.853141</td>\n",
       "      <td>0.849562</td>\n",
       "      <td>0.850400</td>\n",
       "      <td>0.851577</td>\n",
       "      <td>0.001372</td>\n",
       "    </tr>\n",
       "    <tr>\n",
       "      <th>230</th>\n",
       "      <td>402.607085</td>\n",
       "      <td>6.725521</td>\n",
       "      <td>4.928481</td>\n",
       "      <td>0.279940</td>\n",
       "      <td>8</td>\n",
       "      <td>700</td>\n",
       "      <td>21</td>\n",
       "      <td>{'lgbm__max_depth': 8, 'lgbm__n_estimators': 7...</td>\n",
       "      <td>0.762832</td>\n",
       "      <td>0.760950</td>\n",
       "      <td>...</td>\n",
       "      <td>0.763484</td>\n",
       "      <td>0.003281</td>\n",
       "      <td>100</td>\n",
       "      <td>0.861987</td>\n",
       "      <td>0.865176</td>\n",
       "      <td>0.865612</td>\n",
       "      <td>0.860552</td>\n",
       "      <td>0.863392</td>\n",
       "      <td>0.863344</td>\n",
       "      <td>0.001905</td>\n",
       "    </tr>\n",
       "    <tr>\n",
       "      <th>176</th>\n",
       "      <td>423.267187</td>\n",
       "      <td>13.493957</td>\n",
       "      <td>4.651888</td>\n",
       "      <td>0.114237</td>\n",
       "      <td>6</td>\n",
       "      <td>900</td>\n",
       "      <td>21</td>\n",
       "      <td>{'lgbm__max_depth': 6, 'lgbm__n_estimators': 9...</td>\n",
       "      <td>0.756264</td>\n",
       "      <td>0.760484</td>\n",
       "      <td>...</td>\n",
       "      <td>0.762185</td>\n",
       "      <td>0.004909</td>\n",
       "      <td>104</td>\n",
       "      <td>0.857413</td>\n",
       "      <td>0.857303</td>\n",
       "      <td>0.862206</td>\n",
       "      <td>0.854936</td>\n",
       "      <td>0.860198</td>\n",
       "      <td>0.858411</td>\n",
       "      <td>0.002526</td>\n",
       "    </tr>\n",
       "    <tr>\n",
       "      <th>404</th>\n",
       "      <td>389.551800</td>\n",
       "      <td>6.255640</td>\n",
       "      <td>4.496891</td>\n",
       "      <td>0.330248</td>\n",
       "      <td>14</td>\n",
       "      <td>500</td>\n",
       "      <td>21</td>\n",
       "      <td>{'lgbm__max_depth': 14, 'lgbm__n_estimators': ...</td>\n",
       "      <td>0.760495</td>\n",
       "      <td>0.757818</td>\n",
       "      <td>...</td>\n",
       "      <td>0.762055</td>\n",
       "      <td>0.003498</td>\n",
       "      <td>105</td>\n",
       "      <td>0.853127</td>\n",
       "      <td>0.853493</td>\n",
       "      <td>0.854048</td>\n",
       "      <td>0.848216</td>\n",
       "      <td>0.851031</td>\n",
       "      <td>0.851983</td>\n",
       "      <td>0.002142</td>\n",
       "    </tr>\n",
       "    <tr>\n",
       "      <th>...</th>\n",
       "      <td>...</td>\n",
       "      <td>...</td>\n",
       "      <td>...</td>\n",
       "      <td>...</td>\n",
       "      <td>...</td>\n",
       "      <td>...</td>\n",
       "      <td>...</td>\n",
       "      <td>...</td>\n",
       "      <td>...</td>\n",
       "      <td>...</td>\n",
       "      <td>...</td>\n",
       "      <td>...</td>\n",
       "      <td>...</td>\n",
       "      <td>...</td>\n",
       "      <td>...</td>\n",
       "      <td>...</td>\n",
       "      <td>...</td>\n",
       "      <td>...</td>\n",
       "      <td>...</td>\n",
       "      <td>...</td>\n",
       "      <td>...</td>\n",
       "    </tr>\n",
       "    <tr>\n",
       "      <th>4</th>\n",
       "      <td>60.004552</td>\n",
       "      <td>4.346639</td>\n",
       "      <td>3.918305</td>\n",
       "      <td>0.671880</td>\n",
       "      <td>1</td>\n",
       "      <td>100</td>\n",
       "      <td>41</td>\n",
       "      <td>{'lgbm__max_depth': 1, 'lgbm__n_estimators': 1...</td>\n",
       "      <td>0.503293</td>\n",
       "      <td>0.522717</td>\n",
       "      <td>...</td>\n",
       "      <td>0.506635</td>\n",
       "      <td>0.011033</td>\n",
       "      <td>396</td>\n",
       "      <td>0.505637</td>\n",
       "      <td>0.520661</td>\n",
       "      <td>0.506410</td>\n",
       "      <td>0.503778</td>\n",
       "      <td>0.509593</td>\n",
       "      <td>0.509216</td>\n",
       "      <td>0.006023</td>\n",
       "    </tr>\n",
       "    <tr>\n",
       "      <th>5</th>\n",
       "      <td>55.414663</td>\n",
       "      <td>9.258133</td>\n",
       "      <td>4.116902</td>\n",
       "      <td>0.429374</td>\n",
       "      <td>1</td>\n",
       "      <td>100</td>\n",
       "      <td>51</td>\n",
       "      <td>{'lgbm__max_depth': 1, 'lgbm__n_estimators': 1...</td>\n",
       "      <td>0.503293</td>\n",
       "      <td>0.522717</td>\n",
       "      <td>...</td>\n",
       "      <td>0.506635</td>\n",
       "      <td>0.011033</td>\n",
       "      <td>396</td>\n",
       "      <td>0.505637</td>\n",
       "      <td>0.520661</td>\n",
       "      <td>0.506410</td>\n",
       "      <td>0.503778</td>\n",
       "      <td>0.509593</td>\n",
       "      <td>0.509216</td>\n",
       "      <td>0.006023</td>\n",
       "    </tr>\n",
       "    <tr>\n",
       "      <th>3</th>\n",
       "      <td>62.735086</td>\n",
       "      <td>13.220196</td>\n",
       "      <td>4.257497</td>\n",
       "      <td>0.651107</td>\n",
       "      <td>1</td>\n",
       "      <td>100</td>\n",
       "      <td>31</td>\n",
       "      <td>{'lgbm__max_depth': 1, 'lgbm__n_estimators': 1...</td>\n",
       "      <td>0.503293</td>\n",
       "      <td>0.522717</td>\n",
       "      <td>...</td>\n",
       "      <td>0.506635</td>\n",
       "      <td>0.011033</td>\n",
       "      <td>396</td>\n",
       "      <td>0.505637</td>\n",
       "      <td>0.520661</td>\n",
       "      <td>0.506410</td>\n",
       "      <td>0.503778</td>\n",
       "      <td>0.509593</td>\n",
       "      <td>0.509216</td>\n",
       "      <td>0.006023</td>\n",
       "    </tr>\n",
       "    <tr>\n",
       "      <th>2</th>\n",
       "      <td>60.185147</td>\n",
       "      <td>7.880498</td>\n",
       "      <td>4.283497</td>\n",
       "      <td>0.689152</td>\n",
       "      <td>1</td>\n",
       "      <td>100</td>\n",
       "      <td>21</td>\n",
       "      <td>{'lgbm__max_depth': 1, 'lgbm__n_estimators': 1...</td>\n",
       "      <td>0.503293</td>\n",
       "      <td>0.522717</td>\n",
       "      <td>...</td>\n",
       "      <td>0.506635</td>\n",
       "      <td>0.011033</td>\n",
       "      <td>396</td>\n",
       "      <td>0.505637</td>\n",
       "      <td>0.520661</td>\n",
       "      <td>0.506410</td>\n",
       "      <td>0.503778</td>\n",
       "      <td>0.509593</td>\n",
       "      <td>0.509216</td>\n",
       "      <td>0.006023</td>\n",
       "    </tr>\n",
       "    <tr>\n",
       "      <th>1</th>\n",
       "      <td>39.917035</td>\n",
       "      <td>6.248979</td>\n",
       "      <td>4.504891</td>\n",
       "      <td>0.709027</td>\n",
       "      <td>1</td>\n",
       "      <td>100</td>\n",
       "      <td>11</td>\n",
       "      <td>{'lgbm__max_depth': 1, 'lgbm__n_estimators': 1...</td>\n",
       "      <td>0.503293</td>\n",
       "      <td>0.522717</td>\n",
       "      <td>...</td>\n",
       "      <td>0.506635</td>\n",
       "      <td>0.011033</td>\n",
       "      <td>396</td>\n",
       "      <td>0.505637</td>\n",
       "      <td>0.520661</td>\n",
       "      <td>0.506410</td>\n",
       "      <td>0.503778</td>\n",
       "      <td>0.509593</td>\n",
       "      <td>0.509216</td>\n",
       "      <td>0.006023</td>\n",
       "    </tr>\n",
       "  </tbody>\n",
       "</table>\n",
       "<p>290 rows × 23 columns</p>\n",
       "</div>"
      ],
      "text/plain": [
       "     mean_fit_time  std_fit_time  mean_score_time  std_score_time  \\\n",
       "464     421.715024      7.054495         5.241273        0.592664   \n",
       "434     383.402748      5.784884         4.800285        0.346495   \n",
       "230     402.607085      6.725521         4.928481        0.279940   \n",
       "176     423.267187     13.493957         4.651888        0.114237   \n",
       "404     389.551800      6.255640         4.496891        0.330248   \n",
       "..             ...           ...              ...             ...   \n",
       "4        60.004552      4.346639         3.918305        0.671880   \n",
       "5        55.414663      9.258133         4.116902        0.429374   \n",
       "3        62.735086     13.220196         4.257497        0.651107   \n",
       "2        60.185147      7.880498         4.283497        0.689152   \n",
       "1        39.917035      6.248979         4.504891        0.709027   \n",
       "\n",
       "    param_lgbm__max_depth param_lgbm__n_estimators param_lgbm__num_leaves  \\\n",
       "464                    -1                      500                     21   \n",
       "434                    15                      500                     21   \n",
       "230                     8                      700                     21   \n",
       "176                     6                      900                     21   \n",
       "404                    14                      500                     21   \n",
       "..                    ...                      ...                    ...   \n",
       "4                       1                      100                     41   \n",
       "5                       1                      100                     51   \n",
       "3                       1                      100                     31   \n",
       "2                       1                      100                     21   \n",
       "1                       1                      100                     11   \n",
       "\n",
       "                                                params  split0_test_score  \\\n",
       "464  {'lgbm__max_depth': -1, 'lgbm__n_estimators': ...           0.763103   \n",
       "434  {'lgbm__max_depth': 15, 'lgbm__n_estimators': ...           0.763681   \n",
       "230  {'lgbm__max_depth': 8, 'lgbm__n_estimators': 7...           0.762832   \n",
       "176  {'lgbm__max_depth': 6, 'lgbm__n_estimators': 9...           0.756264   \n",
       "404  {'lgbm__max_depth': 14, 'lgbm__n_estimators': ...           0.760495   \n",
       "..                                                 ...                ...   \n",
       "4    {'lgbm__max_depth': 1, 'lgbm__n_estimators': 1...           0.503293   \n",
       "5    {'lgbm__max_depth': 1, 'lgbm__n_estimators': 1...           0.503293   \n",
       "3    {'lgbm__max_depth': 1, 'lgbm__n_estimators': 1...           0.503293   \n",
       "2    {'lgbm__max_depth': 1, 'lgbm__n_estimators': 1...           0.503293   \n",
       "1    {'lgbm__max_depth': 1, 'lgbm__n_estimators': 1...           0.503293   \n",
       "\n",
       "     split1_test_score  ...  mean_test_score  std_test_score  rank_test_score  \\\n",
       "464           0.760048  ...         0.764038        0.003557               97   \n",
       "434           0.764289  ...         0.763675        0.000987               99   \n",
       "230           0.760950  ...         0.763484        0.003281              100   \n",
       "176           0.760484  ...         0.762185        0.004909              104   \n",
       "404           0.757818  ...         0.762055        0.003498              105   \n",
       "..                 ...  ...              ...             ...              ...   \n",
       "4             0.522717  ...         0.506635        0.011033              396   \n",
       "5             0.522717  ...         0.506635        0.011033              396   \n",
       "3             0.522717  ...         0.506635        0.011033              396   \n",
       "2             0.522717  ...         0.506635        0.011033              396   \n",
       "1             0.522717  ...         0.506635        0.011033              396   \n",
       "\n",
       "     split0_train_score  split1_train_score  split2_train_score  \\\n",
       "464            0.849127            0.850444            0.852520   \n",
       "434            0.852078            0.852705            0.853141   \n",
       "230            0.861987            0.865176            0.865612   \n",
       "176            0.857413            0.857303            0.862206   \n",
       "404            0.853127            0.853493            0.854048   \n",
       "..                  ...                 ...                 ...   \n",
       "4              0.505637            0.520661            0.506410   \n",
       "5              0.505637            0.520661            0.506410   \n",
       "3              0.505637            0.520661            0.506410   \n",
       "2              0.505637            0.520661            0.506410   \n",
       "1              0.505637            0.520661            0.506410   \n",
       "\n",
       "     split3_train_score  split4_train_score  mean_train_score  std_train_score  \n",
       "464            0.847391            0.852200          0.850336         0.001918  \n",
       "434            0.849562            0.850400          0.851577         0.001372  \n",
       "230            0.860552            0.863392          0.863344         0.001905  \n",
       "176            0.854936            0.860198          0.858411         0.002526  \n",
       "404            0.848216            0.851031          0.851983         0.002142  \n",
       "..                  ...                 ...               ...              ...  \n",
       "4              0.503778            0.509593          0.509216         0.006023  \n",
       "5              0.503778            0.509593          0.509216         0.006023  \n",
       "3              0.503778            0.509593          0.509216         0.006023  \n",
       "2              0.503778            0.509593          0.509216         0.006023  \n",
       "1              0.503778            0.509593          0.509216         0.006023  \n",
       "\n",
       "[290 rows x 23 columns]"
      ]
     },
     "execution_count": 570,
     "metadata": {},
     "output_type": "execute_result"
    }
   ],
   "source": [
    "lgbm_results = pd.DataFrame(search_lgbm.cv_results_)[(pd.DataFrame(search_lgbm.cv_results_)['mean_train_score'] - pd.DataFrame(search_lgbm.cv_results_)['mean_test_score']) < 0.1].sort_values('rank_test_score')\n",
    "lgbm_results"
   ]
  },
  {
   "cell_type": "code",
   "execution_count": 571,
   "metadata": {},
   "outputs": [
    {
     "data": {
      "text/html": [
       "<div>\n",
       "<style scoped>\n",
       "    .dataframe tbody tr th:only-of-type {\n",
       "        vertical-align: middle;\n",
       "    }\n",
       "\n",
       "    .dataframe tbody tr th {\n",
       "        vertical-align: top;\n",
       "    }\n",
       "\n",
       "    .dataframe thead th {\n",
       "        text-align: right;\n",
       "    }\n",
       "</style>\n",
       "<table border=\"1\" class=\"dataframe\">\n",
       "  <thead>\n",
       "    <tr style=\"text-align: right;\">\n",
       "      <th></th>\n",
       "      <th>param_lgbm__max_depth</th>\n",
       "      <th>param_lgbm__num_leaves</th>\n",
       "      <th>param_lgbm__n_estimators</th>\n",
       "    </tr>\n",
       "  </thead>\n",
       "  <tbody>\n",
       "    <tr>\n",
       "      <th>464</th>\n",
       "      <td>-1</td>\n",
       "      <td>21</td>\n",
       "      <td>500</td>\n",
       "    </tr>\n",
       "  </tbody>\n",
       "</table>\n",
       "</div>"
      ],
      "text/plain": [
       "    param_lgbm__max_depth param_lgbm__num_leaves param_lgbm__n_estimators\n",
       "464                    -1                     21                      500"
      ]
     },
     "execution_count": 571,
     "metadata": {},
     "output_type": "execute_result"
    }
   ],
   "source": [
    "# Best hyperparameters values\n",
    "lgbm_results.head(1)[['param_lgbm__max_depth', 'param_lgbm__num_leaves', 'param_lgbm__n_estimators']]"
   ]
  },
  {
   "cell_type": "code",
   "execution_count": 580,
   "metadata": {},
   "outputs": [
    {
     "name": "stdout",
     "output_type": "stream",
     "text": [
      "F1 with LightGBM - 0.764\n"
     ]
    }
   ],
   "source": [
    "print('F1 with LightGBM - {:.3f}'.format(float(lgbm_results.head(1)['mean_test_score'])))"
   ]
  },
  {
   "cell_type": "markdown",
   "metadata": {},
   "source": [
    "## BERT"
   ]
  },
  {
   "cell_type": "code",
   "execution_count": 61,
   "metadata": {},
   "outputs": [],
   "source": [
    "import torch\n",
    "import transformers\n",
    "\n",
    "from IPython.display import clear_output"
   ]
  },
  {
   "cell_type": "code",
   "execution_count": 62,
   "metadata": {},
   "outputs": [],
   "source": [
    "train_bert = train.copy()\n",
    "test_bert = test.copy()"
   ]
  },
  {
   "cell_type": "code",
   "execution_count": 63,
   "metadata": {},
   "outputs": [
    {
     "data": {
      "text/plain": [
       "((127656, 5), (31915, 5))"
      ]
     },
     "execution_count": 63,
     "metadata": {},
     "output_type": "execute_result"
    }
   ],
   "source": [
    "train_bert.shape, test_bert.shape"
   ]
  },
  {
   "cell_type": "code",
   "execution_count": 64,
   "metadata": {},
   "outputs": [],
   "source": [
    "# BERT tokenizer and model\n",
    "tokenizer = transformers.BertTokenizer.from_pretrained('bert-base-cased')\n",
    "model = transformers.BertModel.from_pretrained('bert-base-cased')"
   ]
  },
  {
   "cell_type": "code",
   "execution_count": 65,
   "metadata": {},
   "outputs": [],
   "source": [
    "# max comment length, due to model restrictions\n",
    "max_length = 512"
   ]
  },
  {
   "cell_type": "code",
   "execution_count": 66,
   "metadata": {},
   "outputs": [],
   "source": [
    "# train and test tokenization\n",
    "tokenized_train = train_bert['text'].apply(lambda x: tokenizer.encode(x, add_special_tokens=True, truncation=True, max_length=512))\n",
    "tokenized_test = test_bert['text'].apply(lambda x: tokenizer.encode(x, add_special_tokens=True, truncation=True, max_length=512))"
   ]
  },
  {
   "cell_type": "code",
   "execution_count": 67,
   "metadata": {},
   "outputs": [],
   "source": [
    "# shape formatting\n",
    "padded_train = np.array([i + [0] * (max_length - len(i)) for i in tokenized_train.values])\n",
    "padded_test = np.array([i + [0] * (max_length - len(i)) for i in tokenized_test.values])"
   ]
  },
  {
   "cell_type": "code",
   "execution_count": 68,
   "metadata": {},
   "outputs": [],
   "source": [
    "# attention mask generation\n",
    "attention_mask_train = np.where(padded_train != 0, 1, 0)\n",
    "attention_mask_test = np.where(padded_test != 0, 1, 0)"
   ]
  },
  {
   "cell_type": "code",
   "execution_count": 87,
   "metadata": {},
   "outputs": [
    {
     "data": {
      "text/plain": [
       "'127656 / 127656'"
      ]
     },
     "metadata": {},
     "output_type": "display_data"
    }
   ],
   "source": [
    "# embedings calculation for train set\n",
    "# clearing GPU memory\n",
    "torch.cuda.empty_cache()\n",
    "\n",
    "# model to GPU\n",
    "model.cuda()\n",
    "\n",
    "batch_size = 36\n",
    "embeddings_train = []\n",
    "\n",
    "length = len(train_bert)\n",
    "\n",
    "# splitting data into batches due to memory limitations\n",
    "for i in range(padded_train.shape[0] // batch_size):\n",
    "    # batch allocation\n",
    "    batch = torch.LongTensor(padded_train[batch_size * i:batch_size * (i + 1)]).cuda()\n",
    "    \n",
    "    # attention mask for batch allocation\n",
    "    attention_mask_batch = torch.LongTensor(attention_mask_train[batch_size * i:batch_size * (i + 1)]).cuda()\n",
    "    \n",
    "    # embedings calculation for batch\n",
    "    with torch.no_grad():\n",
    "        batch_embeddings = model(batch, attention_mask=attention_mask_batch)\n",
    "    \n",
    "    embeddings_train.append(batch_embeddings[0][:, 0, :].cpu().numpy())\n",
    "\n",
    "    clear_output(wait=True)\n",
    "    display(f'{(i + 1) * batch_size} / {length}')"
   ]
  },
  {
   "cell_type": "code",
   "execution_count": 91,
   "metadata": {},
   "outputs": [],
   "source": [
    "# embedings save to HDD for safety reasons\n",
    "pd.DataFrame(np.concatenate(embeddings_train)).to_csv('D:/Documents/Jupyter Lab/project11/yandex-praktikum-machine-learning-for-texts/embeddings_train.csv')"
   ]
  },
  {
   "cell_type": "code",
   "execution_count": 88,
   "metadata": {},
   "outputs": [
    {
     "data": {
      "text/plain": [
       "'31915 / 31915'"
      ]
     },
     "metadata": {},
     "output_type": "display_data"
    }
   ],
   "source": [
    "# embedings calculation for test set\n",
    "# clearing GPU memory\n",
    "torch.cuda.empty_cache()\n",
    "\n",
    "# model to GPU\n",
    "model.cuda()\n",
    "\n",
    "batch_size = 13\n",
    "embeddings_test = []\n",
    "\n",
    "length = len(test_bert)\n",
    "\n",
    "# splitting data into batches due to memory limitations\n",
    "for i in range(padded_test.shape[0] // batch_size):\n",
    "    # batch allocation\n",
    "    batch = torch.LongTensor(padded_test[batch_size * i:batch_size * (i + 1)]).cuda()\n",
    "    \n",
    "    # attention mask for batch allocation\n",
    "    attention_mask_batch = torch.LongTensor(attention_mask_test[batch_size * i:batch_size * (i + 1)]).cuda()\n",
    "    \n",
    "    # embedings calculation for batch\n",
    "    with torch.no_grad():\n",
    "        batch_embeddings = model(batch, attention_mask=attention_mask_batch)\n",
    "\n",
    "    embeddings_test.append(batch_embeddings[0][:, 0, :].cpu().numpy())\n",
    "\n",
    "    clear_output(wait=True)\n",
    "    display(f'{(i + 1) * batch_size} / {length}')"
   ]
  },
  {
   "cell_type": "code",
   "execution_count": 92,
   "metadata": {},
   "outputs": [],
   "source": [
    "# embedings save to HDD for safety reasons\n",
    "pd.DataFrame(np.concatenate(embeddings_test)).to_csv('D:/Documents/Jupyter Lab/project11/yandex-praktikum-machine-learning-for-texts/embeddings_test.csv')"
   ]
  },
  {
   "cell_type": "code",
   "execution_count": 100,
   "metadata": {},
   "outputs": [],
   "source": [
    "# features concatantion\n",
    "features_bert = np.concatenate(embeddings_train)\n",
    "features_bert_test = np.concatenate(embeddings_test)"
   ]
  },
  {
   "cell_type": "code",
   "execution_count": 61,
   "metadata": {},
   "outputs": [],
   "source": [
    "features_bert = pd.read_csv('D:/Documents/Jupyter Lab/project11/yandex-praktikum-machine-learning-for-texts/embeddings_train.csv', index_col=0)\n",
    "features_bert_test = pd.read_csv('D:/Documents/Jupyter Lab/project11/yandex-praktikum-machine-learning-for-texts/embeddings_test.csv', index_col=0)"
   ]
  },
  {
   "cell_type": "code",
   "execution_count": 62,
   "metadata": {},
   "outputs": [],
   "source": [
    "# features reindex\n",
    "features_bert.set_index(features.index, inplace=True)"
   ]
  },
  {
   "cell_type": "code",
   "execution_count": 63,
   "metadata": {},
   "outputs": [],
   "source": [
    "# exclamation points and length addition\n",
    "features_bert['exclamation_points'] = features['exclamation_points']\n",
    "features_bert['length'] = features['length']"
   ]
  },
  {
   "cell_type": "code",
   "execution_count": 64,
   "metadata": {},
   "outputs": [],
   "source": [
    "# features transfromation - scaling for exclamation points and length\n",
    "ct_bert = ColumnTransformer([\n",
    "    (\"numeric\", StandardScaler(), [768, 769])\n",
    "], remainder='passthrough')"
   ]
  },
  {
   "cell_type": "markdown",
   "metadata": {},
   "source": [
    "### Логистическая регрессия"
   ]
  },
  {
   "cell_type": "code",
   "execution_count": 86,
   "metadata": {},
   "outputs": [],
   "source": [
    "pipe_logreg_bert = Pipeline([('columns_transfrom', ct_bert), ('logreg', LogisticRegression(max_iter=1000, class_weight='balanced', n_jobs=4))])"
   ]
  },
  {
   "cell_type": "code",
   "execution_count": 87,
   "metadata": {},
   "outputs": [],
   "source": [
    "# Hyperparameters values grid\n",
    "param_grid = {\n",
    "    'logreg__C': [1, 2.54564]\n",
    "}"
   ]
  },
  {
   "cell_type": "code",
   "execution_count": 88,
   "metadata": {},
   "outputs": [],
   "source": [
    "# GridSearch settings\n",
    "search_logreg_bert = GridSearchCV(pipe_logreg_bert, param_grid, return_train_score=True, scoring='f1', verbose=5, n_jobs=-1, refit=False)"
   ]
  },
  {
   "cell_type": "code",
   "execution_count": 89,
   "metadata": {},
   "outputs": [
    {
     "name": "stdout",
     "output_type": "stream",
     "text": [
      "Fitting 5 folds for each of 2 candidates, totalling 10 fits\n"
     ]
    },
    {
     "name": "stderr",
     "output_type": "stream",
     "text": [
      "[Parallel(n_jobs=-1)]: Using backend LokyBackend with 8 concurrent workers.\n",
      "[Parallel(n_jobs=-1)]: Done   4 out of  10 | elapsed:  9.2min remaining: 13.7min\n",
      "[Parallel(n_jobs=-1)]: Done   7 out of  10 | elapsed:  9.2min remaining:  4.0min\n",
      "[Parallel(n_jobs=-1)]: Done  10 out of  10 | elapsed: 11.1min remaining:    0.0s\n",
      "[Parallel(n_jobs=-1)]: Done  10 out of  10 | elapsed: 11.1min finished\n"
     ]
    },
    {
     "data": {
      "text/plain": [
       "GridSearchCV(estimator=Pipeline(steps=[('columns_transfrom',\n",
       "                                        ColumnTransformer(remainder='passthrough',\n",
       "                                                          transformers=[('numeric',\n",
       "                                                                         StandardScaler(),\n",
       "                                                                         [768,\n",
       "                                                                          769])])),\n",
       "                                       ('logreg',\n",
       "                                        LogisticRegression(class_weight='balanced',\n",
       "                                                           max_iter=1000,\n",
       "                                                           n_jobs=4))]),\n",
       "             n_jobs=-1, param_grid={'logreg__C': [1, 2.54564]}, refit=False,\n",
       "             return_train_score=True, scoring='f1', verbose=5)"
      ]
     },
     "execution_count": 89,
     "metadata": {},
     "output_type": "execute_result"
    }
   ],
   "source": [
    "# Best hyperparameters values search\n",
    "search_logreg_bert.fit(features_bert, target)"
   ]
  },
  {
   "cell_type": "code",
   "execution_count": 90,
   "metadata": {},
   "outputs": [
    {
     "data": {
      "text/html": [
       "<div>\n",
       "<style scoped>\n",
       "    .dataframe tbody tr th:only-of-type {\n",
       "        vertical-align: middle;\n",
       "    }\n",
       "\n",
       "    .dataframe tbody tr th {\n",
       "        vertical-align: top;\n",
       "    }\n",
       "\n",
       "    .dataframe thead th {\n",
       "        text-align: right;\n",
       "    }\n",
       "</style>\n",
       "<table border=\"1\" class=\"dataframe\">\n",
       "  <thead>\n",
       "    <tr style=\"text-align: right;\">\n",
       "      <th></th>\n",
       "      <th>mean_fit_time</th>\n",
       "      <th>std_fit_time</th>\n",
       "      <th>mean_score_time</th>\n",
       "      <th>std_score_time</th>\n",
       "      <th>param_logreg__C</th>\n",
       "      <th>params</th>\n",
       "      <th>split0_test_score</th>\n",
       "      <th>split1_test_score</th>\n",
       "      <th>split2_test_score</th>\n",
       "      <th>split3_test_score</th>\n",
       "      <th>...</th>\n",
       "      <th>mean_test_score</th>\n",
       "      <th>std_test_score</th>\n",
       "      <th>rank_test_score</th>\n",
       "      <th>split0_train_score</th>\n",
       "      <th>split1_train_score</th>\n",
       "      <th>split2_train_score</th>\n",
       "      <th>split3_train_score</th>\n",
       "      <th>split4_train_score</th>\n",
       "      <th>mean_train_score</th>\n",
       "      <th>std_train_score</th>\n",
       "    </tr>\n",
       "  </thead>\n",
       "  <tbody>\n",
       "    <tr>\n",
       "      <th>0</th>\n",
       "      <td>503.234143</td>\n",
       "      <td>40.986014</td>\n",
       "      <td>1.399366</td>\n",
       "      <td>0.324135</td>\n",
       "      <td>1</td>\n",
       "      <td>{'logreg__C': 1}</td>\n",
       "      <td>0.633707</td>\n",
       "      <td>0.632918</td>\n",
       "      <td>0.628587</td>\n",
       "      <td>0.634709</td>\n",
       "      <td>...</td>\n",
       "      <td>0.632507</td>\n",
       "      <td>0.002090</td>\n",
       "      <td>1</td>\n",
       "      <td>0.644814</td>\n",
       "      <td>0.645627</td>\n",
       "      <td>0.647520</td>\n",
       "      <td>0.644378</td>\n",
       "      <td>0.645405</td>\n",
       "      <td>0.645549</td>\n",
       "      <td>0.001079</td>\n",
       "    </tr>\n",
       "    <tr>\n",
       "      <th>1</th>\n",
       "      <td>385.361888</td>\n",
       "      <td>162.913375</td>\n",
       "      <td>1.531785</td>\n",
       "      <td>1.668818</td>\n",
       "      <td>2.54564</td>\n",
       "      <td>{'logreg__C': 2.54564}</td>\n",
       "      <td>0.634248</td>\n",
       "      <td>0.633020</td>\n",
       "      <td>0.628983</td>\n",
       "      <td>0.634194</td>\n",
       "      <td>...</td>\n",
       "      <td>0.632460</td>\n",
       "      <td>0.001948</td>\n",
       "      <td>2</td>\n",
       "      <td>0.644735</td>\n",
       "      <td>0.645776</td>\n",
       "      <td>0.646855</td>\n",
       "      <td>0.644112</td>\n",
       "      <td>0.645787</td>\n",
       "      <td>0.645453</td>\n",
       "      <td>0.000948</td>\n",
       "    </tr>\n",
       "  </tbody>\n",
       "</table>\n",
       "<p>2 rows × 21 columns</p>\n",
       "</div>"
      ],
      "text/plain": [
       "   mean_fit_time  std_fit_time  mean_score_time  std_score_time  \\\n",
       "0     503.234143     40.986014         1.399366        0.324135   \n",
       "1     385.361888    162.913375         1.531785        1.668818   \n",
       "\n",
       "  param_logreg__C                  params  split0_test_score  \\\n",
       "0               1        {'logreg__C': 1}           0.633707   \n",
       "1         2.54564  {'logreg__C': 2.54564}           0.634248   \n",
       "\n",
       "   split1_test_score  split2_test_score  split3_test_score  ...  \\\n",
       "0           0.632918           0.628587           0.634709  ...   \n",
       "1           0.633020           0.628983           0.634194  ...   \n",
       "\n",
       "   mean_test_score  std_test_score  rank_test_score  split0_train_score  \\\n",
       "0         0.632507        0.002090                1            0.644814   \n",
       "1         0.632460        0.001948                2            0.644735   \n",
       "\n",
       "   split1_train_score  split2_train_score  split3_train_score  \\\n",
       "0            0.645627            0.647520            0.644378   \n",
       "1            0.645776            0.646855            0.644112   \n",
       "\n",
       "   split4_train_score  mean_train_score  std_train_score  \n",
       "0            0.645405          0.645549         0.001079  \n",
       "1            0.645787          0.645453         0.000948  \n",
       "\n",
       "[2 rows x 21 columns]"
      ]
     },
     "execution_count": 90,
     "metadata": {},
     "output_type": "execute_result"
    }
   ],
   "source": [
    "logreg_results_bert = pd.DataFrame(search_logreg_bert.cv_results_)[(pd.DataFrame(search_logreg_bert.cv_results_)['mean_train_score'] - pd.DataFrame(search_logreg_bert.cv_results_)['mean_test_score']) < 0.1].sort_values('rank_test_score')\n",
    "logreg_results_bert"
   ]
  },
  {
   "cell_type": "code",
   "execution_count": 91,
   "metadata": {},
   "outputs": [
    {
     "data": {
      "text/html": [
       "<div>\n",
       "<style scoped>\n",
       "    .dataframe tbody tr th:only-of-type {\n",
       "        vertical-align: middle;\n",
       "    }\n",
       "\n",
       "    .dataframe tbody tr th {\n",
       "        vertical-align: top;\n",
       "    }\n",
       "\n",
       "    .dataframe thead th {\n",
       "        text-align: right;\n",
       "    }\n",
       "</style>\n",
       "<table border=\"1\" class=\"dataframe\">\n",
       "  <thead>\n",
       "    <tr style=\"text-align: right;\">\n",
       "      <th></th>\n",
       "      <th>param_logreg__C</th>\n",
       "    </tr>\n",
       "  </thead>\n",
       "  <tbody>\n",
       "    <tr>\n",
       "      <th>0</th>\n",
       "      <td>1</td>\n",
       "    </tr>\n",
       "  </tbody>\n",
       "</table>\n",
       "</div>"
      ],
      "text/plain": [
       "  param_logreg__C\n",
       "0               1"
      ]
     },
     "execution_count": 91,
     "metadata": {},
     "output_type": "execute_result"
    }
   ],
   "source": [
    "# Best hyperparameters values\n",
    "logreg_results_bert.head(1)[['param_logreg__C']]"
   ]
  },
  {
   "cell_type": "code",
   "execution_count": 92,
   "metadata": {},
   "outputs": [
    {
     "name": "stdout",
     "output_type": "stream",
     "text": [
      "F1 with logistic regression - 0.633\n"
     ]
    }
   ],
   "source": [
    "print('F1 with logistic regression - {:.3f}'.format(float(logreg_results_bert.head(1)['mean_test_score'])))"
   ]
  },
  {
   "cell_type": "markdown",
   "metadata": {},
   "source": [
    "### Дерево решений"
   ]
  },
  {
   "cell_type": "code",
   "execution_count": 65,
   "metadata": {},
   "outputs": [],
   "source": [
    "# Pipline with scaler and model\n",
    "pipe_tree_bert = Pipeline([('columns_transfrom', ct_bert), ('tree', DecisionTreeClassifier(class_weight='balanced', random_state=42))])"
   ]
  },
  {
   "cell_type": "code",
   "execution_count": 66,
   "metadata": {},
   "outputs": [],
   "source": [
    "# Hyperparameters values grid\n",
    "param_grid = {\n",
    "    'tree__max_depth': [None, 32],\n",
    "    'tree__min_samples_split': [2, 202]\n",
    "}"
   ]
  },
  {
   "cell_type": "code",
   "execution_count": 67,
   "metadata": {},
   "outputs": [],
   "source": [
    "# GridSearch settings\n",
    "search_tree_bert = GridSearchCV(pipe_tree_bert, param_grid, return_train_score=True, scoring='f1', verbose=5, n_jobs=-1, refit=False)"
   ]
  },
  {
   "cell_type": "code",
   "execution_count": 68,
   "metadata": {},
   "outputs": [
    {
     "name": "stdout",
     "output_type": "stream",
     "text": [
      "Fitting 5 folds for each of 4 candidates, totalling 20 fits\n"
     ]
    },
    {
     "name": "stderr",
     "output_type": "stream",
     "text": [
      "[Parallel(n_jobs=-1)]: Using backend LokyBackend with 8 concurrent workers.\n",
      "[Parallel(n_jobs=-1)]: Done   2 tasks      | elapsed:  5.6min\n",
      "[Parallel(n_jobs=-1)]: Done  10 out of  20 | elapsed: 11.0min remaining: 11.0min\n",
      "[Parallel(n_jobs=-1)]: Done  15 out of  20 | elapsed: 12.1min remaining:  4.0min\n",
      "[Parallel(n_jobs=-1)]: Done  20 out of  20 | elapsed: 15.4min remaining:    0.0s\n",
      "[Parallel(n_jobs=-1)]: Done  20 out of  20 | elapsed: 15.4min finished\n"
     ]
    },
    {
     "data": {
      "text/plain": [
       "GridSearchCV(estimator=Pipeline(steps=[('columns_transfrom',\n",
       "                                        ColumnTransformer(remainder='passthrough',\n",
       "                                                          transformers=[('numeric',\n",
       "                                                                         StandardScaler(),\n",
       "                                                                         [768,\n",
       "                                                                          769])])),\n",
       "                                       ('tree',\n",
       "                                        DecisionTreeClassifier(class_weight='balanced',\n",
       "                                                               random_state=42))]),\n",
       "             n_jobs=-1,\n",
       "             param_grid={'tree__max_depth': [None, 32],\n",
       "                         'tree__min_samples_split': [2, 202]},\n",
       "             return_train_score=True, scoring='f1', verbose=5)"
      ]
     },
     "execution_count": 68,
     "metadata": {},
     "output_type": "execute_result"
    }
   ],
   "source": [
    "# Best hyperparameters values search\n",
    "search_tree_bert.fit(features_bert, target)"
   ]
  },
  {
   "cell_type": "code",
   "execution_count": 69,
   "metadata": {},
   "outputs": [
    {
     "data": {
      "text/html": [
       "<div>\n",
       "<style scoped>\n",
       "    .dataframe tbody tr th:only-of-type {\n",
       "        vertical-align: middle;\n",
       "    }\n",
       "\n",
       "    .dataframe tbody tr th {\n",
       "        vertical-align: top;\n",
       "    }\n",
       "\n",
       "    .dataframe thead th {\n",
       "        text-align: right;\n",
       "    }\n",
       "</style>\n",
       "<table border=\"1\" class=\"dataframe\">\n",
       "  <thead>\n",
       "    <tr style=\"text-align: right;\">\n",
       "      <th></th>\n",
       "      <th>mean_fit_time</th>\n",
       "      <th>std_fit_time</th>\n",
       "      <th>mean_score_time</th>\n",
       "      <th>std_score_time</th>\n",
       "      <th>param_tree__max_depth</th>\n",
       "      <th>param_tree__min_samples_split</th>\n",
       "      <th>params</th>\n",
       "      <th>split0_test_score</th>\n",
       "      <th>split1_test_score</th>\n",
       "      <th>split2_test_score</th>\n",
       "      <th>...</th>\n",
       "      <th>mean_test_score</th>\n",
       "      <th>std_test_score</th>\n",
       "      <th>rank_test_score</th>\n",
       "      <th>split0_train_score</th>\n",
       "      <th>split1_train_score</th>\n",
       "      <th>split2_train_score</th>\n",
       "      <th>split3_train_score</th>\n",
       "      <th>split4_train_score</th>\n",
       "      <th>mean_train_score</th>\n",
       "      <th>std_train_score</th>\n",
       "    </tr>\n",
       "  </thead>\n",
       "  <tbody>\n",
       "  </tbody>\n",
       "</table>\n",
       "<p>0 rows × 22 columns</p>\n",
       "</div>"
      ],
      "text/plain": [
       "Empty DataFrame\n",
       "Columns: [mean_fit_time, std_fit_time, mean_score_time, std_score_time, param_tree__max_depth, param_tree__min_samples_split, params, split0_test_score, split1_test_score, split2_test_score, split3_test_score, split4_test_score, mean_test_score, std_test_score, rank_test_score, split0_train_score, split1_train_score, split2_train_score, split3_train_score, split4_train_score, mean_train_score, std_train_score]\n",
       "Index: []\n",
       "\n",
       "[0 rows x 22 columns]"
      ]
     },
     "execution_count": 69,
     "metadata": {},
     "output_type": "execute_result"
    }
   ],
   "source": [
    "tree_results_bert = pd.DataFrame(search_tree_bert.cv_results_)[(pd.DataFrame(search_tree_bert.cv_results_)['mean_train_score'] - pd.DataFrame(search_tree_bert.cv_results_)['mean_test_score']) < 0.1].sort_values('rank_test_score')\n",
    "tree_results_bert"
   ]
  },
  {
   "cell_type": "markdown",
   "metadata": {},
   "source": [
    "### Случайный лес"
   ]
  },
  {
   "cell_type": "code",
   "execution_count": 72,
   "metadata": {},
   "outputs": [],
   "source": [
    "# Pipline with scaler and model\n",
    "pipe_forest_bert = Pipeline([('columns_transfrom', ct_bert), ('forest', RandomForestClassifier(class_weight='balanced', random_state=42, n_jobs=4))])"
   ]
  },
  {
   "cell_type": "code",
   "execution_count": 73,
   "metadata": {},
   "outputs": [],
   "source": [
    "# Hyperparameters values grid\n",
    "param_grid = {\n",
    "    'forest__n_estimators': [100, 200],\n",
    "    'forest__max_depth': [None, 197],\n",
    "    'forest__min_samples_split': [2, 42],\n",
    "    'forest__min_samples_leaf': [1, 6]\n",
    "}"
   ]
  },
  {
   "cell_type": "code",
   "execution_count": 74,
   "metadata": {},
   "outputs": [],
   "source": [
    "# GridSearch settings\n",
    "search_forest_bert = GridSearchCV(pipe_forest_bert, param_grid, return_train_score=True, scoring='f1', verbose=5, n_jobs=-1, refit=False)"
   ]
  },
  {
   "cell_type": "code",
   "execution_count": 75,
   "metadata": {},
   "outputs": [
    {
     "name": "stdout",
     "output_type": "stream",
     "text": [
      "Fitting 5 folds for each of 16 candidates, totalling 80 fits\n"
     ]
    },
    {
     "name": "stderr",
     "output_type": "stream",
     "text": [
      "[Parallel(n_jobs=-1)]: Using backend LokyBackend with 8 concurrent workers.\n",
      "[Parallel(n_jobs=-1)]: Done   2 tasks      | elapsed:  8.9min\n",
      "[Parallel(n_jobs=-1)]: Done  56 tasks      | elapsed: 95.3min\n",
      "[Parallel(n_jobs=-1)]: Done  80 out of  80 | elapsed: 128.2min finished\n"
     ]
    },
    {
     "data": {
      "text/plain": [
       "GridSearchCV(estimator=Pipeline(steps=[('columns_transfrom',\n",
       "                                        ColumnTransformer(remainder='passthrough',\n",
       "                                                          transformers=[('numeric',\n",
       "                                                                         StandardScaler(),\n",
       "                                                                         [768,\n",
       "                                                                          769])])),\n",
       "                                       ('forest',\n",
       "                                        RandomForestClassifier(class_weight='balanced',\n",
       "                                                               n_jobs=4,\n",
       "                                                               random_state=42))]),\n",
       "             n_jobs=-1,\n",
       "             param_grid={'forest__max_depth': [None, 197],\n",
       "                         'forest__min_samples_leaf': [1, 6],\n",
       "                         'forest__min_samples_split': [2, 42],\n",
       "                         'forest__n_estimators': [100, 200]},\n",
       "             refit=False, return_train_score=True, scoring='f1', verbose=5)"
      ]
     },
     "execution_count": 75,
     "metadata": {},
     "output_type": "execute_result"
    }
   ],
   "source": [
    "# Best hyperparameters values search\n",
    "search_forest_bert.fit(features_bert, target)"
   ]
  },
  {
   "cell_type": "code",
   "execution_count": 77,
   "metadata": {},
   "outputs": [
    {
     "data": {
      "text/html": [
       "<div>\n",
       "<style scoped>\n",
       "    .dataframe tbody tr th:only-of-type {\n",
       "        vertical-align: middle;\n",
       "    }\n",
       "\n",
       "    .dataframe tbody tr th {\n",
       "        vertical-align: top;\n",
       "    }\n",
       "\n",
       "    .dataframe thead th {\n",
       "        text-align: right;\n",
       "    }\n",
       "</style>\n",
       "<table border=\"1\" class=\"dataframe\">\n",
       "  <thead>\n",
       "    <tr style=\"text-align: right;\">\n",
       "      <th></th>\n",
       "      <th>mean_fit_time</th>\n",
       "      <th>std_fit_time</th>\n",
       "      <th>mean_score_time</th>\n",
       "      <th>std_score_time</th>\n",
       "      <th>param_forest__max_depth</th>\n",
       "      <th>param_forest__min_samples_leaf</th>\n",
       "      <th>param_forest__min_samples_split</th>\n",
       "      <th>param_forest__n_estimators</th>\n",
       "      <th>params</th>\n",
       "      <th>split0_test_score</th>\n",
       "      <th>...</th>\n",
       "      <th>mean_test_score</th>\n",
       "      <th>std_test_score</th>\n",
       "      <th>rank_test_score</th>\n",
       "      <th>split0_train_score</th>\n",
       "      <th>split1_train_score</th>\n",
       "      <th>split2_train_score</th>\n",
       "      <th>split3_train_score</th>\n",
       "      <th>split4_train_score</th>\n",
       "      <th>mean_train_score</th>\n",
       "      <th>std_train_score</th>\n",
       "    </tr>\n",
       "  </thead>\n",
       "  <tbody>\n",
       "  </tbody>\n",
       "</table>\n",
       "<p>0 rows × 24 columns</p>\n",
       "</div>"
      ],
      "text/plain": [
       "Empty DataFrame\n",
       "Columns: [mean_fit_time, std_fit_time, mean_score_time, std_score_time, param_forest__max_depth, param_forest__min_samples_leaf, param_forest__min_samples_split, param_forest__n_estimators, params, split0_test_score, split1_test_score, split2_test_score, split3_test_score, split4_test_score, mean_test_score, std_test_score, rank_test_score, split0_train_score, split1_train_score, split2_train_score, split3_train_score, split4_train_score, mean_train_score, std_train_score]\n",
       "Index: []\n",
       "\n",
       "[0 rows x 24 columns]"
      ]
     },
     "execution_count": 77,
     "metadata": {},
     "output_type": "execute_result"
    }
   ],
   "source": [
    "forest_results_bert = pd.DataFrame(search_forest_bert.cv_results_)[(pd.DataFrame(search_forest_bert.cv_results_)['mean_train_score'] - pd.DataFrame(search_forest_bert.cv_results_)['mean_test_score']) < 0.1].sort_values('rank_test_score')\n",
    "forest_results_bert"
   ]
  },
  {
   "cell_type": "markdown",
   "metadata": {},
   "source": [
    "### LightGBM"
   ]
  },
  {
   "cell_type": "code",
   "execution_count": 87,
   "metadata": {},
   "outputs": [],
   "source": [
    "pipe_lgbm_bert = Pipeline([('columns_transfrom', ct_bert), ('lgbm', LGBMClassifier(class_weight='balanced', random_state=42, device_type='gpu', n_jobs=4))])"
   ]
  },
  {
   "cell_type": "code",
   "execution_count": 88,
   "metadata": {},
   "outputs": [],
   "source": [
    "# Hyperparameters values grid\n",
    "param_grid = {\n",
    "    'lgbm__n_estimators': [100, 500],\n",
    "    'lgbm__num_leaves': [31, 21]\n",
    "}"
   ]
  },
  {
   "cell_type": "code",
   "execution_count": 89,
   "metadata": {},
   "outputs": [],
   "source": [
    "# GridSearch settings\n",
    "search_lgbm_bert = GridSearchCV(pipe_lgbm_bert, param_grid, return_train_score=True, scoring='f1', verbose=5, n_jobs=-1, refit=False)"
   ]
  },
  {
   "cell_type": "code",
   "execution_count": 90,
   "metadata": {},
   "outputs": [
    {
     "name": "stdout",
     "output_type": "stream",
     "text": [
      "Fitting 5 folds for each of 4 candidates, totalling 20 fits\n"
     ]
    },
    {
     "name": "stderr",
     "output_type": "stream",
     "text": [
      "[Parallel(n_jobs=-1)]: Using backend LokyBackend with 8 concurrent workers.\n",
      "[Parallel(n_jobs=-1)]: Done   2 tasks      | elapsed:  2.6min\n",
      "[Parallel(n_jobs=-1)]: Done  10 out of  20 | elapsed:  4.9min remaining:  4.9min\n",
      "[Parallel(n_jobs=-1)]: Done  15 out of  20 | elapsed:  8.4min remaining:  2.8min\n",
      "[Parallel(n_jobs=-1)]: Done  20 out of  20 | elapsed:  8.9min remaining:    0.0s\n",
      "[Parallel(n_jobs=-1)]: Done  20 out of  20 | elapsed:  8.9min finished\n"
     ]
    },
    {
     "data": {
      "text/plain": [
       "GridSearchCV(estimator=Pipeline(steps=[('columns_transfrom',\n",
       "                                        ColumnTransformer(remainder='passthrough',\n",
       "                                                          transformers=[('numeric',\n",
       "                                                                         StandardScaler(),\n",
       "                                                                         [768,\n",
       "                                                                          769])])),\n",
       "                                       ('lgbm',\n",
       "                                        LGBMClassifier(class_weight='balanced',\n",
       "                                                       device_type='gpu',\n",
       "                                                       n_jobs=4,\n",
       "                                                       random_state=42))]),\n",
       "             n_jobs=-1,\n",
       "             param_grid={'lgbm__n_estimators': [100, 500],\n",
       "                         'lgbm__num_leaves': [31, 21]},\n",
       "             refit=False, return_train_score=True, scoring='f1', verbose=5)"
      ]
     },
     "execution_count": 90,
     "metadata": {},
     "output_type": "execute_result"
    }
   ],
   "source": [
    "# Best hyperparameters values search\n",
    "search_lgbm_bert.fit(features_bert, target)"
   ]
  },
  {
   "cell_type": "code",
   "execution_count": 91,
   "metadata": {},
   "outputs": [
    {
     "data": {
      "text/html": [
       "<div>\n",
       "<style scoped>\n",
       "    .dataframe tbody tr th:only-of-type {\n",
       "        vertical-align: middle;\n",
       "    }\n",
       "\n",
       "    .dataframe tbody tr th {\n",
       "        vertical-align: top;\n",
       "    }\n",
       "\n",
       "    .dataframe thead th {\n",
       "        text-align: right;\n",
       "    }\n",
       "</style>\n",
       "<table border=\"1\" class=\"dataframe\">\n",
       "  <thead>\n",
       "    <tr style=\"text-align: right;\">\n",
       "      <th></th>\n",
       "      <th>mean_fit_time</th>\n",
       "      <th>std_fit_time</th>\n",
       "      <th>mean_score_time</th>\n",
       "      <th>std_score_time</th>\n",
       "      <th>param_lgbm__n_estimators</th>\n",
       "      <th>param_lgbm__num_leaves</th>\n",
       "      <th>params</th>\n",
       "      <th>split0_test_score</th>\n",
       "      <th>split1_test_score</th>\n",
       "      <th>split2_test_score</th>\n",
       "      <th>...</th>\n",
       "      <th>mean_test_score</th>\n",
       "      <th>std_test_score</th>\n",
       "      <th>rank_test_score</th>\n",
       "      <th>split0_train_score</th>\n",
       "      <th>split1_train_score</th>\n",
       "      <th>split2_train_score</th>\n",
       "      <th>split3_train_score</th>\n",
       "      <th>split4_train_score</th>\n",
       "      <th>mean_train_score</th>\n",
       "      <th>std_train_score</th>\n",
       "    </tr>\n",
       "  </thead>\n",
       "  <tbody>\n",
       "    <tr>\n",
       "      <th>0</th>\n",
       "      <td>167.106989</td>\n",
       "      <td>0.110042</td>\n",
       "      <td>4.169291</td>\n",
       "      <td>0.425402</td>\n",
       "      <td>100</td>\n",
       "      <td>31</td>\n",
       "      <td>{'lgbm__n_estimators': 100, 'lgbm__num_leaves'...</td>\n",
       "      <td>0.621583</td>\n",
       "      <td>0.620049</td>\n",
       "      <td>0.611544</td>\n",
       "      <td>...</td>\n",
       "      <td>0.618501</td>\n",
       "      <td>0.003550</td>\n",
       "      <td>3</td>\n",
       "      <td>0.687720</td>\n",
       "      <td>0.690526</td>\n",
       "      <td>0.693026</td>\n",
       "      <td>0.689223</td>\n",
       "      <td>0.689545</td>\n",
       "      <td>0.690008</td>\n",
       "      <td>0.001757</td>\n",
       "    </tr>\n",
       "    <tr>\n",
       "      <th>1</th>\n",
       "      <td>137.122582</td>\n",
       "      <td>6.279812</td>\n",
       "      <td>2.156744</td>\n",
       "      <td>0.506493</td>\n",
       "      <td>100</td>\n",
       "      <td>21</td>\n",
       "      <td>{'lgbm__n_estimators': 100, 'lgbm__num_leaves'...</td>\n",
       "      <td>0.612605</td>\n",
       "      <td>0.602046</td>\n",
       "      <td>0.597872</td>\n",
       "      <td>...</td>\n",
       "      <td>0.606196</td>\n",
       "      <td>0.005407</td>\n",
       "      <td>4</td>\n",
       "      <td>0.651962</td>\n",
       "      <td>0.654722</td>\n",
       "      <td>0.659125</td>\n",
       "      <td>0.652272</td>\n",
       "      <td>0.656151</td>\n",
       "      <td>0.654846</td>\n",
       "      <td>0.002645</td>\n",
       "    </tr>\n",
       "  </tbody>\n",
       "</table>\n",
       "<p>2 rows × 22 columns</p>\n",
       "</div>"
      ],
      "text/plain": [
       "   mean_fit_time  std_fit_time  mean_score_time  std_score_time  \\\n",
       "0     167.106989      0.110042         4.169291        0.425402   \n",
       "1     137.122582      6.279812         2.156744        0.506493   \n",
       "\n",
       "  param_lgbm__n_estimators param_lgbm__num_leaves  \\\n",
       "0                      100                     31   \n",
       "1                      100                     21   \n",
       "\n",
       "                                              params  split0_test_score  \\\n",
       "0  {'lgbm__n_estimators': 100, 'lgbm__num_leaves'...           0.621583   \n",
       "1  {'lgbm__n_estimators': 100, 'lgbm__num_leaves'...           0.612605   \n",
       "\n",
       "   split1_test_score  split2_test_score  ...  mean_test_score  std_test_score  \\\n",
       "0           0.620049           0.611544  ...         0.618501        0.003550   \n",
       "1           0.602046           0.597872  ...         0.606196        0.005407   \n",
       "\n",
       "   rank_test_score  split0_train_score  split1_train_score  \\\n",
       "0                3            0.687720            0.690526   \n",
       "1                4            0.651962            0.654722   \n",
       "\n",
       "   split2_train_score  split3_train_score  split4_train_score  \\\n",
       "0            0.693026            0.689223            0.689545   \n",
       "1            0.659125            0.652272            0.656151   \n",
       "\n",
       "   mean_train_score  std_train_score  \n",
       "0          0.690008         0.001757  \n",
       "1          0.654846         0.002645  \n",
       "\n",
       "[2 rows x 22 columns]"
      ]
     },
     "execution_count": 91,
     "metadata": {},
     "output_type": "execute_result"
    }
   ],
   "source": [
    "lgbm_results_bert = pd.DataFrame(search_lgbm_bert.cv_results_)[(pd.DataFrame(search_lgbm_bert.cv_results_)['mean_train_score'] - pd.DataFrame(search_lgbm_bert.cv_results_)['mean_test_score']) < 0.1].sort_values('rank_test_score')\n",
    "lgbm_results_bert"
   ]
  },
  {
   "cell_type": "code",
   "execution_count": 94,
   "metadata": {},
   "outputs": [
    {
     "data": {
      "text/html": [
       "<div>\n",
       "<style scoped>\n",
       "    .dataframe tbody tr th:only-of-type {\n",
       "        vertical-align: middle;\n",
       "    }\n",
       "\n",
       "    .dataframe tbody tr th {\n",
       "        vertical-align: top;\n",
       "    }\n",
       "\n",
       "    .dataframe thead th {\n",
       "        text-align: right;\n",
       "    }\n",
       "</style>\n",
       "<table border=\"1\" class=\"dataframe\">\n",
       "  <thead>\n",
       "    <tr style=\"text-align: right;\">\n",
       "      <th></th>\n",
       "      <th>param_lgbm__num_leaves</th>\n",
       "      <th>param_lgbm__n_estimators</th>\n",
       "    </tr>\n",
       "  </thead>\n",
       "  <tbody>\n",
       "    <tr>\n",
       "      <th>0</th>\n",
       "      <td>31</td>\n",
       "      <td>100</td>\n",
       "    </tr>\n",
       "  </tbody>\n",
       "</table>\n",
       "</div>"
      ],
      "text/plain": [
       "  param_lgbm__num_leaves param_lgbm__n_estimators\n",
       "0                     31                      100"
      ]
     },
     "execution_count": 94,
     "metadata": {},
     "output_type": "execute_result"
    }
   ],
   "source": [
    "# Best hyperparameters values\n",
    "lgbm_results_bert.head(1)[['param_lgbm__num_leaves', 'param_lgbm__n_estimators']]"
   ]
  },
  {
   "cell_type": "code",
   "execution_count": 95,
   "metadata": {},
   "outputs": [
    {
     "name": "stdout",
     "output_type": "stream",
     "text": [
      "F1 with LightGBM - 0.619\n"
     ]
    }
   ],
   "source": [
    "print('F1 with LightGBM - {:.3f}'.format(float(lgbm_results_bert.head(1)['mean_test_score'])))"
   ]
  },
  {
   "cell_type": "markdown",
   "metadata": {},
   "source": [
    "# 3. Тестирование"
   ]
  },
  {
   "cell_type": "code",
   "execution_count": 70,
   "metadata": {},
   "outputs": [],
   "source": [
    "best_model = Pipeline([('columns_transfrom', ct_tfidf), ('lgbm', LGBMClassifier(num_leaves=21, n_estimators=500, class_weight='balanced', random_state=42, device_type='gpu', n_jobs=4))])"
   ]
  },
  {
   "cell_type": "code",
   "execution_count": 71,
   "metadata": {},
   "outputs": [],
   "source": [
    "features_test = test.drop(columns=['text', 'toxic'])\n",
    "target_test = test['toxic']"
   ]
  },
  {
   "cell_type": "code",
   "execution_count": 72,
   "metadata": {},
   "outputs": [
    {
     "data": {
      "text/plain": [
       "Pipeline(steps=[('columns_transfrom',\n",
       "                 ColumnTransformer(transformers=[('text',\n",
       "                                                  TfidfVectorizer(stop_words={'english'}),\n",
       "                                                  1),\n",
       "                                                 ('numeric', StandardScaler(),\n",
       "                                                  [0, 2])])),\n",
       "                ('lgbm',\n",
       "                 LGBMClassifier(class_weight='balanced', device_type='gpu',\n",
       "                                n_estimators=500, n_jobs=4, num_leaves=21,\n",
       "                                random_state=42))])"
      ]
     },
     "execution_count": 72,
     "metadata": {},
     "output_type": "execute_result"
    }
   ],
   "source": [
    "best_model.fit(features, target)"
   ]
  },
  {
   "cell_type": "code",
   "execution_count": 73,
   "metadata": {},
   "outputs": [
    {
     "name": "stdout",
     "output_type": "stream",
     "text": [
      "F1 with LightGBM - 0.765\n"
     ]
    }
   ],
   "source": [
    "print('F1 with LightGBM - {:.3f}'.format(f1_score(target_test, best_model.predict(features_test))))"
   ]
  },
  {
   "cell_type": "code",
   "execution_count": 74,
   "metadata": {},
   "outputs": [
    {
     "name": "stdout",
     "output_type": "stream",
     "text": [
      "F1 with LightGBM on train sample (overfitting test) - 0.835\n"
     ]
    }
   ],
   "source": [
    "print('F1 with LightGBM on train sample (overfitting test) - {:.3f}'.format(f1_score(target, best_model.predict(features))))"
   ]
  },
  {
   "cell_type": "code",
   "execution_count": 75,
   "metadata": {},
   "outputs": [],
   "source": [
    "# feature importances DataFrame\n",
    "importances = pd.DataFrame({'feature': best_model['lgbm'].feature_name_, 'importance': best_model['lgbm'].feature_importances_})"
   ]
  },
  {
   "cell_type": "code",
   "execution_count": 76,
   "metadata": {},
   "outputs": [],
   "source": [
    "# features renaming\n",
    "importances.loc[138990, 'feature'] = 'exclamation_points'\n",
    "importances.loc[138991, 'feature'] = 'length'"
   ]
  },
  {
   "cell_type": "code",
   "execution_count": 77,
   "metadata": {},
   "outputs": [
    {
     "data": {
      "image/png": "[encoded data removed]",
      "text/plain": [
       "<Figure size 720x360 with 1 Axes>"
      ]
     },
     "metadata": {
      "needs_background": "light"
     },
     "output_type": "display_data"
    }
   ],
   "source": [
    "(\n",
    "    importances\n",
    "    .sort_values(by='importance', ascending=False)\n",
    "    .head(20)\n",
    "    .plot(x='feature', kind='barh', figsize=(10, 5))\n",
    ")\n",
    "\n",
    "plt.xlabel('Importance')\n",
    "plt.ylabel('Feature')\n",
    "plt.title('Feature Importance')\n",
    "plt.show()"
   ]
  },
  {
   "cell_type": "code",
   "execution_count": 78,
   "metadata": {},
   "outputs": [],
   "source": [
    "importances.loc[~importances['feature'].isin(['exclamation_points', 'length']), 'feature'] = 'tf_idf'"
   ]
  },
  {
   "cell_type": "code",
   "execution_count": 79,
   "metadata": {},
   "outputs": [
    {
     "data": {
      "image/png": "[encoded data removed]",
      "text/plain": [
       "<Figure size 720x360 with 1 Axes>"
      ]
     },
     "metadata": {
      "needs_background": "light"
     },
     "output_type": "display_data"
    }
   ],
   "source": [
    "(\n",
    "    importances\n",
    "    .groupby('feature')['importance']\n",
    "    .sum()\n",
    "    .sort_values()\n",
    "    .plot(kind='barh', figsize=(10, 5))\n",
    ")\n",
    "\n",
    "plt.xlabel('Importance')\n",
    "plt.ylabel('Feature')\n",
    "plt.title('Feature Importance (grouped)')\n",
    "plt.show()"
   ]
  },
  {
   "cell_type": "markdown",
   "metadata": {},
   "source": [
    "# 4. Выводы"
   ]
  },
  {
   "cell_type": "markdown",
   "metadata": {},
   "source": [
    "Предобработка комментариев происходила 2 способами:\n",
    "1. Расчет величины TF-IDF для слов (основной способ);\n",
    "2. Расчет ембедингов для слов с помощью нейронной сети BERT (дополнительный способ, применял с целью знакомства с нейронной сетью BERT и фреймворком PyTorch).\n",
    "\n",
    "Также в признаки были добавлены количество восклицательных знаков и символов в комментарии. Для обучения применялись 4 модели - логистическая регрессия, дерево решений, случайный лес, LightGBM.\n",
    "\n",
    "В результате анализа проведенной работы и полученных результатов можно сделать следующие выводы:\n",
    "- лучшей модель стал __LightGBM__. Он показал лучшее значение __F1__ на __кросс-валидации__ (__0.764__);\n",
    "- __F1__ на __тестовой метрике__ для лучшей модели равняется __0.765__, что является достаточным для выполнения поставленной задачи и в целом является более-менее приемлемым результатом;\n",
    "- модель в некоторой степени переобучена, но и в ходе кросс-валидации, и проверки на тестовой выборке разница значений F1 между обучающей и тестовой (валидационной, в случае кросс-валидации) меньше 0.1.\n",
    "\n",
    "Важно отметить, что ввиду ограниченности по времени, ресурсам и учебному характеру проекта:\n",
    "- для всех моделей не были подобраны оптимальные гиперпараметры;\n",
    "- подбор гиперпараметров для моделей, работающих с комментариями, предобработанными BERT, осуществлялся следующим образом - в сетку параметров кросс-валидации были добавлены стандартные параметры моделей и параметры моделей, с которыми были получены лучшие результаты на TF-IDF. Очевидно, что это плохой способ подбора гиперпараметров. Но в данном проекте работа с BERT не была обязательной, и, с учетом указанных ограничений, это была попытка лишь ознакомиться с возможностями BERT. Из полученных результатов можно сделать вывод, что классификация на ембедингах BERT с минимальной оптимизацией дала результаты, не кардинально уступающие преобразованию к TD-IDF. Можно заключить, что при более полноценном подборе оптимальных значений гиперпараметров (что, безусловно, необходимо в реальных условиях) оба варианта предобработки и все модели могли бы дать лучшие результаты.\n",
    "\n",
    "Если взглянуть на графики значимости признаков, можно заметить, что:\n",
    "- если объединить все признаки, относящиеся к TF-IDF, то количество восклицательных знаков и символов имеют очень маленькую, но не нулевую значимость;\n",
    "- если же не объединять признаки, относящиеся к TF-IDF, то указанные параметры входят в ТОП-20 значимых параметров.\n",
    "\n",
    "Из этого можно сделать вывод, что количество восклицательных знаков и символов являются значимыми параметрами и их стоит оставить в качестве признаков для классификации токсичности комментариев."
   ]
  },
  {
   "cell_type": "markdown",
   "metadata": {},
   "source": [
    "# Чек-лист проверки"
   ]
  },
  {
   "cell_type": "markdown",
   "metadata": {},
   "source": [
    "- [x]  Jupyter Notebook открыт\n",
    "- [x]  Весь код выполняется без ошибок\n",
    "- [x]  Ячейки с кодом расположены в порядке исполнения\n",
    "- [x]  Данные загружены и подготовлены\n",
    "- [x]  Модели обучены\n",
    "- [x]  Значение метрики *F1* не меньше 0.75\n",
    "- [x]  Выводы написаны"
   ]
  }
 ],
 "metadata": {
  "kernelspec": {
   "display_name": "praktikum",
   "language": "python",
   "name": "praktikum"
  },
  "language_info": {
   "codemirror_mode": {
    "name": "ipython",
    "version": 3
   },
   "file_extension": ".py",
   "mimetype": "text/x-python",
   "name": "python",
   "nbconvert_exporter": "python",
   "pygments_lexer": "ipython3",
   "version": "3.9.12"
  },
  "toc-autonumbering": false
 },
 "nbformat": 4,
 "nbformat_minor": 4
}
