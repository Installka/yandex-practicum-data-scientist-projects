{
 "cells": [
  {
   "cell_type": "markdown",
   "metadata": {},
   "source": [
    "# Описание проекта"
   ]
  },
  {
   "cell_type": "markdown",
   "metadata": {},
   "source": [
    "Входные данные - пробы нефти в 3 регионах: в каждом 100 000 месторождений, где измерили качество нефти и объём её запасов. \n",
    "\n",
    "Задача - построить модель, которая определит регион, где добыча принесёт наибольшую прибыль. Проанализировать возможную прибыль и риски техникой *Bootstrap.*\n",
    "\n",
    "Шаги для выбора локации:\n",
    "\n",
    "- В избранном регионе ищут месторождения, для каждого определяют значения признаков;\n",
    "- Строят модель и оценивают объём запасов;\n",
    "- Выбирают месторождения с самым высокими оценками значений. Количество месторождений зависит от бюджета компании и стоимости разработки одной скважины;\n",
    "- Прибыль равна суммарной прибыли отобранных месторождений."
   ]
  },
  {
   "cell_type": "markdown",
   "metadata": {},
   "source": [
    "# Оглавление\n",
    "\n",
    "* [1. Загрузка и подготовка данных](#1.-Загрузка-и-подготовка-данных)\n",
    "    * [Выводы (шаг 1)](#Выводы-(шаг-1))\n",
    "* [2. Обучение и проверка модели](#2.-Обучение-и-проверка-модели)\n",
    "    * [Выводы (шаг 2)](#Выводы-(шаг-2))\n",
    "* [3. Подготовка к расчёту прибыли](#3.-Подготовка-к-расчёту-прибыли)\n",
    "    * [Сохранение ключевых значений в переменных](#Сохранение-ключевых-значений-в-переменных)\n",
    "    * [Расчет объёма сырья для безубыточной разработки новой скважины](#Расчет-объёма-сырья-для-безубыточной-разработки-новой-скважины)\n",
    "    * [Выводы (шаг 3)](#Выводы-(шаг-3))\n",
    "* [4. Функция расчета прибыли](#4.-Функция-расчета-прибыли)\n",
    "* [5. Расчёт прибыли и рисков](#5.-Расчёт-прибыли-и-рисков)\n",
    "    * [Выводы (шаг 5)](#Выводы-(шаг-5))"
   ]
  },
  {
   "cell_type": "markdown",
   "metadata": {},
   "source": [
    "# 1. Загрузка и подготовка данных"
   ]
  },
  {
   "cell_type": "code",
   "execution_count": 1,
   "metadata": {},
   "outputs": [],
   "source": [
    "import pandas as pd\n",
    "import matplotlib.pyplot as plt"
   ]
  },
  {
   "cell_type": "code",
   "execution_count": 2,
   "metadata": {},
   "outputs": [],
   "source": [
    "# Dict for datasets\n",
    "data = dict()"
   ]
  },
  {
   "cell_type": "code",
   "execution_count": 3,
   "metadata": {},
   "outputs": [],
   "source": [
    "def feature_distr_plot(region_number, feature_name):\n",
    "    \"\"\"\n",
    "    Function for plotting a histogram of the distribution of any attribute in any of presented DataFrames\n",
    "\n",
    "    Parameters:\n",
    "    region_number (int): Number of region\n",
    "    feature_name (string): Feature name\n",
    "    \"\"\"\n",
    "    \n",
    "    data[region_number][feature_name].hist(bins=200, figsize=(15, 10))\n",
    "    plt.xlabel(feature_name + ' value')\n",
    "    plt.ylabel('Number of wells')\n",
    "    plt.grid(linewidth=0.5)\n",
    "    plt.title('Wells distribution by ' + feature_name + ' (region ' + str(region_number) + ')')\n",
    "    plt.show()"
   ]
  },
  {
   "cell_type": "code",
   "execution_count": 4,
   "metadata": {},
   "outputs": [],
   "source": [
    "def preprocess_region_data(region_number):\n",
    "    \"\"\"\n",
    "    Function for whole data of one region preprocessing:\n",
    "    - reads DataFrame from CSV file and adds to regions DataFrames dictionary;\n",
    "    - displays info about DataFrame;\n",
    "    - plots DataFrame feature distibutions;\n",
    "    - deletes id column from DataFrame.\n",
    "\n",
    "    Parameters:\n",
    "    region_number (int): Number of region\n",
    "    \"\"\"\n",
    "    \n",
    "    #data[region_number] = pd.read_csv(f'geo_data_{region_number}.csv')\n",
    "    data[region_number] = pd.read_csv(f'/datasets/geo_data_{region_number}.csv') #For reviewer #From reviewer: thanks:)\n",
    "    \n",
    "    print('Info:')\n",
    "    data[region_number].info()\n",
    "    \n",
    "    print('\\nColumns description:')\n",
    "    display(data[region_number].describe())\n",
    "    \n",
    "    print('\\nDataFrame head:')\n",
    "    display(data[region_number].head())\n",
    "    \n",
    "    print('\\nFeatures distribution:')\n",
    "    feature_distr_plot(region_number, 'f0')\n",
    "    feature_distr_plot(region_number, 'f1')\n",
    "    feature_distr_plot(region_number, 'f2')\n",
    "    feature_distr_plot(region_number, 'product')\n",
    "    \n",
    "    # Duplicated ids checking\n",
    "    print('\\nDuplicated ids checking:')\n",
    "    display(data[region_number]['id'].value_counts().head())\n",
    "    \n",
    "    # id column drop\n",
    "    data[region_number].drop(columns='id', inplace=True)\n",
    "    \n",
    "    print('\\nDataFrame after id column drop:')\n",
    "    data[region_number].info()"
   ]
  },
  {
   "cell_type": "markdown",
   "metadata": {},
   "source": [
    "## Регион 0"
   ]
  },
  {
   "cell_type": "code",
   "execution_count": 5,
   "metadata": {},
   "outputs": [
    {
     "name": "stdout",
     "output_type": "stream",
     "text": [
      "Info:\n",
      "<class 'pandas.core.frame.DataFrame'>\n",
      "RangeIndex: 100000 entries, 0 to 99999\n",
      "Data columns (total 5 columns):\n",
      "id         100000 non-null object\n",
      "f0         100000 non-null float64\n",
      "f1         100000 non-null float64\n",
      "f2         100000 non-null float64\n",
      "product    100000 non-null float64\n",
      "dtypes: float64(4), object(1)\n",
      "memory usage: 3.8+ MB\n",
      "\n",
      "Columns description:\n"
     ]
    },
    {
     "data": {
      "text/html": [
       "<div>\n",
       "<style scoped>\n",
       "    .dataframe tbody tr th:only-of-type {\n",
       "        vertical-align: middle;\n",
       "    }\n",
       "\n",
       "    .dataframe tbody tr th {\n",
       "        vertical-align: top;\n",
       "    }\n",
       "\n",
       "    .dataframe thead th {\n",
       "        text-align: right;\n",
       "    }\n",
       "</style>\n",
       "<table border=\"1\" class=\"dataframe\">\n",
       "  <thead>\n",
       "    <tr style=\"text-align: right;\">\n",
       "      <th></th>\n",
       "      <th>f0</th>\n",
       "      <th>f1</th>\n",
       "      <th>f2</th>\n",
       "      <th>product</th>\n",
       "    </tr>\n",
       "  </thead>\n",
       "  <tbody>\n",
       "    <tr>\n",
       "      <td>count</td>\n",
       "      <td>100000.000000</td>\n",
       "      <td>100000.000000</td>\n",
       "      <td>100000.000000</td>\n",
       "      <td>100000.000000</td>\n",
       "    </tr>\n",
       "    <tr>\n",
       "      <td>mean</td>\n",
       "      <td>0.500419</td>\n",
       "      <td>0.250143</td>\n",
       "      <td>2.502647</td>\n",
       "      <td>92.500000</td>\n",
       "    </tr>\n",
       "    <tr>\n",
       "      <td>std</td>\n",
       "      <td>0.871832</td>\n",
       "      <td>0.504433</td>\n",
       "      <td>3.248248</td>\n",
       "      <td>44.288691</td>\n",
       "    </tr>\n",
       "    <tr>\n",
       "      <td>min</td>\n",
       "      <td>-1.408605</td>\n",
       "      <td>-0.848218</td>\n",
       "      <td>-12.088328</td>\n",
       "      <td>0.000000</td>\n",
       "    </tr>\n",
       "    <tr>\n",
       "      <td>25%</td>\n",
       "      <td>-0.072580</td>\n",
       "      <td>-0.200881</td>\n",
       "      <td>0.287748</td>\n",
       "      <td>56.497507</td>\n",
       "    </tr>\n",
       "    <tr>\n",
       "      <td>50%</td>\n",
       "      <td>0.502360</td>\n",
       "      <td>0.250252</td>\n",
       "      <td>2.515969</td>\n",
       "      <td>91.849972</td>\n",
       "    </tr>\n",
       "    <tr>\n",
       "      <td>75%</td>\n",
       "      <td>1.073581</td>\n",
       "      <td>0.700646</td>\n",
       "      <td>4.715088</td>\n",
       "      <td>128.564089</td>\n",
       "    </tr>\n",
       "    <tr>\n",
       "      <td>max</td>\n",
       "      <td>2.362331</td>\n",
       "      <td>1.343769</td>\n",
       "      <td>16.003790</td>\n",
       "      <td>185.364347</td>\n",
       "    </tr>\n",
       "  </tbody>\n",
       "</table>\n",
       "</div>"
      ],
      "text/plain": [
       "                  f0             f1             f2        product\n",
       "count  100000.000000  100000.000000  100000.000000  100000.000000\n",
       "mean        0.500419       0.250143       2.502647      92.500000\n",
       "std         0.871832       0.504433       3.248248      44.288691\n",
       "min        -1.408605      -0.848218     -12.088328       0.000000\n",
       "25%        -0.072580      -0.200881       0.287748      56.497507\n",
       "50%         0.502360       0.250252       2.515969      91.849972\n",
       "75%         1.073581       0.700646       4.715088     128.564089\n",
       "max         2.362331       1.343769      16.003790     185.364347"
      ]
     },
     "metadata": {},
     "output_type": "display_data"
    },
    {
     "name": "stdout",
     "output_type": "stream",
     "text": [
      "\n",
      "DataFrame head:\n"
     ]
    },
    {
     "data": {
      "text/html": [
       "<div>\n",
       "<style scoped>\n",
       "    .dataframe tbody tr th:only-of-type {\n",
       "        vertical-align: middle;\n",
       "    }\n",
       "\n",
       "    .dataframe tbody tr th {\n",
       "        vertical-align: top;\n",
       "    }\n",
       "\n",
       "    .dataframe thead th {\n",
       "        text-align: right;\n",
       "    }\n",
       "</style>\n",
       "<table border=\"1\" class=\"dataframe\">\n",
       "  <thead>\n",
       "    <tr style=\"text-align: right;\">\n",
       "      <th></th>\n",
       "      <th>id</th>\n",
       "      <th>f0</th>\n",
       "      <th>f1</th>\n",
       "      <th>f2</th>\n",
       "      <th>product</th>\n",
       "    </tr>\n",
       "  </thead>\n",
       "  <tbody>\n",
       "    <tr>\n",
       "      <td>0</td>\n",
       "      <td>txEyH</td>\n",
       "      <td>0.705745</td>\n",
       "      <td>-0.497823</td>\n",
       "      <td>1.221170</td>\n",
       "      <td>105.280062</td>\n",
       "    </tr>\n",
       "    <tr>\n",
       "      <td>1</td>\n",
       "      <td>2acmU</td>\n",
       "      <td>1.334711</td>\n",
       "      <td>-0.340164</td>\n",
       "      <td>4.365080</td>\n",
       "      <td>73.037750</td>\n",
       "    </tr>\n",
       "    <tr>\n",
       "      <td>2</td>\n",
       "      <td>409Wp</td>\n",
       "      <td>1.022732</td>\n",
       "      <td>0.151990</td>\n",
       "      <td>1.419926</td>\n",
       "      <td>85.265647</td>\n",
       "    </tr>\n",
       "    <tr>\n",
       "      <td>3</td>\n",
       "      <td>iJLyR</td>\n",
       "      <td>-0.032172</td>\n",
       "      <td>0.139033</td>\n",
       "      <td>2.978566</td>\n",
       "      <td>168.620776</td>\n",
       "    </tr>\n",
       "    <tr>\n",
       "      <td>4</td>\n",
       "      <td>Xdl7t</td>\n",
       "      <td>1.988431</td>\n",
       "      <td>0.155413</td>\n",
       "      <td>4.751769</td>\n",
       "      <td>154.036647</td>\n",
       "    </tr>\n",
       "  </tbody>\n",
       "</table>\n",
       "</div>"
      ],
      "text/plain": [
       "      id        f0        f1        f2     product\n",
       "0  txEyH  0.705745 -0.497823  1.221170  105.280062\n",
       "1  2acmU  1.334711 -0.340164  4.365080   73.037750\n",
       "2  409Wp  1.022732  0.151990  1.419926   85.265647\n",
       "3  iJLyR -0.032172  0.139033  2.978566  168.620776\n",
       "4  Xdl7t  1.988431  0.155413  4.751769  154.036647"
      ]
     },
     "metadata": {},
     "output_type": "display_data"
    },
    {
     "name": "stdout",
     "output_type": "stream",
     "text": [
      "\n",
      "Features distribution:\n"
     ]
    },
    {
     "data": {
      "image/png": "[encoded data removed]",
      "text/plain": [
       "<Figure size 1080x720 with 1 Axes>"
      ]
     },
     "metadata": {
      "needs_background": "light"
     },
     "output_type": "display_data"
    },
    {
     "data": {
      "image/png": "[encoded data removed]",
      "text/plain": [
       "<Figure size 1080x720 with 1 Axes>"
      ]
     },
     "metadata": {
      "needs_background": "light"
     },
     "output_type": "display_data"
    },
    {
     "data": {
      "image/png": "[encoded data removed]",
      "text/plain": [
       "<Figure size 1080x720 with 1 Axes>"
      ]
     },
     "metadata": {
      "needs_background": "light"
     },
     "output_type": "display_data"
    },
    {
     "data": {
      "image/png": "[encoded data removed]",
      "text/plain": [
       "<Figure size 1080x720 with 1 Axes>"
      ]
     },
     "metadata": {
      "needs_background": "light"
     },
     "output_type": "display_data"
    },
    {
     "name": "stdout",
     "output_type": "stream",
     "text": [
      "\n",
      "Duplicated ids checking:\n"
     ]
    },
    {
     "data": {
      "text/plain": [
       "HZww2    2\n",
       "Tdehs    2\n",
       "bxg6G    2\n",
       "A5aEY    2\n",
       "AGS9W    2\n",
       "Name: id, dtype: int64"
      ]
     },
     "metadata": {},
     "output_type": "display_data"
    },
    {
     "name": "stdout",
     "output_type": "stream",
     "text": [
      "\n",
      "DataFrame after id column drop:\n",
      "<class 'pandas.core.frame.DataFrame'>\n",
      "RangeIndex: 100000 entries, 0 to 99999\n",
      "Data columns (total 4 columns):\n",
      "f0         100000 non-null float64\n",
      "f1         100000 non-null float64\n",
      "f2         100000 non-null float64\n",
      "product    100000 non-null float64\n",
      "dtypes: float64(4)\n",
      "memory usage: 3.1 MB\n"
     ]
    }
   ],
   "source": [
    "preprocess_region_data(0)"
   ]
  },
  {
   "cell_type": "markdown",
   "metadata": {},
   "source": [
    "## Регион 1"
   ]
  },
  {
   "cell_type": "code",
   "execution_count": 6,
   "metadata": {},
   "outputs": [
    {
     "name": "stdout",
     "output_type": "stream",
     "text": [
      "Info:\n",
      "<class 'pandas.core.frame.DataFrame'>\n",
      "RangeIndex: 100000 entries, 0 to 99999\n",
      "Data columns (total 5 columns):\n",
      "id         100000 non-null object\n",
      "f0         100000 non-null float64\n",
      "f1         100000 non-null float64\n",
      "f2         100000 non-null float64\n",
      "product    100000 non-null float64\n",
      "dtypes: float64(4), object(1)\n",
      "memory usage: 3.8+ MB\n",
      "\n",
      "Columns description:\n"
     ]
    },
    {
     "data": {
      "text/html": [
       "<div>\n",
       "<style scoped>\n",
       "    .dataframe tbody tr th:only-of-type {\n",
       "        vertical-align: middle;\n",
       "    }\n",
       "\n",
       "    .dataframe tbody tr th {\n",
       "        vertical-align: top;\n",
       "    }\n",
       "\n",
       "    .dataframe thead th {\n",
       "        text-align: right;\n",
       "    }\n",
       "</style>\n",
       "<table border=\"1\" class=\"dataframe\">\n",
       "  <thead>\n",
       "    <tr style=\"text-align: right;\">\n",
       "      <th></th>\n",
       "      <th>f0</th>\n",
       "      <th>f1</th>\n",
       "      <th>f2</th>\n",
       "      <th>product</th>\n",
       "    </tr>\n",
       "  </thead>\n",
       "  <tbody>\n",
       "    <tr>\n",
       "      <td>count</td>\n",
       "      <td>100000.000000</td>\n",
       "      <td>100000.000000</td>\n",
       "      <td>100000.000000</td>\n",
       "      <td>100000.000000</td>\n",
       "    </tr>\n",
       "    <tr>\n",
       "      <td>mean</td>\n",
       "      <td>1.141296</td>\n",
       "      <td>-4.796579</td>\n",
       "      <td>2.494541</td>\n",
       "      <td>68.825000</td>\n",
       "    </tr>\n",
       "    <tr>\n",
       "      <td>std</td>\n",
       "      <td>8.965932</td>\n",
       "      <td>5.119872</td>\n",
       "      <td>1.703572</td>\n",
       "      <td>45.944423</td>\n",
       "    </tr>\n",
       "    <tr>\n",
       "      <td>min</td>\n",
       "      <td>-31.609576</td>\n",
       "      <td>-26.358598</td>\n",
       "      <td>-0.018144</td>\n",
       "      <td>0.000000</td>\n",
       "    </tr>\n",
       "    <tr>\n",
       "      <td>25%</td>\n",
       "      <td>-6.298551</td>\n",
       "      <td>-8.267985</td>\n",
       "      <td>1.000021</td>\n",
       "      <td>26.953261</td>\n",
       "    </tr>\n",
       "    <tr>\n",
       "      <td>50%</td>\n",
       "      <td>1.153055</td>\n",
       "      <td>-4.813172</td>\n",
       "      <td>2.011479</td>\n",
       "      <td>57.085625</td>\n",
       "    </tr>\n",
       "    <tr>\n",
       "      <td>75%</td>\n",
       "      <td>8.621015</td>\n",
       "      <td>-1.332816</td>\n",
       "      <td>3.999904</td>\n",
       "      <td>107.813044</td>\n",
       "    </tr>\n",
       "    <tr>\n",
       "      <td>max</td>\n",
       "      <td>29.421755</td>\n",
       "      <td>18.734063</td>\n",
       "      <td>5.019721</td>\n",
       "      <td>137.945408</td>\n",
       "    </tr>\n",
       "  </tbody>\n",
       "</table>\n",
       "</div>"
      ],
      "text/plain": [
       "                  f0             f1             f2        product\n",
       "count  100000.000000  100000.000000  100000.000000  100000.000000\n",
       "mean        1.141296      -4.796579       2.494541      68.825000\n",
       "std         8.965932       5.119872       1.703572      45.944423\n",
       "min       -31.609576     -26.358598      -0.018144       0.000000\n",
       "25%        -6.298551      -8.267985       1.000021      26.953261\n",
       "50%         1.153055      -4.813172       2.011479      57.085625\n",
       "75%         8.621015      -1.332816       3.999904     107.813044\n",
       "max        29.421755      18.734063       5.019721     137.945408"
      ]
     },
     "metadata": {},
     "output_type": "display_data"
    },
    {
     "name": "stdout",
     "output_type": "stream",
     "text": [
      "\n",
      "DataFrame head:\n"
     ]
    },
    {
     "data": {
      "text/html": [
       "<div>\n",
       "<style scoped>\n",
       "    .dataframe tbody tr th:only-of-type {\n",
       "        vertical-align: middle;\n",
       "    }\n",
       "\n",
       "    .dataframe tbody tr th {\n",
       "        vertical-align: top;\n",
       "    }\n",
       "\n",
       "    .dataframe thead th {\n",
       "        text-align: right;\n",
       "    }\n",
       "</style>\n",
       "<table border=\"1\" class=\"dataframe\">\n",
       "  <thead>\n",
       "    <tr style=\"text-align: right;\">\n",
       "      <th></th>\n",
       "      <th>id</th>\n",
       "      <th>f0</th>\n",
       "      <th>f1</th>\n",
       "      <th>f2</th>\n",
       "      <th>product</th>\n",
       "    </tr>\n",
       "  </thead>\n",
       "  <tbody>\n",
       "    <tr>\n",
       "      <td>0</td>\n",
       "      <td>kBEdx</td>\n",
       "      <td>-15.001348</td>\n",
       "      <td>-8.276000</td>\n",
       "      <td>-0.005876</td>\n",
       "      <td>3.179103</td>\n",
       "    </tr>\n",
       "    <tr>\n",
       "      <td>1</td>\n",
       "      <td>62mP7</td>\n",
       "      <td>14.272088</td>\n",
       "      <td>-3.475083</td>\n",
       "      <td>0.999183</td>\n",
       "      <td>26.953261</td>\n",
       "    </tr>\n",
       "    <tr>\n",
       "      <td>2</td>\n",
       "      <td>vyE1P</td>\n",
       "      <td>6.263187</td>\n",
       "      <td>-5.948386</td>\n",
       "      <td>5.001160</td>\n",
       "      <td>134.766305</td>\n",
       "    </tr>\n",
       "    <tr>\n",
       "      <td>3</td>\n",
       "      <td>KcrkZ</td>\n",
       "      <td>-13.081196</td>\n",
       "      <td>-11.506057</td>\n",
       "      <td>4.999415</td>\n",
       "      <td>137.945408</td>\n",
       "    </tr>\n",
       "    <tr>\n",
       "      <td>4</td>\n",
       "      <td>AHL4O</td>\n",
       "      <td>12.702195</td>\n",
       "      <td>-8.147433</td>\n",
       "      <td>5.004363</td>\n",
       "      <td>134.766305</td>\n",
       "    </tr>\n",
       "  </tbody>\n",
       "</table>\n",
       "</div>"
      ],
      "text/plain": [
       "      id         f0         f1        f2     product\n",
       "0  kBEdx -15.001348  -8.276000 -0.005876    3.179103\n",
       "1  62mP7  14.272088  -3.475083  0.999183   26.953261\n",
       "2  vyE1P   6.263187  -5.948386  5.001160  134.766305\n",
       "3  KcrkZ -13.081196 -11.506057  4.999415  137.945408\n",
       "4  AHL4O  12.702195  -8.147433  5.004363  134.766305"
      ]
     },
     "metadata": {},
     "output_type": "display_data"
    },
    {
     "name": "stdout",
     "output_type": "stream",
     "text": [
      "\n",
      "Features distribution:\n"
     ]
    },
    {
     "data": {
      "image/png": "[encoded data removed]",
      "text/plain": [
       "<Figure size 1080x720 with 1 Axes>"
      ]
     },
     "metadata": {
      "needs_background": "light"
     },
     "output_type": "display_data"
    },
    {
     "data": {
      "image/png": "[encoded data removed]",
      "text/plain": [
       "<Figure size 1080x720 with 1 Axes>"
      ]
     },
     "metadata": {
      "needs_background": "light"
     },
     "output_type": "display_data"
    },
    {
     "data": {
      "image/png": "[encoded data removed]",
      "text/plain": [
       "<Figure size 1080x720 with 1 Axes>"
      ]
     },
     "metadata": {
      "needs_background": "light"
     },
     "output_type": "display_data"
    },
    {
     "data": {
      "image/png": "[encoded data removed]",
      "text/plain": [
       "<Figure size 1080x720 with 1 Axes>"
      ]
     },
     "metadata": {
      "needs_background": "light"
     },
     "output_type": "display_data"
    },
    {
     "name": "stdout",
     "output_type": "stream",
     "text": [
      "\n",
      "Duplicated ids checking:\n"
     ]
    },
    {
     "data": {
      "text/plain": [
       "5ltQ6    2\n",
       "LHZR0    2\n",
       "bfPNe    2\n",
       "wt4Uk    2\n",
       "uVV2m    1\n",
       "Name: id, dtype: int64"
      ]
     },
     "metadata": {},
     "output_type": "display_data"
    },
    {
     "name": "stdout",
     "output_type": "stream",
     "text": [
      "\n",
      "DataFrame after id column drop:\n",
      "<class 'pandas.core.frame.DataFrame'>\n",
      "RangeIndex: 100000 entries, 0 to 99999\n",
      "Data columns (total 4 columns):\n",
      "f0         100000 non-null float64\n",
      "f1         100000 non-null float64\n",
      "f2         100000 non-null float64\n",
      "product    100000 non-null float64\n",
      "dtypes: float64(4)\n",
      "memory usage: 3.1 MB\n"
     ]
    }
   ],
   "source": [
    "preprocess_region_data(1)"
   ]
  },
  {
   "cell_type": "markdown",
   "metadata": {},
   "source": [
    "## Регион 2"
   ]
  },
  {
   "cell_type": "code",
   "execution_count": 7,
   "metadata": {},
   "outputs": [
    {
     "name": "stdout",
     "output_type": "stream",
     "text": [
      "Info:\n",
      "<class 'pandas.core.frame.DataFrame'>\n",
      "RangeIndex: 100000 entries, 0 to 99999\n",
      "Data columns (total 5 columns):\n",
      "id         100000 non-null object\n",
      "f0         100000 non-null float64\n",
      "f1         100000 non-null float64\n",
      "f2         100000 non-null float64\n",
      "product    100000 non-null float64\n",
      "dtypes: float64(4), object(1)\n",
      "memory usage: 3.8+ MB\n",
      "\n",
      "Columns description:\n"
     ]
    },
    {
     "data": {
      "text/html": [
       "<div>\n",
       "<style scoped>\n",
       "    .dataframe tbody tr th:only-of-type {\n",
       "        vertical-align: middle;\n",
       "    }\n",
       "\n",
       "    .dataframe tbody tr th {\n",
       "        vertical-align: top;\n",
       "    }\n",
       "\n",
       "    .dataframe thead th {\n",
       "        text-align: right;\n",
       "    }\n",
       "</style>\n",
       "<table border=\"1\" class=\"dataframe\">\n",
       "  <thead>\n",
       "    <tr style=\"text-align: right;\">\n",
       "      <th></th>\n",
       "      <th>f0</th>\n",
       "      <th>f1</th>\n",
       "      <th>f2</th>\n",
       "      <th>product</th>\n",
       "    </tr>\n",
       "  </thead>\n",
       "  <tbody>\n",
       "    <tr>\n",
       "      <td>count</td>\n",
       "      <td>100000.000000</td>\n",
       "      <td>100000.000000</td>\n",
       "      <td>100000.000000</td>\n",
       "      <td>100000.000000</td>\n",
       "    </tr>\n",
       "    <tr>\n",
       "      <td>mean</td>\n",
       "      <td>0.002023</td>\n",
       "      <td>-0.002081</td>\n",
       "      <td>2.495128</td>\n",
       "      <td>95.000000</td>\n",
       "    </tr>\n",
       "    <tr>\n",
       "      <td>std</td>\n",
       "      <td>1.732045</td>\n",
       "      <td>1.730417</td>\n",
       "      <td>3.473445</td>\n",
       "      <td>44.749921</td>\n",
       "    </tr>\n",
       "    <tr>\n",
       "      <td>min</td>\n",
       "      <td>-8.760004</td>\n",
       "      <td>-7.084020</td>\n",
       "      <td>-11.970335</td>\n",
       "      <td>0.000000</td>\n",
       "    </tr>\n",
       "    <tr>\n",
       "      <td>25%</td>\n",
       "      <td>-1.162288</td>\n",
       "      <td>-1.174820</td>\n",
       "      <td>0.130359</td>\n",
       "      <td>59.450441</td>\n",
       "    </tr>\n",
       "    <tr>\n",
       "      <td>50%</td>\n",
       "      <td>0.009424</td>\n",
       "      <td>-0.009482</td>\n",
       "      <td>2.484236</td>\n",
       "      <td>94.925613</td>\n",
       "    </tr>\n",
       "    <tr>\n",
       "      <td>75%</td>\n",
       "      <td>1.158535</td>\n",
       "      <td>1.163678</td>\n",
       "      <td>4.858794</td>\n",
       "      <td>130.595027</td>\n",
       "    </tr>\n",
       "    <tr>\n",
       "      <td>max</td>\n",
       "      <td>7.238262</td>\n",
       "      <td>7.844801</td>\n",
       "      <td>16.739402</td>\n",
       "      <td>190.029838</td>\n",
       "    </tr>\n",
       "  </tbody>\n",
       "</table>\n",
       "</div>"
      ],
      "text/plain": [
       "                  f0             f1             f2        product\n",
       "count  100000.000000  100000.000000  100000.000000  100000.000000\n",
       "mean        0.002023      -0.002081       2.495128      95.000000\n",
       "std         1.732045       1.730417       3.473445      44.749921\n",
       "min        -8.760004      -7.084020     -11.970335       0.000000\n",
       "25%        -1.162288      -1.174820       0.130359      59.450441\n",
       "50%         0.009424      -0.009482       2.484236      94.925613\n",
       "75%         1.158535       1.163678       4.858794     130.595027\n",
       "max         7.238262       7.844801      16.739402     190.029838"
      ]
     },
     "metadata": {},
     "output_type": "display_data"
    },
    {
     "name": "stdout",
     "output_type": "stream",
     "text": [
      "\n",
      "DataFrame head:\n"
     ]
    },
    {
     "data": {
      "text/html": [
       "<div>\n",
       "<style scoped>\n",
       "    .dataframe tbody tr th:only-of-type {\n",
       "        vertical-align: middle;\n",
       "    }\n",
       "\n",
       "    .dataframe tbody tr th {\n",
       "        vertical-align: top;\n",
       "    }\n",
       "\n",
       "    .dataframe thead th {\n",
       "        text-align: right;\n",
       "    }\n",
       "</style>\n",
       "<table border=\"1\" class=\"dataframe\">\n",
       "  <thead>\n",
       "    <tr style=\"text-align: right;\">\n",
       "      <th></th>\n",
       "      <th>id</th>\n",
       "      <th>f0</th>\n",
       "      <th>f1</th>\n",
       "      <th>f2</th>\n",
       "      <th>product</th>\n",
       "    </tr>\n",
       "  </thead>\n",
       "  <tbody>\n",
       "    <tr>\n",
       "      <td>0</td>\n",
       "      <td>fwXo0</td>\n",
       "      <td>-1.146987</td>\n",
       "      <td>0.963328</td>\n",
       "      <td>-0.828965</td>\n",
       "      <td>27.758673</td>\n",
       "    </tr>\n",
       "    <tr>\n",
       "      <td>1</td>\n",
       "      <td>WJtFt</td>\n",
       "      <td>0.262778</td>\n",
       "      <td>0.269839</td>\n",
       "      <td>-2.530187</td>\n",
       "      <td>56.069697</td>\n",
       "    </tr>\n",
       "    <tr>\n",
       "      <td>2</td>\n",
       "      <td>ovLUW</td>\n",
       "      <td>0.194587</td>\n",
       "      <td>0.289035</td>\n",
       "      <td>-5.586433</td>\n",
       "      <td>62.871910</td>\n",
       "    </tr>\n",
       "    <tr>\n",
       "      <td>3</td>\n",
       "      <td>q6cA6</td>\n",
       "      <td>2.236060</td>\n",
       "      <td>-0.553760</td>\n",
       "      <td>0.930038</td>\n",
       "      <td>114.572842</td>\n",
       "    </tr>\n",
       "    <tr>\n",
       "      <td>4</td>\n",
       "      <td>WPMUX</td>\n",
       "      <td>-0.515993</td>\n",
       "      <td>1.716266</td>\n",
       "      <td>5.899011</td>\n",
       "      <td>149.600746</td>\n",
       "    </tr>\n",
       "  </tbody>\n",
       "</table>\n",
       "</div>"
      ],
      "text/plain": [
       "      id        f0        f1        f2     product\n",
       "0  fwXo0 -1.146987  0.963328 -0.828965   27.758673\n",
       "1  WJtFt  0.262778  0.269839 -2.530187   56.069697\n",
       "2  ovLUW  0.194587  0.289035 -5.586433   62.871910\n",
       "3  q6cA6  2.236060 -0.553760  0.930038  114.572842\n",
       "4  WPMUX -0.515993  1.716266  5.899011  149.600746"
      ]
     },
     "metadata": {},
     "output_type": "display_data"
    },
    {
     "name": "stdout",
     "output_type": "stream",
     "text": [
      "\n",
      "Features distribution:\n"
     ]
    },
    {
     "data": {
      "image/png": "[encoded data removed]",
      "text/plain": [
       "<Figure size 1080x720 with 1 Axes>"
      ]
     },
     "metadata": {
      "needs_background": "light"
     },
     "output_type": "display_data"
    },
    {
     "data": {
      "image/png": "[encoded data removed]",
      "text/plain": [
       "<Figure size 1080x720 with 1 Axes>"
      ]
     },
     "metadata": {
      "needs_background": "light"
     },
     "output_type": "display_data"
    },
    {
     "data": {
      "image/png": "[encoded data removed]",
      "text/plain": [
       "<Figure size 1080x720 with 1 Axes>"
      ]
     },
     "metadata": {
      "needs_background": "light"
     },
     "output_type": "display_data"
    },
    {
     "data": {
      "image/png": "[encoded data removed]",
      "text/plain": [
       "<Figure size 1080x720 with 1 Axes>"
      ]
     },
     "metadata": {
      "needs_background": "light"
     },
     "output_type": "display_data"
    },
    {
     "name": "stdout",
     "output_type": "stream",
     "text": [
      "\n",
      "Duplicated ids checking:\n"
     ]
    },
    {
     "data": {
      "text/plain": [
       "KUPhW    2\n",
       "xCHr8    2\n",
       "VF7Jo    2\n",
       "Vcm5J    2\n",
       "Utivj    1\n",
       "Name: id, dtype: int64"
      ]
     },
     "metadata": {},
     "output_type": "display_data"
    },
    {
     "name": "stdout",
     "output_type": "stream",
     "text": [
      "\n",
      "DataFrame after id column drop:\n",
      "<class 'pandas.core.frame.DataFrame'>\n",
      "RangeIndex: 100000 entries, 0 to 99999\n",
      "Data columns (total 4 columns):\n",
      "f0         100000 non-null float64\n",
      "f1         100000 non-null float64\n",
      "f2         100000 non-null float64\n",
      "product    100000 non-null float64\n",
      "dtypes: float64(4)\n",
      "memory usage: 3.1 MB\n"
     ]
    }
   ],
   "source": [
    "preprocess_region_data(2)"
   ]
  },
  {
   "cell_type": "markdown",
   "metadata": {},
   "source": [
    "## Выводы (шаг 1)"
   ]
  },
  {
   "cell_type": "markdown",
   "metadata": {},
   "source": [
    "Каждый из файлов с данными состоит из 5 столбцов (4 с плавающей точкой и 1 с объектами) и 100000 записей. В столбце product содержатся целевые признаки.\n",
    "\n",
    "В данных отсутствуют пропуски. Проверка на аномалии невозможна ввиду того, что неизвестно, что представляют из себя предоставленные параметры. Были построены гистограммы распределения параметров с целью визуальной оценки распределения данных.\n",
    "\n",
    "Столбец __id__ был удален, так как он не несет никакой пользы и не может являться индексом ввиду нахождения в нем дубликатов."
   ]
  },
  {
   "cell_type": "markdown",
   "metadata": {},
   "source": [
    "# 2. Обучение и проверка модели"
   ]
  },
  {
   "cell_type": "code",
   "execution_count": 8,
   "metadata": {},
   "outputs": [],
   "source": [
    "from sklearn.model_selection import train_test_split\n",
    "from sklearn.preprocessing import StandardScaler\n",
    "from sklearn.linear_model import LinearRegression\n",
    "from sklearn.metrics import mean_squared_error"
   ]
  },
  {
   "cell_type": "code",
   "execution_count": 9,
   "metadata": {},
   "outputs": [],
   "source": [
    "# Dictionaries for regions variables\n",
    "features = dict()\n",
    "target = dict()\n",
    "X_train = dict()\n",
    "X_valid = dict()\n",
    "y_train = dict()\n",
    "y_valid = dict()\n",
    "model = dict()\n",
    "predict_valid = dict()"
   ]
  },
  {
   "cell_type": "code",
   "execution_count": 10,
   "metadata": {},
   "outputs": [],
   "source": [
    "def region_model_fit_valid(region_number):\n",
    "    \"\"\"\n",
    "    Function for model fitting and validation for the specified region:\n",
    "    - data separation for features and target;\n",
    "    - data separtion for train and validation samples;\n",
    "    - features scaling;\n",
    "    - model fitting and validation;\n",
    "    - average stock of predicted raw materials and RMSE calculation.\n",
    "\n",
    "    Parameters:\n",
    "    region_number (int): Number of region\n",
    "    \"\"\"\n",
    "    \n",
    "    # Separation of data into features and target feature\n",
    "    features[region_number] = data[region_number].drop(columns=['product'])\n",
    "    target[region_number] = data[region_number]['product']\n",
    "    \n",
    "    # Separation of data to train sample and validation samples\n",
    "    X_train[region_number], X_valid[region_number], y_train[region_number], y_valid[region_number] = train_test_split(features[region_number], target[region_number], train_size=0.75, random_state=42)\n",
    "    \n",
    "    print('Shape of train features:')\n",
    "    print(X_train[region_number].shape)\n",
    "    \n",
    "    print('\\nShape of valid features:')\n",
    "    print(X_valid[region_number].shape)\n",
    "    \n",
    "    scaler = StandardScaler()\n",
    "    \n",
    "    # Scaler fitting on train features\n",
    "    scaler.fit(X_train[region_number])\n",
    "\n",
    "    # Train and valid features scaling\n",
    "    X_train[region_number] = pd.DataFrame(scaler.transform(X_train[region_number]), index=X_train[region_number].index, columns=X_train[region_number].columns)\n",
    "    X_valid[region_number] = pd.DataFrame(scaler.transform(X_valid[region_number]), index=X_valid[region_number].index, columns=X_valid[region_number].columns)\n",
    "    \n",
    "    # Fitting and validation\n",
    "    model[region_number] = LinearRegression(n_jobs=-1)\n",
    "    \n",
    "    model[region_number].fit(X_train[region_number], y_train[region_number])\n",
    "    \n",
    "    predict_valid[region_number] = model[region_number].predict(X_valid[region_number])\n",
    "    \n",
    "    print('\\nAverage stock of predicted raw materials = {:.2f} thousand barrels'.format(predict_valid[region_number].mean()))\n",
    "    print('RMSE = {:.2f} thousand barrels'.format(mean_squared_error(y_true=y_valid[region_number], y_pred=predict_valid[region_number], squared=False)))"
   ]
  },
  {
   "cell_type": "markdown",
   "metadata": {},
   "source": [
    "## Регион 0"
   ]
  },
  {
   "cell_type": "code",
   "execution_count": 11,
   "metadata": {},
   "outputs": [
    {
     "name": "stdout",
     "output_type": "stream",
     "text": [
      "Shape of train features:\n",
      "(75000, 3)\n",
      "\n",
      "Shape of valid features:\n",
      "(25000, 3)\n",
      "\n",
      "Average stock of predicted raw materials = 92.40 thousand barrels\n",
      "RMSE = 37.76 thousand barrels\n"
     ]
    }
   ],
   "source": [
    "region_model_fit_valid(0)"
   ]
  },
  {
   "cell_type": "markdown",
   "metadata": {},
   "source": [
    "## Регион 1"
   ]
  },
  {
   "cell_type": "code",
   "execution_count": 12,
   "metadata": {},
   "outputs": [
    {
     "name": "stdout",
     "output_type": "stream",
     "text": [
      "Shape of train features:\n",
      "(75000, 3)\n",
      "\n",
      "Shape of valid features:\n",
      "(25000, 3)\n",
      "\n",
      "Average stock of predicted raw materials = 68.71 thousand barrels\n",
      "RMSE = 0.89 thousand barrels\n"
     ]
    }
   ],
   "source": [
    "region_model_fit_valid(1)"
   ]
  },
  {
   "cell_type": "markdown",
   "metadata": {},
   "source": [
    "## Регион 2"
   ]
  },
  {
   "cell_type": "code",
   "execution_count": 13,
   "metadata": {},
   "outputs": [
    {
     "name": "stdout",
     "output_type": "stream",
     "text": [
      "Shape of train features:\n",
      "(75000, 3)\n",
      "\n",
      "Shape of valid features:\n",
      "(25000, 3)\n",
      "\n",
      "Average stock of predicted raw materials = 94.77 thousand barrels\n",
      "RMSE = 40.15 thousand barrels\n"
     ]
    }
   ],
   "source": [
    "region_model_fit_valid(2)"
   ]
  },
  {
   "cell_type": "markdown",
   "metadata": {},
   "source": [
    "## Выводы (шаг 2)"
   ]
  },
  {
   "cell_type": "markdown",
   "metadata": {},
   "source": [
    "Для каждого региона:\n",
    "- данные были разделены на обучающую и валидационные выборки в соотношении 3:1;\n",
    "- признаки были масштабированы;\n",
    "- модели логистической регрессии были обучены на обучающих выборка;\n",
    "- результаты обучения были проверены на валидационных выборка:\n",
    "    - для региона 0 - среднее полученное значение равно 92.40 тыс. баррелей с RMSE, равной 37.76;\n",
    "    - для региона 1 - среднее полученное значение равно 68.71 тыс. баррелей с RMSE, равной 0.89;\n",
    "    - для региона 0 - среднее полученное значение равно 94.77 тыс. баррелей с RMSE, равной 40.15;\n",
    "\n",
    "Исходя из полученных результатов можно сделать следующие выводы:\n",
    "- в регионе 1 прогноз получился очень точным, но среднее спрогнозированное значение меньше, чем в других регионах примерно на 25 тыс. баррелей;\n",
    "- в регионах 0 и 2 средние значения значительно больше, чем в регионе 1, но и погрешность вычислений высока - в худшем случае объем получится меньше, чем в регионе 1, но может получится и больше."
   ]
  },
  {
   "cell_type": "markdown",
   "metadata": {},
   "source": [
    "# 3. Подготовка к расчёту прибыли"
   ]
  },
  {
   "cell_type": "markdown",
   "metadata": {},
   "source": [
    "## Сохранение ключевых значений в переменных"
   ]
  },
  {
   "cell_type": "code",
   "execution_count": 14,
   "metadata": {},
   "outputs": [],
   "source": [
    "# Dictionary for product means in regions\n",
    "product_mean = dict()"
   ]
  },
  {
   "cell_type": "code",
   "execution_count": 15,
   "metadata": {},
   "outputs": [],
   "source": [
    "def calculate_oil_reserve(region_number):\n",
    "    \"\"\"\n",
    "    Function for calculation of average oil reserve in region\n",
    "\n",
    "    Parameters:\n",
    "    region_number (int): Number of region\n",
    "    \"\"\"\n",
    "    \n",
    "    product_mean[region_number] = data[region_number]['product'].mean()\n",
    "    print('Average oil reserve in the region ' + str(region_number) + ' - {:.2f} thousand barrels'.format(product_mean[region_number]))"
   ]
  },
  {
   "cell_type": "code",
   "execution_count": 16,
   "metadata": {},
   "outputs": [
    {
     "name": "stdout",
     "output_type": "stream",
     "text": [
      "Average oil reserve in the region 0 - 92.50 thousand barrels\n",
      "Average oil reserve in the region 1 - 68.83 thousand barrels\n",
      "Average oil reserve in the region 2 - 95.00 thousand barrels\n"
     ]
    }
   ],
   "source": [
    "calculate_oil_reserve(0)\n",
    "calculate_oil_reserve(1)\n",
    "calculate_oil_reserve(2)"
   ]
  },
  {
   "cell_type": "code",
   "execution_count": 17,
   "metadata": {},
   "outputs": [],
   "source": [
    "# Wells development budget\n",
    "BUDGET = 10000000000\n",
    "\n",
    "# Number of wells to explore\n",
    "WELLS_TO_EXPLORE = 500\n",
    "\n",
    "# Planned number of wells\n",
    "WELLS_TO_DO = 200\n",
    "\n",
    "# Revenue per 1000 barrels of oil\n",
    "REVENUE_PER_UNIT = 450000"
   ]
  },
  {
   "cell_type": "markdown",
   "metadata": {},
   "source": [
    "## Расчет объёма сырья для безубыточной разработки новой скважины"
   ]
  },
  {
   "cell_type": "code",
   "execution_count": 18,
   "metadata": {},
   "outputs": [
    {
     "name": "stdout",
     "output_type": "stream",
     "text": [
      "Volume of raw materials for break-even development of a new well - 111.11 thousand barrels\n"
     ]
    }
   ],
   "source": [
    "breakeven_level = BUDGET / WELLS_TO_DO / REVENUE_PER_UNIT\n",
    "print('Volume of raw materials for break-even development of a new well - {:.2f} thousand barrels'.format(breakeven_level))"
   ]
  },
  {
   "cell_type": "code",
   "execution_count": 19,
   "metadata": {},
   "outputs": [
    {
     "name": "stdout",
     "output_type": "stream",
     "text": [
      "The ratio of the break-even level of development and the average volume in the region 0 - 0.83\n"
     ]
    }
   ],
   "source": [
    "print('The ratio of the break-even level of development and the average volume in the region 0 - {:.2f}'.format(product_mean[0] / breakeven_level))"
   ]
  },
  {
   "cell_type": "code",
   "execution_count": 20,
   "metadata": {},
   "outputs": [
    {
     "name": "stdout",
     "output_type": "stream",
     "text": [
      "The ratio of the break-even level of development and the average volume in the region 1 - 0.62\n"
     ]
    }
   ],
   "source": [
    "print('The ratio of the break-even level of development and the average volume in the region 1 - {:.2f}'.format(product_mean[1] / breakeven_level))"
   ]
  },
  {
   "cell_type": "code",
   "execution_count": 21,
   "metadata": {},
   "outputs": [
    {
     "name": "stdout",
     "output_type": "stream",
     "text": [
      "The ratio of the break-even level of development and the average volume in the region 2 - 0.86\n"
     ]
    }
   ],
   "source": [
    "print('The ratio of the break-even level of development and the average volume in the region 2 - {:.2f}'.format(product_mean[2] / breakeven_level))"
   ]
  },
  {
   "cell_type": "markdown",
   "metadata": {},
   "source": [
    "## Выводы (шаг 3)"
   ]
  },
  {
   "cell_type": "markdown",
   "metadata": {},
   "source": [
    "Объём сырья для безубыточной разработки новой скважины был расчитан по формуле: \n",
    "\n",
    "$$BL = \\frac{\\frac{B}{WTD}}{RVP} = \\frac{\\frac{10000000000}{200}}{450000} = 111.11 \\text{ тыс. баррелей}$$ \n",
    "\n",
    "где B - бюджет на разработку скважин в регионе, WTD - планируемое количество скважин в регионе, RVP - доход от 1000 баррелей нефти.\n",
    "\n",
    "Полученный объём сырья для безубыточной разработки был сравнен со средним значением объема нефти в скважинах для каждого региона. Во всех регионах средний объем нефти в скважине меньше необходимого для безубыточной разработки и составляет от 0.62 до 0.86 от необходимого объема в 111.11 тыс. баррелей. Из этого можно сделать вывод, что в любом из регионов необходимо искать богатые месторождения, которые превышают средние показатели для региона."
   ]
  },
  {
   "cell_type": "markdown",
   "metadata": {},
   "source": [
    "# 4. Функция расчета прибыли"
   ]
  },
  {
   "cell_type": "code",
   "execution_count": 22,
   "metadata": {},
   "outputs": [],
   "source": [
    "def calculate_profit(target, predictions, to_chose):\n",
    "    \"\"\"\n",
    "    Function for calculating profits for selected wells and model predictions\n",
    "\n",
    "    Parameters:\n",
    "    target (pd.Series): Real wells volumes\n",
    "    predictions (pd.Series): Predicted wells volumes\n",
    "    to_chose (int): Amount of best wells to use in profit calculation\n",
    "\n",
    "    Returns:\n",
    "    float: Profit\n",
    "    \"\"\"\n",
    "    \n",
    "    sorted_predictions = predictions.sort_values(ascending=False)\n",
    "    \n",
    "    revenue = target[sorted_predictions.index][:to_chose].sum()\n",
    "    \n",
    "    return revenue * REVENUE_PER_UNIT - BUDGET"
   ]
  },
  {
   "cell_type": "markdown",
   "metadata": {},
   "source": [
    "# 5. Расчёт прибыли и рисков"
   ]
  },
  {
   "cell_type": "code",
   "execution_count": 23,
   "metadata": {},
   "outputs": [],
   "source": [
    "from numpy.random import RandomState"
   ]
  },
  {
   "cell_type": "code",
   "execution_count": 24,
   "metadata": {},
   "outputs": [],
   "source": [
    "def profit_bootstrap(region_number):\n",
    "    \"\"\"\n",
    "    Function for calculating profits and risks with bootstrap technique \n",
    "\n",
    "    Parameters:\n",
    "    region_number (int): Number of region\n",
    "    \"\"\"\n",
    "    \n",
    "    # Prediction for all data\n",
    "    predicted = pd.Series(model[region_number].predict(X_valid[region_number]), index=X_valid[region_number].index)\n",
    "    \n",
    "    values = []\n",
    "    loss_counter = 0\n",
    "    \n",
    "    state = RandomState(42)\n",
    "\n",
    "    # Bootstrap for profit distribution\n",
    "    for i in range(1000):\n",
    "        subsample_target = y_valid[region_number].sample(n=WELLS_TO_EXPLORE, replace=True, random_state=state)\n",
    "        subsample_predict = pd.Series(predicted)[subsample_target.index]\n",
    "\n",
    "        profit = calculate_profit(subsample_target, subsample_predict, WELLS_TO_DO)\n",
    "\n",
    "        values.append(profit)\n",
    "        \n",
    "        # risk of loss count\n",
    "        if (profit < 0):\n",
    "            loss_counter += 1\n",
    "    \n",
    "    values = pd.Series(values)\n",
    "    \n",
    "    # Profit distribution histogram\n",
    "    values.hist(bins=100, figsize=(15, 10))\n",
    "    plt.xlabel('Profit')\n",
    "    plt.ylabel('Number of subsamples')\n",
    "    plt.grid(linewidth=0.5)\n",
    "    plt.title('Profit distribution by bootstrap subsamples')\n",
    "    plt.show()\n",
    "    \n",
    "    print('Average profit - {:.0f} million rubles'.format(values.mean() / 1e6))\n",
    "    print('95% confidence interval - ({:.0f}, {:.0f}) million rubles'.format(values.quantile(0.025) / 1e6, values.quantile(0.975) / 1e6))\n",
    "    print('Loss risk - {:.2%}'.format(loss_counter / 1000))"
   ]
  },
  {
   "cell_type": "code",
   "execution_count": 28,
   "metadata": {},
   "outputs": [
    {
     "data": {
      "text/plain": [
       "{0: array([101.90101715,  78.21777385, 115.26690103, ...,  82.54439653,\n",
       "         81.82668931,  93.12106221]),\n",
       " 1: array([  0.84473806,  52.92161194, 135.11038454, ...,  26.70873415,\n",
       "        109.82308735, 135.44878039]),\n",
       " 2: array([ 98.30191642, 101.59246124,  52.4490989 , ...,  64.09839   ,\n",
       "         83.76413542,  86.55864415])}"
      ]
     },
     "execution_count": 28,
     "metadata": {},
     "output_type": "execute_result"
    }
   ],
   "source": [
    "predict_valid"
   ]
  },
  {
   "cell_type": "markdown",
   "metadata": {},
   "source": [
    "## Регион 0"
   ]
  },
  {
   "cell_type": "code",
   "execution_count": 25,
   "metadata": {},
   "outputs": [
    {
     "data": {
      "image/png": "[encoded data removed]",
      "text/plain": [
       "<Figure size 1080x720 with 1 Axes>"
      ]
     },
     "metadata": {
      "needs_background": "light"
     },
     "output_type": "display_data"
    },
    {
     "name": "stdout",
     "output_type": "stream",
     "text": [
      "Average profit - 428 million rubles\n",
      "95% confidence interval - (-97, 954) million rubles\n",
      "Loss risk - 5.50%\n"
     ]
    }
   ],
   "source": [
    "profit_bootstrap(0)"
   ]
  },
  {
   "cell_type": "markdown",
   "metadata": {},
   "source": [
    "## Регион 1"
   ]
  },
  {
   "cell_type": "code",
   "execution_count": 26,
   "metadata": {},
   "outputs": [
    {
     "data": {
      "image/png": "[encoded data removed]",
      "text/plain": [
       "<Figure size 1080x720 with 1 Axes>"
      ]
     },
     "metadata": {
      "needs_background": "light"
     },
     "output_type": "display_data"
    },
    {
     "name": "stdout",
     "output_type": "stream",
     "text": [
      "Average profit - 511 million rubles\n",
      "95% confidence interval - (99, 941) million rubles\n",
      "Loss risk - 0.90%\n"
     ]
    }
   ],
   "source": [
    "profit_bootstrap(1)"
   ]
  },
  {
   "cell_type": "markdown",
   "metadata": {},
   "source": [
    "## Регион 2"
   ]
  },
  {
   "cell_type": "code",
   "execution_count": 27,
   "metadata": {},
   "outputs": [
    {
     "data": {
      "image/png": "[encoded data removed]",
      "text/plain": [
       "<Figure size 1080x720 with 1 Axes>"
      ]
     },
     "metadata": {
      "needs_background": "light"
     },
     "output_type": "display_data"
    },
    {
     "name": "stdout",
     "output_type": "stream",
     "text": [
      "Average profit - 403 million rubles\n",
      "95% confidence interval - (-137, 930) million rubles\n",
      "Loss risk - 7.40%\n"
     ]
    }
   ],
   "source": [
    "profit_bootstrap(2)"
   ]
  },
  {
   "cell_type": "markdown",
   "metadata": {},
   "source": [
    "## Выводы (шаг 5)"
   ]
  },
  {
   "cell_type": "markdown",
   "metadata": {},
   "source": [
    "В результате применения техники Boostrap (из выборки для каждого региона были извлечены 1000 подвыборок по 500 скважин) было выявлено, что единственный подходящий по условиям (вероятность убытков менее 2.5%) регион — это регион 1. \n",
    "\n",
    "В нем:\n",
    "- вероятность убытков составила 0.9%;\n",
    "- средняя выручка - 511 млн. рублей;\n",
    "- 95% доверительный интервал (99 - 941 млн. руб.) является самым узким среди всех регионов и не содержит в себе отрицательных значений (в отличие от других регионов)."
   ]
  },
  {
   "cell_type": "markdown",
   "metadata": {},
   "source": [
    "# Чек-лист готовности проекта"
   ]
  },
  {
   "cell_type": "markdown",
   "metadata": {},
   "source": [
    "Поставьте 'x' в выполненных пунктах. Далее нажмите Shift+Enter."
   ]
  },
  {
   "cell_type": "markdown",
   "metadata": {},
   "source": [
    "- [x]  Jupyter Notebook открыт\n",
    "- [x]  Весь код выполняется без ошибок\n",
    "- [x]  Ячейки с кодом расположены в порядке исполнения\n",
    "- [x]  Выполнен шаг 1: данные подготовлены\n",
    "- [x]  Выполнен шаг 2: модели обучены и проверены\n",
    "    - [x]  Данные корректно разбиты на обучающую и валидационную выборки\n",
    "    - [x]  Модели обучены, предсказания сделаны\n",
    "    - [x]  Предсказания и правильные ответы на валидационной выборке сохранены\n",
    "    - [x]  На экране напечатаны результаты\n",
    "    - [x]  Сделаны выводы\n",
    "- [x]  Выполнен шаг 3: проведена подготовка к расчёту прибыли\n",
    "    - [x]  Для всех ключевых значений созданы константы Python\n",
    "    - [x]  Посчитано минимальное среднее количество продукта в месторождениях региона, достаточное для разработки\n",
    "    - [x]  По предыдущему пункту сделаны выводы\n",
    "- [x]  Выполнен шаг 4: написана функция расчёта прибыли\n",
    "    - [x]  Выбраны скважины с максимальными значениями предсказаний\n",
    "    - [x]  Просуммированы целевые значения объёма сырья, соответствующее этим предсказаниям\n",
    "    - [x]  Рассчитана прибыль для полученного объёма сырья\n",
    "- [x]  Выполнен шаг 5: посчитаны риски и прибыль\n",
    "    - [x]  Проведена процедура *Bootstrap*\n",
    "    - [x]  Все параметры бутстрепа соответствуют условию\n",
    "    - [x]  Найдены все нужные величины\n",
    "    - [x]  Предложен регион для разработки месторождения\n",
    "    - [x]  Выбор региона обоснован"
   ]
  }
 ],
 "metadata": {
  "kernelspec": {
   "display_name": "praktikum",
   "language": "python",
   "name": "praktikum"
  },
  "language_info": {
   "codemirror_mode": {
    "name": "ipython",
    "version": 3
   },
   "file_extension": ".py",
   "mimetype": "text/x-python",
   "name": "python",
   "nbconvert_exporter": "python",
   "pygments_lexer": "ipython3",
   "version": "3.9.10"
  },
  "toc-autonumbering": true
 },
 "nbformat": 4,
 "nbformat_minor": 4
}
