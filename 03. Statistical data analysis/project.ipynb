{
 "cells": [
  {
   "cell_type": "markdown",
   "metadata": {
    "tags": []
   },
   "source": [
    "# Определение перспективного тарифа для телеком компании¶\n",
    "Входные данные - информация о 500 пользователей сотового оператора: кто они, откуда, каким тарифом пользуются, сколько звонков и сообщений каждый отправил за 2018 год. \n",
    "\n",
    "Задача - проанализировать поведение клиентов и сделать вывод — какой тариф лучше."
   ]
  },
  {
   "cell_type": "markdown",
   "metadata": {
    "jp-MarkdownHeadingCollapsed": true,
    "tags": []
   },
   "source": [
    "## Оглавление\n",
    "\n",
    "* [Описание тарифов](#Описание-тарифов)\n",
    "* [Шаг 1. Открытие файлов с данными и изучение общей информации¶](#Шаг-1.-Открытие-файлов-с-данными-и-изучение-общей-информации)\n",
    "    * [Информация о пользователях (шаг 1)](#Информация-о-пользователях-(шаг-1))\n",
    "    * [Информация о звонках (шаг 1)](#Информация-о-звонках-(шаг-1))\n",
    "    * [Информация о сообщениях (шаг 1)](#Информация-о-сообщениях-(шаг-1))\n",
    "    * [Информация об интернет-сессиях (шаг 1)](#Информация-об-интернет-сессиях-(шаг-1))\n",
    "    * [Информация о тарифах](#Информация-о-тарифах)\n",
    "    * [Выводы (шаг 1)](#Выводы-(шаг-1))\n",
    "* [Шаг 2. Подготовка данных](#Шаг-2.-Подготовка-данных)\n",
    "    * [Информация о пользователях (шаг 2)](#Информация-о-пользователях-(шаг-2))\n",
    "    * [Информация о звонках (шаг 2)](#Информация-о-звонках-(шаг-2))\n",
    "    * [Информация о сообщениях (шаг 2)](#Информация-о-сообщениях-(шаг-2))\n",
    "    * [Информация об интернет-сессиях (шаг 2)](#Информация-об-интернет-сессиях-(шаг-2))\n",
    "    * [Замена 0 для длительности разговоров и объема интеренет-сессий](#Замена-0-для-длительности-разговоров-и-объема-интеренет-сессий)\n",
    "    * [Дополнительные расчеты для каждого пользователя](#Дополнительные-расчеты-для-каждого-пользователя)\n",
    "    * [Выводы (шаг 2)](#Выводы-(шаг-2))\n",
    "* [Шаг 3. Анализ данных](#Шаг-3.-Анализ-данных)\n",
    "    * [Звонки](#Звонки)\n",
    "    * [Сообщения](#Сообщения)\n",
    "    * [Интернет-трафик](#Интернет-трафик)\n",
    "    * [Выводы (шаг 3)](#Выводы-(шаг-3))\n",
    "* [Шаг 4. Проверка гипотез](#Шаг-4.-Проверка-гипотез)\n",
    "    * [Гипотеза о различие средней выручки пользователей тарифов «Ультра» и «Смарт»](#Гипотеза-о-различие-средней-выручки-пользователей-тарифов-«Ультра»-и-«Смарт»)\n",
    "    * [Гипотеза о различие средней выручки пользователей из Москвы и других регионов](#Гипотеза-о-различие-средней-выручки-пользователей-из-Москвы-и-других-регионов)\n",
    "    * [Гипотеза о том, что выручка тарифа «Смарт» меньше](#Гипотеза-о-том,-что-выручка-тарифа-«Смарт»-меньше)\n",
    "    * [Выводы (шаг 4)](#Выводы-(шаг-5))\n",
    "* [Шаг 5. Общий вывод](#Шаг-5.-Общий-вывод)"
   ]
  },
  {
   "cell_type": "markdown",
   "metadata": {},
   "source": [
    "## Описание тарифов\n",
    "__Тариф «Смарт»__\n",
    "1. Ежемесячная плата: 550 рублей\n",
    "2. Включено 500 минут разговора, 50 сообщений и 15 Гб интернет-трафика\n",
    "3. Стоимость услуг сверх тарифного пакета:\n",
    "* минута разговора: 3 рубля\n",
    "* сообщение: 3 рубля\n",
    "* 1 Гб интернет-трафика: 200 рублей\n",
    "\n",
    "__Тариф «Ультра»__\n",
    "1. Ежемесячная плата: 1950 рублей\n",
    "2. Включено 3000 минут разговора, 1000 сообщений и 30 Гб интернет-трафика\n",
    "3. Стоимость услуг сверх тарифного пакета:\n",
    "* минута разговора: 1 рубль\n",
    "* сообщение: 1 рубль\n",
    "* 1 Гб интернет-трафика: 150 рублей\n",
    "\n",
    "Значения минут и мегабайтов всего округялются вверх."
   ]
  },
  {
   "cell_type": "markdown",
   "metadata": {
    "tags": []
   },
   "source": [
    "## Шаг 1. Открытие файлов с данными и изучение общей информации"
   ]
  },
  {
   "cell_type": "code",
   "execution_count": 1,
   "metadata": {},
   "outputs": [],
   "source": [
    "import pandas as pd\n",
    "import numpy as np\n",
    "import matplotlib.pyplot as plt"
   ]
  },
  {
   "cell_type": "markdown",
   "metadata": {},
   "source": [
    "### Информация о пользователях (шаг 1)"
   ]
  },
  {
   "cell_type": "code",
   "execution_count": 2,
   "metadata": {},
   "outputs": [],
   "source": [
    "users = pd.read_csv('users.csv')"
   ]
  },
  {
   "cell_type": "code",
   "execution_count": 3,
   "metadata": {},
   "outputs": [
    {
     "name": "stdout",
     "output_type": "stream",
     "text": [
      "<class 'pandas.core.frame.DataFrame'>\n",
      "RangeIndex: 500 entries, 0 to 499\n",
      "Data columns (total 8 columns):\n",
      " #   Column      Non-Null Count  Dtype \n",
      "---  ------      --------------  ----- \n",
      " 0   user_id     500 non-null    int64 \n",
      " 1   age         500 non-null    int64 \n",
      " 2   churn_date  38 non-null     object\n",
      " 3   city        500 non-null    object\n",
      " 4   first_name  500 non-null    object\n",
      " 5   last_name   500 non-null    object\n",
      " 6   reg_date    500 non-null    object\n",
      " 7   tariff      500 non-null    object\n",
      "dtypes: int64(2), object(6)\n",
      "memory usage: 31.4+ KB\n"
     ]
    }
   ],
   "source": [
    "users.info()"
   ]
  },
  {
   "cell_type": "code",
   "execution_count": 4,
   "metadata": {},
   "outputs": [
    {
     "data": {
      "text/html": [
       "<div>\n",
       "<style scoped>\n",
       "    .dataframe tbody tr th:only-of-type {\n",
       "        vertical-align: middle;\n",
       "    }\n",
       "\n",
       "    .dataframe tbody tr th {\n",
       "        vertical-align: top;\n",
       "    }\n",
       "\n",
       "    .dataframe thead th {\n",
       "        text-align: right;\n",
       "    }\n",
       "</style>\n",
       "<table border=\"1\" class=\"dataframe\">\n",
       "  <thead>\n",
       "    <tr style=\"text-align: right;\">\n",
       "      <th></th>\n",
       "      <th>user_id</th>\n",
       "      <th>age</th>\n",
       "    </tr>\n",
       "  </thead>\n",
       "  <tbody>\n",
       "    <tr>\n",
       "      <th>count</th>\n",
       "      <td>500.000000</td>\n",
       "      <td>500.00000</td>\n",
       "    </tr>\n",
       "    <tr>\n",
       "      <th>mean</th>\n",
       "      <td>1249.500000</td>\n",
       "      <td>46.58800</td>\n",
       "    </tr>\n",
       "    <tr>\n",
       "      <th>std</th>\n",
       "      <td>144.481833</td>\n",
       "      <td>16.66763</td>\n",
       "    </tr>\n",
       "    <tr>\n",
       "      <th>min</th>\n",
       "      <td>1000.000000</td>\n",
       "      <td>18.00000</td>\n",
       "    </tr>\n",
       "    <tr>\n",
       "      <th>25%</th>\n",
       "      <td>1124.750000</td>\n",
       "      <td>32.00000</td>\n",
       "    </tr>\n",
       "    <tr>\n",
       "      <th>50%</th>\n",
       "      <td>1249.500000</td>\n",
       "      <td>46.00000</td>\n",
       "    </tr>\n",
       "    <tr>\n",
       "      <th>75%</th>\n",
       "      <td>1374.250000</td>\n",
       "      <td>62.00000</td>\n",
       "    </tr>\n",
       "    <tr>\n",
       "      <th>max</th>\n",
       "      <td>1499.000000</td>\n",
       "      <td>75.00000</td>\n",
       "    </tr>\n",
       "  </tbody>\n",
       "</table>\n",
       "</div>"
      ],
      "text/plain": [
       "           user_id        age\n",
       "count   500.000000  500.00000\n",
       "mean   1249.500000   46.58800\n",
       "std     144.481833   16.66763\n",
       "min    1000.000000   18.00000\n",
       "25%    1124.750000   32.00000\n",
       "50%    1249.500000   46.00000\n",
       "75%    1374.250000   62.00000\n",
       "max    1499.000000   75.00000"
      ]
     },
     "execution_count": 4,
     "metadata": {},
     "output_type": "execute_result"
    }
   ],
   "source": [
    "users.describe()"
   ]
  },
  {
   "cell_type": "code",
   "execution_count": 5,
   "metadata": {},
   "outputs": [
    {
     "data": {
      "text/html": [
       "<div>\n",
       "<style scoped>\n",
       "    .dataframe tbody tr th:only-of-type {\n",
       "        vertical-align: middle;\n",
       "    }\n",
       "\n",
       "    .dataframe tbody tr th {\n",
       "        vertical-align: top;\n",
       "    }\n",
       "\n",
       "    .dataframe thead th {\n",
       "        text-align: right;\n",
       "    }\n",
       "</style>\n",
       "<table border=\"1\" class=\"dataframe\">\n",
       "  <thead>\n",
       "    <tr style=\"text-align: right;\">\n",
       "      <th></th>\n",
       "      <th>user_id</th>\n",
       "      <th>age</th>\n",
       "      <th>churn_date</th>\n",
       "      <th>city</th>\n",
       "      <th>first_name</th>\n",
       "      <th>last_name</th>\n",
       "      <th>reg_date</th>\n",
       "      <th>tariff</th>\n",
       "    </tr>\n",
       "  </thead>\n",
       "  <tbody>\n",
       "    <tr>\n",
       "      <th>0</th>\n",
       "      <td>1000</td>\n",
       "      <td>52</td>\n",
       "      <td>NaN</td>\n",
       "      <td>Краснодар</td>\n",
       "      <td>Рафаил</td>\n",
       "      <td>Верещагин</td>\n",
       "      <td>2018-05-25</td>\n",
       "      <td>ultra</td>\n",
       "    </tr>\n",
       "    <tr>\n",
       "      <th>1</th>\n",
       "      <td>1001</td>\n",
       "      <td>41</td>\n",
       "      <td>NaN</td>\n",
       "      <td>Москва</td>\n",
       "      <td>Иван</td>\n",
       "      <td>Ежов</td>\n",
       "      <td>2018-11-01</td>\n",
       "      <td>smart</td>\n",
       "    </tr>\n",
       "    <tr>\n",
       "      <th>2</th>\n",
       "      <td>1002</td>\n",
       "      <td>59</td>\n",
       "      <td>NaN</td>\n",
       "      <td>Стерлитамак</td>\n",
       "      <td>Евгений</td>\n",
       "      <td>Абрамович</td>\n",
       "      <td>2018-06-17</td>\n",
       "      <td>smart</td>\n",
       "    </tr>\n",
       "    <tr>\n",
       "      <th>3</th>\n",
       "      <td>1003</td>\n",
       "      <td>23</td>\n",
       "      <td>NaN</td>\n",
       "      <td>Москва</td>\n",
       "      <td>Белла</td>\n",
       "      <td>Белякова</td>\n",
       "      <td>2018-08-17</td>\n",
       "      <td>ultra</td>\n",
       "    </tr>\n",
       "    <tr>\n",
       "      <th>4</th>\n",
       "      <td>1004</td>\n",
       "      <td>68</td>\n",
       "      <td>NaN</td>\n",
       "      <td>Новокузнецк</td>\n",
       "      <td>Татьяна</td>\n",
       "      <td>Авдеенко</td>\n",
       "      <td>2018-05-14</td>\n",
       "      <td>ultra</td>\n",
       "    </tr>\n",
       "  </tbody>\n",
       "</table>\n",
       "</div>"
      ],
      "text/plain": [
       "   user_id  age churn_date         city first_name  last_name    reg_date  \\\n",
       "0     1000   52        NaN    Краснодар     Рафаил  Верещагин  2018-05-25   \n",
       "1     1001   41        NaN       Москва       Иван       Ежов  2018-11-01   \n",
       "2     1002   59        NaN  Стерлитамак    Евгений  Абрамович  2018-06-17   \n",
       "3     1003   23        NaN       Москва      Белла   Белякова  2018-08-17   \n",
       "4     1004   68        NaN  Новокузнецк    Татьяна   Авдеенко  2018-05-14   \n",
       "\n",
       "  tariff  \n",
       "0  ultra  \n",
       "1  smart  \n",
       "2  smart  \n",
       "3  ultra  \n",
       "4  ultra  "
      ]
     },
     "execution_count": 5,
     "metadata": {},
     "output_type": "execute_result"
    }
   ],
   "source": [
    "users.head()"
   ]
  },
  {
   "cell_type": "markdown",
   "metadata": {},
   "source": [
    "### Информация о звонках (шаг 1)"
   ]
  },
  {
   "cell_type": "code",
   "execution_count": 6,
   "metadata": {},
   "outputs": [],
   "source": [
    "calls = pd.read_csv('calls.csv')"
   ]
  },
  {
   "cell_type": "code",
   "execution_count": 7,
   "metadata": {},
   "outputs": [
    {
     "name": "stdout",
     "output_type": "stream",
     "text": [
      "<class 'pandas.core.frame.DataFrame'>\n",
      "RangeIndex: 202607 entries, 0 to 202606\n",
      "Data columns (total 4 columns):\n",
      " #   Column     Non-Null Count   Dtype  \n",
      "---  ------     --------------   -----  \n",
      " 0   id         202607 non-null  object \n",
      " 1   call_date  202607 non-null  object \n",
      " 2   duration   202607 non-null  float64\n",
      " 3   user_id    202607 non-null  int64  \n",
      "dtypes: float64(1), int64(1), object(2)\n",
      "memory usage: 6.2+ MB\n"
     ]
    }
   ],
   "source": [
    "calls.info()"
   ]
  },
  {
   "cell_type": "code",
   "execution_count": 8,
   "metadata": {},
   "outputs": [
    {
     "data": {
      "text/html": [
       "<div>\n",
       "<style scoped>\n",
       "    .dataframe tbody tr th:only-of-type {\n",
       "        vertical-align: middle;\n",
       "    }\n",
       "\n",
       "    .dataframe tbody tr th {\n",
       "        vertical-align: top;\n",
       "    }\n",
       "\n",
       "    .dataframe thead th {\n",
       "        text-align: right;\n",
       "    }\n",
       "</style>\n",
       "<table border=\"1\" class=\"dataframe\">\n",
       "  <thead>\n",
       "    <tr style=\"text-align: right;\">\n",
       "      <th></th>\n",
       "      <th>duration</th>\n",
       "      <th>user_id</th>\n",
       "    </tr>\n",
       "  </thead>\n",
       "  <tbody>\n",
       "    <tr>\n",
       "      <th>count</th>\n",
       "      <td>202607.000000</td>\n",
       "      <td>202607.000000</td>\n",
       "    </tr>\n",
       "    <tr>\n",
       "      <th>mean</th>\n",
       "      <td>6.755887</td>\n",
       "      <td>1253.940619</td>\n",
       "    </tr>\n",
       "    <tr>\n",
       "      <th>std</th>\n",
       "      <td>5.843365</td>\n",
       "      <td>144.722751</td>\n",
       "    </tr>\n",
       "    <tr>\n",
       "      <th>min</th>\n",
       "      <td>0.000000</td>\n",
       "      <td>1000.000000</td>\n",
       "    </tr>\n",
       "    <tr>\n",
       "      <th>25%</th>\n",
       "      <td>1.300000</td>\n",
       "      <td>1126.000000</td>\n",
       "    </tr>\n",
       "    <tr>\n",
       "      <th>50%</th>\n",
       "      <td>6.000000</td>\n",
       "      <td>1260.000000</td>\n",
       "    </tr>\n",
       "    <tr>\n",
       "      <th>75%</th>\n",
       "      <td>10.700000</td>\n",
       "      <td>1379.000000</td>\n",
       "    </tr>\n",
       "    <tr>\n",
       "      <th>max</th>\n",
       "      <td>38.000000</td>\n",
       "      <td>1499.000000</td>\n",
       "    </tr>\n",
       "  </tbody>\n",
       "</table>\n",
       "</div>"
      ],
      "text/plain": [
       "            duration        user_id\n",
       "count  202607.000000  202607.000000\n",
       "mean        6.755887    1253.940619\n",
       "std         5.843365     144.722751\n",
       "min         0.000000    1000.000000\n",
       "25%         1.300000    1126.000000\n",
       "50%         6.000000    1260.000000\n",
       "75%        10.700000    1379.000000\n",
       "max        38.000000    1499.000000"
      ]
     },
     "execution_count": 8,
     "metadata": {},
     "output_type": "execute_result"
    }
   ],
   "source": [
    "calls.describe()"
   ]
  },
  {
   "cell_type": "code",
   "execution_count": 9,
   "metadata": {},
   "outputs": [
    {
     "data": {
      "text/html": [
       "<div>\n",
       "<style scoped>\n",
       "    .dataframe tbody tr th:only-of-type {\n",
       "        vertical-align: middle;\n",
       "    }\n",
       "\n",
       "    .dataframe tbody tr th {\n",
       "        vertical-align: top;\n",
       "    }\n",
       "\n",
       "    .dataframe thead th {\n",
       "        text-align: right;\n",
       "    }\n",
       "</style>\n",
       "<table border=\"1\" class=\"dataframe\">\n",
       "  <thead>\n",
       "    <tr style=\"text-align: right;\">\n",
       "      <th></th>\n",
       "      <th>id</th>\n",
       "      <th>call_date</th>\n",
       "      <th>duration</th>\n",
       "      <th>user_id</th>\n",
       "    </tr>\n",
       "  </thead>\n",
       "  <tbody>\n",
       "    <tr>\n",
       "      <th>0</th>\n",
       "      <td>1000_0</td>\n",
       "      <td>2018-07-25</td>\n",
       "      <td>0.00</td>\n",
       "      <td>1000</td>\n",
       "    </tr>\n",
       "    <tr>\n",
       "      <th>1</th>\n",
       "      <td>1000_1</td>\n",
       "      <td>2018-08-17</td>\n",
       "      <td>0.00</td>\n",
       "      <td>1000</td>\n",
       "    </tr>\n",
       "    <tr>\n",
       "      <th>2</th>\n",
       "      <td>1000_2</td>\n",
       "      <td>2018-06-11</td>\n",
       "      <td>2.85</td>\n",
       "      <td>1000</td>\n",
       "    </tr>\n",
       "    <tr>\n",
       "      <th>3</th>\n",
       "      <td>1000_3</td>\n",
       "      <td>2018-09-21</td>\n",
       "      <td>13.80</td>\n",
       "      <td>1000</td>\n",
       "    </tr>\n",
       "    <tr>\n",
       "      <th>4</th>\n",
       "      <td>1000_4</td>\n",
       "      <td>2018-12-15</td>\n",
       "      <td>5.18</td>\n",
       "      <td>1000</td>\n",
       "    </tr>\n",
       "  </tbody>\n",
       "</table>\n",
       "</div>"
      ],
      "text/plain": [
       "       id   call_date  duration  user_id\n",
       "0  1000_0  2018-07-25      0.00     1000\n",
       "1  1000_1  2018-08-17      0.00     1000\n",
       "2  1000_2  2018-06-11      2.85     1000\n",
       "3  1000_3  2018-09-21     13.80     1000\n",
       "4  1000_4  2018-12-15      5.18     1000"
      ]
     },
     "execution_count": 9,
     "metadata": {},
     "output_type": "execute_result"
    }
   ],
   "source": [
    "calls.head()"
   ]
  },
  {
   "cell_type": "markdown",
   "metadata": {},
   "source": [
    "### Информация о сообщениях (шаг 1)"
   ]
  },
  {
   "cell_type": "code",
   "execution_count": 10,
   "metadata": {},
   "outputs": [],
   "source": [
    "messages = pd.read_csv('messages.csv')"
   ]
  },
  {
   "cell_type": "code",
   "execution_count": 11,
   "metadata": {},
   "outputs": [
    {
     "name": "stdout",
     "output_type": "stream",
     "text": [
      "<class 'pandas.core.frame.DataFrame'>\n",
      "RangeIndex: 123036 entries, 0 to 123035\n",
      "Data columns (total 3 columns):\n",
      " #   Column        Non-Null Count   Dtype \n",
      "---  ------        --------------   ----- \n",
      " 0   id            123036 non-null  object\n",
      " 1   message_date  123036 non-null  object\n",
      " 2   user_id       123036 non-null  int64 \n",
      "dtypes: int64(1), object(2)\n",
      "memory usage: 2.8+ MB\n"
     ]
    }
   ],
   "source": [
    "messages.info()"
   ]
  },
  {
   "cell_type": "code",
   "execution_count": 12,
   "metadata": {},
   "outputs": [
    {
     "data": {
      "text/html": [
       "<div>\n",
       "<style scoped>\n",
       "    .dataframe tbody tr th:only-of-type {\n",
       "        vertical-align: middle;\n",
       "    }\n",
       "\n",
       "    .dataframe tbody tr th {\n",
       "        vertical-align: top;\n",
       "    }\n",
       "\n",
       "    .dataframe thead th {\n",
       "        text-align: right;\n",
       "    }\n",
       "</style>\n",
       "<table border=\"1\" class=\"dataframe\">\n",
       "  <thead>\n",
       "    <tr style=\"text-align: right;\">\n",
       "      <th></th>\n",
       "      <th>user_id</th>\n",
       "    </tr>\n",
       "  </thead>\n",
       "  <tbody>\n",
       "    <tr>\n",
       "      <th>count</th>\n",
       "      <td>123036.000000</td>\n",
       "    </tr>\n",
       "    <tr>\n",
       "      <th>mean</th>\n",
       "      <td>1256.989410</td>\n",
       "    </tr>\n",
       "    <tr>\n",
       "      <th>std</th>\n",
       "      <td>143.523967</td>\n",
       "    </tr>\n",
       "    <tr>\n",
       "      <th>min</th>\n",
       "      <td>1000.000000</td>\n",
       "    </tr>\n",
       "    <tr>\n",
       "      <th>25%</th>\n",
       "      <td>1134.000000</td>\n",
       "    </tr>\n",
       "    <tr>\n",
       "      <th>50%</th>\n",
       "      <td>1271.000000</td>\n",
       "    </tr>\n",
       "    <tr>\n",
       "      <th>75%</th>\n",
       "      <td>1381.000000</td>\n",
       "    </tr>\n",
       "    <tr>\n",
       "      <th>max</th>\n",
       "      <td>1499.000000</td>\n",
       "    </tr>\n",
       "  </tbody>\n",
       "</table>\n",
       "</div>"
      ],
      "text/plain": [
       "             user_id\n",
       "count  123036.000000\n",
       "mean     1256.989410\n",
       "std       143.523967\n",
       "min      1000.000000\n",
       "25%      1134.000000\n",
       "50%      1271.000000\n",
       "75%      1381.000000\n",
       "max      1499.000000"
      ]
     },
     "execution_count": 12,
     "metadata": {},
     "output_type": "execute_result"
    }
   ],
   "source": [
    "messages.describe()"
   ]
  },
  {
   "cell_type": "code",
   "execution_count": 13,
   "metadata": {},
   "outputs": [
    {
     "data": {
      "text/html": [
       "<div>\n",
       "<style scoped>\n",
       "    .dataframe tbody tr th:only-of-type {\n",
       "        vertical-align: middle;\n",
       "    }\n",
       "\n",
       "    .dataframe tbody tr th {\n",
       "        vertical-align: top;\n",
       "    }\n",
       "\n",
       "    .dataframe thead th {\n",
       "        text-align: right;\n",
       "    }\n",
       "</style>\n",
       "<table border=\"1\" class=\"dataframe\">\n",
       "  <thead>\n",
       "    <tr style=\"text-align: right;\">\n",
       "      <th></th>\n",
       "      <th>id</th>\n",
       "      <th>message_date</th>\n",
       "      <th>user_id</th>\n",
       "    </tr>\n",
       "  </thead>\n",
       "  <tbody>\n",
       "    <tr>\n",
       "      <th>0</th>\n",
       "      <td>1000_0</td>\n",
       "      <td>2018-06-27</td>\n",
       "      <td>1000</td>\n",
       "    </tr>\n",
       "    <tr>\n",
       "      <th>1</th>\n",
       "      <td>1000_1</td>\n",
       "      <td>2018-10-08</td>\n",
       "      <td>1000</td>\n",
       "    </tr>\n",
       "    <tr>\n",
       "      <th>2</th>\n",
       "      <td>1000_2</td>\n",
       "      <td>2018-08-04</td>\n",
       "      <td>1000</td>\n",
       "    </tr>\n",
       "    <tr>\n",
       "      <th>3</th>\n",
       "      <td>1000_3</td>\n",
       "      <td>2018-06-16</td>\n",
       "      <td>1000</td>\n",
       "    </tr>\n",
       "    <tr>\n",
       "      <th>4</th>\n",
       "      <td>1000_4</td>\n",
       "      <td>2018-12-05</td>\n",
       "      <td>1000</td>\n",
       "    </tr>\n",
       "  </tbody>\n",
       "</table>\n",
       "</div>"
      ],
      "text/plain": [
       "       id message_date  user_id\n",
       "0  1000_0   2018-06-27     1000\n",
       "1  1000_1   2018-10-08     1000\n",
       "2  1000_2   2018-08-04     1000\n",
       "3  1000_3   2018-06-16     1000\n",
       "4  1000_4   2018-12-05     1000"
      ]
     },
     "execution_count": 13,
     "metadata": {},
     "output_type": "execute_result"
    }
   ],
   "source": [
    "messages.head()"
   ]
  },
  {
   "cell_type": "markdown",
   "metadata": {},
   "source": [
    "### Информация об интернет-сессиях (шаг 1)"
   ]
  },
  {
   "cell_type": "code",
   "execution_count": 14,
   "metadata": {},
   "outputs": [],
   "source": [
    "internet = pd.read_csv('internet.csv')"
   ]
  },
  {
   "cell_type": "code",
   "execution_count": 15,
   "metadata": {},
   "outputs": [
    {
     "name": "stdout",
     "output_type": "stream",
     "text": [
      "<class 'pandas.core.frame.DataFrame'>\n",
      "RangeIndex: 149396 entries, 0 to 149395\n",
      "Data columns (total 5 columns):\n",
      " #   Column        Non-Null Count   Dtype  \n",
      "---  ------        --------------   -----  \n",
      " 0   Unnamed: 0    149396 non-null  int64  \n",
      " 1   id            149396 non-null  object \n",
      " 2   mb_used       149396 non-null  float64\n",
      " 3   session_date  149396 non-null  object \n",
      " 4   user_id       149396 non-null  int64  \n",
      "dtypes: float64(1), int64(2), object(2)\n",
      "memory usage: 5.7+ MB\n"
     ]
    }
   ],
   "source": [
    "internet.info()"
   ]
  },
  {
   "cell_type": "code",
   "execution_count": 16,
   "metadata": {},
   "outputs": [
    {
     "data": {
      "text/html": [
       "<div>\n",
       "<style scoped>\n",
       "    .dataframe tbody tr th:only-of-type {\n",
       "        vertical-align: middle;\n",
       "    }\n",
       "\n",
       "    .dataframe tbody tr th {\n",
       "        vertical-align: top;\n",
       "    }\n",
       "\n",
       "    .dataframe thead th {\n",
       "        text-align: right;\n",
       "    }\n",
       "</style>\n",
       "<table border=\"1\" class=\"dataframe\">\n",
       "  <thead>\n",
       "    <tr style=\"text-align: right;\">\n",
       "      <th></th>\n",
       "      <th>Unnamed: 0</th>\n",
       "      <th>mb_used</th>\n",
       "      <th>user_id</th>\n",
       "    </tr>\n",
       "  </thead>\n",
       "  <tbody>\n",
       "    <tr>\n",
       "      <th>count</th>\n",
       "      <td>149396.000000</td>\n",
       "      <td>149396.000000</td>\n",
       "      <td>149396.000000</td>\n",
       "    </tr>\n",
       "    <tr>\n",
       "      <th>mean</th>\n",
       "      <td>74697.500000</td>\n",
       "      <td>370.192426</td>\n",
       "      <td>1252.099842</td>\n",
       "    </tr>\n",
       "    <tr>\n",
       "      <th>std</th>\n",
       "      <td>43127.054745</td>\n",
       "      <td>278.300951</td>\n",
       "      <td>144.050823</td>\n",
       "    </tr>\n",
       "    <tr>\n",
       "      <th>min</th>\n",
       "      <td>0.000000</td>\n",
       "      <td>0.000000</td>\n",
       "      <td>1000.000000</td>\n",
       "    </tr>\n",
       "    <tr>\n",
       "      <th>25%</th>\n",
       "      <td>37348.750000</td>\n",
       "      <td>138.187500</td>\n",
       "      <td>1130.000000</td>\n",
       "    </tr>\n",
       "    <tr>\n",
       "      <th>50%</th>\n",
       "      <td>74697.500000</td>\n",
       "      <td>348.015000</td>\n",
       "      <td>1251.000000</td>\n",
       "    </tr>\n",
       "    <tr>\n",
       "      <th>75%</th>\n",
       "      <td>112046.250000</td>\n",
       "      <td>559.552500</td>\n",
       "      <td>1380.000000</td>\n",
       "    </tr>\n",
       "    <tr>\n",
       "      <th>max</th>\n",
       "      <td>149395.000000</td>\n",
       "      <td>1724.830000</td>\n",
       "      <td>1499.000000</td>\n",
       "    </tr>\n",
       "  </tbody>\n",
       "</table>\n",
       "</div>"
      ],
      "text/plain": [
       "          Unnamed: 0        mb_used        user_id\n",
       "count  149396.000000  149396.000000  149396.000000\n",
       "mean    74697.500000     370.192426    1252.099842\n",
       "std     43127.054745     278.300951     144.050823\n",
       "min         0.000000       0.000000    1000.000000\n",
       "25%     37348.750000     138.187500    1130.000000\n",
       "50%     74697.500000     348.015000    1251.000000\n",
       "75%    112046.250000     559.552500    1380.000000\n",
       "max    149395.000000    1724.830000    1499.000000"
      ]
     },
     "execution_count": 16,
     "metadata": {},
     "output_type": "execute_result"
    }
   ],
   "source": [
    "internet.describe()"
   ]
  },
  {
   "cell_type": "code",
   "execution_count": 17,
   "metadata": {},
   "outputs": [
    {
     "data": {
      "text/html": [
       "<div>\n",
       "<style scoped>\n",
       "    .dataframe tbody tr th:only-of-type {\n",
       "        vertical-align: middle;\n",
       "    }\n",
       "\n",
       "    .dataframe tbody tr th {\n",
       "        vertical-align: top;\n",
       "    }\n",
       "\n",
       "    .dataframe thead th {\n",
       "        text-align: right;\n",
       "    }\n",
       "</style>\n",
       "<table border=\"1\" class=\"dataframe\">\n",
       "  <thead>\n",
       "    <tr style=\"text-align: right;\">\n",
       "      <th></th>\n",
       "      <th>Unnamed: 0</th>\n",
       "      <th>id</th>\n",
       "      <th>mb_used</th>\n",
       "      <th>session_date</th>\n",
       "      <th>user_id</th>\n",
       "    </tr>\n",
       "  </thead>\n",
       "  <tbody>\n",
       "    <tr>\n",
       "      <th>0</th>\n",
       "      <td>0</td>\n",
       "      <td>1000_0</td>\n",
       "      <td>112.95</td>\n",
       "      <td>2018-11-25</td>\n",
       "      <td>1000</td>\n",
       "    </tr>\n",
       "    <tr>\n",
       "      <th>1</th>\n",
       "      <td>1</td>\n",
       "      <td>1000_1</td>\n",
       "      <td>1052.81</td>\n",
       "      <td>2018-09-07</td>\n",
       "      <td>1000</td>\n",
       "    </tr>\n",
       "    <tr>\n",
       "      <th>2</th>\n",
       "      <td>2</td>\n",
       "      <td>1000_2</td>\n",
       "      <td>1197.26</td>\n",
       "      <td>2018-06-25</td>\n",
       "      <td>1000</td>\n",
       "    </tr>\n",
       "    <tr>\n",
       "      <th>3</th>\n",
       "      <td>3</td>\n",
       "      <td>1000_3</td>\n",
       "      <td>550.27</td>\n",
       "      <td>2018-08-22</td>\n",
       "      <td>1000</td>\n",
       "    </tr>\n",
       "    <tr>\n",
       "      <th>4</th>\n",
       "      <td>4</td>\n",
       "      <td>1000_4</td>\n",
       "      <td>302.56</td>\n",
       "      <td>2018-09-24</td>\n",
       "      <td>1000</td>\n",
       "    </tr>\n",
       "  </tbody>\n",
       "</table>\n",
       "</div>"
      ],
      "text/plain": [
       "   Unnamed: 0      id  mb_used session_date  user_id\n",
       "0           0  1000_0   112.95   2018-11-25     1000\n",
       "1           1  1000_1  1052.81   2018-09-07     1000\n",
       "2           2  1000_2  1197.26   2018-06-25     1000\n",
       "3           3  1000_3   550.27   2018-08-22     1000\n",
       "4           4  1000_4   302.56   2018-09-24     1000"
      ]
     },
     "execution_count": 17,
     "metadata": {},
     "output_type": "execute_result"
    }
   ],
   "source": [
    "internet.head()"
   ]
  },
  {
   "cell_type": "markdown",
   "metadata": {},
   "source": [
    "### Информация о тарифах"
   ]
  },
  {
   "cell_type": "code",
   "execution_count": 18,
   "metadata": {},
   "outputs": [],
   "source": [
    "tariffs = pd.read_csv('tariffs.csv')"
   ]
  },
  {
   "cell_type": "code",
   "execution_count": 19,
   "metadata": {},
   "outputs": [
    {
     "name": "stdout",
     "output_type": "stream",
     "text": [
      "<class 'pandas.core.frame.DataFrame'>\n",
      "RangeIndex: 2 entries, 0 to 1\n",
      "Data columns (total 8 columns):\n",
      " #   Column                 Non-Null Count  Dtype \n",
      "---  ------                 --------------  ----- \n",
      " 0   messages_included      2 non-null      int64 \n",
      " 1   mb_per_month_included  2 non-null      int64 \n",
      " 2   minutes_included       2 non-null      int64 \n",
      " 3   rub_monthly_fee        2 non-null      int64 \n",
      " 4   rub_per_gb             2 non-null      int64 \n",
      " 5   rub_per_message        2 non-null      int64 \n",
      " 6   rub_per_minute         2 non-null      int64 \n",
      " 7   tariff_name            2 non-null      object\n",
      "dtypes: int64(7), object(1)\n",
      "memory usage: 256.0+ bytes\n"
     ]
    }
   ],
   "source": [
    "tariffs.info()"
   ]
  },
  {
   "cell_type": "code",
   "execution_count": 20,
   "metadata": {},
   "outputs": [
    {
     "data": {
      "text/html": [
       "<div>\n",
       "<style scoped>\n",
       "    .dataframe tbody tr th:only-of-type {\n",
       "        vertical-align: middle;\n",
       "    }\n",
       "\n",
       "    .dataframe tbody tr th {\n",
       "        vertical-align: top;\n",
       "    }\n",
       "\n",
       "    .dataframe thead th {\n",
       "        text-align: right;\n",
       "    }\n",
       "</style>\n",
       "<table border=\"1\" class=\"dataframe\">\n",
       "  <thead>\n",
       "    <tr style=\"text-align: right;\">\n",
       "      <th></th>\n",
       "      <th>messages_included</th>\n",
       "      <th>mb_per_month_included</th>\n",
       "      <th>minutes_included</th>\n",
       "      <th>rub_monthly_fee</th>\n",
       "      <th>rub_per_gb</th>\n",
       "      <th>rub_per_message</th>\n",
       "      <th>rub_per_minute</th>\n",
       "      <th>tariff_name</th>\n",
       "    </tr>\n",
       "  </thead>\n",
       "  <tbody>\n",
       "    <tr>\n",
       "      <th>0</th>\n",
       "      <td>50</td>\n",
       "      <td>15360</td>\n",
       "      <td>500</td>\n",
       "      <td>550</td>\n",
       "      <td>200</td>\n",
       "      <td>3</td>\n",
       "      <td>3</td>\n",
       "      <td>smart</td>\n",
       "    </tr>\n",
       "    <tr>\n",
       "      <th>1</th>\n",
       "      <td>1000</td>\n",
       "      <td>30720</td>\n",
       "      <td>3000</td>\n",
       "      <td>1950</td>\n",
       "      <td>150</td>\n",
       "      <td>1</td>\n",
       "      <td>1</td>\n",
       "      <td>ultra</td>\n",
       "    </tr>\n",
       "  </tbody>\n",
       "</table>\n",
       "</div>"
      ],
      "text/plain": [
       "   messages_included  mb_per_month_included  minutes_included  \\\n",
       "0                 50                  15360               500   \n",
       "1               1000                  30720              3000   \n",
       "\n",
       "   rub_monthly_fee  rub_per_gb  rub_per_message  rub_per_minute tariff_name  \n",
       "0              550         200                3               3       smart  \n",
       "1             1950         150                1               1       ultra  "
      ]
     },
     "execution_count": 20,
     "metadata": {},
     "output_type": "execute_result"
    }
   ],
   "source": [
    "tariffs.head()"
   ]
  },
  {
   "cell_type": "markdown",
   "metadata": {},
   "source": [
    "### Выводы (шаг 1)"
   ]
  },
  {
   "cell_type": "markdown",
   "metadata": {},
   "source": [
    "__Информация о пользователях__\n",
    "\n",
    "Файл содержит 8 столбцов (2 целочисленных и 6 с объектами) и 500 записей. Названия столбцов выглядят адекватно и не содержат изъянов.\n",
    "- Столбец user_id, предположительно, может выступать индексом таблицы. Это может помочь избавиться от лишнего столбца индексов, чтобы не плодить лишних столбцов. Данная гипотеза требует проверки на следующем шаге;\n",
    "- Столбцы churn_date и reg_date содержат даты и должны быть преобразованы к типу datetime.\n",
    "\n",
    "__Информация о звонках__\n",
    "\n",
    "Файл содержит 4 столбца (1 с плавающей точкой, 1 целочисленный и 2 с объектами) и 202607 записей. Названия столбцов выглядят адекватно и не содержат изъянов.\n",
    "- Столбец id, предположительно, может выступать индексом таблицы. Это может помочь избавиться от лишнего столбца индексов, чтобы не плодить лишних столбцов. Данная гипотеза требует проверки на следующем шаге;\n",
    "- Столбец call_date содержит даты и должен быть преобразован к типу datetime;\n",
    "- Столбец user_id связывает данную таблицу с таблицей users;\n",
    "- В столбце duration (как было указано в описании шага 2) присутствуют нули. Их исправление требует дополнительного анализа.\n",
    "\n",
    "__Информация о сообщениях__\n",
    "\n",
    "Файл содержит 3 столбца (1 целочисленный и 2 с объектами) и 123036 записей. Названия столбцов выглядят адекватно и не содержат изъянов.\n",
    "- Столбец id, предположительно, может выступать индексом таблицы. Это может помочь избавиться от лишнего столбца индексов, чтобы не плодить лишних столбцов. Данная гипотеза требует проверки на следующем шаге;\n",
    "- Столбец message_date содержит даты и должен быть преобразован к типу datetime;\n",
    "- Столбец user_id связывает данную таблицу с таблицей users.\n",
    "\n",
    "__Информация об интернет-сессиях__\n",
    "\n",
    "Файл содержит 5 столбцов (1 с плавающей точкой, 2 целочисленных и 2 с объектами) и 149396 записей. Названия столбцов (кроме столбца с индексом 0) выглядят адекватно и не содержат изъянов.\n",
    "- Столбце с индексом 0 не имеет имени. В нем содержатся значения от 0 до 149395, что соответствует количеству индексов в таблице. Возможно, это случайно скопированный столбец с индексами, который можно удалить. Данная гипотеза требует проверки на следующем шаге.\n",
    "- Столбец id, предположительно, может выступать индексом таблицы. Это может помочь избавиться от лишнего столбца индексов, чтобы не плодить лишних столбцов. Данная гипотеза требует проверки на следующем шаге;\n",
    "- Столбец session_date содержит даты и должен быть преобразован к типу datetime;\n",
    "- Столбец user_id связывает данную таблицу с таблицей users.\n",
    "\n",
    "__Информация о тарифах__\n",
    "\n",
    "Файл содержит 8 столбцов (7 целочисленных и 1 с объектами) и 2 записи для 2 тарифов. Названия столбцов выглядят адекватно и не содержат изъянов.\n",
    "- Столбец tariff_name связывает данную таблицу с таблицей users."
   ]
  },
  {
   "cell_type": "markdown",
   "metadata": {},
   "source": [
    "## Шаг 2. Подготовка данных"
   ]
  },
  {
   "cell_type": "markdown",
   "metadata": {},
   "source": [
    "### Информация о пользователях (шаг 2)"
   ]
  },
  {
   "cell_type": "code",
   "execution_count": 21,
   "metadata": {},
   "outputs": [
    {
     "name": "stdout",
     "output_type": "stream",
     "text": [
      "<class 'pandas.core.frame.DataFrame'>\n",
      "RangeIndex: 500 entries, 0 to 499\n",
      "Data columns (total 8 columns):\n",
      " #   Column      Non-Null Count  Dtype \n",
      "---  ------      --------------  ----- \n",
      " 0   user_id     500 non-null    int64 \n",
      " 1   age         500 non-null    int64 \n",
      " 2   churn_date  38 non-null     object\n",
      " 3   city        500 non-null    object\n",
      " 4   first_name  500 non-null    object\n",
      " 5   last_name   500 non-null    object\n",
      " 6   reg_date    500 non-null    object\n",
      " 7   tariff      500 non-null    object\n",
      "dtypes: int64(2), object(6)\n",
      "memory usage: 31.4+ KB\n"
     ]
    }
   ],
   "source": [
    "users.info()"
   ]
  },
  {
   "cell_type": "markdown",
   "metadata": {},
   "source": [
    "#### Установка столбца user_id в качестве индекса"
   ]
  },
  {
   "cell_type": "code",
   "execution_count": 22,
   "metadata": {},
   "outputs": [
    {
     "data": {
      "text/plain": [
       "0      1000\n",
       "1      1001\n",
       "2      1002\n",
       "3      1003\n",
       "4      1004\n",
       "       ... \n",
       "495    1495\n",
       "496    1496\n",
       "497    1497\n",
       "498    1498\n",
       "499    1499\n",
       "Name: user_id, Length: 500, dtype: int64"
      ]
     },
     "execution_count": 22,
     "metadata": {},
     "output_type": "execute_result"
    }
   ],
   "source": [
    "# Проверка содержания столбца\n",
    "users['user_id']"
   ]
  },
  {
   "cell_type": "code",
   "execution_count": 23,
   "metadata": {},
   "outputs": [],
   "source": [
    "# Установка столбца user_id в качестве индекса с проверкой на дубликаты\n",
    "users.set_index(keys='user_id', verify_integrity=True, inplace=True)"
   ]
  },
  {
   "cell_type": "code",
   "execution_count": 24,
   "metadata": {},
   "outputs": [
    {
     "data": {
      "text/html": [
       "<div>\n",
       "<style scoped>\n",
       "    .dataframe tbody tr th:only-of-type {\n",
       "        vertical-align: middle;\n",
       "    }\n",
       "\n",
       "    .dataframe tbody tr th {\n",
       "        vertical-align: top;\n",
       "    }\n",
       "\n",
       "    .dataframe thead th {\n",
       "        text-align: right;\n",
       "    }\n",
       "</style>\n",
       "<table border=\"1\" class=\"dataframe\">\n",
       "  <thead>\n",
       "    <tr style=\"text-align: right;\">\n",
       "      <th></th>\n",
       "      <th>age</th>\n",
       "      <th>churn_date</th>\n",
       "      <th>city</th>\n",
       "      <th>first_name</th>\n",
       "      <th>last_name</th>\n",
       "      <th>reg_date</th>\n",
       "      <th>tariff</th>\n",
       "    </tr>\n",
       "    <tr>\n",
       "      <th>user_id</th>\n",
       "      <th></th>\n",
       "      <th></th>\n",
       "      <th></th>\n",
       "      <th></th>\n",
       "      <th></th>\n",
       "      <th></th>\n",
       "      <th></th>\n",
       "    </tr>\n",
       "  </thead>\n",
       "  <tbody>\n",
       "    <tr>\n",
       "      <th>1000</th>\n",
       "      <td>52</td>\n",
       "      <td>NaN</td>\n",
       "      <td>Краснодар</td>\n",
       "      <td>Рафаил</td>\n",
       "      <td>Верещагин</td>\n",
       "      <td>2018-05-25</td>\n",
       "      <td>ultra</td>\n",
       "    </tr>\n",
       "    <tr>\n",
       "      <th>1001</th>\n",
       "      <td>41</td>\n",
       "      <td>NaN</td>\n",
       "      <td>Москва</td>\n",
       "      <td>Иван</td>\n",
       "      <td>Ежов</td>\n",
       "      <td>2018-11-01</td>\n",
       "      <td>smart</td>\n",
       "    </tr>\n",
       "    <tr>\n",
       "      <th>1002</th>\n",
       "      <td>59</td>\n",
       "      <td>NaN</td>\n",
       "      <td>Стерлитамак</td>\n",
       "      <td>Евгений</td>\n",
       "      <td>Абрамович</td>\n",
       "      <td>2018-06-17</td>\n",
       "      <td>smart</td>\n",
       "    </tr>\n",
       "    <tr>\n",
       "      <th>1003</th>\n",
       "      <td>23</td>\n",
       "      <td>NaN</td>\n",
       "      <td>Москва</td>\n",
       "      <td>Белла</td>\n",
       "      <td>Белякова</td>\n",
       "      <td>2018-08-17</td>\n",
       "      <td>ultra</td>\n",
       "    </tr>\n",
       "    <tr>\n",
       "      <th>1004</th>\n",
       "      <td>68</td>\n",
       "      <td>NaN</td>\n",
       "      <td>Новокузнецк</td>\n",
       "      <td>Татьяна</td>\n",
       "      <td>Авдеенко</td>\n",
       "      <td>2018-05-14</td>\n",
       "      <td>ultra</td>\n",
       "    </tr>\n",
       "  </tbody>\n",
       "</table>\n",
       "</div>"
      ],
      "text/plain": [
       "         age churn_date         city first_name  last_name    reg_date tariff\n",
       "user_id                                                                      \n",
       "1000      52        NaN    Краснодар     Рафаил  Верещагин  2018-05-25  ultra\n",
       "1001      41        NaN       Москва       Иван       Ежов  2018-11-01  smart\n",
       "1002      59        NaN  Стерлитамак    Евгений  Абрамович  2018-06-17  smart\n",
       "1003      23        NaN       Москва      Белла   Белякова  2018-08-17  ultra\n",
       "1004      68        NaN  Новокузнецк    Татьяна   Авдеенко  2018-05-14  ultra"
      ]
     },
     "execution_count": 24,
     "metadata": {},
     "output_type": "execute_result"
    }
   ],
   "source": [
    "# Проверка результатов установки индекса\n",
    "users.head()"
   ]
  },
  {
   "cell_type": "markdown",
   "metadata": {
    "tags": []
   },
   "source": [
    "#### Проверка столбца age на аномалии"
   ]
  },
  {
   "cell_type": "code",
   "execution_count": 25,
   "metadata": {},
   "outputs": [
    {
     "data": {
      "text/plain": [
       "count    500.00000\n",
       "mean      46.58800\n",
       "std       16.66763\n",
       "min       18.00000\n",
       "25%       32.00000\n",
       "50%       46.00000\n",
       "75%       62.00000\n",
       "max       75.00000\n",
       "Name: age, dtype: float64"
      ]
     },
     "execution_count": 25,
     "metadata": {},
     "output_type": "execute_result"
    }
   ],
   "source": [
    "users['age'].describe()"
   ]
  },
  {
   "cell_type": "code",
   "execution_count": 26,
   "metadata": {},
   "outputs": [
    {
     "data": {
      "image/png": "[encoded data removed]",
      "text/plain": [
       "<Figure size 432x288 with 1 Axes>"
      ]
     },
     "metadata": {
      "needs_background": "light"
     },
     "output_type": "display_data"
    }
   ],
   "source": [
    "#Визуальная оценка распределения данных\n",
    "users['age'].hist(bins=75)\n",
    "plt.xlabel('Возраст');\n",
    "plt.grid(linewidth=0.5)\n",
    "plt.title('Распределение возрастов пользователей')\n",
    "plt.show()"
   ]
  },
  {
   "cell_type": "markdown",
   "metadata": {
    "tags": []
   },
   "source": [
    "#### Приведение столбца churn_date к типу datetime"
   ]
  },
  {
   "cell_type": "code",
   "execution_count": 27,
   "metadata": {},
   "outputs": [
    {
     "data": {
      "text/plain": [
       "count             38\n",
       "unique            33\n",
       "top       2018-12-03\n",
       "freq               2\n",
       "Name: churn_date, dtype: object"
      ]
     },
     "execution_count": 27,
     "metadata": {},
     "output_type": "execute_result"
    }
   ],
   "source": [
    "users['churn_date'].describe()"
   ]
  },
  {
   "cell_type": "code",
   "execution_count": 28,
   "metadata": {},
   "outputs": [],
   "source": [
    "users['churn_date'] = pd.to_datetime(users['churn_date'], format='%Y-%m-%d')"
   ]
  },
  {
   "cell_type": "code",
   "execution_count": 29,
   "metadata": {},
   "outputs": [
    {
     "data": {
      "text/plain": [
       "count                               38\n",
       "mean     2018-11-13 00:37:53.684210432\n",
       "min                2018-08-17 00:00:00\n",
       "25%                2018-10-14 00:00:00\n",
       "50%                2018-11-24 00:00:00\n",
       "75%                2018-12-15 12:00:00\n",
       "max                2018-12-30 00:00:00\n",
       "Name: churn_date, dtype: object"
      ]
     },
     "execution_count": 29,
     "metadata": {},
     "output_type": "execute_result"
    }
   ],
   "source": [
    "users['churn_date'].describe(datetime_is_numeric=True)"
   ]
  },
  {
   "cell_type": "markdown",
   "metadata": {},
   "source": [
    "#### Проверка содержания столбца city"
   ]
  },
  {
   "cell_type": "code",
   "execution_count": 30,
   "metadata": {},
   "outputs": [
    {
     "data": {
      "text/plain": [
       "array(['Краснодар', 'Москва', 'Стерлитамак', 'Новокузнецк',\n",
       "       'Набережные Челны', 'Ульяновск', 'Челябинск', 'Пермь', 'Тюмень',\n",
       "       'Самара', 'Санкт-Петербург', 'Иваново', 'Чебоксары', 'Омск', 'Уфа',\n",
       "       'Томск', 'Чита', 'Мурманск', 'Петрозаводск', 'Тверь',\n",
       "       'Екатеринбург', 'Махачкала', 'Вологда', 'Череповец', 'Ярославль',\n",
       "       'Сочи', 'Хабаровск', 'Ставрополь', 'Рязань', 'Улан-Удэ', 'Тула',\n",
       "       'Саратов', 'Ростов-на-Дону', 'Казань', 'Иркутск', 'Курск',\n",
       "       'Калуга', 'Якутск', 'Астрахань', 'Химки', 'Владикавказ',\n",
       "       'Волгоград', 'Саранск', 'Ижевск', 'Новосибирск', 'Брянск',\n",
       "       'Тольятти', 'Нижний Тагил', 'Орёл', 'Белгород', 'Воронеж',\n",
       "       'Волжский', 'Курган', 'Барнаул', 'Красноярск', 'Архангельск',\n",
       "       'Липецк', 'Кемерово', 'Киров', 'Сургут', 'Пенза', 'Магнитогорск',\n",
       "       'Нижний Новгород', 'Кострома', 'Владивосток', 'Тамбов', 'Балашиха',\n",
       "       'Севастополь', 'Калининград', 'Оренбург', 'Смоленск',\n",
       "       'Нижневартовск', 'Владимир', 'Новороссийск', 'Грозный', 'Подольск'],\n",
       "      dtype=object)"
      ]
     },
     "execution_count": 30,
     "metadata": {},
     "output_type": "execute_result"
    }
   ],
   "source": [
    "users['city'].unique()"
   ]
  },
  {
   "cell_type": "markdown",
   "metadata": {},
   "source": [
    "#### Приведение столбца reg_date к типу datetime"
   ]
  },
  {
   "cell_type": "code",
   "execution_count": 31,
   "metadata": {},
   "outputs": [
    {
     "data": {
      "text/plain": [
       "count            500\n",
       "unique           270\n",
       "top       2018-05-28\n",
       "freq               8\n",
       "Name: reg_date, dtype: object"
      ]
     },
     "execution_count": 31,
     "metadata": {},
     "output_type": "execute_result"
    }
   ],
   "source": [
    "users['reg_date'].describe()"
   ]
  },
  {
   "cell_type": "code",
   "execution_count": 32,
   "metadata": {},
   "outputs": [],
   "source": [
    "users['reg_date'] = pd.to_datetime(users['reg_date'], format='%Y-%m-%d')"
   ]
  },
  {
   "cell_type": "code",
   "execution_count": 33,
   "metadata": {},
   "outputs": [
    {
     "data": {
      "text/plain": [
       "count                              500\n",
       "mean     2018-06-30 18:57:35.999999744\n",
       "min                2018-01-01 00:00:00\n",
       "25%                2018-04-07 12:00:00\n",
       "50%                2018-07-02 12:00:00\n",
       "75%                2018-09-29 00:00:00\n",
       "max                2018-12-31 00:00:00\n",
       "Name: reg_date, dtype: object"
      ]
     },
     "execution_count": 33,
     "metadata": {},
     "output_type": "execute_result"
    }
   ],
   "source": [
    "users['reg_date'].describe(datetime_is_numeric=True)"
   ]
  },
  {
   "cell_type": "markdown",
   "metadata": {},
   "source": [
    "#### Проверка столбца tariff"
   ]
  },
  {
   "cell_type": "code",
   "execution_count": 34,
   "metadata": {},
   "outputs": [
    {
     "data": {
      "text/plain": [
       "smart    351\n",
       "ultra    149\n",
       "Name: tariff, dtype: int64"
      ]
     },
     "execution_count": 34,
     "metadata": {},
     "output_type": "execute_result"
    }
   ],
   "source": [
    "users['tariff'].value_counts()"
   ]
  },
  {
   "cell_type": "markdown",
   "metadata": {},
   "source": [
    "#### Общая проверка"
   ]
  },
  {
   "cell_type": "code",
   "execution_count": 35,
   "metadata": {},
   "outputs": [
    {
     "name": "stdout",
     "output_type": "stream",
     "text": [
      "<class 'pandas.core.frame.DataFrame'>\n",
      "Int64Index: 500 entries, 1000 to 1499\n",
      "Data columns (total 7 columns):\n",
      " #   Column      Non-Null Count  Dtype         \n",
      "---  ------      --------------  -----         \n",
      " 0   age         500 non-null    int64         \n",
      " 1   churn_date  38 non-null     datetime64[ns]\n",
      " 2   city        500 non-null    object        \n",
      " 3   first_name  500 non-null    object        \n",
      " 4   last_name   500 non-null    object        \n",
      " 5   reg_date    500 non-null    datetime64[ns]\n",
      " 6   tariff      500 non-null    object        \n",
      "dtypes: datetime64[ns](2), int64(1), object(4)\n",
      "memory usage: 31.2+ KB\n"
     ]
    }
   ],
   "source": [
    "users.info()"
   ]
  },
  {
   "cell_type": "code",
   "execution_count": 36,
   "metadata": {},
   "outputs": [
    {
     "data": {
      "text/html": [
       "<div>\n",
       "<style scoped>\n",
       "    .dataframe tbody tr th:only-of-type {\n",
       "        vertical-align: middle;\n",
       "    }\n",
       "\n",
       "    .dataframe tbody tr th {\n",
       "        vertical-align: top;\n",
       "    }\n",
       "\n",
       "    .dataframe thead th {\n",
       "        text-align: right;\n",
       "    }\n",
       "</style>\n",
       "<table border=\"1\" class=\"dataframe\">\n",
       "  <thead>\n",
       "    <tr style=\"text-align: right;\">\n",
       "      <th></th>\n",
       "      <th>age</th>\n",
       "      <th>churn_date</th>\n",
       "      <th>city</th>\n",
       "      <th>first_name</th>\n",
       "      <th>last_name</th>\n",
       "      <th>reg_date</th>\n",
       "      <th>tariff</th>\n",
       "    </tr>\n",
       "    <tr>\n",
       "      <th>user_id</th>\n",
       "      <th></th>\n",
       "      <th></th>\n",
       "      <th></th>\n",
       "      <th></th>\n",
       "      <th></th>\n",
       "      <th></th>\n",
       "      <th></th>\n",
       "    </tr>\n",
       "  </thead>\n",
       "  <tbody>\n",
       "    <tr>\n",
       "      <th>1000</th>\n",
       "      <td>52</td>\n",
       "      <td>NaT</td>\n",
       "      <td>Краснодар</td>\n",
       "      <td>Рафаил</td>\n",
       "      <td>Верещагин</td>\n",
       "      <td>2018-05-25</td>\n",
       "      <td>ultra</td>\n",
       "    </tr>\n",
       "    <tr>\n",
       "      <th>1001</th>\n",
       "      <td>41</td>\n",
       "      <td>NaT</td>\n",
       "      <td>Москва</td>\n",
       "      <td>Иван</td>\n",
       "      <td>Ежов</td>\n",
       "      <td>2018-11-01</td>\n",
       "      <td>smart</td>\n",
       "    </tr>\n",
       "    <tr>\n",
       "      <th>1002</th>\n",
       "      <td>59</td>\n",
       "      <td>NaT</td>\n",
       "      <td>Стерлитамак</td>\n",
       "      <td>Евгений</td>\n",
       "      <td>Абрамович</td>\n",
       "      <td>2018-06-17</td>\n",
       "      <td>smart</td>\n",
       "    </tr>\n",
       "    <tr>\n",
       "      <th>1003</th>\n",
       "      <td>23</td>\n",
       "      <td>NaT</td>\n",
       "      <td>Москва</td>\n",
       "      <td>Белла</td>\n",
       "      <td>Белякова</td>\n",
       "      <td>2018-08-17</td>\n",
       "      <td>ultra</td>\n",
       "    </tr>\n",
       "    <tr>\n",
       "      <th>1004</th>\n",
       "      <td>68</td>\n",
       "      <td>NaT</td>\n",
       "      <td>Новокузнецк</td>\n",
       "      <td>Татьяна</td>\n",
       "      <td>Авдеенко</td>\n",
       "      <td>2018-05-14</td>\n",
       "      <td>ultra</td>\n",
       "    </tr>\n",
       "  </tbody>\n",
       "</table>\n",
       "</div>"
      ],
      "text/plain": [
       "         age churn_date         city first_name  last_name   reg_date tariff\n",
       "user_id                                                                     \n",
       "1000      52        NaT    Краснодар     Рафаил  Верещагин 2018-05-25  ultra\n",
       "1001      41        NaT       Москва       Иван       Ежов 2018-11-01  smart\n",
       "1002      59        NaT  Стерлитамак    Евгений  Абрамович 2018-06-17  smart\n",
       "1003      23        NaT       Москва      Белла   Белякова 2018-08-17  ultra\n",
       "1004      68        NaT  Новокузнецк    Татьяна   Авдеенко 2018-05-14  ultra"
      ]
     },
     "execution_count": 36,
     "metadata": {},
     "output_type": "execute_result"
    }
   ],
   "source": [
    "users.head()"
   ]
  },
  {
   "cell_type": "markdown",
   "metadata": {},
   "source": [
    "### Информация о звонках (шаг 2)"
   ]
  },
  {
   "cell_type": "code",
   "execution_count": 37,
   "metadata": {},
   "outputs": [
    {
     "name": "stdout",
     "output_type": "stream",
     "text": [
      "<class 'pandas.core.frame.DataFrame'>\n",
      "RangeIndex: 202607 entries, 0 to 202606\n",
      "Data columns (total 4 columns):\n",
      " #   Column     Non-Null Count   Dtype  \n",
      "---  ------     --------------   -----  \n",
      " 0   id         202607 non-null  object \n",
      " 1   call_date  202607 non-null  object \n",
      " 2   duration   202607 non-null  float64\n",
      " 3   user_id    202607 non-null  int64  \n",
      "dtypes: float64(1), int64(1), object(2)\n",
      "memory usage: 6.2+ MB\n"
     ]
    }
   ],
   "source": [
    "calls.info()"
   ]
  },
  {
   "cell_type": "markdown",
   "metadata": {
    "tags": []
   },
   "source": [
    "#### Установка столбца id в качестве индекса"
   ]
  },
  {
   "cell_type": "code",
   "execution_count": 38,
   "metadata": {},
   "outputs": [
    {
     "data": {
      "text/plain": [
       "0           1000_0\n",
       "1           1000_1\n",
       "2           1000_2\n",
       "3           1000_3\n",
       "4           1000_4\n",
       "            ...   \n",
       "202602    1499_215\n",
       "202603    1499_216\n",
       "202604    1499_217\n",
       "202605    1499_218\n",
       "202606    1499_219\n",
       "Name: id, Length: 202607, dtype: object"
      ]
     },
     "execution_count": 38,
     "metadata": {},
     "output_type": "execute_result"
    }
   ],
   "source": [
    "# Оценка содержания столбца\n",
    "calls['id']"
   ]
  },
  {
   "cell_type": "code",
   "execution_count": 39,
   "metadata": {},
   "outputs": [
    {
     "data": {
      "text/plain": [
       "0        1000_0\n",
       "1        1000_1\n",
       "2        1000_2\n",
       "3        1000_3\n",
       "4        1000_4\n",
       "         ...   \n",
       "363    1000_363\n",
       "364    1000_364\n",
       "365    1000_365\n",
       "366    1000_366\n",
       "367    1000_367\n",
       "Name: id, Length: 368, dtype: object"
      ]
     },
     "execution_count": 39,
     "metadata": {},
     "output_type": "execute_result"
    }
   ],
   "source": [
    "# Проверка гипотезы о том, что цифра после \"_\" является номером звонка для пользователя \n",
    "calls.query('user_id == 1000')['id']"
   ]
  },
  {
   "cell_type": "code",
   "execution_count": 40,
   "metadata": {},
   "outputs": [
    {
     "data": {
      "text/plain": [
       "368      1001_0\n",
       "369      1001_1\n",
       "370      1001_2\n",
       "371      1001_3\n",
       "372      1001_4\n",
       "         ...   \n",
       "485    1001_117\n",
       "486    1001_118\n",
       "487    1001_119\n",
       "488    1001_120\n",
       "489    1001_121\n",
       "Name: id, Length: 122, dtype: object"
      ]
     },
     "execution_count": 40,
     "metadata": {},
     "output_type": "execute_result"
    }
   ],
   "source": [
    "# Проверка гипотезы о том, что цифра после \"_\" является номером звонка для пользователя \n",
    "calls.query('user_id == 1001')['id']"
   ]
  },
  {
   "cell_type": "code",
   "execution_count": 41,
   "metadata": {},
   "outputs": [
    {
     "data": {
      "text/plain": [
       "122"
      ]
     },
     "execution_count": 41,
     "metadata": {},
     "output_type": "execute_result"
    }
   ],
   "source": [
    "# Вывод количества звонков у пользователя 1001 для дополнительной проверки гипотезы\n",
    "len(calls.query('user_id == 1001'))"
   ]
  },
  {
   "cell_type": "code",
   "execution_count": 42,
   "metadata": {},
   "outputs": [],
   "source": [
    "# Установка столбца id в качестве индекса с проверкой на дубликаты\n",
    "calls.set_index(keys='id', verify_integrity=True, inplace=True)"
   ]
  },
  {
   "cell_type": "code",
   "execution_count": 43,
   "metadata": {},
   "outputs": [
    {
     "data": {
      "text/html": [
       "<div>\n",
       "<style scoped>\n",
       "    .dataframe tbody tr th:only-of-type {\n",
       "        vertical-align: middle;\n",
       "    }\n",
       "\n",
       "    .dataframe tbody tr th {\n",
       "        vertical-align: top;\n",
       "    }\n",
       "\n",
       "    .dataframe thead th {\n",
       "        text-align: right;\n",
       "    }\n",
       "</style>\n",
       "<table border=\"1\" class=\"dataframe\">\n",
       "  <thead>\n",
       "    <tr style=\"text-align: right;\">\n",
       "      <th></th>\n",
       "      <th>call_date</th>\n",
       "      <th>duration</th>\n",
       "      <th>user_id</th>\n",
       "    </tr>\n",
       "    <tr>\n",
       "      <th>id</th>\n",
       "      <th></th>\n",
       "      <th></th>\n",
       "      <th></th>\n",
       "    </tr>\n",
       "  </thead>\n",
       "  <tbody>\n",
       "    <tr>\n",
       "      <th>1000_0</th>\n",
       "      <td>2018-07-25</td>\n",
       "      <td>0.00</td>\n",
       "      <td>1000</td>\n",
       "    </tr>\n",
       "    <tr>\n",
       "      <th>1000_1</th>\n",
       "      <td>2018-08-17</td>\n",
       "      <td>0.00</td>\n",
       "      <td>1000</td>\n",
       "    </tr>\n",
       "    <tr>\n",
       "      <th>1000_2</th>\n",
       "      <td>2018-06-11</td>\n",
       "      <td>2.85</td>\n",
       "      <td>1000</td>\n",
       "    </tr>\n",
       "    <tr>\n",
       "      <th>1000_3</th>\n",
       "      <td>2018-09-21</td>\n",
       "      <td>13.80</td>\n",
       "      <td>1000</td>\n",
       "    </tr>\n",
       "    <tr>\n",
       "      <th>1000_4</th>\n",
       "      <td>2018-12-15</td>\n",
       "      <td>5.18</td>\n",
       "      <td>1000</td>\n",
       "    </tr>\n",
       "  </tbody>\n",
       "</table>\n",
       "</div>"
      ],
      "text/plain": [
       "         call_date  duration  user_id\n",
       "id                                   \n",
       "1000_0  2018-07-25      0.00     1000\n",
       "1000_1  2018-08-17      0.00     1000\n",
       "1000_2  2018-06-11      2.85     1000\n",
       "1000_3  2018-09-21     13.80     1000\n",
       "1000_4  2018-12-15      5.18     1000"
      ]
     },
     "execution_count": 43,
     "metadata": {},
     "output_type": "execute_result"
    }
   ],
   "source": [
    "# Проверка результатов установки индекса\n",
    "calls.head()"
   ]
  },
  {
   "cell_type": "markdown",
   "metadata": {},
   "source": [
    "#### Приведение столбца call_date к типу datetime"
   ]
  },
  {
   "cell_type": "code",
   "execution_count": 44,
   "metadata": {},
   "outputs": [
    {
     "data": {
      "text/plain": [
       "count         202607\n",
       "unique           365\n",
       "top       2018-12-31\n",
       "freq            1435\n",
       "Name: call_date, dtype: object"
      ]
     },
     "execution_count": 44,
     "metadata": {},
     "output_type": "execute_result"
    }
   ],
   "source": [
    "calls['call_date'].describe()"
   ]
  },
  {
   "cell_type": "code",
   "execution_count": 45,
   "metadata": {},
   "outputs": [],
   "source": [
    "calls['call_date'] = pd.to_datetime(calls['call_date'], format='%Y-%m-%d')"
   ]
  },
  {
   "cell_type": "code",
   "execution_count": 46,
   "metadata": {},
   "outputs": [
    {
     "data": {
      "text/plain": [
       "count                           202607\n",
       "mean     2018-09-02 20:01:37.583992832\n",
       "min                2018-01-01 00:00:00\n",
       "25%                2018-07-05 00:00:00\n",
       "50%                2018-09-17 00:00:00\n",
       "75%                2018-11-14 00:00:00\n",
       "max                2018-12-31 00:00:00\n",
       "Name: call_date, dtype: object"
      ]
     },
     "execution_count": 46,
     "metadata": {},
     "output_type": "execute_result"
    }
   ],
   "source": [
    "calls['call_date'].describe(datetime_is_numeric=True)"
   ]
  },
  {
   "cell_type": "markdown",
   "metadata": {},
   "source": [
    "#### Исследование аномалий в столбце duration"
   ]
  },
  {
   "cell_type": "code",
   "execution_count": 47,
   "metadata": {},
   "outputs": [
    {
     "data": {
      "text/plain": [
       "count    202607.000000\n",
       "mean          6.755887\n",
       "std           5.843365\n",
       "min           0.000000\n",
       "25%           1.300000\n",
       "50%           6.000000\n",
       "75%          10.700000\n",
       "max          38.000000\n",
       "Name: duration, dtype: float64"
      ]
     },
     "execution_count": 47,
     "metadata": {},
     "output_type": "execute_result"
    }
   ],
   "source": [
    "calls['duration'].describe()"
   ]
  },
  {
   "cell_type": "code",
   "execution_count": 48,
   "metadata": {},
   "outputs": [
    {
     "data": {
      "image/png": "[encoded data removed]",
      "text/plain": [
       "<Figure size 1080x720 with 1 Axes>"
      ]
     },
     "metadata": {
      "needs_background": "light"
     },
     "output_type": "display_data"
    }
   ],
   "source": [
    "#Визуальная оценка распределения данных\n",
    "calls['duration'].hist(bins=100, figsize=(15, 10))\n",
    "plt.xlabel('Длительность звонка');\n",
    "plt.grid(linewidth=0.5)\n",
    "plt.title('Распределение длительности звонков')\n",
    "plt.show()"
   ]
  },
  {
   "cell_type": "code",
   "execution_count": 49,
   "metadata": {},
   "outputs": [
    {
     "data": {
      "text/plain": [
       "id\n",
       "1000_0     0.00\n",
       "1000_1     0.00\n",
       "1000_2     2.85\n",
       "1000_3    13.80\n",
       "1000_4     5.18\n",
       "Name: duration, dtype: float64"
      ]
     },
     "execution_count": 49,
     "metadata": {},
     "output_type": "execute_result"
    }
   ],
   "source": [
    "# Оценка содержания столбца\n",
    "calls['duration'].head()"
   ]
  },
  {
   "cell_type": "code",
   "execution_count": 50,
   "metadata": {},
   "outputs": [
    {
     "name": "stdout",
     "output_type": "stream",
     "text": [
      "Количество записей с длительность звонка, равной 0 - 39613 (19.55%)\n",
      "\n"
     ]
    }
   ],
   "source": [
    "print('Количество записей с длительность звонка, равной 0 - {} ({:.2%})'.format(len(calls.query('duration == 0')), len(calls.query('duration == 0')) / len(calls)), end='\\n\\n')"
   ]
  },
  {
   "cell_type": "code",
   "execution_count": 51,
   "metadata": {},
   "outputs": [
    {
     "data": {
      "image/png": "[encoded data removed]",
      "text/plain": [
       "<Figure size 1080x720 with 1 Axes>"
      ]
     },
     "metadata": {
      "needs_background": "light"
     },
     "output_type": "display_data"
    }
   ],
   "source": [
    "#Визуальная оценка распределения данных\n",
    "calls.query('0 < duration <= 1')['duration'].hist(bins=100, figsize=(15, 10))\n",
    "plt.xlabel('Длительность звонка');\n",
    "plt.grid(linewidth=0.5)\n",
    "plt.title('Распределение длительности звонков для звонков длительностью более 0 и менее или равной 1 минуте')\n",
    "plt.show()"
   ]
  },
  {
   "cell_type": "code",
   "execution_count": 52,
   "metadata": {},
   "outputs": [
    {
     "data": {
      "image/png": "[encoded data removed]",
      "text/plain": [
       "<Figure size 1080x720 with 1 Axes>"
      ]
     },
     "metadata": {
      "needs_background": "light"
     },
     "output_type": "display_data"
    }
   ],
   "source": [
    "#Визуальная оценка распределения данных\n",
    "calls.query('duration != 0')['duration'].hist(bins=100, figsize=(15, 10))\n",
    "plt.xlabel('Длительность звонка');\n",
    "plt.grid(linewidth=0.5)\n",
    "plt.title('Распределение длительности звонков для звонков с ненулевой длительностью')\n",
    "plt.show()"
   ]
  },
  {
   "cell_type": "code",
   "execution_count": 53,
   "metadata": {},
   "outputs": [
    {
     "data": {
      "text/html": [
       "<div>\n",
       "<style scoped>\n",
       "    .dataframe tbody tr th:only-of-type {\n",
       "        vertical-align: middle;\n",
       "    }\n",
       "\n",
       "    .dataframe tbody tr th {\n",
       "        vertical-align: top;\n",
       "    }\n",
       "\n",
       "    .dataframe thead th {\n",
       "        text-align: right;\n",
       "    }\n",
       "</style>\n",
       "<table border=\"1\" class=\"dataframe\">\n",
       "  <thead>\n",
       "    <tr style=\"text-align: right;\">\n",
       "      <th></th>\n",
       "      <th>count_zero</th>\n",
       "    </tr>\n",
       "    <tr>\n",
       "      <th>user_id</th>\n",
       "      <th></th>\n",
       "    </tr>\n",
       "  </thead>\n",
       "  <tbody>\n",
       "    <tr>\n",
       "      <th>1000</th>\n",
       "      <td>75</td>\n",
       "    </tr>\n",
       "    <tr>\n",
       "      <th>1001</th>\n",
       "      <td>30</td>\n",
       "    </tr>\n",
       "    <tr>\n",
       "      <th>1002</th>\n",
       "      <td>44</td>\n",
       "    </tr>\n",
       "    <tr>\n",
       "      <th>1003</th>\n",
       "      <td>92</td>\n",
       "    </tr>\n",
       "    <tr>\n",
       "      <th>1004</th>\n",
       "      <td>37</td>\n",
       "    </tr>\n",
       "    <tr>\n",
       "      <th>...</th>\n",
       "      <td>...</td>\n",
       "    </tr>\n",
       "    <tr>\n",
       "      <th>1495</th>\n",
       "      <td>99</td>\n",
       "    </tr>\n",
       "    <tr>\n",
       "      <th>1496</th>\n",
       "      <td>161</td>\n",
       "    </tr>\n",
       "    <tr>\n",
       "      <th>1497</th>\n",
       "      <td>45</td>\n",
       "    </tr>\n",
       "    <tr>\n",
       "      <th>1498</th>\n",
       "      <td>34</td>\n",
       "    </tr>\n",
       "    <tr>\n",
       "      <th>1499</th>\n",
       "      <td>50</td>\n",
       "    </tr>\n",
       "  </tbody>\n",
       "</table>\n",
       "<p>492 rows × 1 columns</p>\n",
       "</div>"
      ],
      "text/plain": [
       "         count_zero\n",
       "user_id            \n",
       "1000             75\n",
       "1001             30\n",
       "1002             44\n",
       "1003             92\n",
       "1004             37\n",
       "...             ...\n",
       "1495             99\n",
       "1496            161\n",
       "1497             45\n",
       "1498             34\n",
       "1499             50\n",
       "\n",
       "[492 rows x 1 columns]"
      ]
     },
     "execution_count": 53,
     "metadata": {},
     "output_type": "execute_result"
    }
   ],
   "source": [
    "# Расчет количества звонков длительность 0 для каждого пользователя\n",
    "zero_duration_pivot = calls.query('duration == 0').pivot_table(index='user_id', values='duration', aggfunc='count')\n",
    "zero_duration_pivot.columns = ['count_zero']\n",
    "zero_duration_pivot"
   ]
  },
  {
   "cell_type": "code",
   "execution_count": 54,
   "metadata": {},
   "outputs": [
    {
     "data": {
      "text/html": [
       "<div>\n",
       "<style scoped>\n",
       "    .dataframe tbody tr th:only-of-type {\n",
       "        vertical-align: middle;\n",
       "    }\n",
       "\n",
       "    .dataframe tbody tr th {\n",
       "        vertical-align: top;\n",
       "    }\n",
       "\n",
       "    .dataframe thead th {\n",
       "        text-align: right;\n",
       "    }\n",
       "</style>\n",
       "<table border=\"1\" class=\"dataframe\">\n",
       "  <thead>\n",
       "    <tr style=\"text-align: right;\">\n",
       "      <th></th>\n",
       "      <th>count</th>\n",
       "    </tr>\n",
       "    <tr>\n",
       "      <th>user_id</th>\n",
       "      <th></th>\n",
       "    </tr>\n",
       "  </thead>\n",
       "  <tbody>\n",
       "    <tr>\n",
       "      <th>1000</th>\n",
       "      <td>368</td>\n",
       "    </tr>\n",
       "    <tr>\n",
       "      <th>1001</th>\n",
       "      <td>122</td>\n",
       "    </tr>\n",
       "    <tr>\n",
       "      <th>1002</th>\n",
       "      <td>217</td>\n",
       "    </tr>\n",
       "    <tr>\n",
       "      <th>1003</th>\n",
       "      <td>520</td>\n",
       "    </tr>\n",
       "    <tr>\n",
       "      <th>1004</th>\n",
       "      <td>176</td>\n",
       "    </tr>\n",
       "    <tr>\n",
       "      <th>...</th>\n",
       "      <td>...</td>\n",
       "    </tr>\n",
       "    <tr>\n",
       "      <th>1495</th>\n",
       "      <td>565</td>\n",
       "    </tr>\n",
       "    <tr>\n",
       "      <th>1496</th>\n",
       "      <td>828</td>\n",
       "    </tr>\n",
       "    <tr>\n",
       "      <th>1497</th>\n",
       "      <td>201</td>\n",
       "    </tr>\n",
       "    <tr>\n",
       "      <th>1498</th>\n",
       "      <td>180</td>\n",
       "    </tr>\n",
       "    <tr>\n",
       "      <th>1499</th>\n",
       "      <td>220</td>\n",
       "    </tr>\n",
       "  </tbody>\n",
       "</table>\n",
       "<p>492 rows × 1 columns</p>\n",
       "</div>"
      ],
      "text/plain": [
       "         count\n",
       "user_id       \n",
       "1000       368\n",
       "1001       122\n",
       "1002       217\n",
       "1003       520\n",
       "1004       176\n",
       "...        ...\n",
       "1495       565\n",
       "1496       828\n",
       "1497       201\n",
       "1498       180\n",
       "1499       220\n",
       "\n",
       "[492 rows x 1 columns]"
      ]
     },
     "execution_count": 54,
     "metadata": {},
     "output_type": "execute_result"
    }
   ],
   "source": [
    "# Расчет количества звонков для каждого пользователя\n",
    "duration_pivot = calls.pivot_table(index='user_id', values='duration', aggfunc='count')\n",
    "duration_pivot.columns = ['count']\n",
    "duration_pivot"
   ]
  },
  {
   "cell_type": "code",
   "execution_count": 55,
   "metadata": {},
   "outputs": [
    {
     "data": {
      "text/html": [
       "<div>\n",
       "<style scoped>\n",
       "    .dataframe tbody tr th:only-of-type {\n",
       "        vertical-align: middle;\n",
       "    }\n",
       "\n",
       "    .dataframe tbody tr th {\n",
       "        vertical-align: top;\n",
       "    }\n",
       "\n",
       "    .dataframe thead th {\n",
       "        text-align: right;\n",
       "    }\n",
       "</style>\n",
       "<table border=\"1\" class=\"dataframe\">\n",
       "  <thead>\n",
       "    <tr style=\"text-align: right;\">\n",
       "      <th></th>\n",
       "      <th>count</th>\n",
       "      <th>count_zero</th>\n",
       "    </tr>\n",
       "    <tr>\n",
       "      <th>user_id</th>\n",
       "      <th></th>\n",
       "      <th></th>\n",
       "    </tr>\n",
       "  </thead>\n",
       "  <tbody>\n",
       "    <tr>\n",
       "      <th>1000</th>\n",
       "      <td>368</td>\n",
       "      <td>75</td>\n",
       "    </tr>\n",
       "    <tr>\n",
       "      <th>1001</th>\n",
       "      <td>122</td>\n",
       "      <td>30</td>\n",
       "    </tr>\n",
       "    <tr>\n",
       "      <th>1002</th>\n",
       "      <td>217</td>\n",
       "      <td>44</td>\n",
       "    </tr>\n",
       "    <tr>\n",
       "      <th>1003</th>\n",
       "      <td>520</td>\n",
       "      <td>92</td>\n",
       "    </tr>\n",
       "    <tr>\n",
       "      <th>1004</th>\n",
       "      <td>176</td>\n",
       "      <td>37</td>\n",
       "    </tr>\n",
       "    <tr>\n",
       "      <th>...</th>\n",
       "      <td>...</td>\n",
       "      <td>...</td>\n",
       "    </tr>\n",
       "    <tr>\n",
       "      <th>1495</th>\n",
       "      <td>565</td>\n",
       "      <td>99</td>\n",
       "    </tr>\n",
       "    <tr>\n",
       "      <th>1496</th>\n",
       "      <td>828</td>\n",
       "      <td>161</td>\n",
       "    </tr>\n",
       "    <tr>\n",
       "      <th>1497</th>\n",
       "      <td>201</td>\n",
       "      <td>45</td>\n",
       "    </tr>\n",
       "    <tr>\n",
       "      <th>1498</th>\n",
       "      <td>180</td>\n",
       "      <td>34</td>\n",
       "    </tr>\n",
       "    <tr>\n",
       "      <th>1499</th>\n",
       "      <td>220</td>\n",
       "      <td>50</td>\n",
       "    </tr>\n",
       "  </tbody>\n",
       "</table>\n",
       "<p>492 rows × 2 columns</p>\n",
       "</div>"
      ],
      "text/plain": [
       "         count  count_zero\n",
       "user_id                   \n",
       "1000       368          75\n",
       "1001       122          30\n",
       "1002       217          44\n",
       "1003       520          92\n",
       "1004       176          37\n",
       "...        ...         ...\n",
       "1495       565          99\n",
       "1496       828         161\n",
       "1497       201          45\n",
       "1498       180          34\n",
       "1499       220          50\n",
       "\n",
       "[492 rows x 2 columns]"
      ]
     },
     "execution_count": 55,
     "metadata": {},
     "output_type": "execute_result"
    }
   ],
   "source": [
    "# Совмещение расчетов\n",
    "duration_pivot = duration_pivot.merge(zero_duration_pivot, left_on='user_id', right_on='user_id', how='left')\n",
    "duration_pivot"
   ]
  },
  {
   "cell_type": "code",
   "execution_count": 56,
   "metadata": {},
   "outputs": [
    {
     "data": {
      "text/html": [
       "<div>\n",
       "<style scoped>\n",
       "    .dataframe tbody tr th:only-of-type {\n",
       "        vertical-align: middle;\n",
       "    }\n",
       "\n",
       "    .dataframe tbody tr th {\n",
       "        vertical-align: top;\n",
       "    }\n",
       "\n",
       "    .dataframe thead th {\n",
       "        text-align: right;\n",
       "    }\n",
       "</style>\n",
       "<table border=\"1\" class=\"dataframe\">\n",
       "  <thead>\n",
       "    <tr style=\"text-align: right;\">\n",
       "      <th></th>\n",
       "      <th>count</th>\n",
       "      <th>count_zero</th>\n",
       "      <th>ratio</th>\n",
       "    </tr>\n",
       "    <tr>\n",
       "      <th>user_id</th>\n",
       "      <th></th>\n",
       "      <th></th>\n",
       "      <th></th>\n",
       "    </tr>\n",
       "  </thead>\n",
       "  <tbody>\n",
       "    <tr>\n",
       "      <th>1000</th>\n",
       "      <td>368</td>\n",
       "      <td>75</td>\n",
       "      <td>0.203804</td>\n",
       "    </tr>\n",
       "    <tr>\n",
       "      <th>1001</th>\n",
       "      <td>122</td>\n",
       "      <td>30</td>\n",
       "      <td>0.245902</td>\n",
       "    </tr>\n",
       "    <tr>\n",
       "      <th>1002</th>\n",
       "      <td>217</td>\n",
       "      <td>44</td>\n",
       "      <td>0.202765</td>\n",
       "    </tr>\n",
       "    <tr>\n",
       "      <th>1003</th>\n",
       "      <td>520</td>\n",
       "      <td>92</td>\n",
       "      <td>0.176923</td>\n",
       "    </tr>\n",
       "    <tr>\n",
       "      <th>1004</th>\n",
       "      <td>176</td>\n",
       "      <td>37</td>\n",
       "      <td>0.210227</td>\n",
       "    </tr>\n",
       "    <tr>\n",
       "      <th>...</th>\n",
       "      <td>...</td>\n",
       "      <td>...</td>\n",
       "      <td>...</td>\n",
       "    </tr>\n",
       "    <tr>\n",
       "      <th>1495</th>\n",
       "      <td>565</td>\n",
       "      <td>99</td>\n",
       "      <td>0.175221</td>\n",
       "    </tr>\n",
       "    <tr>\n",
       "      <th>1496</th>\n",
       "      <td>828</td>\n",
       "      <td>161</td>\n",
       "      <td>0.194444</td>\n",
       "    </tr>\n",
       "    <tr>\n",
       "      <th>1497</th>\n",
       "      <td>201</td>\n",
       "      <td>45</td>\n",
       "      <td>0.223881</td>\n",
       "    </tr>\n",
       "    <tr>\n",
       "      <th>1498</th>\n",
       "      <td>180</td>\n",
       "      <td>34</td>\n",
       "      <td>0.188889</td>\n",
       "    </tr>\n",
       "    <tr>\n",
       "      <th>1499</th>\n",
       "      <td>220</td>\n",
       "      <td>50</td>\n",
       "      <td>0.227273</td>\n",
       "    </tr>\n",
       "  </tbody>\n",
       "</table>\n",
       "<p>492 rows × 3 columns</p>\n",
       "</div>"
      ],
      "text/plain": [
       "         count  count_zero     ratio\n",
       "user_id                             \n",
       "1000       368          75  0.203804\n",
       "1001       122          30  0.245902\n",
       "1002       217          44  0.202765\n",
       "1003       520          92  0.176923\n",
       "1004       176          37  0.210227\n",
       "...        ...         ...       ...\n",
       "1495       565          99  0.175221\n",
       "1496       828         161  0.194444\n",
       "1497       201          45  0.223881\n",
       "1498       180          34  0.188889\n",
       "1499       220          50  0.227273\n",
       "\n",
       "[492 rows x 3 columns]"
      ]
     },
     "execution_count": 56,
     "metadata": {},
     "output_type": "execute_result"
    }
   ],
   "source": [
    "# Расчет соотношения количества звонков длительностью 0 минут к количеству звонков по пользователям\n",
    "duration_pivot['ratio'] = duration_pivot['count_zero'] / duration_pivot['count']\n",
    "duration_pivot"
   ]
  },
  {
   "cell_type": "code",
   "execution_count": 57,
   "metadata": {},
   "outputs": [
    {
     "data": {
      "image/png": "[encoded data removed]",
      "text/plain": [
       "<Figure size 1080x720 with 1 Axes>"
      ]
     },
     "metadata": {
      "needs_background": "light"
     },
     "output_type": "display_data"
    }
   ],
   "source": [
    "# Визуальная оценка распределения полученных значений\n",
    "duration_pivot['ratio'].hist(bins=500, figsize=(15, 10))\n",
    "plt.xlabel('Cоотношение количества звонков длительностью 0 минут к количеству звонков по пользователям');\n",
    "plt.grid(linewidth=0.5)\n",
    "plt.title('Распределение cоотношения количества звонков длительностью 0 минут к количеству звонков по пользователям')\n",
    "plt.show()"
   ]
  },
  {
   "cell_type": "code",
   "execution_count": 58,
   "metadata": {},
   "outputs": [
    {
     "data": {
      "image/png": "[encoded data removed]",
      "text/plain": [
       "<Figure size 1080x720 with 1 Axes>"
      ]
     },
     "metadata": {
      "needs_background": "light"
     },
     "output_type": "display_data"
    }
   ],
   "source": [
    "# Визуальная оценка количества аномалий\n",
    "duration_pivot.boxplot(column='ratio', figsize=(15, 10))\n",
    "plt.ylabel('Cоотношение количества звонков длительностью 0 минут к количеству звонков по пользователям');\n",
    "plt.grid(linewidth=0.5)\n",
    "plt.title('Распределение cоотношения количества звонков длительностью 0 минут к количеству звонков по пользователям')\n",
    "plt.show()"
   ]
  },
  {
   "cell_type": "code",
   "execution_count": 59,
   "metadata": {},
   "outputs": [
    {
     "data": {
      "text/plain": [
       "count    492.000000\n",
       "mean       0.196122\n",
       "std        0.029508\n",
       "min        0.087719\n",
       "25%        0.180864\n",
       "50%        0.195652\n",
       "75%        0.209269\n",
       "max        0.500000\n",
       "Name: ratio, dtype: float64"
      ]
     },
     "execution_count": 59,
     "metadata": {},
     "output_type": "execute_result"
    }
   ],
   "source": [
    "# Вывод основных статистических свойств полученных значений\n",
    "duration_pivot['ratio'].describe()"
   ]
  },
  {
   "cell_type": "markdown",
   "metadata": {
    "tags": []
   },
   "source": [
    "### Информация о сообщениях (шаг 2)"
   ]
  },
  {
   "cell_type": "code",
   "execution_count": 60,
   "metadata": {},
   "outputs": [
    {
     "name": "stdout",
     "output_type": "stream",
     "text": [
      "<class 'pandas.core.frame.DataFrame'>\n",
      "RangeIndex: 123036 entries, 0 to 123035\n",
      "Data columns (total 3 columns):\n",
      " #   Column        Non-Null Count   Dtype \n",
      "---  ------        --------------   ----- \n",
      " 0   id            123036 non-null  object\n",
      " 1   message_date  123036 non-null  object\n",
      " 2   user_id       123036 non-null  int64 \n",
      "dtypes: int64(1), object(2)\n",
      "memory usage: 2.8+ MB\n"
     ]
    }
   ],
   "source": [
    "messages.info()"
   ]
  },
  {
   "cell_type": "markdown",
   "metadata": {},
   "source": [
    "#### Установка столбца id в качестве индекса"
   ]
  },
  {
   "cell_type": "code",
   "execution_count": 61,
   "metadata": {},
   "outputs": [
    {
     "data": {
      "text/plain": [
       "0           1000_0\n",
       "1           1000_1\n",
       "2           1000_2\n",
       "3           1000_3\n",
       "4           1000_4\n",
       "            ...   \n",
       "123031    1499_179\n",
       "123032    1499_180\n",
       "123033    1499_181\n",
       "123034    1499_182\n",
       "123035    1499_183\n",
       "Name: id, Length: 123036, dtype: object"
      ]
     },
     "execution_count": 61,
     "metadata": {},
     "output_type": "execute_result"
    }
   ],
   "source": [
    "# Оценка содержания столбца\n",
    "messages['id']"
   ]
  },
  {
   "cell_type": "code",
   "execution_count": 62,
   "metadata": {},
   "outputs": [
    {
     "data": {
      "text/plain": [
       "0        1000_0\n",
       "1        1000_1\n",
       "2        1000_2\n",
       "3        1000_3\n",
       "4        1000_4\n",
       "         ...   \n",
       "491    1000_491\n",
       "492    1000_492\n",
       "493    1000_493\n",
       "494    1000_494\n",
       "495    1000_495\n",
       "Name: id, Length: 496, dtype: object"
      ]
     },
     "execution_count": 62,
     "metadata": {},
     "output_type": "execute_result"
    }
   ],
   "source": [
    "# Проверка гипотезы о том, что цифра после \"_\" является номером сообщения для пользователя \n",
    "messages.query('user_id == 1000')['id']"
   ]
  },
  {
   "cell_type": "code",
   "execution_count": 63,
   "metadata": {},
   "outputs": [
    {
     "data": {
      "text/plain": [
       "496     1002_0\n",
       "497     1002_1\n",
       "498     1002_2\n",
       "499     1002_3\n",
       "500     1002_4\n",
       "        ...   \n",
       "561    1002_65\n",
       "562    1002_66\n",
       "563    1002_67\n",
       "564    1002_68\n",
       "565    1002_69\n",
       "Name: id, Length: 70, dtype: object"
      ]
     },
     "execution_count": 63,
     "metadata": {},
     "output_type": "execute_result"
    }
   ],
   "source": [
    "# Проверка гипотезы о том, что цифра после \"_\" является номером сообщения для пользователя \n",
    "messages.query('user_id == 1002')['id']"
   ]
  },
  {
   "cell_type": "code",
   "execution_count": 64,
   "metadata": {},
   "outputs": [
    {
     "data": {
      "text/plain": [
       "70"
      ]
     },
     "execution_count": 64,
     "metadata": {},
     "output_type": "execute_result"
    }
   ],
   "source": [
    "# Вывод количества сообщений у пользователя 1002 для дополнительной проверки гипотезы\n",
    "len(messages.query('user_id == 1002'))"
   ]
  },
  {
   "cell_type": "code",
   "execution_count": 65,
   "metadata": {},
   "outputs": [],
   "source": [
    "# Установка столбца id в качестве индекса с проверкой на дубликаты\n",
    "messages.set_index(keys='id', verify_integrity=True, inplace=True)"
   ]
  },
  {
   "cell_type": "code",
   "execution_count": 66,
   "metadata": {},
   "outputs": [
    {
     "data": {
      "text/html": [
       "<div>\n",
       "<style scoped>\n",
       "    .dataframe tbody tr th:only-of-type {\n",
       "        vertical-align: middle;\n",
       "    }\n",
       "\n",
       "    .dataframe tbody tr th {\n",
       "        vertical-align: top;\n",
       "    }\n",
       "\n",
       "    .dataframe thead th {\n",
       "        text-align: right;\n",
       "    }\n",
       "</style>\n",
       "<table border=\"1\" class=\"dataframe\">\n",
       "  <thead>\n",
       "    <tr style=\"text-align: right;\">\n",
       "      <th></th>\n",
       "      <th>message_date</th>\n",
       "      <th>user_id</th>\n",
       "    </tr>\n",
       "    <tr>\n",
       "      <th>id</th>\n",
       "      <th></th>\n",
       "      <th></th>\n",
       "    </tr>\n",
       "  </thead>\n",
       "  <tbody>\n",
       "    <tr>\n",
       "      <th>1000_0</th>\n",
       "      <td>2018-06-27</td>\n",
       "      <td>1000</td>\n",
       "    </tr>\n",
       "    <tr>\n",
       "      <th>1000_1</th>\n",
       "      <td>2018-10-08</td>\n",
       "      <td>1000</td>\n",
       "    </tr>\n",
       "    <tr>\n",
       "      <th>1000_2</th>\n",
       "      <td>2018-08-04</td>\n",
       "      <td>1000</td>\n",
       "    </tr>\n",
       "    <tr>\n",
       "      <th>1000_3</th>\n",
       "      <td>2018-06-16</td>\n",
       "      <td>1000</td>\n",
       "    </tr>\n",
       "    <tr>\n",
       "      <th>1000_4</th>\n",
       "      <td>2018-12-05</td>\n",
       "      <td>1000</td>\n",
       "    </tr>\n",
       "  </tbody>\n",
       "</table>\n",
       "</div>"
      ],
      "text/plain": [
       "       message_date  user_id\n",
       "id                          \n",
       "1000_0   2018-06-27     1000\n",
       "1000_1   2018-10-08     1000\n",
       "1000_2   2018-08-04     1000\n",
       "1000_3   2018-06-16     1000\n",
       "1000_4   2018-12-05     1000"
      ]
     },
     "execution_count": 66,
     "metadata": {},
     "output_type": "execute_result"
    }
   ],
   "source": [
    "# Проверка результатов установки индекса\n",
    "messages.head()"
   ]
  },
  {
   "cell_type": "markdown",
   "metadata": {},
   "source": [
    "#### Приведение столбца message_date к типу datetime"
   ]
  },
  {
   "cell_type": "code",
   "execution_count": 67,
   "metadata": {},
   "outputs": [
    {
     "data": {
      "text/plain": [
       "count         123036\n",
       "unique           364\n",
       "top       2018-12-31\n",
       "freq             859\n",
       "Name: message_date, dtype: object"
      ]
     },
     "execution_count": 67,
     "metadata": {},
     "output_type": "execute_result"
    }
   ],
   "source": [
    "messages['message_date'].describe()"
   ]
  },
  {
   "cell_type": "code",
   "execution_count": 68,
   "metadata": {},
   "outputs": [],
   "source": [
    "messages['message_date'] = pd.to_datetime(messages['message_date'], format='%Y-%m-%d')"
   ]
  },
  {
   "cell_type": "code",
   "execution_count": 69,
   "metadata": {},
   "outputs": [
    {
     "data": {
      "text/plain": [
       "count                           123036\n",
       "mean     2018-09-04 15:28:42.227640576\n",
       "min                2018-01-02 00:00:00\n",
       "25%                2018-07-09 00:00:00\n",
       "50%                2018-09-20 00:00:00\n",
       "75%                2018-11-14 00:00:00\n",
       "max                2018-12-31 00:00:00\n",
       "Name: message_date, dtype: object"
      ]
     },
     "execution_count": 69,
     "metadata": {},
     "output_type": "execute_result"
    }
   ],
   "source": [
    "messages['message_date'].describe(datetime_is_numeric=True)"
   ]
  },
  {
   "cell_type": "markdown",
   "metadata": {},
   "source": [
    "### Информация об интернет-сессиях (шаг 2)"
   ]
  },
  {
   "cell_type": "code",
   "execution_count": 70,
   "metadata": {},
   "outputs": [
    {
     "name": "stdout",
     "output_type": "stream",
     "text": [
      "<class 'pandas.core.frame.DataFrame'>\n",
      "RangeIndex: 149396 entries, 0 to 149395\n",
      "Data columns (total 5 columns):\n",
      " #   Column        Non-Null Count   Dtype  \n",
      "---  ------        --------------   -----  \n",
      " 0   Unnamed: 0    149396 non-null  int64  \n",
      " 1   id            149396 non-null  object \n",
      " 2   mb_used       149396 non-null  float64\n",
      " 3   session_date  149396 non-null  object \n",
      " 4   user_id       149396 non-null  int64  \n",
      "dtypes: float64(1), int64(2), object(2)\n",
      "memory usage: 5.7+ MB\n"
     ]
    }
   ],
   "source": [
    "internet.info()"
   ]
  },
  {
   "cell_type": "markdown",
   "metadata": {},
   "source": [
    "#### Удаления столбца с индексом 0"
   ]
  },
  {
   "cell_type": "code",
   "execution_count": 71,
   "metadata": {},
   "outputs": [
    {
     "data": {
      "text/plain": [
       "True    149396\n",
       "dtype: int64"
      ]
     },
     "execution_count": 71,
     "metadata": {},
     "output_type": "execute_result"
    }
   ],
   "source": [
    "(internet['Unnamed: 0'] == internet.index).value_counts()"
   ]
  },
  {
   "cell_type": "code",
   "execution_count": 72,
   "metadata": {},
   "outputs": [
    {
     "data": {
      "text/plain": [
       "Index(['id', 'mb_used', 'session_date', 'user_id'], dtype='object')"
      ]
     },
     "execution_count": 72,
     "metadata": {},
     "output_type": "execute_result"
    }
   ],
   "source": [
    "internet.drop(columns=[internet.columns[0]], inplace=True)\n",
    "\n",
    "internet.columns"
   ]
  },
  {
   "cell_type": "markdown",
   "metadata": {},
   "source": [
    "#### Установка столбца id в качестве индекса"
   ]
  },
  {
   "cell_type": "code",
   "execution_count": 73,
   "metadata": {},
   "outputs": [
    {
     "data": {
      "text/plain": [
       "0           1000_0\n",
       "1           1000_1\n",
       "2           1000_2\n",
       "3           1000_3\n",
       "4           1000_4\n",
       "            ...   \n",
       "149391    1499_152\n",
       "149392    1499_153\n",
       "149393    1499_154\n",
       "149394    1499_155\n",
       "149395    1499_156\n",
       "Name: id, Length: 149396, dtype: object"
      ]
     },
     "execution_count": 73,
     "metadata": {},
     "output_type": "execute_result"
    }
   ],
   "source": [
    "# Оценка содержания столбца\n",
    "internet['id']"
   ]
  },
  {
   "cell_type": "code",
   "execution_count": 74,
   "metadata": {},
   "outputs": [
    {
     "data": {
      "text/plain": [
       "0        1000_0\n",
       "1        1000_1\n",
       "2        1000_2\n",
       "3        1000_3\n",
       "4        1000_4\n",
       "         ...   \n",
       "206    1000_206\n",
       "207    1000_207\n",
       "208    1000_208\n",
       "209    1000_209\n",
       "210    1000_210\n",
       "Name: id, Length: 211, dtype: object"
      ]
     },
     "execution_count": 74,
     "metadata": {},
     "output_type": "execute_result"
    }
   ],
   "source": [
    "# Проверка гипотезы о том, что цифра после \"_\" является номером сессии для пользователя \n",
    "internet.query('user_id == 1000')['id']"
   ]
  },
  {
   "cell_type": "code",
   "execution_count": 75,
   "metadata": {},
   "outputs": [
    {
     "data": {
      "text/plain": [
       "211     1001_0\n",
       "212     1001_1\n",
       "213     1001_2\n",
       "214     1001_3\n",
       "215     1001_4\n",
       "        ...   \n",
       "302    1001_91\n",
       "303    1001_92\n",
       "304    1001_93\n",
       "305    1001_94\n",
       "306    1001_95\n",
       "Name: id, Length: 96, dtype: object"
      ]
     },
     "execution_count": 75,
     "metadata": {},
     "output_type": "execute_result"
    }
   ],
   "source": [
    "# Проверка гипотезы о том, что цифра после \"_\" является номером сессии для пользователя \n",
    "internet.query('user_id == 1001')['id']"
   ]
  },
  {
   "cell_type": "code",
   "execution_count": 76,
   "metadata": {},
   "outputs": [
    {
     "data": {
      "text/plain": [
       "96"
      ]
     },
     "execution_count": 76,
     "metadata": {},
     "output_type": "execute_result"
    }
   ],
   "source": [
    "# Вывод количества сессий у пользователя 1001 для дополнительной проверки гипотезы\n",
    "len(internet.query('user_id == 1001'))"
   ]
  },
  {
   "cell_type": "code",
   "execution_count": 77,
   "metadata": {},
   "outputs": [],
   "source": [
    "# Установка столбца id в качестве индекса с проверкой на дубликаты\n",
    "internet.set_index(keys='id', verify_integrity=True, inplace=True)"
   ]
  },
  {
   "cell_type": "code",
   "execution_count": 78,
   "metadata": {},
   "outputs": [
    {
     "data": {
      "text/html": [
       "<div>\n",
       "<style scoped>\n",
       "    .dataframe tbody tr th:only-of-type {\n",
       "        vertical-align: middle;\n",
       "    }\n",
       "\n",
       "    .dataframe tbody tr th {\n",
       "        vertical-align: top;\n",
       "    }\n",
       "\n",
       "    .dataframe thead th {\n",
       "        text-align: right;\n",
       "    }\n",
       "</style>\n",
       "<table border=\"1\" class=\"dataframe\">\n",
       "  <thead>\n",
       "    <tr style=\"text-align: right;\">\n",
       "      <th></th>\n",
       "      <th>mb_used</th>\n",
       "      <th>session_date</th>\n",
       "      <th>user_id</th>\n",
       "    </tr>\n",
       "    <tr>\n",
       "      <th>id</th>\n",
       "      <th></th>\n",
       "      <th></th>\n",
       "      <th></th>\n",
       "    </tr>\n",
       "  </thead>\n",
       "  <tbody>\n",
       "    <tr>\n",
       "      <th>1000_0</th>\n",
       "      <td>112.95</td>\n",
       "      <td>2018-11-25</td>\n",
       "      <td>1000</td>\n",
       "    </tr>\n",
       "    <tr>\n",
       "      <th>1000_1</th>\n",
       "      <td>1052.81</td>\n",
       "      <td>2018-09-07</td>\n",
       "      <td>1000</td>\n",
       "    </tr>\n",
       "    <tr>\n",
       "      <th>1000_2</th>\n",
       "      <td>1197.26</td>\n",
       "      <td>2018-06-25</td>\n",
       "      <td>1000</td>\n",
       "    </tr>\n",
       "    <tr>\n",
       "      <th>1000_3</th>\n",
       "      <td>550.27</td>\n",
       "      <td>2018-08-22</td>\n",
       "      <td>1000</td>\n",
       "    </tr>\n",
       "    <tr>\n",
       "      <th>1000_4</th>\n",
       "      <td>302.56</td>\n",
       "      <td>2018-09-24</td>\n",
       "      <td>1000</td>\n",
       "    </tr>\n",
       "  </tbody>\n",
       "</table>\n",
       "</div>"
      ],
      "text/plain": [
       "        mb_used session_date  user_id\n",
       "id                                   \n",
       "1000_0   112.95   2018-11-25     1000\n",
       "1000_1  1052.81   2018-09-07     1000\n",
       "1000_2  1197.26   2018-06-25     1000\n",
       "1000_3   550.27   2018-08-22     1000\n",
       "1000_4   302.56   2018-09-24     1000"
      ]
     },
     "execution_count": 78,
     "metadata": {},
     "output_type": "execute_result"
    }
   ],
   "source": [
    "# Проверка результатов установки индекса\n",
    "internet.head()"
   ]
  },
  {
   "cell_type": "markdown",
   "metadata": {},
   "source": [
    "#### mb_used"
   ]
  },
  {
   "cell_type": "code",
   "execution_count": 79,
   "metadata": {},
   "outputs": [
    {
     "data": {
      "text/plain": [
       "count    149396.000000\n",
       "mean        370.192426\n",
       "std         278.300951\n",
       "min           0.000000\n",
       "25%         138.187500\n",
       "50%         348.015000\n",
       "75%         559.552500\n",
       "max        1724.830000\n",
       "Name: mb_used, dtype: float64"
      ]
     },
     "execution_count": 79,
     "metadata": {},
     "output_type": "execute_result"
    }
   ],
   "source": [
    "internet['mb_used'].describe()"
   ]
  },
  {
   "cell_type": "code",
   "execution_count": 80,
   "metadata": {},
   "outputs": [
    {
     "data": {
      "image/png": "[encoded data removed]",
      "text/plain": [
       "<Figure size 1080x720 with 1 Axes>"
      ]
     },
     "metadata": {
      "needs_background": "light"
     },
     "output_type": "display_data"
    }
   ],
   "source": [
    "#Визуальная оценка распределения данных\n",
    "internet['mb_used'].hist(bins=200, figsize=(15, 10))\n",
    "plt.xlabel('Объем интернет-трафика');\n",
    "plt.grid(linewidth=0.5)\n",
    "plt.title('Распределение объёма потраченного за сессию интернет-трафика')\n",
    "plt.show()"
   ]
  },
  {
   "cell_type": "code",
   "execution_count": 81,
   "metadata": {},
   "outputs": [
    {
     "data": {
      "text/plain": [
       "id\n",
       "1000_0      112.95\n",
       "1000_1     1052.81\n",
       "1000_2     1197.26\n",
       "1000_3      550.27\n",
       "1000_4      302.56\n",
       "1000_5      399.97\n",
       "1000_6      540.08\n",
       "1000_7      415.70\n",
       "1000_8      505.40\n",
       "1000_9      345.54\n",
       "1000_10     385.14\n",
       "1000_11       0.00\n",
       "1000_12     375.87\n",
       "1000_13     393.83\n",
       "1000_14     180.64\n",
       "Name: mb_used, dtype: float64"
      ]
     },
     "execution_count": 81,
     "metadata": {},
     "output_type": "execute_result"
    }
   ],
   "source": [
    "# Оценка содержания столбца\n",
    "internet['mb_used'].head(15)"
   ]
  },
  {
   "cell_type": "code",
   "execution_count": 82,
   "metadata": {},
   "outputs": [
    {
     "name": "stdout",
     "output_type": "stream",
     "text": [
      "Количество записей с объмом трафика сессии, равным 0 - 19598 (13.12%)\n",
      "\n"
     ]
    }
   ],
   "source": [
    "print('Количество записей с объмом трафика сессии, равным 0 - {} ({:.2%})'.format(len(internet.query('mb_used == 0')), len(internet.query('mb_used == 0')) / len(internet)), end='\\n\\n')"
   ]
  },
  {
   "cell_type": "code",
   "execution_count": 83,
   "metadata": {},
   "outputs": [
    {
     "data": {
      "image/png": "[encoded data removed]",
      "text/plain": [
       "<Figure size 1080x720 with 1 Axes>"
      ]
     },
     "metadata": {
      "needs_background": "light"
     },
     "output_type": "display_data"
    }
   ],
   "source": [
    "#Визуальная оценка распределения данных\n",
    "internet.query('0 < mb_used <= 1')['mb_used'].hist(bins=100, figsize=(15, 10))\n",
    "plt.xlabel('Объем интернет-трафика');\n",
    "plt.grid(linewidth=0.5)\n",
    "plt.title('Распределение объема трафика для сессий объемом более 0 и менее или равной 1 Мб')\n",
    "plt.show()"
   ]
  },
  {
   "cell_type": "code",
   "execution_count": 84,
   "metadata": {},
   "outputs": [
    {
     "data": {
      "text/plain": [
       "count    129798.000000\n",
       "mean        426.087210\n",
       "std         255.596447\n",
       "min           0.030000\n",
       "25%         227.460000\n",
       "50%         400.540000\n",
       "75%         592.947500\n",
       "max        1724.830000\n",
       "Name: mb_used, dtype: float64"
      ]
     },
     "execution_count": 84,
     "metadata": {},
     "output_type": "execute_result"
    }
   ],
   "source": [
    "internet.query('mb_used != 0')['mb_used'].describe()"
   ]
  },
  {
   "cell_type": "code",
   "execution_count": 85,
   "metadata": {},
   "outputs": [
    {
     "data": {
      "image/png": "[encoded data removed]",
      "text/plain": [
       "<Figure size 1080x720 with 1 Axes>"
      ]
     },
     "metadata": {
      "needs_background": "light"
     },
     "output_type": "display_data"
    }
   ],
   "source": [
    "#Визуальная оценка распределения данных\n",
    "internet.query('mb_used != 0')['mb_used'].hist(bins=1750, figsize=(15, 10))\n",
    "plt.xlabel('Объем интернет-трафика');\n",
    "plt.grid(linewidth=0.5)\n",
    "plt.title('Распределение объема трафика для сессий с ненулевым объемом')\n",
    "plt.show()"
   ]
  },
  {
   "cell_type": "code",
   "execution_count": 86,
   "metadata": {},
   "outputs": [
    {
     "data": {
      "text/html": [
       "<div>\n",
       "<style scoped>\n",
       "    .dataframe tbody tr th:only-of-type {\n",
       "        vertical-align: middle;\n",
       "    }\n",
       "\n",
       "    .dataframe tbody tr th {\n",
       "        vertical-align: top;\n",
       "    }\n",
       "\n",
       "    .dataframe thead th {\n",
       "        text-align: right;\n",
       "    }\n",
       "</style>\n",
       "<table border=\"1\" class=\"dataframe\">\n",
       "  <thead>\n",
       "    <tr style=\"text-align: right;\">\n",
       "      <th></th>\n",
       "      <th>count_zero</th>\n",
       "    </tr>\n",
       "    <tr>\n",
       "      <th>user_id</th>\n",
       "      <th></th>\n",
       "    </tr>\n",
       "  </thead>\n",
       "  <tbody>\n",
       "    <tr>\n",
       "      <th>1000</th>\n",
       "      <td>14</td>\n",
       "    </tr>\n",
       "    <tr>\n",
       "      <th>1001</th>\n",
       "      <td>14</td>\n",
       "    </tr>\n",
       "    <tr>\n",
       "      <th>1002</th>\n",
       "      <td>72</td>\n",
       "    </tr>\n",
       "    <tr>\n",
       "      <th>1003</th>\n",
       "      <td>2</td>\n",
       "    </tr>\n",
       "    <tr>\n",
       "      <th>1004</th>\n",
       "      <td>22</td>\n",
       "    </tr>\n",
       "    <tr>\n",
       "      <th>...</th>\n",
       "      <td>...</td>\n",
       "    </tr>\n",
       "    <tr>\n",
       "      <th>1495</th>\n",
       "      <td>10</td>\n",
       "    </tr>\n",
       "    <tr>\n",
       "      <th>1496</th>\n",
       "      <td>141</td>\n",
       "    </tr>\n",
       "    <tr>\n",
       "      <th>1497</th>\n",
       "      <td>16</td>\n",
       "    </tr>\n",
       "    <tr>\n",
       "      <th>1498</th>\n",
       "      <td>41</td>\n",
       "    </tr>\n",
       "    <tr>\n",
       "      <th>1499</th>\n",
       "      <td>31</td>\n",
       "    </tr>\n",
       "  </tbody>\n",
       "</table>\n",
       "<p>494 rows × 1 columns</p>\n",
       "</div>"
      ],
      "text/plain": [
       "         count_zero\n",
       "user_id            \n",
       "1000             14\n",
       "1001             14\n",
       "1002             72\n",
       "1003              2\n",
       "1004             22\n",
       "...             ...\n",
       "1495             10\n",
       "1496            141\n",
       "1497             16\n",
       "1498             41\n",
       "1499             31\n",
       "\n",
       "[494 rows x 1 columns]"
      ]
     },
     "execution_count": 86,
     "metadata": {},
     "output_type": "execute_result"
    }
   ],
   "source": [
    "# Расчет количества сессий с трафиком 0 Мб для каждого пользователя\n",
    "zero_mb_used_pivot = internet.query('mb_used == 0').pivot_table(index='user_id', values='mb_used', aggfunc='count')\n",
    "zero_mb_used_pivot.columns = ['count_zero']\n",
    "zero_mb_used_pivot"
   ]
  },
  {
   "cell_type": "code",
   "execution_count": 87,
   "metadata": {},
   "outputs": [
    {
     "data": {
      "text/html": [
       "<div>\n",
       "<style scoped>\n",
       "    .dataframe tbody tr th:only-of-type {\n",
       "        vertical-align: middle;\n",
       "    }\n",
       "\n",
       "    .dataframe tbody tr th {\n",
       "        vertical-align: top;\n",
       "    }\n",
       "\n",
       "    .dataframe thead th {\n",
       "        text-align: right;\n",
       "    }\n",
       "</style>\n",
       "<table border=\"1\" class=\"dataframe\">\n",
       "  <thead>\n",
       "    <tr style=\"text-align: right;\">\n",
       "      <th></th>\n",
       "      <th>count</th>\n",
       "    </tr>\n",
       "    <tr>\n",
       "      <th>user_id</th>\n",
       "      <th></th>\n",
       "    </tr>\n",
       "  </thead>\n",
       "  <tbody>\n",
       "    <tr>\n",
       "      <th>1000</th>\n",
       "      <td>211</td>\n",
       "    </tr>\n",
       "    <tr>\n",
       "      <th>1001</th>\n",
       "      <td>96</td>\n",
       "    </tr>\n",
       "    <tr>\n",
       "      <th>1002</th>\n",
       "      <td>369</td>\n",
       "    </tr>\n",
       "    <tr>\n",
       "      <th>1003</th>\n",
       "      <td>104</td>\n",
       "    </tr>\n",
       "    <tr>\n",
       "      <th>1004</th>\n",
       "      <td>300</td>\n",
       "    </tr>\n",
       "    <tr>\n",
       "      <th>...</th>\n",
       "      <td>...</td>\n",
       "    </tr>\n",
       "    <tr>\n",
       "      <th>1495</th>\n",
       "      <td>254</td>\n",
       "    </tr>\n",
       "    <tr>\n",
       "      <th>1496</th>\n",
       "      <td>834</td>\n",
       "    </tr>\n",
       "    <tr>\n",
       "      <th>1497</th>\n",
       "      <td>121</td>\n",
       "    </tr>\n",
       "    <tr>\n",
       "      <th>1498</th>\n",
       "      <td>232</td>\n",
       "    </tr>\n",
       "    <tr>\n",
       "      <th>1499</th>\n",
       "      <td>157</td>\n",
       "    </tr>\n",
       "  </tbody>\n",
       "</table>\n",
       "<p>497 rows × 1 columns</p>\n",
       "</div>"
      ],
      "text/plain": [
       "         count\n",
       "user_id       \n",
       "1000       211\n",
       "1001        96\n",
       "1002       369\n",
       "1003       104\n",
       "1004       300\n",
       "...        ...\n",
       "1495       254\n",
       "1496       834\n",
       "1497       121\n",
       "1498       232\n",
       "1499       157\n",
       "\n",
       "[497 rows x 1 columns]"
      ]
     },
     "execution_count": 87,
     "metadata": {},
     "output_type": "execute_result"
    }
   ],
   "source": [
    "# Расчет количества сессий для каждого пользователя\n",
    "mb_used_pivot = internet.pivot_table(index='user_id', values='mb_used', aggfunc='count')\n",
    "mb_used_pivot.columns = ['count']\n",
    "mb_used_pivot"
   ]
  },
  {
   "cell_type": "code",
   "execution_count": 88,
   "metadata": {},
   "outputs": [
    {
     "data": {
      "text/html": [
       "<div>\n",
       "<style scoped>\n",
       "    .dataframe tbody tr th:only-of-type {\n",
       "        vertical-align: middle;\n",
       "    }\n",
       "\n",
       "    .dataframe tbody tr th {\n",
       "        vertical-align: top;\n",
       "    }\n",
       "\n",
       "    .dataframe thead th {\n",
       "        text-align: right;\n",
       "    }\n",
       "</style>\n",
       "<table border=\"1\" class=\"dataframe\">\n",
       "  <thead>\n",
       "    <tr style=\"text-align: right;\">\n",
       "      <th></th>\n",
       "      <th>count</th>\n",
       "      <th>count_zero</th>\n",
       "    </tr>\n",
       "    <tr>\n",
       "      <th>user_id</th>\n",
       "      <th></th>\n",
       "      <th></th>\n",
       "    </tr>\n",
       "  </thead>\n",
       "  <tbody>\n",
       "    <tr>\n",
       "      <th>1000</th>\n",
       "      <td>211</td>\n",
       "      <td>14.0</td>\n",
       "    </tr>\n",
       "    <tr>\n",
       "      <th>1001</th>\n",
       "      <td>96</td>\n",
       "      <td>14.0</td>\n",
       "    </tr>\n",
       "    <tr>\n",
       "      <th>1002</th>\n",
       "      <td>369</td>\n",
       "      <td>72.0</td>\n",
       "    </tr>\n",
       "    <tr>\n",
       "      <th>1003</th>\n",
       "      <td>104</td>\n",
       "      <td>2.0</td>\n",
       "    </tr>\n",
       "    <tr>\n",
       "      <th>1004</th>\n",
       "      <td>300</td>\n",
       "      <td>22.0</td>\n",
       "    </tr>\n",
       "    <tr>\n",
       "      <th>...</th>\n",
       "      <td>...</td>\n",
       "      <td>...</td>\n",
       "    </tr>\n",
       "    <tr>\n",
       "      <th>1495</th>\n",
       "      <td>254</td>\n",
       "      <td>10.0</td>\n",
       "    </tr>\n",
       "    <tr>\n",
       "      <th>1496</th>\n",
       "      <td>834</td>\n",
       "      <td>141.0</td>\n",
       "    </tr>\n",
       "    <tr>\n",
       "      <th>1497</th>\n",
       "      <td>121</td>\n",
       "      <td>16.0</td>\n",
       "    </tr>\n",
       "    <tr>\n",
       "      <th>1498</th>\n",
       "      <td>232</td>\n",
       "      <td>41.0</td>\n",
       "    </tr>\n",
       "    <tr>\n",
       "      <th>1499</th>\n",
       "      <td>157</td>\n",
       "      <td>31.0</td>\n",
       "    </tr>\n",
       "  </tbody>\n",
       "</table>\n",
       "<p>497 rows × 2 columns</p>\n",
       "</div>"
      ],
      "text/plain": [
       "         count  count_zero\n",
       "user_id                   \n",
       "1000       211        14.0\n",
       "1001        96        14.0\n",
       "1002       369        72.0\n",
       "1003       104         2.0\n",
       "1004       300        22.0\n",
       "...        ...         ...\n",
       "1495       254        10.0\n",
       "1496       834       141.0\n",
       "1497       121        16.0\n",
       "1498       232        41.0\n",
       "1499       157        31.0\n",
       "\n",
       "[497 rows x 2 columns]"
      ]
     },
     "execution_count": 88,
     "metadata": {},
     "output_type": "execute_result"
    }
   ],
   "source": [
    "# Совмещение расчетов\n",
    "mb_used_pivot = mb_used_pivot.merge(zero_mb_used_pivot, left_on='user_id', right_on='user_id', how='left')\n",
    "mb_used_pivot"
   ]
  },
  {
   "cell_type": "code",
   "execution_count": 89,
   "metadata": {},
   "outputs": [
    {
     "data": {
      "text/html": [
       "<div>\n",
       "<style scoped>\n",
       "    .dataframe tbody tr th:only-of-type {\n",
       "        vertical-align: middle;\n",
       "    }\n",
       "\n",
       "    .dataframe tbody tr th {\n",
       "        vertical-align: top;\n",
       "    }\n",
       "\n",
       "    .dataframe thead th {\n",
       "        text-align: right;\n",
       "    }\n",
       "</style>\n",
       "<table border=\"1\" class=\"dataframe\">\n",
       "  <thead>\n",
       "    <tr style=\"text-align: right;\">\n",
       "      <th></th>\n",
       "      <th>count</th>\n",
       "      <th>count_zero</th>\n",
       "      <th>ratio</th>\n",
       "    </tr>\n",
       "    <tr>\n",
       "      <th>user_id</th>\n",
       "      <th></th>\n",
       "      <th></th>\n",
       "      <th></th>\n",
       "    </tr>\n",
       "  </thead>\n",
       "  <tbody>\n",
       "    <tr>\n",
       "      <th>1000</th>\n",
       "      <td>211</td>\n",
       "      <td>14.0</td>\n",
       "      <td>0.066351</td>\n",
       "    </tr>\n",
       "    <tr>\n",
       "      <th>1001</th>\n",
       "      <td>96</td>\n",
       "      <td>14.0</td>\n",
       "      <td>0.145833</td>\n",
       "    </tr>\n",
       "    <tr>\n",
       "      <th>1002</th>\n",
       "      <td>369</td>\n",
       "      <td>72.0</td>\n",
       "      <td>0.195122</td>\n",
       "    </tr>\n",
       "    <tr>\n",
       "      <th>1003</th>\n",
       "      <td>104</td>\n",
       "      <td>2.0</td>\n",
       "      <td>0.019231</td>\n",
       "    </tr>\n",
       "    <tr>\n",
       "      <th>1004</th>\n",
       "      <td>300</td>\n",
       "      <td>22.0</td>\n",
       "      <td>0.073333</td>\n",
       "    </tr>\n",
       "    <tr>\n",
       "      <th>...</th>\n",
       "      <td>...</td>\n",
       "      <td>...</td>\n",
       "      <td>...</td>\n",
       "    </tr>\n",
       "    <tr>\n",
       "      <th>1495</th>\n",
       "      <td>254</td>\n",
       "      <td>10.0</td>\n",
       "      <td>0.039370</td>\n",
       "    </tr>\n",
       "    <tr>\n",
       "      <th>1496</th>\n",
       "      <td>834</td>\n",
       "      <td>141.0</td>\n",
       "      <td>0.169065</td>\n",
       "    </tr>\n",
       "    <tr>\n",
       "      <th>1497</th>\n",
       "      <td>121</td>\n",
       "      <td>16.0</td>\n",
       "      <td>0.132231</td>\n",
       "    </tr>\n",
       "    <tr>\n",
       "      <th>1498</th>\n",
       "      <td>232</td>\n",
       "      <td>41.0</td>\n",
       "      <td>0.176724</td>\n",
       "    </tr>\n",
       "    <tr>\n",
       "      <th>1499</th>\n",
       "      <td>157</td>\n",
       "      <td>31.0</td>\n",
       "      <td>0.197452</td>\n",
       "    </tr>\n",
       "  </tbody>\n",
       "</table>\n",
       "<p>497 rows × 3 columns</p>\n",
       "</div>"
      ],
      "text/plain": [
       "         count  count_zero     ratio\n",
       "user_id                             \n",
       "1000       211        14.0  0.066351\n",
       "1001        96        14.0  0.145833\n",
       "1002       369        72.0  0.195122\n",
       "1003       104         2.0  0.019231\n",
       "1004       300        22.0  0.073333\n",
       "...        ...         ...       ...\n",
       "1495       254        10.0  0.039370\n",
       "1496       834       141.0  0.169065\n",
       "1497       121        16.0  0.132231\n",
       "1498       232        41.0  0.176724\n",
       "1499       157        31.0  0.197452\n",
       "\n",
       "[497 rows x 3 columns]"
      ]
     },
     "execution_count": 89,
     "metadata": {},
     "output_type": "execute_result"
    }
   ],
   "source": [
    "# Расчет соотношения количества сессий с объемом трафика 0 Мб к количеству сессий по пользователям\n",
    "mb_used_pivot['ratio'] = mb_used_pivot['count_zero'] / mb_used_pivot['count']\n",
    "mb_used_pivot"
   ]
  },
  {
   "cell_type": "code",
   "execution_count": 90,
   "metadata": {},
   "outputs": [
    {
     "data": {
      "image/png": "[encoded data removed]",
      "text/plain": [
       "<Figure size 1080x720 with 1 Axes>"
      ]
     },
     "metadata": {
      "needs_background": "light"
     },
     "output_type": "display_data"
    }
   ],
   "source": [
    "# Визуальная оценка распределения полученных значений\n",
    "mb_used_pivot['ratio'].hist(bins=100, figsize=(15, 10))\n",
    "plt.xlabel('Соотношение количества сессий с объемом трафика 0 Мб к количеству сессий по пользователям');\n",
    "plt.grid(linewidth=0.5)\n",
    "plt.title('Распределение соотношения количества сессий с объемом трафика 0 Мб к количеству сессий по пользователям')\n",
    "plt.show()"
   ]
  },
  {
   "cell_type": "code",
   "execution_count": 91,
   "metadata": {},
   "outputs": [
    {
     "data": {
      "text/html": [
       "<div>\n",
       "<style scoped>\n",
       "    .dataframe tbody tr th:only-of-type {\n",
       "        vertical-align: middle;\n",
       "    }\n",
       "\n",
       "    .dataframe tbody tr th {\n",
       "        vertical-align: top;\n",
       "    }\n",
       "\n",
       "    .dataframe thead th {\n",
       "        text-align: right;\n",
       "    }\n",
       "</style>\n",
       "<table border=\"1\" class=\"dataframe\">\n",
       "  <thead>\n",
       "    <tr style=\"text-align: right;\">\n",
       "      <th></th>\n",
       "      <th>age</th>\n",
       "      <th>churn_date</th>\n",
       "      <th>city</th>\n",
       "      <th>first_name</th>\n",
       "      <th>last_name</th>\n",
       "      <th>reg_date</th>\n",
       "      <th>tariff</th>\n",
       "      <th>ratio</th>\n",
       "    </tr>\n",
       "    <tr>\n",
       "      <th>user_id</th>\n",
       "      <th></th>\n",
       "      <th></th>\n",
       "      <th></th>\n",
       "      <th></th>\n",
       "      <th></th>\n",
       "      <th></th>\n",
       "      <th></th>\n",
       "      <th></th>\n",
       "    </tr>\n",
       "  </thead>\n",
       "  <tbody>\n",
       "    <tr>\n",
       "      <th>1000</th>\n",
       "      <td>52</td>\n",
       "      <td>NaT</td>\n",
       "      <td>Краснодар</td>\n",
       "      <td>Рафаил</td>\n",
       "      <td>Верещагин</td>\n",
       "      <td>2018-05-25</td>\n",
       "      <td>ultra</td>\n",
       "      <td>0.066351</td>\n",
       "    </tr>\n",
       "    <tr>\n",
       "      <th>1001</th>\n",
       "      <td>41</td>\n",
       "      <td>NaT</td>\n",
       "      <td>Москва</td>\n",
       "      <td>Иван</td>\n",
       "      <td>Ежов</td>\n",
       "      <td>2018-11-01</td>\n",
       "      <td>smart</td>\n",
       "      <td>0.145833</td>\n",
       "    </tr>\n",
       "    <tr>\n",
       "      <th>1002</th>\n",
       "      <td>59</td>\n",
       "      <td>NaT</td>\n",
       "      <td>Стерлитамак</td>\n",
       "      <td>Евгений</td>\n",
       "      <td>Абрамович</td>\n",
       "      <td>2018-06-17</td>\n",
       "      <td>smart</td>\n",
       "      <td>0.195122</td>\n",
       "    </tr>\n",
       "    <tr>\n",
       "      <th>1003</th>\n",
       "      <td>23</td>\n",
       "      <td>NaT</td>\n",
       "      <td>Москва</td>\n",
       "      <td>Белла</td>\n",
       "      <td>Белякова</td>\n",
       "      <td>2018-08-17</td>\n",
       "      <td>ultra</td>\n",
       "      <td>0.019231</td>\n",
       "    </tr>\n",
       "    <tr>\n",
       "      <th>1004</th>\n",
       "      <td>68</td>\n",
       "      <td>NaT</td>\n",
       "      <td>Новокузнецк</td>\n",
       "      <td>Татьяна</td>\n",
       "      <td>Авдеенко</td>\n",
       "      <td>2018-05-14</td>\n",
       "      <td>ultra</td>\n",
       "      <td>0.073333</td>\n",
       "    </tr>\n",
       "    <tr>\n",
       "      <th>...</th>\n",
       "      <td>...</td>\n",
       "      <td>...</td>\n",
       "      <td>...</td>\n",
       "      <td>...</td>\n",
       "      <td>...</td>\n",
       "      <td>...</td>\n",
       "      <td>...</td>\n",
       "      <td>...</td>\n",
       "    </tr>\n",
       "    <tr>\n",
       "      <th>1495</th>\n",
       "      <td>65</td>\n",
       "      <td>NaT</td>\n",
       "      <td>Иркутск</td>\n",
       "      <td>Авксентий</td>\n",
       "      <td>Фокин</td>\n",
       "      <td>2018-08-28</td>\n",
       "      <td>ultra</td>\n",
       "      <td>0.039370</td>\n",
       "    </tr>\n",
       "    <tr>\n",
       "      <th>1496</th>\n",
       "      <td>36</td>\n",
       "      <td>NaT</td>\n",
       "      <td>Вологда</td>\n",
       "      <td>Трифон</td>\n",
       "      <td>Блохин</td>\n",
       "      <td>2018-01-27</td>\n",
       "      <td>smart</td>\n",
       "      <td>0.169065</td>\n",
       "    </tr>\n",
       "    <tr>\n",
       "      <th>1497</th>\n",
       "      <td>32</td>\n",
       "      <td>NaT</td>\n",
       "      <td>Челябинск</td>\n",
       "      <td>Каролина</td>\n",
       "      <td>Агеева</td>\n",
       "      <td>2018-10-09</td>\n",
       "      <td>smart</td>\n",
       "      <td>0.132231</td>\n",
       "    </tr>\n",
       "    <tr>\n",
       "      <th>1498</th>\n",
       "      <td>68</td>\n",
       "      <td>2018-10-25</td>\n",
       "      <td>Владикавказ</td>\n",
       "      <td>Всеволод</td>\n",
       "      <td>Акимчин</td>\n",
       "      <td>2018-07-19</td>\n",
       "      <td>smart</td>\n",
       "      <td>0.176724</td>\n",
       "    </tr>\n",
       "    <tr>\n",
       "      <th>1499</th>\n",
       "      <td>35</td>\n",
       "      <td>NaT</td>\n",
       "      <td>Пермь</td>\n",
       "      <td>Гектор</td>\n",
       "      <td>Корнилов</td>\n",
       "      <td>2018-09-27</td>\n",
       "      <td>smart</td>\n",
       "      <td>0.197452</td>\n",
       "    </tr>\n",
       "  </tbody>\n",
       "</table>\n",
       "<p>500 rows × 8 columns</p>\n",
       "</div>"
      ],
      "text/plain": [
       "         age churn_date         city first_name  last_name   reg_date tariff  \\\n",
       "user_id                                                                        \n",
       "1000      52        NaT    Краснодар     Рафаил  Верещагин 2018-05-25  ultra   \n",
       "1001      41        NaT       Москва       Иван       Ежов 2018-11-01  smart   \n",
       "1002      59        NaT  Стерлитамак    Евгений  Абрамович 2018-06-17  smart   \n",
       "1003      23        NaT       Москва      Белла   Белякова 2018-08-17  ultra   \n",
       "1004      68        NaT  Новокузнецк    Татьяна   Авдеенко 2018-05-14  ultra   \n",
       "...      ...        ...          ...        ...        ...        ...    ...   \n",
       "1495      65        NaT      Иркутск  Авксентий      Фокин 2018-08-28  ultra   \n",
       "1496      36        NaT      Вологда     Трифон     Блохин 2018-01-27  smart   \n",
       "1497      32        NaT    Челябинск   Каролина     Агеева 2018-10-09  smart   \n",
       "1498      68 2018-10-25  Владикавказ   Всеволод    Акимчин 2018-07-19  smart   \n",
       "1499      35        NaT        Пермь     Гектор   Корнилов 2018-09-27  smart   \n",
       "\n",
       "            ratio  \n",
       "user_id            \n",
       "1000     0.066351  \n",
       "1001     0.145833  \n",
       "1002     0.195122  \n",
       "1003     0.019231  \n",
       "1004     0.073333  \n",
       "...           ...  \n",
       "1495     0.039370  \n",
       "1496     0.169065  \n",
       "1497     0.132231  \n",
       "1498     0.176724  \n",
       "1499     0.197452  \n",
       "\n",
       "[500 rows x 8 columns]"
      ]
     },
     "execution_count": 91,
     "metadata": {},
     "output_type": "execute_result"
    }
   ],
   "source": [
    "# Добавление столбца ratio в таблицу users\n",
    "users = users.merge(mb_used_pivot['ratio'], left_index=True, right_index=True, how='left')\n",
    "\n",
    "users"
   ]
  },
  {
   "cell_type": "code",
   "execution_count": 92,
   "metadata": {},
   "outputs": [
    {
     "data": {
      "text/plain": [
       "tariff\n",
       "smart    0.159255\n",
       "ultra    0.047244\n",
       "Name: ratio, dtype: float64"
      ]
     },
     "execution_count": 92,
     "metadata": {},
     "output_type": "execute_result"
    }
   ],
   "source": [
    "# Проверка гипотезы о том, что 2 полученных нормальных распределения относятся к 2 тарифам\n",
    "users.groupby('tariff')['ratio'].mean()"
   ]
  },
  {
   "cell_type": "markdown",
   "metadata": {},
   "source": [
    "#### Приведение столбца session_date к типу datetime"
   ]
  },
  {
   "cell_type": "code",
   "execution_count": 93,
   "metadata": {},
   "outputs": [
    {
     "data": {
      "text/plain": [
       "count         149396\n",
       "unique           365\n",
       "top       2018-12-31\n",
       "freq            1057\n",
       "Name: session_date, dtype: object"
      ]
     },
     "execution_count": 93,
     "metadata": {},
     "output_type": "execute_result"
    }
   ],
   "source": [
    "internet['session_date'].describe()"
   ]
  },
  {
   "cell_type": "code",
   "execution_count": 94,
   "metadata": {},
   "outputs": [],
   "source": [
    "internet['session_date'] = pd.to_datetime(internet['session_date'], format='%Y-%m-%d')"
   ]
  },
  {
   "cell_type": "code",
   "execution_count": 95,
   "metadata": {},
   "outputs": [
    {
     "data": {
      "text/plain": [
       "count                           149396\n",
       "mean     2018-09-02 12:55:35.221826560\n",
       "min                2018-01-01 00:00:00\n",
       "25%                2018-07-05 00:00:00\n",
       "50%                2018-09-17 00:00:00\n",
       "75%                2018-11-14 00:00:00\n",
       "max                2018-12-31 00:00:00\n",
       "Name: session_date, dtype: object"
      ]
     },
     "execution_count": 95,
     "metadata": {},
     "output_type": "execute_result"
    }
   ],
   "source": [
    "internet['session_date'].describe(datetime_is_numeric=True)"
   ]
  },
  {
   "cell_type": "markdown",
   "metadata": {},
   "source": [
    "### Замена 0 для длительности разговоров и объема интеренет-сессий"
   ]
  },
  {
   "cell_type": "markdown",
   "metadata": {},
   "source": [
    "#### calls.duration"
   ]
  },
  {
   "cell_type": "code",
   "execution_count": 96,
   "metadata": {},
   "outputs": [
    {
     "data": {
      "text/plain": [
       "count    8402.000000\n",
       "mean        0.509269\n",
       "std         0.289328\n",
       "min         0.010000\n",
       "25%         0.260000\n",
       "50%         0.510000\n",
       "75%         0.760000\n",
       "max         1.000000\n",
       "Name: duration, dtype: float64"
      ]
     },
     "execution_count": 96,
     "metadata": {},
     "output_type": "execute_result"
    }
   ],
   "source": [
    "# Основные статистические показатели звонков длительностью (0, 1] минут\n",
    "calls[(calls['duration'] > 0) & (calls['duration'] <= 1)]['duration'].describe()"
   ]
  },
  {
   "cell_type": "code",
   "execution_count": 97,
   "metadata": {},
   "outputs": [
    {
     "data": {
      "image/png": "[encoded data removed]",
      "text/plain": [
       "<Figure size 1080x720 with 1 Axes>"
      ]
     },
     "metadata": {
      "needs_background": "light"
     },
     "output_type": "display_data"
    }
   ],
   "source": [
    "calls[(calls['duration'] > 0) & (calls['duration'] <= 1)]['duration'].hist(bins=100, figsize=(15, 10))\n",
    "plt.xlabel('Длительность звонка');\n",
    "plt.grid(linewidth=0.5)\n",
    "plt.title('Распределение длительности звонков для звонков длительностью более 0 и менее или равной 1 минуте')\n",
    "plt.show()"
   ]
  },
  {
   "cell_type": "code",
   "execution_count": 98,
   "metadata": {},
   "outputs": [],
   "source": [
    "import random\n",
    "\n",
    "# Функция для получения равномерно распределенного случайного значения в диапазоне от минимума до максимума (в диапазоне (0, 1]) длительности звонка для пользователя\n",
    "# row - (Series) Строка из набора данных\n",
    "# возвращает - (float) Случайное равномерно распределенное значение в диапазоне от минимума до максимума (в диапазоне (0, 1]) длительности звонка для пользователя\n",
    "def get_short_calls_duration_mean(row):\n",
    "    duration = calls[\n",
    "        (calls['user_id'] == row['user_id']) &\n",
    "        (calls['duration'] > 0) &\n",
    "        (calls['duration'] <= 1)\n",
    "    ]['duration']\n",
    "    \n",
    "    # Проверка на отсуствие значений в диапазоне (0, 1]\n",
    "    if len(duration) == 0:\n",
    "        return random.uniform(0, 1)\n",
    "    \n",
    "    return random.uniform(duration.min(), duration.max())"
   ]
  },
  {
   "cell_type": "code",
   "execution_count": 99,
   "metadata": {},
   "outputs": [],
   "source": [
    "# Замена значений, равных 0\n",
    "calls.loc[calls['duration'] == 0, 'duration'] = calls[calls['duration'] == 0].apply(get_short_calls_duration_mean, axis=1)"
   ]
  },
  {
   "cell_type": "code",
   "execution_count": 100,
   "metadata": {},
   "outputs": [
    {
     "data": {
      "image/png": "[encoded data removed]",
      "text/plain": [
       "<Figure size 1080x720 with 1 Axes>"
      ]
     },
     "metadata": {
      "needs_background": "light"
     },
     "output_type": "display_data"
    }
   ],
   "source": [
    "calls['duration'].hist(bins=100, figsize=(15, 10))\n",
    "plt.xlabel('Длительность звонка');\n",
    "plt.grid(linewidth=0.5)\n",
    "plt.title('Распределение длительности звонков после замены нулей')\n",
    "plt.show()"
   ]
  },
  {
   "cell_type": "code",
   "execution_count": 101,
   "metadata": {},
   "outputs": [
    {
     "data": {
      "image/png": "[encoded data removed]",
      "text/plain": [
       "<Figure size 1080x720 with 1 Axes>"
      ]
     },
     "metadata": {
      "needs_background": "light"
     },
     "output_type": "display_data"
    }
   ],
   "source": [
    "calls.query('duration <= 1')['duration'].hist(bins=100, figsize=(15, 10))\n",
    "plt.xlabel('Длительность звонка');\n",
    "plt.grid(linewidth=0.5)\n",
    "plt.title('Распределение длительности звонков для звонков длительностью более 0 и менее или равной 1 минуте после замены нулей')\n",
    "plt.show()"
   ]
  },
  {
   "cell_type": "markdown",
   "metadata": {},
   "source": [
    "#### internet.mb_used"
   ]
  },
  {
   "cell_type": "code",
   "execution_count": 102,
   "metadata": {},
   "outputs": [
    {
     "data": {
      "text/plain": [
       "count    102.000000\n",
       "mean       0.504020\n",
       "std        0.280397\n",
       "min        0.030000\n",
       "25%        0.272500\n",
       "50%        0.510000\n",
       "75%        0.757500\n",
       "max        1.000000\n",
       "Name: mb_used, dtype: float64"
      ]
     },
     "execution_count": 102,
     "metadata": {},
     "output_type": "execute_result"
    }
   ],
   "source": [
    "# Основные статистические показатели сессий объемом (0, 1] Мб\n",
    "internet[(internet['mb_used'] > 0) & (internet['mb_used'] <= 1)]['mb_used'].describe()"
   ]
  },
  {
   "cell_type": "code",
   "execution_count": 103,
   "metadata": {},
   "outputs": [
    {
     "data": {
      "image/png": "[encoded data removed]",
      "text/plain": [
       "<Figure size 1080x720 with 1 Axes>"
      ]
     },
     "metadata": {
      "needs_background": "light"
     },
     "output_type": "display_data"
    }
   ],
   "source": [
    "internet[(internet['mb_used'] > 0) & (internet['mb_used'] <= 1)]['mb_used'].hist(bins=100, figsize=(15, 10))\n",
    "plt.xlabel('Объем интернет-трафика');\n",
    "plt.grid(linewidth=0.5)\n",
    "plt.title('Распределение объема интернет-трафика сессии для сессий объемом более 0 и менее или равной 1 Мб')\n",
    "plt.show()"
   ]
  },
  {
   "cell_type": "code",
   "execution_count": 104,
   "metadata": {},
   "outputs": [],
   "source": [
    "# Функция для получения равномерно распределенного случайного значения в диапазоне от минимума до максимума (в диапазоне (0, 1]) объема сессии для пользователя\n",
    "# row - (Series) Строка из набора данных\n",
    "# возвращает - (float) Случайное равномерно распределенное значение в диапазоне от минимума до максимума (в диапазоне (0, 1]) объема сессии для пользователя\n",
    "def get_random_uniform_short_session_mb_used(row):\n",
    "    mb_used = internet[\n",
    "        (internet['user_id'] == row['user_id']) &\n",
    "        (internet['mb_used'] > 0) &\n",
    "        (internet['mb_used'] <= 1)\n",
    "    ]['mb_used']\n",
    "    \n",
    "    # Проверка на отсуствие значений в диапазоне (0, 1]\n",
    "    if len(mb_used) == 0:\n",
    "        return random.uniform(0, 1)\n",
    "    \n",
    "    return random.uniform(mb_used.min(), mb_used.max())"
   ]
  },
  {
   "cell_type": "code",
   "execution_count": 105,
   "metadata": {},
   "outputs": [],
   "source": [
    "# Замена значений, равных 0\n",
    "internet.loc[internet['mb_used'] == 0, 'mb_used'] = internet[internet['mb_used'] == 0].apply(get_random_uniform_short_session_mb_used, axis=1)"
   ]
  },
  {
   "cell_type": "code",
   "execution_count": 106,
   "metadata": {},
   "outputs": [
    {
     "data": {
      "image/png": "[encoded data removed]",
      "text/plain": [
       "<Figure size 1080x720 with 1 Axes>"
      ]
     },
     "metadata": {
      "needs_background": "light"
     },
     "output_type": "display_data"
    }
   ],
   "source": [
    "internet['mb_used'].hist(bins=100, figsize=(15, 10))\n",
    "plt.xlabel('Объем интернет-трафика');\n",
    "plt.grid(linewidth=0.5)\n",
    "plt.title('Распределение объем интернет-трафика после замены нулей')\n",
    "plt.show()"
   ]
  },
  {
   "cell_type": "code",
   "execution_count": 107,
   "metadata": {},
   "outputs": [
    {
     "data": {
      "image/png": "[encoded data removed]",
      "text/plain": [
       "<Figure size 1080x720 with 1 Axes>"
      ]
     },
     "metadata": {
      "needs_background": "light"
     },
     "output_type": "display_data"
    }
   ],
   "source": [
    "internet.query('mb_used <= 1')['mb_used'].hist(bins=100, figsize=(15, 10))\n",
    "plt.xlabel('Объем интернет-трафика');\n",
    "plt.grid(linewidth=0.5)\n",
    "plt.title('Распределение объема интернет-трафика сессии для сессий объемом более 0 и менее или равной 1 Мб после замены нулей')\n",
    "plt.show()"
   ]
  },
  {
   "cell_type": "markdown",
   "metadata": {},
   "source": [
    "### Дополнительные расчеты для каждого пользователя"
   ]
  },
  {
   "cell_type": "markdown",
   "metadata": {},
   "source": [
    "#### Количество сделанных звонков и израсходованных минут разговора по месяцам"
   ]
  },
  {
   "cell_type": "code",
   "execution_count": 108,
   "metadata": {},
   "outputs": [
    {
     "data": {
      "text/html": [
       "<div>\n",
       "<style scoped>\n",
       "    .dataframe tbody tr th:only-of-type {\n",
       "        vertical-align: middle;\n",
       "    }\n",
       "\n",
       "    .dataframe tbody tr th {\n",
       "        vertical-align: top;\n",
       "    }\n",
       "\n",
       "    .dataframe thead th {\n",
       "        text-align: right;\n",
       "    }\n",
       "</style>\n",
       "<table border=\"1\" class=\"dataframe\">\n",
       "  <thead>\n",
       "    <tr style=\"text-align: right;\">\n",
       "      <th></th>\n",
       "      <th>call_date</th>\n",
       "      <th>duration</th>\n",
       "      <th>user_id</th>\n",
       "      <th>call_month</th>\n",
       "    </tr>\n",
       "    <tr>\n",
       "      <th>id</th>\n",
       "      <th></th>\n",
       "      <th></th>\n",
       "      <th></th>\n",
       "      <th></th>\n",
       "    </tr>\n",
       "  </thead>\n",
       "  <tbody>\n",
       "    <tr>\n",
       "      <th>1000_0</th>\n",
       "      <td>2018-07-25</td>\n",
       "      <td>0.472989</td>\n",
       "      <td>1000</td>\n",
       "      <td>7</td>\n",
       "    </tr>\n",
       "    <tr>\n",
       "      <th>1000_1</th>\n",
       "      <td>2018-08-17</td>\n",
       "      <td>0.091222</td>\n",
       "      <td>1000</td>\n",
       "      <td>8</td>\n",
       "    </tr>\n",
       "    <tr>\n",
       "      <th>1000_2</th>\n",
       "      <td>2018-06-11</td>\n",
       "      <td>2.850000</td>\n",
       "      <td>1000</td>\n",
       "      <td>6</td>\n",
       "    </tr>\n",
       "    <tr>\n",
       "      <th>1000_3</th>\n",
       "      <td>2018-09-21</td>\n",
       "      <td>13.800000</td>\n",
       "      <td>1000</td>\n",
       "      <td>9</td>\n",
       "    </tr>\n",
       "    <tr>\n",
       "      <th>1000_4</th>\n",
       "      <td>2018-12-15</td>\n",
       "      <td>5.180000</td>\n",
       "      <td>1000</td>\n",
       "      <td>12</td>\n",
       "    </tr>\n",
       "    <tr>\n",
       "      <th>...</th>\n",
       "      <td>...</td>\n",
       "      <td>...</td>\n",
       "      <td>...</td>\n",
       "      <td>...</td>\n",
       "    </tr>\n",
       "    <tr>\n",
       "      <th>1499_215</th>\n",
       "      <td>2018-12-26</td>\n",
       "      <td>0.760000</td>\n",
       "      <td>1499</td>\n",
       "      <td>12</td>\n",
       "    </tr>\n",
       "    <tr>\n",
       "      <th>1499_216</th>\n",
       "      <td>2018-10-18</td>\n",
       "      <td>18.830000</td>\n",
       "      <td>1499</td>\n",
       "      <td>10</td>\n",
       "    </tr>\n",
       "    <tr>\n",
       "      <th>1499_217</th>\n",
       "      <td>2018-11-10</td>\n",
       "      <td>10.810000</td>\n",
       "      <td>1499</td>\n",
       "      <td>11</td>\n",
       "    </tr>\n",
       "    <tr>\n",
       "      <th>1499_218</th>\n",
       "      <td>2018-10-06</td>\n",
       "      <td>4.270000</td>\n",
       "      <td>1499</td>\n",
       "      <td>10</td>\n",
       "    </tr>\n",
       "    <tr>\n",
       "      <th>1499_219</th>\n",
       "      <td>2018-12-14</td>\n",
       "      <td>19.620000</td>\n",
       "      <td>1499</td>\n",
       "      <td>12</td>\n",
       "    </tr>\n",
       "  </tbody>\n",
       "</table>\n",
       "<p>202607 rows × 4 columns</p>\n",
       "</div>"
      ],
      "text/plain": [
       "          call_date   duration  user_id  call_month\n",
       "id                                                 \n",
       "1000_0   2018-07-25   0.472989     1000           7\n",
       "1000_1   2018-08-17   0.091222     1000           8\n",
       "1000_2   2018-06-11   2.850000     1000           6\n",
       "1000_3   2018-09-21  13.800000     1000           9\n",
       "1000_4   2018-12-15   5.180000     1000          12\n",
       "...             ...        ...      ...         ...\n",
       "1499_215 2018-12-26   0.760000     1499          12\n",
       "1499_216 2018-10-18  18.830000     1499          10\n",
       "1499_217 2018-11-10  10.810000     1499          11\n",
       "1499_218 2018-10-06   4.270000     1499          10\n",
       "1499_219 2018-12-14  19.620000     1499          12\n",
       "\n",
       "[202607 rows x 4 columns]"
      ]
     },
     "execution_count": 108,
     "metadata": {},
     "output_type": "execute_result"
    }
   ],
   "source": [
    "# Получение месяца звонка для дальнейших расчетов\n",
    "calls['call_month'] = calls['call_date'].dt.month\n",
    "\n",
    "calls"
   ]
  },
  {
   "cell_type": "code",
   "execution_count": 109,
   "metadata": {},
   "outputs": [
    {
     "data": {
      "text/html": [
       "<div>\n",
       "<style scoped>\n",
       "    .dataframe tbody tr th:only-of-type {\n",
       "        vertical-align: middle;\n",
       "    }\n",
       "\n",
       "    .dataframe tbody tr th {\n",
       "        vertical-align: top;\n",
       "    }\n",
       "\n",
       "    .dataframe thead th {\n",
       "        text-align: right;\n",
       "    }\n",
       "</style>\n",
       "<table border=\"1\" class=\"dataframe\">\n",
       "  <thead>\n",
       "    <tr style=\"text-align: right;\">\n",
       "      <th></th>\n",
       "      <th>call_date</th>\n",
       "      <th>duration</th>\n",
       "      <th>user_id</th>\n",
       "      <th>call_month</th>\n",
       "      <th>duration_ceiled</th>\n",
       "    </tr>\n",
       "    <tr>\n",
       "      <th>id</th>\n",
       "      <th></th>\n",
       "      <th></th>\n",
       "      <th></th>\n",
       "      <th></th>\n",
       "      <th></th>\n",
       "    </tr>\n",
       "  </thead>\n",
       "  <tbody>\n",
       "    <tr>\n",
       "      <th>1000_0</th>\n",
       "      <td>2018-07-25</td>\n",
       "      <td>0.472989</td>\n",
       "      <td>1000</td>\n",
       "      <td>7</td>\n",
       "      <td>1.0</td>\n",
       "    </tr>\n",
       "    <tr>\n",
       "      <th>1000_1</th>\n",
       "      <td>2018-08-17</td>\n",
       "      <td>0.091222</td>\n",
       "      <td>1000</td>\n",
       "      <td>8</td>\n",
       "      <td>1.0</td>\n",
       "    </tr>\n",
       "    <tr>\n",
       "      <th>1000_2</th>\n",
       "      <td>2018-06-11</td>\n",
       "      <td>2.850000</td>\n",
       "      <td>1000</td>\n",
       "      <td>6</td>\n",
       "      <td>3.0</td>\n",
       "    </tr>\n",
       "    <tr>\n",
       "      <th>1000_3</th>\n",
       "      <td>2018-09-21</td>\n",
       "      <td>13.800000</td>\n",
       "      <td>1000</td>\n",
       "      <td>9</td>\n",
       "      <td>14.0</td>\n",
       "    </tr>\n",
       "    <tr>\n",
       "      <th>1000_4</th>\n",
       "      <td>2018-12-15</td>\n",
       "      <td>5.180000</td>\n",
       "      <td>1000</td>\n",
       "      <td>12</td>\n",
       "      <td>6.0</td>\n",
       "    </tr>\n",
       "    <tr>\n",
       "      <th>...</th>\n",
       "      <td>...</td>\n",
       "      <td>...</td>\n",
       "      <td>...</td>\n",
       "      <td>...</td>\n",
       "      <td>...</td>\n",
       "    </tr>\n",
       "    <tr>\n",
       "      <th>1499_215</th>\n",
       "      <td>2018-12-26</td>\n",
       "      <td>0.760000</td>\n",
       "      <td>1499</td>\n",
       "      <td>12</td>\n",
       "      <td>1.0</td>\n",
       "    </tr>\n",
       "    <tr>\n",
       "      <th>1499_216</th>\n",
       "      <td>2018-10-18</td>\n",
       "      <td>18.830000</td>\n",
       "      <td>1499</td>\n",
       "      <td>10</td>\n",
       "      <td>19.0</td>\n",
       "    </tr>\n",
       "    <tr>\n",
       "      <th>1499_217</th>\n",
       "      <td>2018-11-10</td>\n",
       "      <td>10.810000</td>\n",
       "      <td>1499</td>\n",
       "      <td>11</td>\n",
       "      <td>11.0</td>\n",
       "    </tr>\n",
       "    <tr>\n",
       "      <th>1499_218</th>\n",
       "      <td>2018-10-06</td>\n",
       "      <td>4.270000</td>\n",
       "      <td>1499</td>\n",
       "      <td>10</td>\n",
       "      <td>5.0</td>\n",
       "    </tr>\n",
       "    <tr>\n",
       "      <th>1499_219</th>\n",
       "      <td>2018-12-14</td>\n",
       "      <td>19.620000</td>\n",
       "      <td>1499</td>\n",
       "      <td>12</td>\n",
       "      <td>20.0</td>\n",
       "    </tr>\n",
       "  </tbody>\n",
       "</table>\n",
       "<p>202607 rows × 5 columns</p>\n",
       "</div>"
      ],
      "text/plain": [
       "          call_date   duration  user_id  call_month  duration_ceiled\n",
       "id                                                                  \n",
       "1000_0   2018-07-25   0.472989     1000           7              1.0\n",
       "1000_1   2018-08-17   0.091222     1000           8              1.0\n",
       "1000_2   2018-06-11   2.850000     1000           6              3.0\n",
       "1000_3   2018-09-21  13.800000     1000           9             14.0\n",
       "1000_4   2018-12-15   5.180000     1000          12              6.0\n",
       "...             ...        ...      ...         ...              ...\n",
       "1499_215 2018-12-26   0.760000     1499          12              1.0\n",
       "1499_216 2018-10-18  18.830000     1499          10             19.0\n",
       "1499_217 2018-11-10  10.810000     1499          11             11.0\n",
       "1499_218 2018-10-06   4.270000     1499          10              5.0\n",
       "1499_219 2018-12-14  19.620000     1499          12             20.0\n",
       "\n",
       "[202607 rows x 5 columns]"
      ]
     },
     "execution_count": 109,
     "metadata": {},
     "output_type": "execute_result"
    }
   ],
   "source": [
    "# Округление продолжнительность звонка в большую сторону до 1 минуты\n",
    "calls['duration_ceiled'] = calls['duration'].apply(np.ceil)\n",
    "\n",
    "calls"
   ]
  },
  {
   "cell_type": "code",
   "execution_count": 110,
   "metadata": {},
   "outputs": [
    {
     "data": {
      "text/html": [
       "<div>\n",
       "<style scoped>\n",
       "    .dataframe tbody tr th:only-of-type {\n",
       "        vertical-align: middle;\n",
       "    }\n",
       "\n",
       "    .dataframe tbody tr th {\n",
       "        vertical-align: top;\n",
       "    }\n",
       "\n",
       "    .dataframe thead th {\n",
       "        text-align: right;\n",
       "    }\n",
       "</style>\n",
       "<table border=\"1\" class=\"dataframe\">\n",
       "  <thead>\n",
       "    <tr style=\"text-align: right;\">\n",
       "      <th></th>\n",
       "      <th></th>\n",
       "      <th>calls_made</th>\n",
       "      <th>minutes_spent</th>\n",
       "    </tr>\n",
       "    <tr>\n",
       "      <th>user_id</th>\n",
       "      <th>month</th>\n",
       "      <th></th>\n",
       "      <th></th>\n",
       "    </tr>\n",
       "  </thead>\n",
       "  <tbody>\n",
       "    <tr>\n",
       "      <th rowspan=\"5\" valign=\"top\">1000</th>\n",
       "      <th>5</th>\n",
       "      <td>22</td>\n",
       "      <td>164.0</td>\n",
       "    </tr>\n",
       "    <tr>\n",
       "      <th>6</th>\n",
       "      <td>43</td>\n",
       "      <td>187.0</td>\n",
       "    </tr>\n",
       "    <tr>\n",
       "      <th>7</th>\n",
       "      <td>47</td>\n",
       "      <td>346.0</td>\n",
       "    </tr>\n",
       "    <tr>\n",
       "      <th>8</th>\n",
       "      <td>52</td>\n",
       "      <td>418.0</td>\n",
       "    </tr>\n",
       "    <tr>\n",
       "      <th>9</th>\n",
       "      <td>58</td>\n",
       "      <td>478.0</td>\n",
       "    </tr>\n",
       "    <tr>\n",
       "      <th>...</th>\n",
       "      <th>...</th>\n",
       "      <td>...</td>\n",
       "      <td>...</td>\n",
       "    </tr>\n",
       "    <tr>\n",
       "      <th>1498</th>\n",
       "      <th>10</th>\n",
       "      <td>41</td>\n",
       "      <td>258.0</td>\n",
       "    </tr>\n",
       "    <tr>\n",
       "      <th rowspan=\"4\" valign=\"top\">1499</th>\n",
       "      <th>9</th>\n",
       "      <td>9</td>\n",
       "      <td>71.0</td>\n",
       "    </tr>\n",
       "    <tr>\n",
       "      <th>10</th>\n",
       "      <td>68</td>\n",
       "      <td>473.0</td>\n",
       "    </tr>\n",
       "    <tr>\n",
       "      <th>11</th>\n",
       "      <td>74</td>\n",
       "      <td>624.0</td>\n",
       "    </tr>\n",
       "    <tr>\n",
       "      <th>12</th>\n",
       "      <td>69</td>\n",
       "      <td>505.0</td>\n",
       "    </tr>\n",
       "  </tbody>\n",
       "</table>\n",
       "<p>3174 rows × 2 columns</p>\n",
       "</div>"
      ],
      "text/plain": [
       "               calls_made  minutes_spent\n",
       "user_id month                           \n",
       "1000    5              22          164.0\n",
       "        6              43          187.0\n",
       "        7              47          346.0\n",
       "        8              52          418.0\n",
       "        9              58          478.0\n",
       "...                   ...            ...\n",
       "1498    10             41          258.0\n",
       "1499    9               9           71.0\n",
       "        10             68          473.0\n",
       "        11             74          624.0\n",
       "        12             69          505.0\n",
       "\n",
       "[3174 rows x 2 columns]"
      ]
     },
     "execution_count": 110,
     "metadata": {},
     "output_type": "execute_result"
    }
   ],
   "source": [
    "# Создание таблицы с расчетом количества сделанных звонков и израсходованных минут разговора по месяцам\n",
    "calls_pivot = calls.pivot_table(index=['user_id', 'call_month'], values='duration_ceiled', aggfunc=['count', 'sum'])\n",
    "calls_pivot.columns = ['calls_made', 'minutes_spent']\n",
    "\n",
    "# Переименование индекса для дальнешего удобства объединения данных\n",
    "calls_pivot.rename_axis(index={'call_month': 'month'}, inplace=True)\n",
    "\n",
    "calls_pivot"
   ]
  },
  {
   "cell_type": "markdown",
   "metadata": {},
   "source": [
    "#### Количество отправленных сообщений по месяцам"
   ]
  },
  {
   "cell_type": "code",
   "execution_count": 111,
   "metadata": {},
   "outputs": [
    {
     "data": {
      "text/html": [
       "<div>\n",
       "<style scoped>\n",
       "    .dataframe tbody tr th:only-of-type {\n",
       "        vertical-align: middle;\n",
       "    }\n",
       "\n",
       "    .dataframe tbody tr th {\n",
       "        vertical-align: top;\n",
       "    }\n",
       "\n",
       "    .dataframe thead th {\n",
       "        text-align: right;\n",
       "    }\n",
       "</style>\n",
       "<table border=\"1\" class=\"dataframe\">\n",
       "  <thead>\n",
       "    <tr style=\"text-align: right;\">\n",
       "      <th></th>\n",
       "      <th>message_date</th>\n",
       "      <th>user_id</th>\n",
       "      <th>message_month</th>\n",
       "    </tr>\n",
       "    <tr>\n",
       "      <th>id</th>\n",
       "      <th></th>\n",
       "      <th></th>\n",
       "      <th></th>\n",
       "    </tr>\n",
       "  </thead>\n",
       "  <tbody>\n",
       "    <tr>\n",
       "      <th>1000_0</th>\n",
       "      <td>2018-06-27</td>\n",
       "      <td>1000</td>\n",
       "      <td>6</td>\n",
       "    </tr>\n",
       "    <tr>\n",
       "      <th>1000_1</th>\n",
       "      <td>2018-10-08</td>\n",
       "      <td>1000</td>\n",
       "      <td>10</td>\n",
       "    </tr>\n",
       "    <tr>\n",
       "      <th>1000_2</th>\n",
       "      <td>2018-08-04</td>\n",
       "      <td>1000</td>\n",
       "      <td>8</td>\n",
       "    </tr>\n",
       "    <tr>\n",
       "      <th>1000_3</th>\n",
       "      <td>2018-06-16</td>\n",
       "      <td>1000</td>\n",
       "      <td>6</td>\n",
       "    </tr>\n",
       "    <tr>\n",
       "      <th>1000_4</th>\n",
       "      <td>2018-12-05</td>\n",
       "      <td>1000</td>\n",
       "      <td>12</td>\n",
       "    </tr>\n",
       "    <tr>\n",
       "      <th>...</th>\n",
       "      <td>...</td>\n",
       "      <td>...</td>\n",
       "      <td>...</td>\n",
       "    </tr>\n",
       "    <tr>\n",
       "      <th>1499_179</th>\n",
       "      <td>2018-12-12</td>\n",
       "      <td>1499</td>\n",
       "      <td>12</td>\n",
       "    </tr>\n",
       "    <tr>\n",
       "      <th>1499_180</th>\n",
       "      <td>2018-09-28</td>\n",
       "      <td>1499</td>\n",
       "      <td>9</td>\n",
       "    </tr>\n",
       "    <tr>\n",
       "      <th>1499_181</th>\n",
       "      <td>2018-09-27</td>\n",
       "      <td>1499</td>\n",
       "      <td>9</td>\n",
       "    </tr>\n",
       "    <tr>\n",
       "      <th>1499_182</th>\n",
       "      <td>2018-11-15</td>\n",
       "      <td>1499</td>\n",
       "      <td>11</td>\n",
       "    </tr>\n",
       "    <tr>\n",
       "      <th>1499_183</th>\n",
       "      <td>2018-11-16</td>\n",
       "      <td>1499</td>\n",
       "      <td>11</td>\n",
       "    </tr>\n",
       "  </tbody>\n",
       "</table>\n",
       "<p>123036 rows × 3 columns</p>\n",
       "</div>"
      ],
      "text/plain": [
       "         message_date  user_id  message_month\n",
       "id                                           \n",
       "1000_0     2018-06-27     1000              6\n",
       "1000_1     2018-10-08     1000             10\n",
       "1000_2     2018-08-04     1000              8\n",
       "1000_3     2018-06-16     1000              6\n",
       "1000_4     2018-12-05     1000             12\n",
       "...               ...      ...            ...\n",
       "1499_179   2018-12-12     1499             12\n",
       "1499_180   2018-09-28     1499              9\n",
       "1499_181   2018-09-27     1499              9\n",
       "1499_182   2018-11-15     1499             11\n",
       "1499_183   2018-11-16     1499             11\n",
       "\n",
       "[123036 rows x 3 columns]"
      ]
     },
     "execution_count": 111,
     "metadata": {},
     "output_type": "execute_result"
    }
   ],
   "source": [
    "# Получение месяца сообщения для дальнейших расчетов\n",
    "messages['message_month'] = messages['message_date'].dt.month\n",
    "\n",
    "messages"
   ]
  },
  {
   "cell_type": "code",
   "execution_count": 112,
   "metadata": {},
   "outputs": [
    {
     "data": {
      "text/html": [
       "<div>\n",
       "<style scoped>\n",
       "    .dataframe tbody tr th:only-of-type {\n",
       "        vertical-align: middle;\n",
       "    }\n",
       "\n",
       "    .dataframe tbody tr th {\n",
       "        vertical-align: top;\n",
       "    }\n",
       "\n",
       "    .dataframe thead th {\n",
       "        text-align: right;\n",
       "    }\n",
       "</style>\n",
       "<table border=\"1\" class=\"dataframe\">\n",
       "  <thead>\n",
       "    <tr style=\"text-align: right;\">\n",
       "      <th></th>\n",
       "      <th></th>\n",
       "      <th>messages_sent</th>\n",
       "    </tr>\n",
       "    <tr>\n",
       "      <th>user_id</th>\n",
       "      <th>month</th>\n",
       "      <th></th>\n",
       "    </tr>\n",
       "  </thead>\n",
       "  <tbody>\n",
       "    <tr>\n",
       "      <th rowspan=\"5\" valign=\"top\">1000</th>\n",
       "      <th>5</th>\n",
       "      <td>22</td>\n",
       "    </tr>\n",
       "    <tr>\n",
       "      <th>6</th>\n",
       "      <td>60</td>\n",
       "    </tr>\n",
       "    <tr>\n",
       "      <th>7</th>\n",
       "      <td>75</td>\n",
       "    </tr>\n",
       "    <tr>\n",
       "      <th>8</th>\n",
       "      <td>81</td>\n",
       "    </tr>\n",
       "    <tr>\n",
       "      <th>9</th>\n",
       "      <td>57</td>\n",
       "    </tr>\n",
       "    <tr>\n",
       "      <th>...</th>\n",
       "      <th>...</th>\n",
       "      <td>...</td>\n",
       "    </tr>\n",
       "    <tr>\n",
       "      <th>1498</th>\n",
       "      <th>10</th>\n",
       "      <td>42</td>\n",
       "    </tr>\n",
       "    <tr>\n",
       "      <th rowspan=\"4\" valign=\"top\">1499</th>\n",
       "      <th>9</th>\n",
       "      <td>11</td>\n",
       "    </tr>\n",
       "    <tr>\n",
       "      <th>10</th>\n",
       "      <td>48</td>\n",
       "    </tr>\n",
       "    <tr>\n",
       "      <th>11</th>\n",
       "      <td>59</td>\n",
       "    </tr>\n",
       "    <tr>\n",
       "      <th>12</th>\n",
       "      <td>66</td>\n",
       "    </tr>\n",
       "  </tbody>\n",
       "</table>\n",
       "<p>2717 rows × 1 columns</p>\n",
       "</div>"
      ],
      "text/plain": [
       "               messages_sent\n",
       "user_id month               \n",
       "1000    5                 22\n",
       "        6                 60\n",
       "        7                 75\n",
       "        8                 81\n",
       "        9                 57\n",
       "...                      ...\n",
       "1498    10                42\n",
       "1499    9                 11\n",
       "        10                48\n",
       "        11                59\n",
       "        12                66\n",
       "\n",
       "[2717 rows x 1 columns]"
      ]
     },
     "execution_count": 112,
     "metadata": {},
     "output_type": "execute_result"
    }
   ],
   "source": [
    "# Создание таблицы с расчетом количества отправленных сообщений по месяцам\n",
    "messages_pivot = messages.pivot_table(index=['user_id', 'message_month'], values='message_date', aggfunc='count')\n",
    "messages_pivot.columns = ['messages_sent']\n",
    "\n",
    "# Переименование индекса для дальнешего удобства объединения данных\n",
    "messages_pivot.rename_axis(index={'message_month': 'month'}, inplace=True)\n",
    "\n",
    "messages_pivot"
   ]
  },
  {
   "cell_type": "markdown",
   "metadata": {},
   "source": [
    "#### Объем израсходованного интернет-трафика по месяцам"
   ]
  },
  {
   "cell_type": "code",
   "execution_count": 113,
   "metadata": {},
   "outputs": [
    {
     "data": {
      "text/html": [
       "<div>\n",
       "<style scoped>\n",
       "    .dataframe tbody tr th:only-of-type {\n",
       "        vertical-align: middle;\n",
       "    }\n",
       "\n",
       "    .dataframe tbody tr th {\n",
       "        vertical-align: top;\n",
       "    }\n",
       "\n",
       "    .dataframe thead th {\n",
       "        text-align: right;\n",
       "    }\n",
       "</style>\n",
       "<table border=\"1\" class=\"dataframe\">\n",
       "  <thead>\n",
       "    <tr style=\"text-align: right;\">\n",
       "      <th></th>\n",
       "      <th>mb_used</th>\n",
       "      <th>session_date</th>\n",
       "      <th>user_id</th>\n",
       "      <th>session_month</th>\n",
       "    </tr>\n",
       "    <tr>\n",
       "      <th>id</th>\n",
       "      <th></th>\n",
       "      <th></th>\n",
       "      <th></th>\n",
       "      <th></th>\n",
       "    </tr>\n",
       "  </thead>\n",
       "  <tbody>\n",
       "    <tr>\n",
       "      <th>1000_0</th>\n",
       "      <td>112.95</td>\n",
       "      <td>2018-11-25</td>\n",
       "      <td>1000</td>\n",
       "      <td>11</td>\n",
       "    </tr>\n",
       "    <tr>\n",
       "      <th>1000_1</th>\n",
       "      <td>1052.81</td>\n",
       "      <td>2018-09-07</td>\n",
       "      <td>1000</td>\n",
       "      <td>9</td>\n",
       "    </tr>\n",
       "    <tr>\n",
       "      <th>1000_2</th>\n",
       "      <td>1197.26</td>\n",
       "      <td>2018-06-25</td>\n",
       "      <td>1000</td>\n",
       "      <td>6</td>\n",
       "    </tr>\n",
       "    <tr>\n",
       "      <th>1000_3</th>\n",
       "      <td>550.27</td>\n",
       "      <td>2018-08-22</td>\n",
       "      <td>1000</td>\n",
       "      <td>8</td>\n",
       "    </tr>\n",
       "    <tr>\n",
       "      <th>1000_4</th>\n",
       "      <td>302.56</td>\n",
       "      <td>2018-09-24</td>\n",
       "      <td>1000</td>\n",
       "      <td>9</td>\n",
       "    </tr>\n",
       "    <tr>\n",
       "      <th>...</th>\n",
       "      <td>...</td>\n",
       "      <td>...</td>\n",
       "      <td>...</td>\n",
       "      <td>...</td>\n",
       "    </tr>\n",
       "    <tr>\n",
       "      <th>1499_152</th>\n",
       "      <td>318.90</td>\n",
       "      <td>2018-10-03</td>\n",
       "      <td>1499</td>\n",
       "      <td>10</td>\n",
       "    </tr>\n",
       "    <tr>\n",
       "      <th>1499_153</th>\n",
       "      <td>490.13</td>\n",
       "      <td>2018-12-14</td>\n",
       "      <td>1499</td>\n",
       "      <td>12</td>\n",
       "    </tr>\n",
       "    <tr>\n",
       "      <th>1499_154</th>\n",
       "      <td>0.57</td>\n",
       "      <td>2018-10-27</td>\n",
       "      <td>1499</td>\n",
       "      <td>10</td>\n",
       "    </tr>\n",
       "    <tr>\n",
       "      <th>1499_155</th>\n",
       "      <td>1246.32</td>\n",
       "      <td>2018-11-26</td>\n",
       "      <td>1499</td>\n",
       "      <td>11</td>\n",
       "    </tr>\n",
       "    <tr>\n",
       "      <th>1499_156</th>\n",
       "      <td>544.37</td>\n",
       "      <td>2018-10-26</td>\n",
       "      <td>1499</td>\n",
       "      <td>10</td>\n",
       "    </tr>\n",
       "  </tbody>\n",
       "</table>\n",
       "<p>149396 rows × 4 columns</p>\n",
       "</div>"
      ],
      "text/plain": [
       "          mb_used session_date  user_id  session_month\n",
       "id                                                    \n",
       "1000_0     112.95   2018-11-25     1000             11\n",
       "1000_1    1052.81   2018-09-07     1000              9\n",
       "1000_2    1197.26   2018-06-25     1000              6\n",
       "1000_3     550.27   2018-08-22     1000              8\n",
       "1000_4     302.56   2018-09-24     1000              9\n",
       "...           ...          ...      ...            ...\n",
       "1499_152   318.90   2018-10-03     1499             10\n",
       "1499_153   490.13   2018-12-14     1499             12\n",
       "1499_154     0.57   2018-10-27     1499             10\n",
       "1499_155  1246.32   2018-11-26     1499             11\n",
       "1499_156   544.37   2018-10-26     1499             10\n",
       "\n",
       "[149396 rows x 4 columns]"
      ]
     },
     "execution_count": 113,
     "metadata": {},
     "output_type": "execute_result"
    }
   ],
   "source": [
    "# Получение месяца сессии для дальнейших расчетов\n",
    "internet['session_month'] = internet['session_date'].dt.month\n",
    "\n",
    "internet"
   ]
  },
  {
   "cell_type": "code",
   "execution_count": 114,
   "metadata": {},
   "outputs": [
    {
     "data": {
      "text/html": [
       "<div>\n",
       "<style scoped>\n",
       "    .dataframe tbody tr th:only-of-type {\n",
       "        vertical-align: middle;\n",
       "    }\n",
       "\n",
       "    .dataframe tbody tr th {\n",
       "        vertical-align: top;\n",
       "    }\n",
       "\n",
       "    .dataframe thead th {\n",
       "        text-align: right;\n",
       "    }\n",
       "</style>\n",
       "<table border=\"1\" class=\"dataframe\">\n",
       "  <thead>\n",
       "    <tr style=\"text-align: right;\">\n",
       "      <th></th>\n",
       "      <th>mb_used</th>\n",
       "      <th>session_date</th>\n",
       "      <th>user_id</th>\n",
       "      <th>session_month</th>\n",
       "      <th>mb_used_ceiled</th>\n",
       "    </tr>\n",
       "    <tr>\n",
       "      <th>id</th>\n",
       "      <th></th>\n",
       "      <th></th>\n",
       "      <th></th>\n",
       "      <th></th>\n",
       "      <th></th>\n",
       "    </tr>\n",
       "  </thead>\n",
       "  <tbody>\n",
       "    <tr>\n",
       "      <th>1000_0</th>\n",
       "      <td>112.95</td>\n",
       "      <td>2018-11-25</td>\n",
       "      <td>1000</td>\n",
       "      <td>11</td>\n",
       "      <td>113.0</td>\n",
       "    </tr>\n",
       "    <tr>\n",
       "      <th>1000_1</th>\n",
       "      <td>1052.81</td>\n",
       "      <td>2018-09-07</td>\n",
       "      <td>1000</td>\n",
       "      <td>9</td>\n",
       "      <td>1053.0</td>\n",
       "    </tr>\n",
       "    <tr>\n",
       "      <th>1000_2</th>\n",
       "      <td>1197.26</td>\n",
       "      <td>2018-06-25</td>\n",
       "      <td>1000</td>\n",
       "      <td>6</td>\n",
       "      <td>1198.0</td>\n",
       "    </tr>\n",
       "    <tr>\n",
       "      <th>1000_3</th>\n",
       "      <td>550.27</td>\n",
       "      <td>2018-08-22</td>\n",
       "      <td>1000</td>\n",
       "      <td>8</td>\n",
       "      <td>551.0</td>\n",
       "    </tr>\n",
       "    <tr>\n",
       "      <th>1000_4</th>\n",
       "      <td>302.56</td>\n",
       "      <td>2018-09-24</td>\n",
       "      <td>1000</td>\n",
       "      <td>9</td>\n",
       "      <td>303.0</td>\n",
       "    </tr>\n",
       "    <tr>\n",
       "      <th>...</th>\n",
       "      <td>...</td>\n",
       "      <td>...</td>\n",
       "      <td>...</td>\n",
       "      <td>...</td>\n",
       "      <td>...</td>\n",
       "    </tr>\n",
       "    <tr>\n",
       "      <th>1499_152</th>\n",
       "      <td>318.90</td>\n",
       "      <td>2018-10-03</td>\n",
       "      <td>1499</td>\n",
       "      <td>10</td>\n",
       "      <td>319.0</td>\n",
       "    </tr>\n",
       "    <tr>\n",
       "      <th>1499_153</th>\n",
       "      <td>490.13</td>\n",
       "      <td>2018-12-14</td>\n",
       "      <td>1499</td>\n",
       "      <td>12</td>\n",
       "      <td>491.0</td>\n",
       "    </tr>\n",
       "    <tr>\n",
       "      <th>1499_154</th>\n",
       "      <td>0.57</td>\n",
       "      <td>2018-10-27</td>\n",
       "      <td>1499</td>\n",
       "      <td>10</td>\n",
       "      <td>1.0</td>\n",
       "    </tr>\n",
       "    <tr>\n",
       "      <th>1499_155</th>\n",
       "      <td>1246.32</td>\n",
       "      <td>2018-11-26</td>\n",
       "      <td>1499</td>\n",
       "      <td>11</td>\n",
       "      <td>1247.0</td>\n",
       "    </tr>\n",
       "    <tr>\n",
       "      <th>1499_156</th>\n",
       "      <td>544.37</td>\n",
       "      <td>2018-10-26</td>\n",
       "      <td>1499</td>\n",
       "      <td>10</td>\n",
       "      <td>545.0</td>\n",
       "    </tr>\n",
       "  </tbody>\n",
       "</table>\n",
       "<p>149396 rows × 5 columns</p>\n",
       "</div>"
      ],
      "text/plain": [
       "          mb_used session_date  user_id  session_month  mb_used_ceiled\n",
       "id                                                                    \n",
       "1000_0     112.95   2018-11-25     1000             11           113.0\n",
       "1000_1    1052.81   2018-09-07     1000              9          1053.0\n",
       "1000_2    1197.26   2018-06-25     1000              6          1198.0\n",
       "1000_3     550.27   2018-08-22     1000              8           551.0\n",
       "1000_4     302.56   2018-09-24     1000              9           303.0\n",
       "...           ...          ...      ...            ...             ...\n",
       "1499_152   318.90   2018-10-03     1499             10           319.0\n",
       "1499_153   490.13   2018-12-14     1499             12           491.0\n",
       "1499_154     0.57   2018-10-27     1499             10             1.0\n",
       "1499_155  1246.32   2018-11-26     1499             11          1247.0\n",
       "1499_156   544.37   2018-10-26     1499             10           545.0\n",
       "\n",
       "[149396 rows x 5 columns]"
      ]
     },
     "execution_count": 114,
     "metadata": {},
     "output_type": "execute_result"
    }
   ],
   "source": [
    "# Округление объема трафика сессии в большую сторону до 1 Мб\n",
    "internet['mb_used_ceiled'] = internet['mb_used'].apply(np.ceil)\n",
    "\n",
    "internet"
   ]
  },
  {
   "cell_type": "code",
   "execution_count": 115,
   "metadata": {},
   "outputs": [
    {
     "data": {
      "text/html": [
       "<div>\n",
       "<style scoped>\n",
       "    .dataframe tbody tr th:only-of-type {\n",
       "        vertical-align: middle;\n",
       "    }\n",
       "\n",
       "    .dataframe tbody tr th {\n",
       "        vertical-align: top;\n",
       "    }\n",
       "\n",
       "    .dataframe thead th {\n",
       "        text-align: right;\n",
       "    }\n",
       "</style>\n",
       "<table border=\"1\" class=\"dataframe\">\n",
       "  <thead>\n",
       "    <tr style=\"text-align: right;\">\n",
       "      <th></th>\n",
       "      <th></th>\n",
       "      <th>mb_spent</th>\n",
       "    </tr>\n",
       "    <tr>\n",
       "      <th>user_id</th>\n",
       "      <th>month</th>\n",
       "      <th></th>\n",
       "    </tr>\n",
       "  </thead>\n",
       "  <tbody>\n",
       "    <tr>\n",
       "      <th rowspan=\"5\" valign=\"top\">1000</th>\n",
       "      <th>5</th>\n",
       "      <td>2257.0</td>\n",
       "    </tr>\n",
       "    <tr>\n",
       "      <th>6</th>\n",
       "      <td>23262.0</td>\n",
       "    </tr>\n",
       "    <tr>\n",
       "      <th>7</th>\n",
       "      <td>14017.0</td>\n",
       "    </tr>\n",
       "    <tr>\n",
       "      <th>8</th>\n",
       "      <td>14072.0</td>\n",
       "    </tr>\n",
       "    <tr>\n",
       "      <th>9</th>\n",
       "      <td>14583.0</td>\n",
       "    </tr>\n",
       "    <tr>\n",
       "      <th>...</th>\n",
       "      <th>...</th>\n",
       "      <td>...</td>\n",
       "    </tr>\n",
       "    <tr>\n",
       "      <th>1498</th>\n",
       "      <th>10</th>\n",
       "      <td>20614.0</td>\n",
       "    </tr>\n",
       "    <tr>\n",
       "      <th rowspan=\"4\" valign=\"top\">1499</th>\n",
       "      <th>9</th>\n",
       "      <td>1849.0</td>\n",
       "    </tr>\n",
       "    <tr>\n",
       "      <th>10</th>\n",
       "      <td>17824.0</td>\n",
       "    </tr>\n",
       "    <tr>\n",
       "      <th>11</th>\n",
       "      <td>17994.0</td>\n",
       "    </tr>\n",
       "    <tr>\n",
       "      <th>12</th>\n",
       "      <td>13082.0</td>\n",
       "    </tr>\n",
       "  </tbody>\n",
       "</table>\n",
       "<p>3203 rows × 1 columns</p>\n",
       "</div>"
      ],
      "text/plain": [
       "               mb_spent\n",
       "user_id month          \n",
       "1000    5        2257.0\n",
       "        6       23262.0\n",
       "        7       14017.0\n",
       "        8       14072.0\n",
       "        9       14583.0\n",
       "...                 ...\n",
       "1498    10      20614.0\n",
       "1499    9        1849.0\n",
       "        10      17824.0\n",
       "        11      17994.0\n",
       "        12      13082.0\n",
       "\n",
       "[3203 rows x 1 columns]"
      ]
     },
     "execution_count": 115,
     "metadata": {},
     "output_type": "execute_result"
    }
   ],
   "source": [
    "# Создание таблицы с расчетом объема израсходованного интернет-трафика по месяцам\n",
    "internet_pivot = internet.pivot_table(index=['user_id', 'session_month'], values='mb_used_ceiled', aggfunc='sum')\n",
    "internet_pivot.columns = ['mb_spent']\n",
    "\n",
    "# Переименование индекса для дальнешего удобства объединения данных\n",
    "internet_pivot.rename_axis(index={'session_month': 'month'}, inplace=True)\n",
    "\n",
    "internet_pivot"
   ]
  },
  {
   "cell_type": "markdown",
   "metadata": {},
   "source": [
    "#### Помесячная выручка с каждого пользователя"
   ]
  },
  {
   "cell_type": "code",
   "execution_count": 116,
   "metadata": {},
   "outputs": [
    {
     "data": {
      "text/html": [
       "<div>\n",
       "<style scoped>\n",
       "    .dataframe tbody tr th:only-of-type {\n",
       "        vertical-align: middle;\n",
       "    }\n",
       "\n",
       "    .dataframe tbody tr th {\n",
       "        vertical-align: top;\n",
       "    }\n",
       "\n",
       "    .dataframe thead th {\n",
       "        text-align: right;\n",
       "    }\n",
       "</style>\n",
       "<table border=\"1\" class=\"dataframe\">\n",
       "  <thead>\n",
       "    <tr style=\"text-align: right;\">\n",
       "      <th></th>\n",
       "      <th></th>\n",
       "      <th>calls_made</th>\n",
       "      <th>minutes_spent</th>\n",
       "      <th>messages_sent</th>\n",
       "      <th>mb_spent</th>\n",
       "    </tr>\n",
       "    <tr>\n",
       "      <th>user_id</th>\n",
       "      <th>month</th>\n",
       "      <th></th>\n",
       "      <th></th>\n",
       "      <th></th>\n",
       "      <th></th>\n",
       "    </tr>\n",
       "  </thead>\n",
       "  <tbody>\n",
       "    <tr>\n",
       "      <th rowspan=\"5\" valign=\"top\">1000</th>\n",
       "      <th>5</th>\n",
       "      <td>22</td>\n",
       "      <td>164</td>\n",
       "      <td>22</td>\n",
       "      <td>2257</td>\n",
       "    </tr>\n",
       "    <tr>\n",
       "      <th>6</th>\n",
       "      <td>43</td>\n",
       "      <td>187</td>\n",
       "      <td>60</td>\n",
       "      <td>23262</td>\n",
       "    </tr>\n",
       "    <tr>\n",
       "      <th>7</th>\n",
       "      <td>47</td>\n",
       "      <td>346</td>\n",
       "      <td>75</td>\n",
       "      <td>14017</td>\n",
       "    </tr>\n",
       "    <tr>\n",
       "      <th>8</th>\n",
       "      <td>52</td>\n",
       "      <td>418</td>\n",
       "      <td>81</td>\n",
       "      <td>14072</td>\n",
       "    </tr>\n",
       "    <tr>\n",
       "      <th>9</th>\n",
       "      <td>58</td>\n",
       "      <td>478</td>\n",
       "      <td>57</td>\n",
       "      <td>14583</td>\n",
       "    </tr>\n",
       "    <tr>\n",
       "      <th>...</th>\n",
       "      <th>...</th>\n",
       "      <td>...</td>\n",
       "      <td>...</td>\n",
       "      <td>...</td>\n",
       "      <td>...</td>\n",
       "    </tr>\n",
       "    <tr>\n",
       "      <th>1498</th>\n",
       "      <th>10</th>\n",
       "      <td>41</td>\n",
       "      <td>258</td>\n",
       "      <td>42</td>\n",
       "      <td>20614</td>\n",
       "    </tr>\n",
       "    <tr>\n",
       "      <th rowspan=\"4\" valign=\"top\">1499</th>\n",
       "      <th>9</th>\n",
       "      <td>9</td>\n",
       "      <td>71</td>\n",
       "      <td>11</td>\n",
       "      <td>1849</td>\n",
       "    </tr>\n",
       "    <tr>\n",
       "      <th>10</th>\n",
       "      <td>68</td>\n",
       "      <td>473</td>\n",
       "      <td>48</td>\n",
       "      <td>17824</td>\n",
       "    </tr>\n",
       "    <tr>\n",
       "      <th>11</th>\n",
       "      <td>74</td>\n",
       "      <td>624</td>\n",
       "      <td>59</td>\n",
       "      <td>17994</td>\n",
       "    </tr>\n",
       "    <tr>\n",
       "      <th>12</th>\n",
       "      <td>69</td>\n",
       "      <td>505</td>\n",
       "      <td>66</td>\n",
       "      <td>13082</td>\n",
       "    </tr>\n",
       "  </tbody>\n",
       "</table>\n",
       "<p>3214 rows × 4 columns</p>\n",
       "</div>"
      ],
      "text/plain": [
       "               calls_made  minutes_spent  messages_sent  mb_spent\n",
       "user_id month                                                    \n",
       "1000    5              22            164             22      2257\n",
       "        6              43            187             60     23262\n",
       "        7              47            346             75     14017\n",
       "        8              52            418             81     14072\n",
       "        9              58            478             57     14583\n",
       "...                   ...            ...            ...       ...\n",
       "1498    10             41            258             42     20614\n",
       "1499    9               9             71             11      1849\n",
       "        10             68            473             48     17824\n",
       "        11             74            624             59     17994\n",
       "        12             69            505             66     13082\n",
       "\n",
       "[3214 rows x 4 columns]"
      ]
     },
     "execution_count": 116,
     "metadata": {},
     "output_type": "execute_result"
    }
   ],
   "source": [
    "# Объединение данных\n",
    "full_pivot = calls_pivot.merge(messages_pivot, left_index=True, right_index=True, how='outer')\n",
    "full_pivot = full_pivot.merge(internet_pivot, left_index=True, right_index=True, how='outer')\n",
    "\n",
    "# Заполнение пропусков, означающих отсутсвие действий, нулями\n",
    "full_pivot.fillna(0, inplace=True)\n",
    "\n",
    "# Приведение к целочисленному типу для экономии памяти\n",
    "full_pivot = full_pivot.apply(pd.DataFrame.astype, dtype='int')\n",
    "\n",
    "full_pivot"
   ]
  },
  {
   "cell_type": "code",
   "execution_count": 117,
   "metadata": {},
   "outputs": [],
   "source": [
    "# Функция для расчета помесячной выручки с каждого пользователя\n",
    "# row - (Series) Строка данных\n",
    "# returns - (int) Выручка с клиента за месяц\n",
    "def get_revenue(row):\n",
    "#     Получение информации о тарифе клиента\n",
    "    tariff_info = tariffs[tariffs['tariff_name'] == users.loc[row.name[0]]['tariff']]\n",
    "    \n",
    "    revenue = 0\n",
    "    \n",
    "#     Расчет выручки сверх основного пакета за звонки\n",
    "    remaining_minutes = int(row['minutes_spent'] - tariff_info['minutes_included'])\n",
    "    if remaining_minutes > 0:\n",
    "        revenue += remaining_minutes * tariff_info['rub_per_minute']\n",
    "        \n",
    "#     Расчет выручки сверх основного пакета за сообщения        \n",
    "    remaining_messages = int(row['messages_sent'] - tariff_info['messages_included'])\n",
    "    if remaining_messages > 0:\n",
    "        revenue += remaining_messages *  tariff_info['rub_per_message']\n",
    "        \n",
    "#     Расчет выручки сверх основного пакета за интернет        \n",
    "    remaining_mb = int(row['mb_spent'] - tariff_info['mb_per_month_included'])\n",
    "    if remaining_mb > 0:\n",
    "        revenue += np.ceil(remaining_mb / 1024) *  tariff_info['rub_per_gb']\n",
    "    \n",
    "    return int(revenue + tariff_info['rub_monthly_fee'])"
   ]
  },
  {
   "cell_type": "code",
   "execution_count": 118,
   "metadata": {},
   "outputs": [
    {
     "data": {
      "text/html": [
       "<div>\n",
       "<style scoped>\n",
       "    .dataframe tbody tr th:only-of-type {\n",
       "        vertical-align: middle;\n",
       "    }\n",
       "\n",
       "    .dataframe tbody tr th {\n",
       "        vertical-align: top;\n",
       "    }\n",
       "\n",
       "    .dataframe thead th {\n",
       "        text-align: right;\n",
       "    }\n",
       "</style>\n",
       "<table border=\"1\" class=\"dataframe\">\n",
       "  <thead>\n",
       "    <tr style=\"text-align: right;\">\n",
       "      <th></th>\n",
       "      <th></th>\n",
       "      <th>calls_made</th>\n",
       "      <th>minutes_spent</th>\n",
       "      <th>messages_sent</th>\n",
       "      <th>mb_spent</th>\n",
       "      <th>revenue</th>\n",
       "    </tr>\n",
       "    <tr>\n",
       "      <th>user_id</th>\n",
       "      <th>month</th>\n",
       "      <th></th>\n",
       "      <th></th>\n",
       "      <th></th>\n",
       "      <th></th>\n",
       "      <th></th>\n",
       "    </tr>\n",
       "  </thead>\n",
       "  <tbody>\n",
       "    <tr>\n",
       "      <th rowspan=\"5\" valign=\"top\">1000</th>\n",
       "      <th>5</th>\n",
       "      <td>22</td>\n",
       "      <td>164</td>\n",
       "      <td>22</td>\n",
       "      <td>2257</td>\n",
       "      <td>1950</td>\n",
       "    </tr>\n",
       "    <tr>\n",
       "      <th>6</th>\n",
       "      <td>43</td>\n",
       "      <td>187</td>\n",
       "      <td>60</td>\n",
       "      <td>23262</td>\n",
       "      <td>1950</td>\n",
       "    </tr>\n",
       "    <tr>\n",
       "      <th>7</th>\n",
       "      <td>47</td>\n",
       "      <td>346</td>\n",
       "      <td>75</td>\n",
       "      <td>14017</td>\n",
       "      <td>1950</td>\n",
       "    </tr>\n",
       "    <tr>\n",
       "      <th>8</th>\n",
       "      <td>52</td>\n",
       "      <td>418</td>\n",
       "      <td>81</td>\n",
       "      <td>14072</td>\n",
       "      <td>1950</td>\n",
       "    </tr>\n",
       "    <tr>\n",
       "      <th>9</th>\n",
       "      <td>58</td>\n",
       "      <td>478</td>\n",
       "      <td>57</td>\n",
       "      <td>14583</td>\n",
       "      <td>1950</td>\n",
       "    </tr>\n",
       "    <tr>\n",
       "      <th>...</th>\n",
       "      <th>...</th>\n",
       "      <td>...</td>\n",
       "      <td>...</td>\n",
       "      <td>...</td>\n",
       "      <td>...</td>\n",
       "      <td>...</td>\n",
       "    </tr>\n",
       "    <tr>\n",
       "      <th>1498</th>\n",
       "      <th>10</th>\n",
       "      <td>41</td>\n",
       "      <td>258</td>\n",
       "      <td>42</td>\n",
       "      <td>20614</td>\n",
       "      <td>1750</td>\n",
       "    </tr>\n",
       "    <tr>\n",
       "      <th rowspan=\"4\" valign=\"top\">1499</th>\n",
       "      <th>9</th>\n",
       "      <td>9</td>\n",
       "      <td>71</td>\n",
       "      <td>11</td>\n",
       "      <td>1849</td>\n",
       "      <td>550</td>\n",
       "    </tr>\n",
       "    <tr>\n",
       "      <th>10</th>\n",
       "      <td>68</td>\n",
       "      <td>473</td>\n",
       "      <td>48</td>\n",
       "      <td>17824</td>\n",
       "      <td>1150</td>\n",
       "    </tr>\n",
       "    <tr>\n",
       "      <th>11</th>\n",
       "      <td>74</td>\n",
       "      <td>624</td>\n",
       "      <td>59</td>\n",
       "      <td>17994</td>\n",
       "      <td>1549</td>\n",
       "    </tr>\n",
       "    <tr>\n",
       "      <th>12</th>\n",
       "      <td>69</td>\n",
       "      <td>505</td>\n",
       "      <td>66</td>\n",
       "      <td>13082</td>\n",
       "      <td>613</td>\n",
       "    </tr>\n",
       "  </tbody>\n",
       "</table>\n",
       "<p>3214 rows × 5 columns</p>\n",
       "</div>"
      ],
      "text/plain": [
       "               calls_made  minutes_spent  messages_sent  mb_spent  revenue\n",
       "user_id month                                                             \n",
       "1000    5              22            164             22      2257     1950\n",
       "        6              43            187             60     23262     1950\n",
       "        7              47            346             75     14017     1950\n",
       "        8              52            418             81     14072     1950\n",
       "        9              58            478             57     14583     1950\n",
       "...                   ...            ...            ...       ...      ...\n",
       "1498    10             41            258             42     20614     1750\n",
       "1499    9               9             71             11      1849      550\n",
       "        10             68            473             48     17824     1150\n",
       "        11             74            624             59     17994     1549\n",
       "        12             69            505             66     13082      613\n",
       "\n",
       "[3214 rows x 5 columns]"
      ]
     },
     "execution_count": 118,
     "metadata": {},
     "output_type": "execute_result"
    }
   ],
   "source": [
    "# Расчет помесячной выручки с каждого пользователя \n",
    "full_pivot['revenue'] = full_pivot.apply(get_revenue, axis=1)\n",
    "\n",
    "full_pivot"
   ]
  },
  {
   "cell_type": "markdown",
   "metadata": {},
   "source": [
    "### Выводы (шаг 2)"
   ]
  },
  {
   "cell_type": "markdown",
   "metadata": {},
   "source": [
    "__Информация о пользователях__\n",
    "\n",
    "- Столбец __user_id__ установлен в качестве индекса с целью уменьшения количества столбцов для улучшения восприятия данных.\n",
    "- Столбцы __churn_date__ и __reg_date__ приведены к типу datetime.\n",
    "\n",
    "__Информация о звонках__\n",
    "\n",
    "- Столбец __id__ установлен в качестве индекса с целью уменьшения количества столбцов для улучшения восприятия данных.\n",
    "- Столбец __call_date__ приведен к типу datetime.\n",
    "\n",
    "\n",
    "__Информация о сообщениях__\n",
    "\n",
    "- Столбец __id__ установлен в качестве индекса с целью уменьшения количества столбцов для улучшения восприятия данных.\n",
    "- Столбец __message_date__ приведен к типу datetime.\n",
    "\n",
    "\n",
    "__Информация об интернет-сессиях__\n",
    "\n",
    "- Столбец __id__ установлен в качестве индекса с целью уменьшения количества столбцов для улучшения восприятия данных.\n",
    "- Столбец __session_date__ приведен к типу datetime.\n",
    "\n",
    "\n",
    "__Замена 0 в calls.duration и internet.mb_used__\n",
    "\n",
    "В ходе проверки данных на аномалии в столбцах с длительностью звонков и объемом интернет-трафика сессий были обнаружены значительные выбросы - в указанных столбцах 20% и 13% значений, соответственно, равны 0. Первыми, данные аномалии были обнаружены в столбце __calls.duration__. Было принято решение, что это несостоявшиеся звонки (пропущенные, сброшенные и т.п.), учитывая, что доля таких звонков для каждого пользователя имеет нормальное распределение. Но, после этого, такая же аномалия была обнаружена в столбце __internet.mb_used__, где не может быть не состоявшихся интернет сессий, а распределение таких сессий по пользователям является нормальным, причем, четко разделяется по двум тарифам. Так как в таком случае в реальном проекте необходима консультация со стороны поставщика данных/бизнеса, вопрос был адресован преподавателю по проектам - Яну Анисимову. В ходе диалога было выяснено следующее:\n",
    "- подобные выбросы являются либо очень маленькими значениями (до 1 минуты/мб), либо, в случае звонков, сбросами, пропущенными звонками и т.п., которые не удалось точно распознать биллинговой системой;\n",
    "- была дана рекомендация заменить данные на значения в диапазоне (0, 1] минута/мб в качестве рекомендации от гипотетического бизнеса;\n",
    "- мной была предложена следующая схема замены, получившая одобрение преподавателя и далее реализованная: каждый 0 заменяется на равномерное распределенное случайное значение в диапазоне [min, max), где min и max $-$ минимальное и максимальное значения для каждого пользователя в промежутке (0, 1]. Данная схема замены обосновывается тем, что данные в промежутке (0, 1] в обоих случаях распределены равномерно, в связи с этим данная схема заполнения должна в меньшей степени повредить имеющееся распределение данных.\n",
    "\n",
    "\n",
    "__Расчеты__\n",
    "\n",
    "Также были произведены все, указанные в задании, расчеты."
   ]
  },
  {
   "cell_type": "markdown",
   "metadata": {},
   "source": [
    "## Шаг 3. Анализ данных"
   ]
  },
  {
   "cell_type": "code",
   "execution_count": 119,
   "metadata": {},
   "outputs": [
    {
     "data": {
      "text/html": [
       "<div>\n",
       "<style scoped>\n",
       "    .dataframe tbody tr th:only-of-type {\n",
       "        vertical-align: middle;\n",
       "    }\n",
       "\n",
       "    .dataframe tbody tr th {\n",
       "        vertical-align: top;\n",
       "    }\n",
       "\n",
       "    .dataframe thead th {\n",
       "        text-align: right;\n",
       "    }\n",
       "</style>\n",
       "<table border=\"1\" class=\"dataframe\">\n",
       "  <thead>\n",
       "    <tr style=\"text-align: right;\">\n",
       "      <th></th>\n",
       "      <th></th>\n",
       "      <th>calls_made</th>\n",
       "      <th>minutes_spent</th>\n",
       "      <th>messages_sent</th>\n",
       "      <th>mb_spent</th>\n",
       "      <th>revenue</th>\n",
       "    </tr>\n",
       "    <tr>\n",
       "      <th>user_id</th>\n",
       "      <th>month</th>\n",
       "      <th></th>\n",
       "      <th></th>\n",
       "      <th></th>\n",
       "      <th></th>\n",
       "      <th></th>\n",
       "    </tr>\n",
       "  </thead>\n",
       "  <tbody>\n",
       "    <tr>\n",
       "      <th rowspan=\"2\" valign=\"top\">1001</th>\n",
       "      <th>11</th>\n",
       "      <td>59</td>\n",
       "      <td>444</td>\n",
       "      <td>0</td>\n",
       "      <td>18460</td>\n",
       "      <td>1350</td>\n",
       "    </tr>\n",
       "    <tr>\n",
       "      <th>12</th>\n",
       "      <td>63</td>\n",
       "      <td>430</td>\n",
       "      <td>0</td>\n",
       "      <td>14059</td>\n",
       "      <td>550</td>\n",
       "    </tr>\n",
       "    <tr>\n",
       "      <th rowspan=\"3\" valign=\"top\">1002</th>\n",
       "      <th>6</th>\n",
       "      <td>15</td>\n",
       "      <td>118</td>\n",
       "      <td>4</td>\n",
       "      <td>10878</td>\n",
       "      <td>550</td>\n",
       "    </tr>\n",
       "    <tr>\n",
       "      <th>7</th>\n",
       "      <td>26</td>\n",
       "      <td>219</td>\n",
       "      <td>11</td>\n",
       "      <td>17615</td>\n",
       "      <td>1150</td>\n",
       "    </tr>\n",
       "    <tr>\n",
       "      <th>8</th>\n",
       "      <td>42</td>\n",
       "      <td>294</td>\n",
       "      <td>13</td>\n",
       "      <td>20357</td>\n",
       "      <td>1550</td>\n",
       "    </tr>\n",
       "    <tr>\n",
       "      <th>...</th>\n",
       "      <th>...</th>\n",
       "      <td>...</td>\n",
       "      <td>...</td>\n",
       "      <td>...</td>\n",
       "      <td>...</td>\n",
       "      <td>...</td>\n",
       "    </tr>\n",
       "    <tr>\n",
       "      <th>1498</th>\n",
       "      <th>10</th>\n",
       "      <td>41</td>\n",
       "      <td>258</td>\n",
       "      <td>42</td>\n",
       "      <td>20614</td>\n",
       "      <td>1750</td>\n",
       "    </tr>\n",
       "    <tr>\n",
       "      <th rowspan=\"4\" valign=\"top\">1499</th>\n",
       "      <th>9</th>\n",
       "      <td>9</td>\n",
       "      <td>71</td>\n",
       "      <td>11</td>\n",
       "      <td>1849</td>\n",
       "      <td>550</td>\n",
       "    </tr>\n",
       "    <tr>\n",
       "      <th>10</th>\n",
       "      <td>68</td>\n",
       "      <td>473</td>\n",
       "      <td>48</td>\n",
       "      <td>17824</td>\n",
       "      <td>1150</td>\n",
       "    </tr>\n",
       "    <tr>\n",
       "      <th>11</th>\n",
       "      <td>74</td>\n",
       "      <td>624</td>\n",
       "      <td>59</td>\n",
       "      <td>17994</td>\n",
       "      <td>1549</td>\n",
       "    </tr>\n",
       "    <tr>\n",
       "      <th>12</th>\n",
       "      <td>69</td>\n",
       "      <td>505</td>\n",
       "      <td>66</td>\n",
       "      <td>13082</td>\n",
       "      <td>613</td>\n",
       "    </tr>\n",
       "  </tbody>\n",
       "</table>\n",
       "<p>2229 rows × 5 columns</p>\n",
       "</div>"
      ],
      "text/plain": [
       "               calls_made  minutes_spent  messages_sent  mb_spent  revenue\n",
       "user_id month                                                             \n",
       "1001    11             59            444              0     18460     1350\n",
       "        12             63            430              0     14059      550\n",
       "1002    6              15            118              4     10878      550\n",
       "        7              26            219             11     17615     1150\n",
       "        8              42            294             13     20357     1550\n",
       "...                   ...            ...            ...       ...      ...\n",
       "1498    10             41            258             42     20614     1750\n",
       "1499    9               9             71             11      1849      550\n",
       "        10             68            473             48     17824     1150\n",
       "        11             74            624             59     17994     1549\n",
       "        12             69            505             66     13082      613\n",
       "\n",
       "[2229 rows x 5 columns]"
      ]
     },
     "execution_count": 119,
     "metadata": {},
     "output_type": "execute_result"
    }
   ],
   "source": [
    "# Создание таблицы данными по пользователям тарифа Smart\n",
    "smart_users = full_pivot.copy().loc[list(filter(lambda ID: ID in full_pivot.index, tuple(users[users['tariff'] == 'smart'].index)))]\n",
    "smart_users"
   ]
  },
  {
   "cell_type": "code",
   "execution_count": 120,
   "metadata": {},
   "outputs": [
    {
     "data": {
      "text/html": [
       "<div>\n",
       "<style scoped>\n",
       "    .dataframe tbody tr th:only-of-type {\n",
       "        vertical-align: middle;\n",
       "    }\n",
       "\n",
       "    .dataframe tbody tr th {\n",
       "        vertical-align: top;\n",
       "    }\n",
       "\n",
       "    .dataframe thead th {\n",
       "        text-align: right;\n",
       "    }\n",
       "</style>\n",
       "<table border=\"1\" class=\"dataframe\">\n",
       "  <thead>\n",
       "    <tr style=\"text-align: right;\">\n",
       "      <th></th>\n",
       "      <th></th>\n",
       "      <th>calls_made</th>\n",
       "      <th>minutes_spent</th>\n",
       "      <th>messages_sent</th>\n",
       "      <th>mb_spent</th>\n",
       "      <th>revenue</th>\n",
       "    </tr>\n",
       "    <tr>\n",
       "      <th>user_id</th>\n",
       "      <th>month</th>\n",
       "      <th></th>\n",
       "      <th></th>\n",
       "      <th></th>\n",
       "      <th></th>\n",
       "      <th></th>\n",
       "    </tr>\n",
       "  </thead>\n",
       "  <tbody>\n",
       "    <tr>\n",
       "      <th rowspan=\"5\" valign=\"top\">1000</th>\n",
       "      <th>5</th>\n",
       "      <td>22</td>\n",
       "      <td>164</td>\n",
       "      <td>22</td>\n",
       "      <td>2257</td>\n",
       "      <td>1950</td>\n",
       "    </tr>\n",
       "    <tr>\n",
       "      <th>6</th>\n",
       "      <td>43</td>\n",
       "      <td>187</td>\n",
       "      <td>60</td>\n",
       "      <td>23262</td>\n",
       "      <td>1950</td>\n",
       "    </tr>\n",
       "    <tr>\n",
       "      <th>7</th>\n",
       "      <td>47</td>\n",
       "      <td>346</td>\n",
       "      <td>75</td>\n",
       "      <td>14017</td>\n",
       "      <td>1950</td>\n",
       "    </tr>\n",
       "    <tr>\n",
       "      <th>8</th>\n",
       "      <td>52</td>\n",
       "      <td>418</td>\n",
       "      <td>81</td>\n",
       "      <td>14072</td>\n",
       "      <td>1950</td>\n",
       "    </tr>\n",
       "    <tr>\n",
       "      <th>9</th>\n",
       "      <td>58</td>\n",
       "      <td>478</td>\n",
       "      <td>57</td>\n",
       "      <td>14583</td>\n",
       "      <td>1950</td>\n",
       "    </tr>\n",
       "    <tr>\n",
       "      <th>...</th>\n",
       "      <th>...</th>\n",
       "      <td>...</td>\n",
       "      <td>...</td>\n",
       "      <td>...</td>\n",
       "      <td>...</td>\n",
       "      <td>...</td>\n",
       "    </tr>\n",
       "    <tr>\n",
       "      <th rowspan=\"5\" valign=\"top\">1495</th>\n",
       "      <th>8</th>\n",
       "      <td>17</td>\n",
       "      <td>96</td>\n",
       "      <td>13</td>\n",
       "      <td>2616</td>\n",
       "      <td>1950</td>\n",
       "    </tr>\n",
       "    <tr>\n",
       "      <th>9</th>\n",
       "      <td>112</td>\n",
       "      <td>830</td>\n",
       "      <td>82</td>\n",
       "      <td>33107</td>\n",
       "      <td>2400</td>\n",
       "    </tr>\n",
       "    <tr>\n",
       "      <th>10</th>\n",
       "      <td>152</td>\n",
       "      <td>1056</td>\n",
       "      <td>82</td>\n",
       "      <td>29399</td>\n",
       "      <td>1950</td>\n",
       "    </tr>\n",
       "    <tr>\n",
       "      <th>11</th>\n",
       "      <td>129</td>\n",
       "      <td>971</td>\n",
       "      <td>79</td>\n",
       "      <td>38973</td>\n",
       "      <td>3300</td>\n",
       "    </tr>\n",
       "    <tr>\n",
       "      <th>12</th>\n",
       "      <td>155</td>\n",
       "      <td>1066</td>\n",
       "      <td>84</td>\n",
       "      <td>23451</td>\n",
       "      <td>1950</td>\n",
       "    </tr>\n",
       "  </tbody>\n",
       "</table>\n",
       "<p>985 rows × 5 columns</p>\n",
       "</div>"
      ],
      "text/plain": [
       "               calls_made  minutes_spent  messages_sent  mb_spent  revenue\n",
       "user_id month                                                             \n",
       "1000    5              22            164             22      2257     1950\n",
       "        6              43            187             60     23262     1950\n",
       "        7              47            346             75     14017     1950\n",
       "        8              52            418             81     14072     1950\n",
       "        9              58            478             57     14583     1950\n",
       "...                   ...            ...            ...       ...      ...\n",
       "1495    8              17             96             13      2616     1950\n",
       "        9             112            830             82     33107     2400\n",
       "        10            152           1056             82     29399     1950\n",
       "        11            129            971             79     38973     3300\n",
       "        12            155           1066             84     23451     1950\n",
       "\n",
       "[985 rows x 5 columns]"
      ]
     },
     "execution_count": 120,
     "metadata": {},
     "output_type": "execute_result"
    }
   ],
   "source": [
    "# Создание таблицы данными по пользователям тарифа Ultra\n",
    "ultra_users = full_pivot.copy().loc[list(filter(lambda ID: ID in full_pivot.index, tuple(users[users['tariff'] == 'ultra'].index)))]\n",
    "ultra_users"
   ]
  },
  {
   "cell_type": "markdown",
   "metadata": {},
   "source": [
    "### Звонки"
   ]
  },
  {
   "cell_type": "markdown",
   "metadata": {},
   "source": [
    "#### Тариф Smart"
   ]
  },
  {
   "cell_type": "code",
   "execution_count": 121,
   "metadata": {},
   "outputs": [
    {
     "name": "stdout",
     "output_type": "stream",
     "text": [
      "Среднее количество потраченых за месяц минут - 429.45\n"
     ]
    }
   ],
   "source": [
    "smart_calls_mean = smart_users['minutes_spent'].mean()\n",
    "print('Среднее количество потраченых за месяц минут - {:.2f}'.format(smart_calls_mean))"
   ]
  },
  {
   "cell_type": "code",
   "execution_count": 122,
   "metadata": {},
   "outputs": [
    {
     "name": "stdout",
     "output_type": "stream",
     "text": [
      "Дисперсия количества потраченых за месяц минут - 37974.77\n"
     ]
    }
   ],
   "source": [
    "smart_calls_variance = np.var(smart_users['minutes_spent'], ddof=1)\n",
    "print('Дисперсия количества потраченых за месяц минут - {:.2f}'.format(smart_calls_variance))"
   ]
  },
  {
   "cell_type": "code",
   "execution_count": 123,
   "metadata": {},
   "outputs": [
    {
     "name": "stdout",
     "output_type": "stream",
     "text": [
      "Стандартное отклонение количества потраченых за месяц минут - 194.87\n"
     ]
    }
   ],
   "source": [
    "smart_calls_standard_deviation = np.sqrt(smart_calls_variance)\n",
    "print('Стандартное отклонение количества потраченых за месяц минут - {:.2f}'.format(smart_calls_standard_deviation))"
   ]
  },
  {
   "cell_type": "code",
   "execution_count": 124,
   "metadata": {},
   "outputs": [
    {
     "data": {
      "image/png": "[encoded data removed]",
      "text/plain": [
       "<Figure size 1080x720 with 1 Axes>"
      ]
     },
     "metadata": {
      "needs_background": "light"
     },
     "output_type": "display_data"
    },
    {
     "data": {
      "image/png": "[encoded data removed]",
      "text/plain": [
       "<Figure size 1080x720 with 1 Axes>"
      ]
     },
     "metadata": {
      "needs_background": "light"
     },
     "output_type": "display_data"
    }
   ],
   "source": [
    "smart_users['minutes_spent'].hist(bins=147, figsize=(15, 10))\n",
    "plt.xlabel('Минуты разговора в месяц');\n",
    "plt.grid(linewidth=0.5)\n",
    "plt.title('Распределение потраченых за месяц минут')\n",
    "plt.show()\n",
    "\n",
    "smart_users.boxplot(column='minutes_spent', vert=False, figsize=(15, 10), rot=90)\n",
    "plt.xlabel('Минуты разговора в месяц');\n",
    "plt.grid(linewidth=0.5)\n",
    "plt.title('Диаграмма размаха потраченых за месяц минут')\n",
    "plt.show()"
   ]
  },
  {
   "cell_type": "code",
   "execution_count": 125,
   "metadata": {},
   "outputs": [
    {
     "data": {
      "text/plain": [
       "count    2229.000000\n",
       "mean      429.450875\n",
       "std       194.871174\n",
       "min         0.000000\n",
       "25%       291.000000\n",
       "50%       435.000000\n",
       "75%       560.000000\n",
       "max      1471.000000\n",
       "Name: minutes_spent, dtype: float64"
      ]
     },
     "execution_count": 125,
     "metadata": {},
     "output_type": "execute_result"
    }
   ],
   "source": [
    "smart_users['minutes_spent'].describe()"
   ]
  },
  {
   "cell_type": "code",
   "execution_count": 126,
   "metadata": {},
   "outputs": [
    {
     "name": "stdout",
     "output_type": "stream",
     "text": [
      "Количество минут в месяц, необходимое для удовлетворения нужд 99% клиентов - 1014.06\n"
     ]
    }
   ],
   "source": [
    "print('Количество минут в месяц, необходимое для удовлетворения нужд 99% клиентов - {:.2f}'.format(smart_calls_mean + 3 * smart_calls_standard_deviation))"
   ]
  },
  {
   "cell_type": "markdown",
   "metadata": {},
   "source": [
    "#### Тариф Ultra"
   ]
  },
  {
   "cell_type": "code",
   "execution_count": 127,
   "metadata": {},
   "outputs": [
    {
     "name": "stdout",
     "output_type": "stream",
     "text": [
      "Среднее количество потраченых за месяц минут - 540.78\n"
     ]
    }
   ],
   "source": [
    "ultra_calls_mean = ultra_users['minutes_spent'].mean()\n",
    "print('Среднее количество потраченых за месяц минут - {:.2f}'.format(ultra_calls_mean))"
   ]
  },
  {
   "cell_type": "code",
   "execution_count": 128,
   "metadata": {},
   "outputs": [
    {
     "name": "stdout",
     "output_type": "stream",
     "text": [
      "Дисперсия количества потраченых за месяц минут - 106105.73\n"
     ]
    }
   ],
   "source": [
    "ultra_calls_variance = np.var(ultra_users['minutes_spent'], ddof=1)\n",
    "print('Дисперсия количества потраченых за месяц минут - {:.2f}'.format(ultra_calls_variance))"
   ]
  },
  {
   "cell_type": "code",
   "execution_count": 129,
   "metadata": {},
   "outputs": [
    {
     "name": "stdout",
     "output_type": "stream",
     "text": [
      "Стандартное отклонение количества потраченых за месяц минут - 325.74\n"
     ]
    }
   ],
   "source": [
    "ultra_calls_standard_deviation = np.sqrt(ultra_calls_variance)\n",
    "print('Стандартное отклонение количества потраченых за месяц минут - {:.2f}'.format(ultra_calls_standard_deviation))"
   ]
  },
  {
   "cell_type": "code",
   "execution_count": 130,
   "metadata": {},
   "outputs": [
    {
     "data": {
      "image/png": "[encoded data removed]",
      "text/plain": [
       "<Figure size 1080x720 with 1 Axes>"
      ]
     },
     "metadata": {
      "needs_background": "light"
     },
     "output_type": "display_data"
    },
    {
     "data": {
      "image/png": "[encoded data removed]",
      "text/plain": [
       "<Figure size 1080x720 with 1 Axes>"
      ]
     },
     "metadata": {
      "needs_background": "light"
     },
     "output_type": "display_data"
    }
   ],
   "source": [
    "ultra_users['minutes_spent'].hist(bins=173, figsize=(15, 10))\n",
    "plt.xlabel('Минуты разговора в месяц');\n",
    "plt.grid(linewidth=0.5)\n",
    "plt.title('Распределение потраченых за месяц минут')\n",
    "plt.show()\n",
    "\n",
    "ultra_users.boxplot(column='minutes_spent', vert=False, figsize=(15, 10), rot=90)\n",
    "plt.xlabel('Минуты разговора в месяц');\n",
    "plt.grid(linewidth=0.5)\n",
    "plt.title('Диаграмма размаха потраченых за месяц минут')\n",
    "plt.show()"
   ]
  },
  {
   "cell_type": "code",
   "execution_count": 131,
   "metadata": {},
   "outputs": [
    {
     "data": {
      "image/png": "[encoded data removed]",
      "text/plain": [
       "<Figure size 1080x720 with 1 Axes>"
      ]
     },
     "metadata": {
      "needs_background": "light"
     },
     "output_type": "display_data"
    }
   ],
   "source": [
    "ultra_users.query('minutes_spent > 0')['minutes_spent'].hist(bins=173, figsize=(15, 10))\n",
    "plt.xlabel('Минуты разговора в месяц');\n",
    "plt.grid(linewidth=0.5)\n",
    "plt.title('Распределение потраченых за месяц минут (без месяцев, когда не было соврешено ни одного звонка)')\n",
    "plt.show()"
   ]
  },
  {
   "cell_type": "code",
   "execution_count": 132,
   "metadata": {},
   "outputs": [
    {
     "name": "stdout",
     "output_type": "stream",
     "text": [
      "В 3.45% месяцев совершено 0 звонков\n"
     ]
    }
   ],
   "source": [
    "print('В {:.2%} месяцев совершено 0 звонков'.format(len(ultra_users.query('minutes_spent == 0')['minutes_spent']) / len(ultra_users['minutes_spent'])))"
   ]
  },
  {
   "cell_type": "code",
   "execution_count": 133,
   "metadata": {},
   "outputs": [
    {
     "data": {
      "text/plain": [
       "count     985.000000\n",
       "mean      540.779695\n",
       "std       325.738740\n",
       "min         0.000000\n",
       "25%       292.000000\n",
       "50%       532.000000\n",
       "75%       773.000000\n",
       "max      1727.000000\n",
       "Name: minutes_spent, dtype: float64"
      ]
     },
     "execution_count": 133,
     "metadata": {},
     "output_type": "execute_result"
    }
   ],
   "source": [
    "ultra_users['minutes_spent'].describe()"
   ]
  },
  {
   "cell_type": "code",
   "execution_count": 134,
   "metadata": {},
   "outputs": [
    {
     "name": "stdout",
     "output_type": "stream",
     "text": [
      "Количество минут, необходимое для удовлетворения нужд 99% клиентов - 1518.00\n"
     ]
    }
   ],
   "source": [
    "print('Количество минут, необходимое для удовлетворения нужд 99% клиентов - {:.2f}'.format(ultra_calls_mean + 3 * ultra_calls_standard_deviation))"
   ]
  },
  {
   "cell_type": "markdown",
   "metadata": {},
   "source": [
    "### Сообщения"
   ]
  },
  {
   "cell_type": "markdown",
   "metadata": {},
   "source": [
    "#### Тариф Smart"
   ]
  },
  {
   "cell_type": "code",
   "execution_count": 135,
   "metadata": {},
   "outputs": [
    {
     "name": "stdout",
     "output_type": "stream",
     "text": [
      "Среднее количество посланных за месяц сообщений - 33.38\n"
     ]
    }
   ],
   "source": [
    "smart_messages_mean = smart_users['messages_sent'].mean()\n",
    "print('Среднее количество посланных за месяц сообщений - {:.2f}'.format(smart_messages_mean))"
   ]
  },
  {
   "cell_type": "code",
   "execution_count": 136,
   "metadata": {},
   "outputs": [
    {
     "name": "stdout",
     "output_type": "stream",
     "text": [
      "Дисперсия количества посланных за месяц сообщений - 796.81\n"
     ]
    }
   ],
   "source": [
    "smart_messages_variance = np.var(smart_users['messages_sent'], ddof=1)\n",
    "print('Дисперсия количества посланных за месяц сообщений - {:.2f}'.format(smart_messages_variance))"
   ]
  },
  {
   "cell_type": "code",
   "execution_count": 137,
   "metadata": {},
   "outputs": [
    {
     "name": "stdout",
     "output_type": "stream",
     "text": [
      "Стандартное отклонение количества посланных за месяц сообщений - 28.23\n"
     ]
    }
   ],
   "source": [
    "smart_messages_standard_deviation = np.sqrt(smart_messages_variance)\n",
    "print('Стандартное отклонение количества посланных за месяц сообщений - {:.2f}'.format(smart_messages_standard_deviation))"
   ]
  },
  {
   "cell_type": "code",
   "execution_count": 138,
   "metadata": {},
   "outputs": [
    {
     "data": {
      "image/png": "[encoded data removed]",
      "text/plain": [
       "<Figure size 1080x720 with 1 Axes>"
      ]
     },
     "metadata": {
      "needs_background": "light"
     },
     "output_type": "display_data"
    },
    {
     "data": {
      "image/png": "[encoded data removed]",
      "text/plain": [
       "<Figure size 1080x720 with 1 Axes>"
      ]
     },
     "metadata": {
      "needs_background": "light"
     },
     "output_type": "display_data"
    }
   ],
   "source": [
    "smart_users['messages_sent'].hist(bins=143, figsize=(15, 10))\n",
    "plt.xlabel('Сообщения в месяц');\n",
    "plt.grid(linewidth=0.5)\n",
    "plt.title('Распределение посланных за месяц сообщений')\n",
    "plt.show()\n",
    "\n",
    "smart_users.boxplot(column='messages_sent', vert=False, figsize=(15, 10), rot=90)\n",
    "plt.xlabel('Сообщения в месяц');\n",
    "plt.grid(linewidth=0.5)\n",
    "plt.title('Диаграмма размаха посланных за месяц сообщений')\n",
    "plt.show()"
   ]
  },
  {
   "cell_type": "code",
   "execution_count": 139,
   "metadata": {},
   "outputs": [
    {
     "data": {
      "image/png": "[encoded data removed]",
      "text/plain": [
       "<Figure size 1080x720 with 1 Axes>"
      ]
     },
     "metadata": {
      "needs_background": "light"
     },
     "output_type": "display_data"
    }
   ],
   "source": [
    "smart_users.query('messages_sent > 0')['messages_sent'].hist(bins=143, figsize=(15, 10))\n",
    "plt.xlabel('Сообщения в месяц');\n",
    "plt.grid(linewidth=0.5)\n",
    "plt.title('Распределение посланных за месяц сообщений (без месяцев, когда не было отправлено ни одного сообщения)')\n",
    "plt.show()"
   ]
  },
  {
   "cell_type": "code",
   "execution_count": 140,
   "metadata": {},
   "outputs": [
    {
     "name": "stdout",
     "output_type": "stream",
     "text": [
      "В 13.77% месяцев отправлено 0 сообщений\n"
     ]
    }
   ],
   "source": [
    "print('В {:.2%} месяцев отправлено 0 сообщений'.format(len(smart_users.query('messages_sent == 0')['messages_sent']) / len(smart_users['messages_sent'])))"
   ]
  },
  {
   "cell_type": "code",
   "execution_count": 141,
   "metadata": {},
   "outputs": [
    {
     "data": {
      "text/plain": [
       "count    2229.000000\n",
       "mean       33.384029\n",
       "std        28.227876\n",
       "min         0.000000\n",
       "25%        10.000000\n",
       "50%        28.000000\n",
       "75%        51.000000\n",
       "max       143.000000\n",
       "Name: messages_sent, dtype: float64"
      ]
     },
     "execution_count": 141,
     "metadata": {},
     "output_type": "execute_result"
    }
   ],
   "source": [
    "smart_users['messages_sent'].describe()"
   ]
  },
  {
   "cell_type": "markdown",
   "metadata": {},
   "source": [
    "#### Тариф Ultra"
   ]
  },
  {
   "cell_type": "code",
   "execution_count": 142,
   "metadata": {},
   "outputs": [
    {
     "name": "stdout",
     "output_type": "stream",
     "text": [
      "Среднее количество посланных за месяц сообщений - 49.36\n"
     ]
    }
   ],
   "source": [
    "ultra_messages_mean = ultra_users['messages_sent'].mean()\n",
    "print('Среднее количество посланных за месяц сообщений - {:.2f}'.format(ultra_messages_mean))"
   ]
  },
  {
   "cell_type": "code",
   "execution_count": 143,
   "metadata": {},
   "outputs": [
    {
     "name": "stdout",
     "output_type": "stream",
     "text": [
      "Дисперсия количества посланных за месяц сообщений - 2285.27\n"
     ]
    }
   ],
   "source": [
    "ultra_messages_variance = np.var(ultra_users['messages_sent'], ddof=1)\n",
    "print('Дисперсия количества посланных за месяц сообщений - {:.2f}'.format(ultra_messages_variance))"
   ]
  },
  {
   "cell_type": "code",
   "execution_count": 144,
   "metadata": {},
   "outputs": [
    {
     "name": "stdout",
     "output_type": "stream",
     "text": [
      "Стандартное отклонение количества посланных за месяц сообщений - 47.80\n"
     ]
    }
   ],
   "source": [
    "ultra_messages_standard_deviation = np.sqrt(ultra_messages_variance)\n",
    "print('Стандартное отклонение количества посланных за месяц сообщений - {:.2f}'.format(ultra_messages_standard_deviation))"
   ]
  },
  {
   "cell_type": "code",
   "execution_count": 145,
   "metadata": {},
   "outputs": [
    {
     "data": {
      "image/png": "[encoded data removed]",
      "text/plain": [
       "<Figure size 1080x720 with 1 Axes>"
      ]
     },
     "metadata": {
      "needs_background": "light"
     },
     "output_type": "display_data"
    },
    {
     "data": {
      "image/png": "[encoded data removed]",
      "text/plain": [
       "<Figure size 1080x720 with 1 Axes>"
      ]
     },
     "metadata": {
      "needs_background": "light"
     },
     "output_type": "display_data"
    }
   ],
   "source": [
    "ultra_users['messages_sent'].hist(bins=224, figsize=(15, 10))\n",
    "plt.xlabel('Сообщения в месяц');\n",
    "plt.grid(linewidth=0.5)\n",
    "plt.title('Распределение посланных за месяц сообщений')\n",
    "plt.show()\n",
    "\n",
    "ultra_users.boxplot(column='messages_sent', vert=False, figsize=(15, 10), rot=90)\n",
    "plt.xlabel('Сообщения в месяц');\n",
    "plt.grid(linewidth=0.5)\n",
    "plt.title('Диаграмма размаха посланных за месяц сообщений')\n",
    "plt.show()"
   ]
  },
  {
   "cell_type": "code",
   "execution_count": 146,
   "metadata": {},
   "outputs": [
    {
     "data": {
      "image/png": "[encoded data removed]",
      "text/plain": [
       "<Figure size 1080x720 with 1 Axes>"
      ]
     },
     "metadata": {
      "needs_background": "light"
     },
     "output_type": "display_data"
    }
   ],
   "source": [
    "ultra_users.query('messages_sent > 0')['messages_sent'].hist(bins=224, figsize=(15, 10))\n",
    "plt.xlabel('Сообщения в месяц');\n",
    "plt.grid(linewidth=0.5)\n",
    "plt.title('Распределение посланных за месяц сообщений (без месяцев, когда не было отправлено ни одного сообщения)')\n",
    "plt.show()"
   ]
  },
  {
   "cell_type": "code",
   "execution_count": 147,
   "metadata": {},
   "outputs": [
    {
     "name": "stdout",
     "output_type": "stream",
     "text": [
      "В 19.29% месяцев отправлено 0 сообщений\n"
     ]
    }
   ],
   "source": [
    "print('В {:.2%} месяцев отправлено 0 сообщений'.format(len(ultra_users.query('messages_sent == 0')['messages_sent']) / len(ultra_users['messages_sent'])))"
   ]
  },
  {
   "cell_type": "code",
   "execution_count": 148,
   "metadata": {},
   "outputs": [
    {
     "data": {
      "text/plain": [
       "count    985.000000\n",
       "mean      49.363452\n",
       "std       47.804457\n",
       "min        0.000000\n",
       "25%        6.000000\n",
       "50%       38.000000\n",
       "75%       79.000000\n",
       "max      224.000000\n",
       "Name: messages_sent, dtype: float64"
      ]
     },
     "execution_count": 148,
     "metadata": {},
     "output_type": "execute_result"
    }
   ],
   "source": [
    "ultra_users['messages_sent'].describe()"
   ]
  },
  {
   "cell_type": "markdown",
   "metadata": {},
   "source": [
    "### Интернет-трафик"
   ]
  },
  {
   "cell_type": "markdown",
   "metadata": {},
   "source": [
    "#### Тариф Smart"
   ]
  },
  {
   "cell_type": "code",
   "execution_count": 149,
   "metadata": {},
   "outputs": [],
   "source": [
    "# Создание столбца трафиком, переведенным в Гб\n",
    "smart_users['gb_spent'] = smart_users['mb_spent'] / 1024"
   ]
  },
  {
   "cell_type": "code",
   "execution_count": 150,
   "metadata": {},
   "outputs": [
    {
     "name": "stdout",
     "output_type": "stream",
     "text": [
      "Средний объем израсходованного за месяц интернет-трафика - 15.86\n"
     ]
    }
   ],
   "source": [
    "smart_internet_mean = smart_users['gb_spent'].mean()\n",
    "print('Средний объем израсходованного за месяц интернет-трафика - {:.2f}'.format(smart_internet_mean))"
   ]
  },
  {
   "cell_type": "code",
   "execution_count": 151,
   "metadata": {},
   "outputs": [
    {
     "name": "stdout",
     "output_type": "stream",
     "text": [
      "Дисперсия израсходованного за месяц интернет-трафика - 32.97\n"
     ]
    }
   ],
   "source": [
    "smart_internet_variance = np.var(smart_users['gb_spent'], ddof=1)\n",
    "print('Дисперсия израсходованного за месяц интернет-трафика - {:.2f}'.format(smart_internet_variance))"
   ]
  },
  {
   "cell_type": "code",
   "execution_count": 152,
   "metadata": {},
   "outputs": [
    {
     "name": "stdout",
     "output_type": "stream",
     "text": [
      "Стандартное отклонение израсходованного за месяц интернет-трафика - 5.74\n"
     ]
    }
   ],
   "source": [
    "smart_internet_standard_deviation = np.sqrt(smart_internet_variance)\n",
    "print('Стандартное отклонение израсходованного за месяц интернет-трафика - {:.2f}'.format(smart_internet_standard_deviation))"
   ]
  },
  {
   "cell_type": "code",
   "execution_count": 153,
   "metadata": {},
   "outputs": [
    {
     "data": {
      "image/png": "[encoded data removed]",
      "text/plain": [
       "<Figure size 1080x720 with 1 Axes>"
      ]
     },
     "metadata": {
      "needs_background": "light"
     },
     "output_type": "display_data"
    },
    {
     "data": {
      "image/png": "[encoded data removed]",
      "text/plain": [
       "<Figure size 1080x720 with 1 Axes>"
      ]
     },
     "metadata": {
      "needs_background": "light"
     },
     "output_type": "display_data"
    }
   ],
   "source": [
    "smart_users['gb_spent'].hist(bins=147, figsize=(15, 10))\n",
    "plt.xlabel('Гб в месяц');\n",
    "plt.grid(linewidth=0.5)\n",
    "plt.title('Распределение израсходованного за месяц интернет-трафика')\n",
    "plt.show()\n",
    "\n",
    "smart_users.boxplot(column='gb_spent', vert=False, figsize=(15, 10), rot=90)\n",
    "plt.xlabel('Гб в месяц');\n",
    "plt.grid(linewidth=0.5)\n",
    "plt.title('Распределение израсходованного за месяц интернет-трафика')\n",
    "plt.show()"
   ]
  },
  {
   "cell_type": "code",
   "execution_count": 154,
   "metadata": {},
   "outputs": [
    {
     "data": {
      "text/plain": [
       "count    2229.000000\n",
       "mean       15.856625\n",
       "std         5.741987\n",
       "min         0.000000\n",
       "25%        12.365234\n",
       "50%        16.152344\n",
       "75%        19.607422\n",
       "max        37.721680\n",
       "Name: gb_spent, dtype: float64"
      ]
     },
     "execution_count": 154,
     "metadata": {},
     "output_type": "execute_result"
    }
   ],
   "source": [
    "smart_users['gb_spent'].describe()"
   ]
  },
  {
   "cell_type": "code",
   "execution_count": 155,
   "metadata": {},
   "outputs": [
    {
     "name": "stdout",
     "output_type": "stream",
     "text": [
      "Объема интернет-трафика в месяц, необходимый для удовлетворения нужд 99% клиентов - 33.08 Гб\n"
     ]
    }
   ],
   "source": [
    "print('Объема интернет-трафика в месяц, необходимый для удовлетворения нужд 99% клиентов - {:.2f} Гб'.format(smart_internet_mean + 3 * smart_internet_standard_deviation))"
   ]
  },
  {
   "cell_type": "markdown",
   "metadata": {},
   "source": [
    "#### Тариф Ultra"
   ]
  },
  {
   "cell_type": "code",
   "execution_count": 156,
   "metadata": {},
   "outputs": [],
   "source": [
    "# Создание столбца трафиком, переведенным в Гб\n",
    "ultra_users['gb_spent'] = ultra_users['mb_spent'] / 1024"
   ]
  },
  {
   "cell_type": "code",
   "execution_count": 157,
   "metadata": {},
   "outputs": [
    {
     "name": "stdout",
     "output_type": "stream",
     "text": [
      "Средний объем израсходованного за месяц интернет-трафика - 19.03\n"
     ]
    }
   ],
   "source": [
    "ultra_internet_mean = ultra_users['gb_spent'].mean()\n",
    "print('Средний объем израсходованного за месяц интернет-трафика - {:.2f}'.format(ultra_internet_mean))"
   ]
  },
  {
   "cell_type": "code",
   "execution_count": 158,
   "metadata": {},
   "outputs": [
    {
     "name": "stdout",
     "output_type": "stream",
     "text": [
      "Дисперсия израсходованного за месяц интернет-трафика - 97.23\n"
     ]
    }
   ],
   "source": [
    "ultra_internet_variance = np.var(ultra_users['gb_spent'], ddof=1)\n",
    "print('Дисперсия израсходованного за месяц интернет-трафика - {:.2f}'.format(ultra_internet_variance))"
   ]
  },
  {
   "cell_type": "code",
   "execution_count": 159,
   "metadata": {},
   "outputs": [
    {
     "name": "stdout",
     "output_type": "stream",
     "text": [
      "Стандартное отклонение израсходованного за месяц интернет-трафика - 9.86\n"
     ]
    }
   ],
   "source": [
    "ultra_internet_standard_deviation = np.sqrt(ultra_internet_variance)\n",
    "print('Стандартное отклонение израсходованного за месяц интернет-трафика - {:.2f}'.format(ultra_internet_standard_deviation))"
   ]
  },
  {
   "cell_type": "code",
   "execution_count": 160,
   "metadata": {},
   "outputs": [
    {
     "data": {
      "image/png": "[encoded data removed]",
      "text/plain": [
       "<Figure size 1080x720 with 1 Axes>"
      ]
     },
     "metadata": {
      "needs_background": "light"
     },
     "output_type": "display_data"
    },
    {
     "data": {
      "image/png": "[encoded data removed]",
      "text/plain": [
       "<Figure size 1080x720 with 1 Axes>"
      ]
     },
     "metadata": {
      "needs_background": "light"
     },
     "output_type": "display_data"
    }
   ],
   "source": [
    "ultra_users['gb_spent'].hist(bins=147, figsize=(15, 10))\n",
    "plt.xlabel('Гб в месяц');\n",
    "plt.grid(linewidth=0.5)\n",
    "plt.title('Распределение израсходованного за месяц интернет-трафика')\n",
    "plt.show()\n",
    "\n",
    "ultra_users.boxplot(column='gb_spent', vert=False, figsize=(15, 10), rot=90)\n",
    "plt.xlabel('Гб в месяц');\n",
    "plt.grid(linewidth=0.5)\n",
    "plt.title('Распределение израсходованного за месяц интернет-трафика')\n",
    "plt.show()"
   ]
  },
  {
   "cell_type": "code",
   "execution_count": 161,
   "metadata": {},
   "outputs": [
    {
     "data": {
      "text/plain": [
       "count    985.000000\n",
       "mean      19.031937\n",
       "std        9.860457\n",
       "min        0.000000\n",
       "25%       11.510742\n",
       "50%       18.871094\n",
       "75%       26.236328\n",
       "max       48.625977\n",
       "Name: gb_spent, dtype: float64"
      ]
     },
     "execution_count": 161,
     "metadata": {},
     "output_type": "execute_result"
    }
   ],
   "source": [
    "ultra_users['gb_spent'].describe()"
   ]
  },
  {
   "cell_type": "code",
   "execution_count": 162,
   "metadata": {},
   "outputs": [
    {
     "name": "stdout",
     "output_type": "stream",
     "text": [
      "Объема интернет-трафика в месяц, необходимый для удовлетворения нужд 99% клиентов - 48.61 Гб\n"
     ]
    }
   ],
   "source": [
    "print('Объема интернет-трафика в месяц, необходимый для удовлетворения нужд 99% клиентов - {:.2f} Гб'.format(ultra_internet_mean + 3 * ultra_internet_standard_deviation))"
   ]
  },
  {
   "cell_type": "markdown",
   "metadata": {},
   "source": [
    "### Выводы (шаг 3)"
   ]
  },
  {
   "cell_type": "markdown",
   "metadata": {},
   "source": [
    "__Звонки__\n",
    "\n",
    "В среднем, пользователи тарифа __Smart__ тратят 429 минут в месяц, что несколько меньше включенного пакета. Дисперсия и стандартное отклонение равны 37975 минутам$^2$ и 195 минутам, соответственно. Верхний квартиль равен 560 минутам, из чего можно сделать вывод что большинству пользователей хватает 560 минут, что не сильно привышает включенный пакет. 99% клиентов (по правилу 3$\\sigma$) необходимо 1014 минут разговора, что подтверждается гистограммой распределения потраченных в месяц минут. С другой стороны, около 40% пользователей оплачивают дополнительные минуты разговоров, что приносит компании дополнительные деньги.\n",
    "\n",
    "В среднем, пользователи тарифа __Ultra__ тратят 540 минут в месяц, что практически в 6 раз меньше включенного пакета в 3000 минут. Дисперсия и стандартное отклонение равны 106106 минутам$^2$ и 326 минутам, соответственно. Верхний квартиль равен 773 минутам, из чего можно сделать вывод что большинству пользователей хватит этого количества минут и они не использует даже $\\frac{1}{3}$ пакета минут тарифа. 99% клиентов (по правилу 3$\\sigma$) необходимо 1518 минут разговора, что подтверждается гистограммой распределения потраченных в месяц минут. В выборке нет ни одного пользователя, который использовал хотя бы $\\frac{2}{3}$ пакета в 3000 минут. Также заметен значительный выброс в 0, в 3.45% месяцев у пользователей тарифа прошло без сделанных звонков.\n",
    "\n",
    "Количество потраченных минут для обоих тарифов имеет нормальное распределение с отрицательной скошенностью.\n",
    "\n",
    "__Сообщения__\n",
    "\n",
    "В среднем, пользователи тарифа __Smart__ отправляют 33 сообщения в месяц, что вполне покрывается имеющиеся стандартным пакетом в 50 СМС. Дисперсия и стандартное отклонение равны 797 сообщениям$^2$ и 28 сообщениям, соответственно. Верхний квартиль равен 51 сообщению, из чего можно сделать вывод что большинству пользователей хватает стандартного пакета СМС или, возможно, они пытаются специально в него уложиться. Данные имеют распределение, близкое к Пуассоновскому, со значительным выбросом в 0 - 14% значений составляют месяцы, где пользователи не отправили ни одного сообщения. Исходя из этого к данному распределению нельзя применять правило 3$\\sigma$.\n",
    "\n",
    "В среднем, пользователи тарифа __Ultra__ отправляют 50 сообщений в месяц, что составляет всего лишь $\\frac{1}{10}$ имеющегося пакета СМС. Дисперсия и стандартное отклонение равны 2285 сообщениям$^2$ и 48 сообщениям, соответственно. Верхний квартиль равен 79 сообщениям, чего должно хватить большинству пользователей тарифа. Распределение данных схоже с тарифом _Smart_, но, как уже отмечалось, имеет практически в 2 раза большее стандартное отклонение и еще больший процент месяцев без сообщений (19%). К нему также нельзя применить правило 3$\\sigma$.\n",
    "\n",
    "По данным обоих тарифов можно сделать вывод, что современные пользователи отправляют сравнительно небольшое количество сообщений, что объясняется переходом общения в мессенджеры.\n",
    "\n",
    "__Интернет__\n",
    "\n",
    "В среднем, пользователи тарифа __Smart__ используют 16 Гб интернет-трафика в месяц, что несколько меньше включенного пакета. Дисперсия и стандартное отклонение равны 33 Гб$^2$ и 6 Гб, соответственно. Верхний квартиль равен 20 Гб, чего должно хватить большинству пользователей тарифа. Из этого можно сделать вывод что большинству пользователей не хватает включенного пакета в 15 Гб. 99% клиентов (по правилу 3$\\sigma$) необходимо 33 Гб трафика, что более чем в 2 раза больше включенного пакета и подтверждается гистограммой распределения объема интернет-трафика.\n",
    "\n",
    "В среднем, пользователи тарифа __Ultra__ используют 19 Гб интернет-трафика в месяц. Дисперсия и стандартное отклонение равны 97 Гб$^2$ и 10 Гб, соответственно. Верхний квартиль равен 26 Гб, чего должно хватить большинству пользователей тарифа. Из чего можно сделать вывод что большинство пользователей влезают в имеющийся пакет в 30 Гб и не расходуют ненамного больше трафика, чем пользователи тарифа _Smart_. 99% клиентов (по правилу 3$\\sigma$) необходимо 49 Гб интернет-трафика, что подтверждается гистограммой распределения.\n",
    "\n",
    "Объем интернет-трафика для обоих тарифов имеет нормальное распределение с небольшой отрицательной скошенностью. В целом можно сделать вывод, что мало кому нужно более 30 Гб интернет-трафика, хотя, на мой взгляд, данную гипотезу необходимо проверять на людях, пользующихся тарифом с безлимитным интернет-трафиком."
   ]
  },
  {
   "cell_type": "markdown",
   "metadata": {},
   "source": [
    "## Шаг 4. Проверка гипотез"
   ]
  },
  {
   "cell_type": "code",
   "execution_count": 163,
   "metadata": {},
   "outputs": [],
   "source": [
    "from scipy import stats as st"
   ]
  },
  {
   "cell_type": "code",
   "execution_count": 164,
   "metadata": {},
   "outputs": [],
   "source": [
    "# Установка порога значимости\n",
    "alpha = .05"
   ]
  },
  {
   "cell_type": "markdown",
   "metadata": {},
   "source": [
    "### Гипотеза о различие средней выручки пользователей тарифов «Ультра» и «Смарт»"
   ]
  },
  {
   "cell_type": "code",
   "execution_count": 165,
   "metadata": {},
   "outputs": [
    {
     "name": "stdout",
     "output_type": "stream",
     "text": [
      "p-значение: 1.2496710269965528e-233\n",
      "Отвергаем нулевую гипотезу, гласящую, что средняя выручка пользователей тарифов «Ультра» и «Смарт» одинакова\n"
     ]
    }
   ],
   "source": [
    "# Проведение t-теста Стьюдента для выборок по пользователям 2 тарифов\n",
    "# Дисперсию генеральных совокупностей считаем различной, так как, предположительно,\n",
    "# у пользователей двух тарифов должны значительно различатся траты, ввиду отличия базовой стоимости тарифов и результатов анализа звонков, сообщений и интернет-трафика\n",
    "results = st.ttest_ind(smart_users['revenue'], ultra_users['revenue'], equal_var=False)\n",
    "\n",
    "print('p-значение:', results.pvalue)\n",
    "\n",
    "if (results.pvalue < alpha):\n",
    "    print(\"Отвергаем нулевую гипотезу, гласящую, что средняя выручка пользователей тарифов «Ультра» и «Смарт» одинакова\")\n",
    "else:\n",
    "    print(\"Не получилось отвергнуть нулевую гипотезу, гласящую, что средняя выручка пользователей тарифов «Ультра» и «Смарт» одинакова\")"
   ]
  },
  {
   "cell_type": "markdown",
   "metadata": {},
   "source": [
    "### Гипотеза о различие средней выручки пользователей из Москвы и других регионов"
   ]
  },
  {
   "cell_type": "code",
   "execution_count": 166,
   "metadata": {},
   "outputs": [
    {
     "data": {
      "text/html": [
       "<div>\n",
       "<style scoped>\n",
       "    .dataframe tbody tr th:only-of-type {\n",
       "        vertical-align: middle;\n",
       "    }\n",
       "\n",
       "    .dataframe tbody tr th {\n",
       "        vertical-align: top;\n",
       "    }\n",
       "\n",
       "    .dataframe thead th {\n",
       "        text-align: right;\n",
       "    }\n",
       "</style>\n",
       "<table border=\"1\" class=\"dataframe\">\n",
       "  <thead>\n",
       "    <tr style=\"text-align: right;\">\n",
       "      <th></th>\n",
       "      <th></th>\n",
       "      <th>calls_made</th>\n",
       "      <th>minutes_spent</th>\n",
       "      <th>messages_sent</th>\n",
       "      <th>mb_spent</th>\n",
       "      <th>revenue</th>\n",
       "    </tr>\n",
       "    <tr>\n",
       "      <th>user_id</th>\n",
       "      <th>month</th>\n",
       "      <th></th>\n",
       "      <th></th>\n",
       "      <th></th>\n",
       "      <th></th>\n",
       "      <th></th>\n",
       "    </tr>\n",
       "  </thead>\n",
       "  <tbody>\n",
       "    <tr>\n",
       "      <th rowspan=\"2\" valign=\"top\">1001</th>\n",
       "      <th>11</th>\n",
       "      <td>59</td>\n",
       "      <td>444</td>\n",
       "      <td>0</td>\n",
       "      <td>18460</td>\n",
       "      <td>1350</td>\n",
       "    </tr>\n",
       "    <tr>\n",
       "      <th>12</th>\n",
       "      <td>63</td>\n",
       "      <td>430</td>\n",
       "      <td>0</td>\n",
       "      <td>14059</td>\n",
       "      <td>550</td>\n",
       "    </tr>\n",
       "    <tr>\n",
       "      <th rowspan=\"3\" valign=\"top\">1003</th>\n",
       "      <th>8</th>\n",
       "      <td>55</td>\n",
       "      <td>392</td>\n",
       "      <td>37</td>\n",
       "      <td>8572</td>\n",
       "      <td>1950</td>\n",
       "    </tr>\n",
       "    <tr>\n",
       "      <th>9</th>\n",
       "      <td>134</td>\n",
       "      <td>990</td>\n",
       "      <td>91</td>\n",
       "      <td>12479</td>\n",
       "      <td>1950</td>\n",
       "    </tr>\n",
       "    <tr>\n",
       "      <th>10</th>\n",
       "      <td>108</td>\n",
       "      <td>866</td>\n",
       "      <td>83</td>\n",
       "      <td>14779</td>\n",
       "      <td>1950</td>\n",
       "    </tr>\n",
       "    <tr>\n",
       "      <th>...</th>\n",
       "      <th>...</th>\n",
       "      <td>...</td>\n",
       "      <td>...</td>\n",
       "      <td>...</td>\n",
       "      <td>...</td>\n",
       "      <td>...</td>\n",
       "    </tr>\n",
       "    <tr>\n",
       "      <th rowspan=\"5\" valign=\"top\">1490</th>\n",
       "      <th>8</th>\n",
       "      <td>45</td>\n",
       "      <td>351</td>\n",
       "      <td>50</td>\n",
       "      <td>17305</td>\n",
       "      <td>950</td>\n",
       "    </tr>\n",
       "    <tr>\n",
       "      <th>9</th>\n",
       "      <td>44</td>\n",
       "      <td>335</td>\n",
       "      <td>48</td>\n",
       "      <td>14846</td>\n",
       "      <td>550</td>\n",
       "    </tr>\n",
       "    <tr>\n",
       "      <th>10</th>\n",
       "      <td>42</td>\n",
       "      <td>320</td>\n",
       "      <td>45</td>\n",
       "      <td>20702</td>\n",
       "      <td>1750</td>\n",
       "    </tr>\n",
       "    <tr>\n",
       "      <th>11</th>\n",
       "      <td>38</td>\n",
       "      <td>289</td>\n",
       "      <td>47</td>\n",
       "      <td>18740</td>\n",
       "      <td>1350</td>\n",
       "    </tr>\n",
       "    <tr>\n",
       "      <th>12</th>\n",
       "      <td>42</td>\n",
       "      <td>297</td>\n",
       "      <td>46</td>\n",
       "      <td>15810</td>\n",
       "      <td>750</td>\n",
       "    </tr>\n",
       "  </tbody>\n",
       "</table>\n",
       "<p>611 rows × 5 columns</p>\n",
       "</div>"
      ],
      "text/plain": [
       "               calls_made  minutes_spent  messages_sent  mb_spent  revenue\n",
       "user_id month                                                             \n",
       "1001    11             59            444              0     18460     1350\n",
       "        12             63            430              0     14059      550\n",
       "1003    8              55            392             37      8572     1950\n",
       "        9             134            990             91     12479     1950\n",
       "        10            108            866             83     14779     1950\n",
       "...                   ...            ...            ...       ...      ...\n",
       "1490    8              45            351             50     17305      950\n",
       "        9              44            335             48     14846      550\n",
       "        10             42            320             45     20702     1750\n",
       "        11             38            289             47     18740     1350\n",
       "        12             42            297             46     15810      750\n",
       "\n",
       "[611 rows x 5 columns]"
      ]
     },
     "execution_count": 166,
     "metadata": {},
     "output_type": "execute_result"
    }
   ],
   "source": [
    "# Создание таблицы данными по пользователям из Москвы\n",
    "moscow_users = full_pivot.copy().loc[list(filter(lambda ID: ID in full_pivot.index, tuple(users[users['city'] == 'Москва'].index)))]\n",
    "moscow_users"
   ]
  },
  {
   "cell_type": "code",
   "execution_count": 167,
   "metadata": {},
   "outputs": [
    {
     "data": {
      "text/html": [
       "<div>\n",
       "<style scoped>\n",
       "    .dataframe tbody tr th:only-of-type {\n",
       "        vertical-align: middle;\n",
       "    }\n",
       "\n",
       "    .dataframe tbody tr th {\n",
       "        vertical-align: top;\n",
       "    }\n",
       "\n",
       "    .dataframe thead th {\n",
       "        text-align: right;\n",
       "    }\n",
       "</style>\n",
       "<table border=\"1\" class=\"dataframe\">\n",
       "  <thead>\n",
       "    <tr style=\"text-align: right;\">\n",
       "      <th></th>\n",
       "      <th></th>\n",
       "      <th>calls_made</th>\n",
       "      <th>minutes_spent</th>\n",
       "      <th>messages_sent</th>\n",
       "      <th>mb_spent</th>\n",
       "      <th>revenue</th>\n",
       "    </tr>\n",
       "    <tr>\n",
       "      <th>user_id</th>\n",
       "      <th>month</th>\n",
       "      <th></th>\n",
       "      <th></th>\n",
       "      <th></th>\n",
       "      <th></th>\n",
       "      <th></th>\n",
       "    </tr>\n",
       "  </thead>\n",
       "  <tbody>\n",
       "    <tr>\n",
       "      <th rowspan=\"5\" valign=\"top\">1000</th>\n",
       "      <th>5</th>\n",
       "      <td>22</td>\n",
       "      <td>164</td>\n",
       "      <td>22</td>\n",
       "      <td>2257</td>\n",
       "      <td>1950</td>\n",
       "    </tr>\n",
       "    <tr>\n",
       "      <th>6</th>\n",
       "      <td>43</td>\n",
       "      <td>187</td>\n",
       "      <td>60</td>\n",
       "      <td>23262</td>\n",
       "      <td>1950</td>\n",
       "    </tr>\n",
       "    <tr>\n",
       "      <th>7</th>\n",
       "      <td>47</td>\n",
       "      <td>346</td>\n",
       "      <td>75</td>\n",
       "      <td>14017</td>\n",
       "      <td>1950</td>\n",
       "    </tr>\n",
       "    <tr>\n",
       "      <th>8</th>\n",
       "      <td>52</td>\n",
       "      <td>418</td>\n",
       "      <td>81</td>\n",
       "      <td>14072</td>\n",
       "      <td>1950</td>\n",
       "    </tr>\n",
       "    <tr>\n",
       "      <th>9</th>\n",
       "      <td>58</td>\n",
       "      <td>478</td>\n",
       "      <td>57</td>\n",
       "      <td>14583</td>\n",
       "      <td>1950</td>\n",
       "    </tr>\n",
       "    <tr>\n",
       "      <th>...</th>\n",
       "      <th>...</th>\n",
       "      <td>...</td>\n",
       "      <td>...</td>\n",
       "      <td>...</td>\n",
       "      <td>...</td>\n",
       "      <td>...</td>\n",
       "    </tr>\n",
       "    <tr>\n",
       "      <th>1498</th>\n",
       "      <th>10</th>\n",
       "      <td>41</td>\n",
       "      <td>258</td>\n",
       "      <td>42</td>\n",
       "      <td>20614</td>\n",
       "      <td>1750</td>\n",
       "    </tr>\n",
       "    <tr>\n",
       "      <th rowspan=\"4\" valign=\"top\">1499</th>\n",
       "      <th>9</th>\n",
       "      <td>9</td>\n",
       "      <td>71</td>\n",
       "      <td>11</td>\n",
       "      <td>1849</td>\n",
       "      <td>550</td>\n",
       "    </tr>\n",
       "    <tr>\n",
       "      <th>10</th>\n",
       "      <td>68</td>\n",
       "      <td>473</td>\n",
       "      <td>48</td>\n",
       "      <td>17824</td>\n",
       "      <td>1150</td>\n",
       "    </tr>\n",
       "    <tr>\n",
       "      <th>11</th>\n",
       "      <td>74</td>\n",
       "      <td>624</td>\n",
       "      <td>59</td>\n",
       "      <td>17994</td>\n",
       "      <td>1549</td>\n",
       "    </tr>\n",
       "    <tr>\n",
       "      <th>12</th>\n",
       "      <td>69</td>\n",
       "      <td>505</td>\n",
       "      <td>66</td>\n",
       "      <td>13082</td>\n",
       "      <td>613</td>\n",
       "    </tr>\n",
       "  </tbody>\n",
       "</table>\n",
       "<p>2603 rows × 5 columns</p>\n",
       "</div>"
      ],
      "text/plain": [
       "               calls_made  minutes_spent  messages_sent  mb_spent  revenue\n",
       "user_id month                                                             \n",
       "1000    5              22            164             22      2257     1950\n",
       "        6              43            187             60     23262     1950\n",
       "        7              47            346             75     14017     1950\n",
       "        8              52            418             81     14072     1950\n",
       "        9              58            478             57     14583     1950\n",
       "...                   ...            ...            ...       ...      ...\n",
       "1498    10             41            258             42     20614     1750\n",
       "1499    9               9             71             11      1849      550\n",
       "        10             68            473             48     17824     1150\n",
       "        11             74            624             59     17994     1549\n",
       "        12             69            505             66     13082      613\n",
       "\n",
       "[2603 rows x 5 columns]"
      ]
     },
     "execution_count": 167,
     "metadata": {},
     "output_type": "execute_result"
    }
   ],
   "source": [
    "# Создание таблицы данными по пользователям не из Москвы\n",
    "non_moscow_users = full_pivot.copy().loc[list(filter(lambda ID: ID in full_pivot.index, tuple(users[users['city'] != 'Москва'].index)))]\n",
    "non_moscow_users"
   ]
  },
  {
   "cell_type": "code",
   "execution_count": 168,
   "metadata": {},
   "outputs": [
    {
     "name": "stdout",
     "output_type": "stream",
     "text": [
      "p-значение: 0.578869733775166\n",
      "Не получилось отвергнуть нулевую гипотезу, гласящую, что средняя выручка пользователей из Москвы и из других регионов одинакова\n"
     ]
    }
   ],
   "source": [
    "# Проведение t-теста Стьюдента для выборок по пользователям из Москвы и из других регионов\n",
    "# Дисперсию генеральных совокупностей считаем одинаковой, так как, предположительно,\n",
    "# у пользователей из разных регионов траты должны примерно совпадать ввиду использования одних и тех же тарифов \n",
    "results = st.ttest_ind(moscow_users['revenue'], non_moscow_users['revenue'])\n",
    "\n",
    "print('p-значение:', results.pvalue)\n",
    "\n",
    "if (results.pvalue < alpha):\n",
    "    print(\"Отвергаем нулевую гипотезу, гласящую, что средняя выручка пользователей из Москвы и из других регионов одинакова\")\n",
    "else:\n",
    "    print(\"Не получилось отвергнуть нулевую гипотезу, гласящую, что средняя выручка пользователей из Москвы и из других регионов одинакова\")"
   ]
  },
  {
   "cell_type": "markdown",
   "metadata": {},
   "source": [
    "### Гипотеза о том, что выручка тарифа «Смарт» меньше"
   ]
  },
  {
   "cell_type": "code",
   "execution_count": 169,
   "metadata": {},
   "outputs": [
    {
     "data": {
      "text/plain": [
       "count    2229.000000\n",
       "mean     1312.512337\n",
       "std       830.938122\n",
       "min       550.000000\n",
       "25%       553.000000\n",
       "50%      1075.000000\n",
       "75%      1757.000000\n",
       "max      6824.000000\n",
       "Name: revenue, dtype: float64"
      ]
     },
     "execution_count": 169,
     "metadata": {},
     "output_type": "execute_result"
    }
   ],
   "source": [
    "# Основные статистические параметры выручки пользователей тарифа Smart\n",
    "smart_users['revenue'].describe()"
   ]
  },
  {
   "cell_type": "code",
   "execution_count": 170,
   "metadata": {},
   "outputs": [
    {
     "data": {
      "text/plain": [
       "count     985.000000\n",
       "mean     2071.065990\n",
       "std       378.802377\n",
       "min      1950.000000\n",
       "25%      1950.000000\n",
       "50%      1950.000000\n",
       "75%      1950.000000\n",
       "max      4800.000000\n",
       "Name: revenue, dtype: float64"
      ]
     },
     "execution_count": 170,
     "metadata": {},
     "output_type": "execute_result"
    }
   ],
   "source": [
    "# Основные статистические параметры выручки пользователей тарифа Ultra\n",
    "ultra_users['revenue'].describe()"
   ]
  },
  {
   "cell_type": "code",
   "execution_count": 171,
   "metadata": {},
   "outputs": [
    {
     "data": {
      "image/png": "[encoded data removed]",
      "text/plain": [
       "<Figure size 1080x720 with 1 Axes>"
      ]
     },
     "metadata": {
      "needs_background": "light"
     },
     "output_type": "display_data"
    }
   ],
   "source": [
    "ax = smart_users['revenue'].hist(bins=68, figsize=(15, 10), label='Smart')\n",
    "ultra_users['revenue'].hist(bins=48, ax=ax, label='Ultra', alpha=0.8)\n",
    "ax.legend(loc='best', fontsize='x-large')\n",
    "plt.xlabel('Выручка в месяц');\n",
    "plt.grid(linewidth=0.5)\n",
    "plt.title('Распределение выручки в месяц для двух тарифов')\n",
    "plt.show()"
   ]
  },
  {
   "cell_type": "code",
   "execution_count": 172,
   "metadata": {},
   "outputs": [
    {
     "name": "stdout",
     "output_type": "stream",
     "text": [
      "p-значение: 6.248355134982764e-234\n",
      "Отвергаем нулевую гипотезу, гласящую, что средняя выручка пользователей тарифов «Ультра» и «Смарт» одинакова - средняя выручка тарифа «Смарт» меньше выручки тарифа «Ультра»\n"
     ]
    }
   ],
   "source": [
    "# Проведение t-теста Стьюдента для выборок по пользователям 2 тарифов\n",
    "# Дисперсию генеральных совокупностей считаем различной, так как, предположительно,\n",
    "# у пользователей двух тарифов должны значительно различатся траты, ввиду отличия базовой стоимости тарифов и результатов анализа звонков, сообщений и интернет-трафика\n",
    "results = st.ttest_ind(smart_users['revenue'], ultra_users['revenue'], equal_var=False)\n",
    "\n",
    "print('p-значение:', results.pvalue / 2)\n",
    "\n",
    "if ((results.pvalue / 2 < alpha) and (smart_users['revenue'].mean() < ultra_users['revenue'].mean())):\n",
    "    print(\"Отвергаем нулевую гипотезу, гласящую, что средняя выручка пользователей тарифов «Ультра» и «Смарт» одинакова - средняя выручка тарифа «Смарт» меньше выручки тарифа «Ультра»\")\n",
    "else:\n",
    "    print(\"Не получилось отвергнуть нулевую гипотезу, гласящую, что средняя выручка пользователей тарифов «Ультра» и «Смарт» одинакова\")"
   ]
  },
  {
   "cell_type": "markdown",
   "metadata": {},
   "source": [
    "### Выводы (шаг 4)"
   ]
  },
  {
   "cell_type": "markdown",
   "metadata": {},
   "source": [
    "__Гипотеза о различие средней выручки пользователей тарифов «Ультра» и «Смарт»__\n",
    "\n",
    "Были сформулированы 2 гипотезы:\n",
    "- __H<sub>0</sub>__ - \"средняя выручка пользователей тарифов «Ультра» и «Смарт» одинакова\";\n",
    "- __H<sub>1</sub>__ - \"средняя выручка пользователей тарифов «Ультра» и «Смарт» различается\";\n",
    "\n",
    "За нулевую гипотезу принята гипотеза о равенстве средних генеральных совокупностей, поскольку применение гипотезы со знаком равенства в качестве нулевой позволяет избежать сравнения экстремальных значений. Хотя, основываясь на результатах анализа и отличия базовой стоимости тарифов можно предположить, что средние значения генеральных совокупностей буду различаться.\n",
    "\n",
    "Для проверки гипотезы был проведен t-тест Стьюдента для сравнения средних двух независимых генеральных совокупностей, поскольку преполагается, что значения генеральных совокупностей выручки по пользователям тарифа не зависят друг от друга. В результате проведения t-теста было получено p-value, равное 1.2496710269965528e-233. Это означает, что мы отвергаем __H<sub>0</sub>__ и предполагаем, что средняя выручка пользователей тарифов различается поскольку вероятность случайно получить имеющееся или большее различие в выборках крайне мала, при условии, что __H<sub>0</sub>__ верна.\n",
    "\n",
    "__Гипотеза о различие средней выручки пользователей из Москвы и других регионов__\n",
    "\n",
    "Были сформулированы 2 гипотезы:\n",
    "- __H<sub>0</sub>__ - \"средняя выручка пользователей из Москвы и из других регионов одинакова\";\n",
    "- __H<sub>1</sub>__ - \"средняя выручка пользователей из Москвы и из других регионов различается\";\n",
    "\n",
    "За нулевую гипотезу принята гипотеза о равенстве средних генеральных совокупностей, поскольку применение гипотезы со знаком равенства в качестве нулевой позволяет избежать сравнения экстремальных значений.\n",
    "\n",
    "Для проверки гипотезы был проведен t-тест Стьюдента для сравнения средних двух независимых генеральных совокупностей, поскольку преполагается, что значения генеральных совокупностей выручки по пользователям из Москвы и из других регионов не зависят друг от друга. В результате проведения t-теста было получено p-value, равное 0.578869733775166. Это означает, что мы не отвергаем __H<sub>0</sub>__, поскольку вероятность случайно получить имеющееся или большее различие в выборках равна 58%, , при условии, что __H<sub>0</sub>__ верна, что является достаточно высокой вероятностью.\n",
    "\n",
    "Для проверки обеих гипотез (о различие выручки по тарифам и по регионам) используется уровень значимости, равный 5%, так как мы проверяем двусторонние гипотезы.\n",
    "\n",
    "__Гипотеза о том, что выручка тарифа Smart меньше__\n",
    "\n",
    "Были сформулированы 2 гипотезы:\n",
    "- __H<sub>0</sub>__ - \"средняя выручка пользователей тарифов «Ультра» и «Смарт» одинакова\";\n",
    "- __H<sub>1</sub>__ - \"средняя выручка пользователей тарифа «Смарт» меньше средней выручки пользователей тарифа «Ультра»\";\n",
    "\n",
    "За нулевую гипотезу принята гипотеза о равенстве средних генеральных совокупностей, поскольку применение гипотезы со знаком равенства в качестве нулевой позволяет избежать сравнения экстремальных значений. Хотя, основываясь на результатах анализа и отличия базовой стоимости тарифов можно предположить, что средние значения генеральной совокупности тарифа __Smart__ меньше, чем у тарифа __Ultra__.\n",
    "\n",
    "Для проверки гипотезы был проведен t-тест Стьюдента для сравнения средних двух независимых генеральных совокупностей, поскольку преполагается, что значения генеральных совокупностей выручки по пользователям тарифа не зависят друг от друга. В результате проведения t-теста было получено p-value, равное 6.248355134982764e-234. Это означает, что мы отвергаем __H<sub>0</sub>__ и предполагаем, что средняя выручка тарифа __Smart__ меньше выручки тарифа __Ultra__ поскольку;\n",
    "- вероятность случайно получить имеющееся или большее различие в выборках крайне мала, при условии, что __H<sub>0</sub>__ верна;\n",
    "- среднее значение выборки выручки для пользователей тарифа __Smart__ меньше среднего значения выборки выручки для пользователей тарифа __Ultra__, что подтверждается построенной гистограммой распределения для выручки по тарифам.\n",
    "\n",
    "Для проверки гипотезы используется уровень значимости, равный 2.5%, так как мы проверяем одностороннюю гипотезу."
   ]
  },
  {
   "cell_type": "markdown",
   "metadata": {},
   "source": [
    "## Шаг 5. Общий вывод"
   ]
  },
  {
   "cell_type": "markdown",
   "metadata": {},
   "source": [
    "Основной задачей, указанной в описании проекта, является \"сделать вывод — какой тариф лучше\".\n",
    "В результате анализа данных клиентов двух тарифов был сделан вывод, что лучшим, с точки зрения выручки с одного пользователя, можно считать тариф \"Ультра\". Данное утверждение можно сделать исходя из следующих результатов анализа данных клиентов:\n",
    "- Большинству пользователей тарифа __Smart__ хватает 560 минут разговора и 1014 минут для 99% пользователей, у тарифа __Ultra__ данные показатели больше - 773 и 1518 минут, соответственно;\n",
    "- У обоих тарифов большинству пользователей хватает включенного пакета СМС, хотя у тарифа __Ultra__ данный показатели больше - 50 против 33 у пользователей тарифа __Smart__. Этот фактор в наименьшей степени влияет на конечную выручку с пользователя;\n",
    "- Большинству пользователей тарифа __Smart__ хватает 20 Гб интернет-трафика и 33 Гб для 99% пользователей, у тарифа __Ultra__ данные показатели больше - 26 и 49 Гб, соответственно;\n",
    "- Средняя выручка пользователей тарифов отличается. Это подтверждает проведенный t-тест для двух выборок, который показал, что вероятностью случайно получить имеющееся или большее различие в выборках равна 1.2496710269965528e-233 (стремится к нулю), при условии, что H<sub>0</sub> верна. Где H<sub>0</sub> - гипотеза, гласящая, что средняя выручка пользователей тарифов __Ultra__ и __Smart__ одинакова;\n",
    "- Нельзя отклонить гипотезу (H<sub>0</sub>) о том, что средняя выручка пользователей из Москвы и из других регионов одинакова. Это подтверждает проведенный t-тест для двух выборок, который показал, что вероятность случайно получить имеющееся или большее различие в выборках из Москвы и из других регионов равна 58%, что является слишком большим значением, чтобы отвергнуть гипотезу H<sub>0</sub>. Это позволяет сделать вывод о том, что гипотезы о различие средней выручки для тарифов будут актуальны и для Москвы и для других регионов;\n",
    "- Средняя выручка пользователей тарифа __Ultra__ больше выручки тарифа __Smart__. Это подтверждает проведенный t-тест для двух выборок, гипотеза H<sub>0</sub> которого также звучала, как \"средняя выручка пользователей тарифов __Ultra__ и __Smart__ одинакова\", а гипотеза H<sub>1</sub> звучала как \"средняя выручка пользователей тарифа __Smart__ меньше средней выручки пользователей тарифа __Ultra__\". t-тест показал, что мы отвергаем H<sub>0</sub> и предполагаем, что средняя выручка тарифа __Smart__ меньше выручки тарифа __Ultra__ поскольку;\n",
    "    - вероятность случайно получить имеющееся или большее различие в выборках равна 6.248355134982764e-234 (стремится к нулю), при условии, что H<sub>0</sub> верна;\n",
    "    - среднее значение выборки выручки для пользователей тарифа __Smart__ меньше среднего значения выборки выручки для пользователей тарифа __Ultra__, что подтверждается построенной гистограммой распределения для выручки по тарифам.\n",
    "    \n",
    "Важно отметить, что возможно сделать вывод о лучшем тарифе только с точки зрения выручки с одного пользователя. Имеющийся набор данных не позволяет судить о соотношение имеющихся у оператора пользователей с этими тарифами. Это не позволяет проверить гипотезу, что, предположительно, несмотря на то, что с пользователей тарифа __Smart__ выручка в среднем меньше, таких пользователей намного больше, и в совокупности они приносят значительно больший доход, чем пользователи тарифа __Ultra__."
   ]
  },
  {
   "cell_type": "markdown",
   "metadata": {},
   "source": [
    "## Чек-лист готовности проекта"
   ]
  },
  {
   "cell_type": "markdown",
   "metadata": {},
   "source": [
    "- [x] Открыты файлы\n",
    "- [x] Файлы изучены\n",
    "\n",
    "\n",
    "- [x] Приведите данные к нужным типам.\n",
    "- [x] Найдите и исправьте ошибки в данных.\n",
    "- [x] Поясните, какие ошибки вы нашли и как их исправили.\n",
    "- [x] Обратите внимание, что у большого количества звонков длительность — 0.0 минут. Это проблема в данных, нужна предобработка.\n",
    "\n",
    "\n",
    "Посчитайте для каждого пользователя:\n",
    "- [x] количество сделанных звонков и израсходованных минут разговора по месяцам;\n",
    "- [x] количество отправленных сообщений по месяцам;\n",
    "- [x] объем израсходованного интернет-трафика по месяцам;\n",
    "- [x] помесячную выручку с каждого пользователя (вычтите бесплатный лимит из суммарного количества звонков, сообщений и интернет-трафика; остаток умножьте на значение из тарифного плана; прибавьте абонентскую плату, соответствующую тарифному плану).\n",
    "\n",
    "\n",
    "Опишите поведение клиентов оператора, исходя из выборки:\n",
    "- [x] Сколько минут разговора, сколько сообщений и какой объём интернет-трафика требуется пользователям каждого тарифа в месяц? \n",
    "- [x] Посчитайте среднее количество, дисперсию и стандартное отклонение. \n",
    "- [x] Постройте гистограммы. \n",
    "- [x] Опишите распределения.\n",
    "\n",
    "\n",
    "Проверьте гипотезы:\n",
    "- [x] средняя выручка пользователей тарифов «Ультра» и «Смарт» различается;\n",
    "- [x] средняя выручка пользователей из Москвы отличается от выручки пользователей из других регионов;\n",
    "\n",
    "\n",
    "Поясните:\n",
    "- [x] как вы формулировали нулевую и альтернативную гипотезы;\n",
    "- [x] какой критерий использовали для проверки гипотез и почему.\n",
    "\n",
    "\n",
    "- [x] в каждом этапе есть выводы\n",
    "\n",
    "\n",
    "- [x] есть общий вывод"
   ]
  }
 ],
 "metadata": {
  "kernelspec": {
   "display_name": "praktikum",
   "language": "python",
   "name": "praktikum"
  },
  "language_info": {
   "codemirror_mode": {
    "name": "ipython",
    "version": 3
   },
   "file_extension": ".py",
   "mimetype": "text/x-python",
   "name": "python",
   "nbconvert_exporter": "python",
   "pygments_lexer": "ipython3",
   "version": "3.9.6"
  },
  "toc-autonumbering": true,
  "toc-showtags": false
 },
 "nbformat": 4,
 "nbformat_minor": 4
}
