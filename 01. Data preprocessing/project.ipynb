{
 "cells": [
  {
   "cell_type": "markdown",
   "metadata": {
    "tags": []
   },
   "source": [
    "# Исследование надёжности заёмщиков\n",
    "\n",
    "Входные данные — статистика о платёжеспособности клиентов банка.\n",
    "\n",
    "Задача - определить, влияет ли семейное положение и количество детей клиента на факт погашения кредита в срок."
   ]
  },
  {
   "cell_type": "markdown",
   "metadata": {},
   "source": [
    "## Оглавление\n",
    "\n",
    "* [Шаг 1. Откройте файл с данными и изучите общую информацию.](#Шаг-1.-Откройте-файл-с-данными-и-изучите-общую-информацию.)\n",
    "* [Шаг 2. Предобработка данных](#Шаг-2.-Предобработка-данных)\n",
    "    * [Обработка пропусков](#Обработка-пропусков)\n",
    "    * [Замена типа данных](#Замена-типа-данных)\n",
    "    * [Обработка дубликатов](#Обработка-дубликатов)\n",
    "    * [Лемматизация](#Лемматизация)\n",
    "    * [Категоризация данных](#Категоризация-данных)\n",
    "* [Шаг 3. Ответьте на вопросы](#Шаг-3.-Ответьте-на-вопросы)\n",
    "    * [Есть ли зависимость между наличием детей и возвратом кредита в срок?](#Есть-ли-зависимость-между-наличием-детей-и-возвратом-кредита-в-срок?)\n",
    "    * [Есть ли зависимость между семейным положением и возвратом кредита в срок?](#Есть-ли-зависимость-между-семейным-положением-и-возвратом-кредита-в-срок?)\n",
    "    * [Есть ли зависимость между уровнем дохода и возвратом кредита в срок?](#Есть-ли-зависимость-между-уровнем-дохода-и-возвратом-кредита-в-срок?)\n",
    "    * [Как разные цели кредита влияют на его возврат в срок?](#Как-разные-цели-кредита-влияют-на-его-возврат-в-срок?)\n",
    "* [Шаг 4. Общий вывод](#Шаг-4.-Общий-вывод)"
   ]
  },
  {
   "cell_type": "markdown",
   "metadata": {},
   "source": [
    "## Шаг 1. Откройте файл с данными и изучите общую информацию. "
   ]
  },
  {
   "cell_type": "code",
   "execution_count": 1,
   "metadata": {},
   "outputs": [
    {
     "name": "stdout",
     "output_type": "stream",
     "text": [
      "<class 'pandas.core.frame.DataFrame'>\n",
      "RangeIndex: 21525 entries, 0 to 21524\n",
      "Data columns (total 12 columns):\n",
      " #   Column            Non-Null Count  Dtype  \n",
      "---  ------            --------------  -----  \n",
      " 0   children          21525 non-null  int64  \n",
      " 1   days_employed     19351 non-null  float64\n",
      " 2   dob_years         21525 non-null  int64  \n",
      " 3   education         21525 non-null  object \n",
      " 4   education_id      21525 non-null  int64  \n",
      " 5   family_status     21525 non-null  object \n",
      " 6   family_status_id  21525 non-null  int64  \n",
      " 7   gender            21525 non-null  object \n",
      " 8   income_type       21525 non-null  object \n",
      " 9   debt              21525 non-null  int64  \n",
      " 10  total_income      19351 non-null  float64\n",
      " 11  purpose           21525 non-null  object \n",
      "dtypes: float64(2), int64(5), object(5)\n",
      "memory usage: 2.0+ MB\n"
     ]
    }
   ],
   "source": [
    "import pandas as pd\n",
    "\n",
    "data = pd.read_csv('data.csv')\n",
    "\n",
    "data.info() #вывод общей информации о данных"
   ]
  },
  {
   "cell_type": "code",
   "execution_count": 2,
   "metadata": {},
   "outputs": [
    {
     "data": {
      "text/html": [
       "<div>\n",
       "<style scoped>\n",
       "    .dataframe tbody tr th:only-of-type {\n",
       "        vertical-align: middle;\n",
       "    }\n",
       "\n",
       "    .dataframe tbody tr th {\n",
       "        vertical-align: top;\n",
       "    }\n",
       "\n",
       "    .dataframe thead th {\n",
       "        text-align: right;\n",
       "    }\n",
       "</style>\n",
       "<table border=\"1\" class=\"dataframe\">\n",
       "  <thead>\n",
       "    <tr style=\"text-align: right;\">\n",
       "      <th></th>\n",
       "      <th>children</th>\n",
       "      <th>days_employed</th>\n",
       "      <th>dob_years</th>\n",
       "      <th>education_id</th>\n",
       "      <th>family_status_id</th>\n",
       "      <th>debt</th>\n",
       "      <th>total_income</th>\n",
       "    </tr>\n",
       "  </thead>\n",
       "  <tbody>\n",
       "    <tr>\n",
       "      <th>count</th>\n",
       "      <td>21525.000000</td>\n",
       "      <td>19351.000000</td>\n",
       "      <td>21525.000000</td>\n",
       "      <td>21525.000000</td>\n",
       "      <td>21525.000000</td>\n",
       "      <td>21525.000000</td>\n",
       "      <td>1.935100e+04</td>\n",
       "    </tr>\n",
       "    <tr>\n",
       "      <th>mean</th>\n",
       "      <td>0.538908</td>\n",
       "      <td>63046.497661</td>\n",
       "      <td>43.293380</td>\n",
       "      <td>0.817236</td>\n",
       "      <td>0.972544</td>\n",
       "      <td>0.080883</td>\n",
       "      <td>1.674223e+05</td>\n",
       "    </tr>\n",
       "    <tr>\n",
       "      <th>std</th>\n",
       "      <td>1.381587</td>\n",
       "      <td>140827.311974</td>\n",
       "      <td>12.574584</td>\n",
       "      <td>0.548138</td>\n",
       "      <td>1.420324</td>\n",
       "      <td>0.272661</td>\n",
       "      <td>1.029716e+05</td>\n",
       "    </tr>\n",
       "    <tr>\n",
       "      <th>min</th>\n",
       "      <td>-1.000000</td>\n",
       "      <td>-18388.949901</td>\n",
       "      <td>0.000000</td>\n",
       "      <td>0.000000</td>\n",
       "      <td>0.000000</td>\n",
       "      <td>0.000000</td>\n",
       "      <td>2.066726e+04</td>\n",
       "    </tr>\n",
       "    <tr>\n",
       "      <th>25%</th>\n",
       "      <td>0.000000</td>\n",
       "      <td>-2747.423625</td>\n",
       "      <td>33.000000</td>\n",
       "      <td>1.000000</td>\n",
       "      <td>0.000000</td>\n",
       "      <td>0.000000</td>\n",
       "      <td>1.030532e+05</td>\n",
       "    </tr>\n",
       "    <tr>\n",
       "      <th>50%</th>\n",
       "      <td>0.000000</td>\n",
       "      <td>-1203.369529</td>\n",
       "      <td>42.000000</td>\n",
       "      <td>1.000000</td>\n",
       "      <td>0.000000</td>\n",
       "      <td>0.000000</td>\n",
       "      <td>1.450179e+05</td>\n",
       "    </tr>\n",
       "    <tr>\n",
       "      <th>75%</th>\n",
       "      <td>1.000000</td>\n",
       "      <td>-291.095954</td>\n",
       "      <td>53.000000</td>\n",
       "      <td>1.000000</td>\n",
       "      <td>1.000000</td>\n",
       "      <td>0.000000</td>\n",
       "      <td>2.034351e+05</td>\n",
       "    </tr>\n",
       "    <tr>\n",
       "      <th>max</th>\n",
       "      <td>20.000000</td>\n",
       "      <td>401755.400475</td>\n",
       "      <td>75.000000</td>\n",
       "      <td>4.000000</td>\n",
       "      <td>4.000000</td>\n",
       "      <td>1.000000</td>\n",
       "      <td>2.265604e+06</td>\n",
       "    </tr>\n",
       "  </tbody>\n",
       "</table>\n",
       "</div>"
      ],
      "text/plain": [
       "           children  days_employed     dob_years  education_id  \\\n",
       "count  21525.000000   19351.000000  21525.000000  21525.000000   \n",
       "mean       0.538908   63046.497661     43.293380      0.817236   \n",
       "std        1.381587  140827.311974     12.574584      0.548138   \n",
       "min       -1.000000  -18388.949901      0.000000      0.000000   \n",
       "25%        0.000000   -2747.423625     33.000000      1.000000   \n",
       "50%        0.000000   -1203.369529     42.000000      1.000000   \n",
       "75%        1.000000    -291.095954     53.000000      1.000000   \n",
       "max       20.000000  401755.400475     75.000000      4.000000   \n",
       "\n",
       "       family_status_id          debt  total_income  \n",
       "count      21525.000000  21525.000000  1.935100e+04  \n",
       "mean           0.972544      0.080883  1.674223e+05  \n",
       "std            1.420324      0.272661  1.029716e+05  \n",
       "min            0.000000      0.000000  2.066726e+04  \n",
       "25%            0.000000      0.000000  1.030532e+05  \n",
       "50%            0.000000      0.000000  1.450179e+05  \n",
       "75%            1.000000      0.000000  2.034351e+05  \n",
       "max            4.000000      1.000000  2.265604e+06  "
      ]
     },
     "execution_count": 2,
     "metadata": {},
     "output_type": "execute_result"
    }
   ],
   "source": [
    "data.describe()"
   ]
  },
  {
   "cell_type": "markdown",
   "metadata": {},
   "source": [
    "#### Вывод"
   ]
  },
  {
   "cell_type": "markdown",
   "metadata": {},
   "source": [
    "Файл с данным содержит 12 столбцов (5 целочисленных столбцов, 5 столбцов с плавающей точкой и 5 объектов) и 21525 строк данных.\n",
    "\n",
    "На первый взгляд, названия столбцов выглядят адекватно и не содержат изъянов.\n",
    "\n",
    "В столбцах days_employed и total_income присутствуют пропущенные значения. Причем, их количество одинаково, возможно, это важно, на это нужно будет обратить внимание при предобработке данных."
   ]
  },
  {
   "cell_type": "markdown",
   "metadata": {},
   "source": [
    "## Шаг 2. Предобработка данных"
   ]
  },
  {
   "cell_type": "markdown",
   "metadata": {},
   "source": [
    "### Обработка пропусков"
   ]
  },
  {
   "cell_type": "markdown",
   "metadata": {},
   "source": [
    "#### Просмотр общей информации"
   ]
  },
  {
   "cell_type": "code",
   "execution_count": 3,
   "metadata": {},
   "outputs": [
    {
     "data": {
      "text/html": [
       "<div>\n",
       "<style scoped>\n",
       "    .dataframe tbody tr th:only-of-type {\n",
       "        vertical-align: middle;\n",
       "    }\n",
       "\n",
       "    .dataframe tbody tr th {\n",
       "        vertical-align: top;\n",
       "    }\n",
       "\n",
       "    .dataframe thead th {\n",
       "        text-align: right;\n",
       "    }\n",
       "</style>\n",
       "<table border=\"1\" class=\"dataframe\">\n",
       "  <thead>\n",
       "    <tr style=\"text-align: right;\">\n",
       "      <th></th>\n",
       "      <th>children</th>\n",
       "      <th>days_employed</th>\n",
       "      <th>dob_years</th>\n",
       "      <th>education</th>\n",
       "      <th>education_id</th>\n",
       "      <th>family_status</th>\n",
       "      <th>family_status_id</th>\n",
       "      <th>gender</th>\n",
       "      <th>income_type</th>\n",
       "      <th>debt</th>\n",
       "      <th>total_income</th>\n",
       "      <th>purpose</th>\n",
       "    </tr>\n",
       "  </thead>\n",
       "  <tbody>\n",
       "    <tr>\n",
       "      <th>0</th>\n",
       "      <td>1</td>\n",
       "      <td>-8437.673028</td>\n",
       "      <td>42</td>\n",
       "      <td>высшее</td>\n",
       "      <td>0</td>\n",
       "      <td>женат / замужем</td>\n",
       "      <td>0</td>\n",
       "      <td>F</td>\n",
       "      <td>сотрудник</td>\n",
       "      <td>0</td>\n",
       "      <td>253875.639453</td>\n",
       "      <td>покупка жилья</td>\n",
       "    </tr>\n",
       "    <tr>\n",
       "      <th>1</th>\n",
       "      <td>1</td>\n",
       "      <td>-4024.803754</td>\n",
       "      <td>36</td>\n",
       "      <td>среднее</td>\n",
       "      <td>1</td>\n",
       "      <td>женат / замужем</td>\n",
       "      <td>0</td>\n",
       "      <td>F</td>\n",
       "      <td>сотрудник</td>\n",
       "      <td>0</td>\n",
       "      <td>112080.014102</td>\n",
       "      <td>приобретение автомобиля</td>\n",
       "    </tr>\n",
       "    <tr>\n",
       "      <th>2</th>\n",
       "      <td>0</td>\n",
       "      <td>-5623.422610</td>\n",
       "      <td>33</td>\n",
       "      <td>Среднее</td>\n",
       "      <td>1</td>\n",
       "      <td>женат / замужем</td>\n",
       "      <td>0</td>\n",
       "      <td>M</td>\n",
       "      <td>сотрудник</td>\n",
       "      <td>0</td>\n",
       "      <td>145885.952297</td>\n",
       "      <td>покупка жилья</td>\n",
       "    </tr>\n",
       "    <tr>\n",
       "      <th>3</th>\n",
       "      <td>3</td>\n",
       "      <td>-4124.747207</td>\n",
       "      <td>32</td>\n",
       "      <td>среднее</td>\n",
       "      <td>1</td>\n",
       "      <td>женат / замужем</td>\n",
       "      <td>0</td>\n",
       "      <td>M</td>\n",
       "      <td>сотрудник</td>\n",
       "      <td>0</td>\n",
       "      <td>267628.550329</td>\n",
       "      <td>дополнительное образование</td>\n",
       "    </tr>\n",
       "    <tr>\n",
       "      <th>4</th>\n",
       "      <td>0</td>\n",
       "      <td>340266.072047</td>\n",
       "      <td>53</td>\n",
       "      <td>среднее</td>\n",
       "      <td>1</td>\n",
       "      <td>гражданский брак</td>\n",
       "      <td>1</td>\n",
       "      <td>F</td>\n",
       "      <td>пенсионер</td>\n",
       "      <td>0</td>\n",
       "      <td>158616.077870</td>\n",
       "      <td>сыграть свадьбу</td>\n",
       "    </tr>\n",
       "    <tr>\n",
       "      <th>5</th>\n",
       "      <td>0</td>\n",
       "      <td>-926.185831</td>\n",
       "      <td>27</td>\n",
       "      <td>высшее</td>\n",
       "      <td>0</td>\n",
       "      <td>гражданский брак</td>\n",
       "      <td>1</td>\n",
       "      <td>M</td>\n",
       "      <td>компаньон</td>\n",
       "      <td>0</td>\n",
       "      <td>255763.565419</td>\n",
       "      <td>покупка жилья</td>\n",
       "    </tr>\n",
       "    <tr>\n",
       "      <th>6</th>\n",
       "      <td>0</td>\n",
       "      <td>-2879.202052</td>\n",
       "      <td>43</td>\n",
       "      <td>высшее</td>\n",
       "      <td>0</td>\n",
       "      <td>женат / замужем</td>\n",
       "      <td>0</td>\n",
       "      <td>F</td>\n",
       "      <td>компаньон</td>\n",
       "      <td>0</td>\n",
       "      <td>240525.971920</td>\n",
       "      <td>операции с жильем</td>\n",
       "    </tr>\n",
       "    <tr>\n",
       "      <th>7</th>\n",
       "      <td>0</td>\n",
       "      <td>-152.779569</td>\n",
       "      <td>50</td>\n",
       "      <td>СРЕДНЕЕ</td>\n",
       "      <td>1</td>\n",
       "      <td>женат / замужем</td>\n",
       "      <td>0</td>\n",
       "      <td>M</td>\n",
       "      <td>сотрудник</td>\n",
       "      <td>0</td>\n",
       "      <td>135823.934197</td>\n",
       "      <td>образование</td>\n",
       "    </tr>\n",
       "    <tr>\n",
       "      <th>8</th>\n",
       "      <td>2</td>\n",
       "      <td>-6929.865299</td>\n",
       "      <td>35</td>\n",
       "      <td>ВЫСШЕЕ</td>\n",
       "      <td>0</td>\n",
       "      <td>гражданский брак</td>\n",
       "      <td>1</td>\n",
       "      <td>F</td>\n",
       "      <td>сотрудник</td>\n",
       "      <td>0</td>\n",
       "      <td>95856.832424</td>\n",
       "      <td>на проведение свадьбы</td>\n",
       "    </tr>\n",
       "    <tr>\n",
       "      <th>9</th>\n",
       "      <td>0</td>\n",
       "      <td>-2188.756445</td>\n",
       "      <td>41</td>\n",
       "      <td>среднее</td>\n",
       "      <td>1</td>\n",
       "      <td>женат / замужем</td>\n",
       "      <td>0</td>\n",
       "      <td>M</td>\n",
       "      <td>сотрудник</td>\n",
       "      <td>0</td>\n",
       "      <td>144425.938277</td>\n",
       "      <td>покупка жилья для семьи</td>\n",
       "    </tr>\n",
       "    <tr>\n",
       "      <th>10</th>\n",
       "      <td>2</td>\n",
       "      <td>-4171.483647</td>\n",
       "      <td>36</td>\n",
       "      <td>высшее</td>\n",
       "      <td>0</td>\n",
       "      <td>женат / замужем</td>\n",
       "      <td>0</td>\n",
       "      <td>M</td>\n",
       "      <td>компаньон</td>\n",
       "      <td>0</td>\n",
       "      <td>113943.491460</td>\n",
       "      <td>покупка недвижимости</td>\n",
       "    </tr>\n",
       "    <tr>\n",
       "      <th>11</th>\n",
       "      <td>0</td>\n",
       "      <td>-792.701887</td>\n",
       "      <td>40</td>\n",
       "      <td>среднее</td>\n",
       "      <td>1</td>\n",
       "      <td>женат / замужем</td>\n",
       "      <td>0</td>\n",
       "      <td>F</td>\n",
       "      <td>сотрудник</td>\n",
       "      <td>0</td>\n",
       "      <td>77069.234271</td>\n",
       "      <td>покупка коммерческой недвижимости</td>\n",
       "    </tr>\n",
       "    <tr>\n",
       "      <th>12</th>\n",
       "      <td>0</td>\n",
       "      <td>NaN</td>\n",
       "      <td>65</td>\n",
       "      <td>среднее</td>\n",
       "      <td>1</td>\n",
       "      <td>гражданский брак</td>\n",
       "      <td>1</td>\n",
       "      <td>M</td>\n",
       "      <td>пенсионер</td>\n",
       "      <td>0</td>\n",
       "      <td>NaN</td>\n",
       "      <td>сыграть свадьбу</td>\n",
       "    </tr>\n",
       "    <tr>\n",
       "      <th>13</th>\n",
       "      <td>0</td>\n",
       "      <td>-1846.641941</td>\n",
       "      <td>54</td>\n",
       "      <td>неоконченное высшее</td>\n",
       "      <td>2</td>\n",
       "      <td>женат / замужем</td>\n",
       "      <td>0</td>\n",
       "      <td>F</td>\n",
       "      <td>сотрудник</td>\n",
       "      <td>0</td>\n",
       "      <td>130458.228857</td>\n",
       "      <td>приобретение автомобиля</td>\n",
       "    </tr>\n",
       "    <tr>\n",
       "      <th>14</th>\n",
       "      <td>0</td>\n",
       "      <td>-1844.956182</td>\n",
       "      <td>56</td>\n",
       "      <td>высшее</td>\n",
       "      <td>0</td>\n",
       "      <td>гражданский брак</td>\n",
       "      <td>1</td>\n",
       "      <td>F</td>\n",
       "      <td>компаньон</td>\n",
       "      <td>1</td>\n",
       "      <td>165127.911772</td>\n",
       "      <td>покупка жилой недвижимости</td>\n",
       "    </tr>\n",
       "  </tbody>\n",
       "</table>\n",
       "</div>"
      ],
      "text/plain": [
       "    children  days_employed  dob_years            education  education_id  \\\n",
       "0          1   -8437.673028         42               высшее             0   \n",
       "1          1   -4024.803754         36              среднее             1   \n",
       "2          0   -5623.422610         33              Среднее             1   \n",
       "3          3   -4124.747207         32              среднее             1   \n",
       "4          0  340266.072047         53              среднее             1   \n",
       "5          0    -926.185831         27               высшее             0   \n",
       "6          0   -2879.202052         43               высшее             0   \n",
       "7          0    -152.779569         50              СРЕДНЕЕ             1   \n",
       "8          2   -6929.865299         35               ВЫСШЕЕ             0   \n",
       "9          0   -2188.756445         41              среднее             1   \n",
       "10         2   -4171.483647         36               высшее             0   \n",
       "11         0    -792.701887         40              среднее             1   \n",
       "12         0            NaN         65              среднее             1   \n",
       "13         0   -1846.641941         54  неоконченное высшее             2   \n",
       "14         0   -1844.956182         56               высшее             0   \n",
       "\n",
       "       family_status  family_status_id gender income_type  debt  \\\n",
       "0    женат / замужем                 0      F   сотрудник     0   \n",
       "1    женат / замужем                 0      F   сотрудник     0   \n",
       "2    женат / замужем                 0      M   сотрудник     0   \n",
       "3    женат / замужем                 0      M   сотрудник     0   \n",
       "4   гражданский брак                 1      F   пенсионер     0   \n",
       "5   гражданский брак                 1      M   компаньон     0   \n",
       "6    женат / замужем                 0      F   компаньон     0   \n",
       "7    женат / замужем                 0      M   сотрудник     0   \n",
       "8   гражданский брак                 1      F   сотрудник     0   \n",
       "9    женат / замужем                 0      M   сотрудник     0   \n",
       "10   женат / замужем                 0      M   компаньон     0   \n",
       "11   женат / замужем                 0      F   сотрудник     0   \n",
       "12  гражданский брак                 1      M   пенсионер     0   \n",
       "13   женат / замужем                 0      F   сотрудник     0   \n",
       "14  гражданский брак                 1      F   компаньон     1   \n",
       "\n",
       "     total_income                            purpose  \n",
       "0   253875.639453                      покупка жилья  \n",
       "1   112080.014102            приобретение автомобиля  \n",
       "2   145885.952297                      покупка жилья  \n",
       "3   267628.550329         дополнительное образование  \n",
       "4   158616.077870                    сыграть свадьбу  \n",
       "5   255763.565419                      покупка жилья  \n",
       "6   240525.971920                  операции с жильем  \n",
       "7   135823.934197                        образование  \n",
       "8    95856.832424              на проведение свадьбы  \n",
       "9   144425.938277            покупка жилья для семьи  \n",
       "10  113943.491460               покупка недвижимости  \n",
       "11   77069.234271  покупка коммерческой недвижимости  \n",
       "12            NaN                    сыграть свадьбу  \n",
       "13  130458.228857            приобретение автомобиля  \n",
       "14  165127.911772         покупка жилой недвижимости  "
      ]
     },
     "execution_count": 3,
     "metadata": {},
     "output_type": "execute_result"
    }
   ],
   "source": [
    "data.head(15)"
   ]
  },
  {
   "cell_type": "markdown",
   "metadata": {},
   "source": [
    "#### Анализ пропусков в столбцах days_employed и total_income"
   ]
  },
  {
   "cell_type": "code",
   "execution_count": 4,
   "metadata": {},
   "outputs": [
    {
     "data": {
      "text/plain": [
       "2174"
      ]
     },
     "execution_count": 4,
     "metadata": {},
     "output_type": "execute_result"
    }
   ],
   "source": [
    "# Проверка гипотезы о том, что пропущенный значения в столбцах days_employed и total_income связаны\n",
    "len(data[(data['days_employed'].isnull()) & (data['total_income'].isnull())])"
   ]
  },
  {
   "cell_type": "code",
   "execution_count": 5,
   "metadata": {},
   "outputs": [
    {
     "data": {
      "text/html": [
       "<div>\n",
       "<style scoped>\n",
       "    .dataframe tbody tr th:only-of-type {\n",
       "        vertical-align: middle;\n",
       "    }\n",
       "\n",
       "    .dataframe tbody tr th {\n",
       "        vertical-align: top;\n",
       "    }\n",
       "\n",
       "    .dataframe thead th {\n",
       "        text-align: right;\n",
       "    }\n",
       "</style>\n",
       "<table border=\"1\" class=\"dataframe\">\n",
       "  <thead>\n",
       "    <tr style=\"text-align: right;\">\n",
       "      <th></th>\n",
       "      <th>children</th>\n",
       "      <th>days_employed</th>\n",
       "      <th>dob_years</th>\n",
       "      <th>education</th>\n",
       "      <th>education_id</th>\n",
       "      <th>family_status</th>\n",
       "      <th>family_status_id</th>\n",
       "      <th>gender</th>\n",
       "      <th>income_type</th>\n",
       "      <th>debt</th>\n",
       "      <th>total_income</th>\n",
       "      <th>purpose</th>\n",
       "    </tr>\n",
       "  </thead>\n",
       "  <tbody>\n",
       "    <tr>\n",
       "      <th>12</th>\n",
       "      <td>0</td>\n",
       "      <td>NaN</td>\n",
       "      <td>65</td>\n",
       "      <td>среднее</td>\n",
       "      <td>1</td>\n",
       "      <td>гражданский брак</td>\n",
       "      <td>1</td>\n",
       "      <td>M</td>\n",
       "      <td>пенсионер</td>\n",
       "      <td>0</td>\n",
       "      <td>NaN</td>\n",
       "      <td>сыграть свадьбу</td>\n",
       "    </tr>\n",
       "    <tr>\n",
       "      <th>26</th>\n",
       "      <td>0</td>\n",
       "      <td>NaN</td>\n",
       "      <td>41</td>\n",
       "      <td>среднее</td>\n",
       "      <td>1</td>\n",
       "      <td>женат / замужем</td>\n",
       "      <td>0</td>\n",
       "      <td>M</td>\n",
       "      <td>госслужащий</td>\n",
       "      <td>0</td>\n",
       "      <td>NaN</td>\n",
       "      <td>образование</td>\n",
       "    </tr>\n",
       "    <tr>\n",
       "      <th>29</th>\n",
       "      <td>0</td>\n",
       "      <td>NaN</td>\n",
       "      <td>63</td>\n",
       "      <td>среднее</td>\n",
       "      <td>1</td>\n",
       "      <td>Не женат / не замужем</td>\n",
       "      <td>4</td>\n",
       "      <td>F</td>\n",
       "      <td>пенсионер</td>\n",
       "      <td>0</td>\n",
       "      <td>NaN</td>\n",
       "      <td>строительство жилой недвижимости</td>\n",
       "    </tr>\n",
       "    <tr>\n",
       "      <th>41</th>\n",
       "      <td>0</td>\n",
       "      <td>NaN</td>\n",
       "      <td>50</td>\n",
       "      <td>среднее</td>\n",
       "      <td>1</td>\n",
       "      <td>женат / замужем</td>\n",
       "      <td>0</td>\n",
       "      <td>F</td>\n",
       "      <td>госслужащий</td>\n",
       "      <td>0</td>\n",
       "      <td>NaN</td>\n",
       "      <td>сделка с подержанным автомобилем</td>\n",
       "    </tr>\n",
       "    <tr>\n",
       "      <th>55</th>\n",
       "      <td>0</td>\n",
       "      <td>NaN</td>\n",
       "      <td>54</td>\n",
       "      <td>среднее</td>\n",
       "      <td>1</td>\n",
       "      <td>гражданский брак</td>\n",
       "      <td>1</td>\n",
       "      <td>F</td>\n",
       "      <td>пенсионер</td>\n",
       "      <td>1</td>\n",
       "      <td>NaN</td>\n",
       "      <td>сыграть свадьбу</td>\n",
       "    </tr>\n",
       "    <tr>\n",
       "      <th>65</th>\n",
       "      <td>0</td>\n",
       "      <td>NaN</td>\n",
       "      <td>21</td>\n",
       "      <td>среднее</td>\n",
       "      <td>1</td>\n",
       "      <td>Не женат / не замужем</td>\n",
       "      <td>4</td>\n",
       "      <td>M</td>\n",
       "      <td>компаньон</td>\n",
       "      <td>0</td>\n",
       "      <td>NaN</td>\n",
       "      <td>операции с коммерческой недвижимостью</td>\n",
       "    </tr>\n",
       "    <tr>\n",
       "      <th>67</th>\n",
       "      <td>0</td>\n",
       "      <td>NaN</td>\n",
       "      <td>52</td>\n",
       "      <td>высшее</td>\n",
       "      <td>0</td>\n",
       "      <td>женат / замужем</td>\n",
       "      <td>0</td>\n",
       "      <td>F</td>\n",
       "      <td>пенсионер</td>\n",
       "      <td>0</td>\n",
       "      <td>NaN</td>\n",
       "      <td>покупка жилья для семьи</td>\n",
       "    </tr>\n",
       "    <tr>\n",
       "      <th>72</th>\n",
       "      <td>1</td>\n",
       "      <td>NaN</td>\n",
       "      <td>32</td>\n",
       "      <td>высшее</td>\n",
       "      <td>0</td>\n",
       "      <td>женат / замужем</td>\n",
       "      <td>0</td>\n",
       "      <td>M</td>\n",
       "      <td>госслужащий</td>\n",
       "      <td>0</td>\n",
       "      <td>NaN</td>\n",
       "      <td>операции с коммерческой недвижимостью</td>\n",
       "    </tr>\n",
       "    <tr>\n",
       "      <th>82</th>\n",
       "      <td>2</td>\n",
       "      <td>NaN</td>\n",
       "      <td>50</td>\n",
       "      <td>высшее</td>\n",
       "      <td>0</td>\n",
       "      <td>женат / замужем</td>\n",
       "      <td>0</td>\n",
       "      <td>F</td>\n",
       "      <td>сотрудник</td>\n",
       "      <td>0</td>\n",
       "      <td>NaN</td>\n",
       "      <td>жилье</td>\n",
       "    </tr>\n",
       "    <tr>\n",
       "      <th>83</th>\n",
       "      <td>0</td>\n",
       "      <td>NaN</td>\n",
       "      <td>52</td>\n",
       "      <td>среднее</td>\n",
       "      <td>1</td>\n",
       "      <td>женат / замужем</td>\n",
       "      <td>0</td>\n",
       "      <td>M</td>\n",
       "      <td>сотрудник</td>\n",
       "      <td>0</td>\n",
       "      <td>NaN</td>\n",
       "      <td>жилье</td>\n",
       "    </tr>\n",
       "    <tr>\n",
       "      <th>90</th>\n",
       "      <td>2</td>\n",
       "      <td>NaN</td>\n",
       "      <td>35</td>\n",
       "      <td>высшее</td>\n",
       "      <td>0</td>\n",
       "      <td>женат / замужем</td>\n",
       "      <td>0</td>\n",
       "      <td>F</td>\n",
       "      <td>сотрудник</td>\n",
       "      <td>0</td>\n",
       "      <td>NaN</td>\n",
       "      <td>операции с жильем</td>\n",
       "    </tr>\n",
       "    <tr>\n",
       "      <th>94</th>\n",
       "      <td>1</td>\n",
       "      <td>NaN</td>\n",
       "      <td>34</td>\n",
       "      <td>высшее</td>\n",
       "      <td>0</td>\n",
       "      <td>гражданский брак</td>\n",
       "      <td>1</td>\n",
       "      <td>F</td>\n",
       "      <td>компаньон</td>\n",
       "      <td>0</td>\n",
       "      <td>NaN</td>\n",
       "      <td>на проведение свадьбы</td>\n",
       "    </tr>\n",
       "    <tr>\n",
       "      <th>96</th>\n",
       "      <td>0</td>\n",
       "      <td>NaN</td>\n",
       "      <td>44</td>\n",
       "      <td>СРЕДНЕЕ</td>\n",
       "      <td>1</td>\n",
       "      <td>женат / замужем</td>\n",
       "      <td>0</td>\n",
       "      <td>F</td>\n",
       "      <td>сотрудник</td>\n",
       "      <td>0</td>\n",
       "      <td>NaN</td>\n",
       "      <td>покупка жилой недвижимости</td>\n",
       "    </tr>\n",
       "    <tr>\n",
       "      <th>97</th>\n",
       "      <td>0</td>\n",
       "      <td>NaN</td>\n",
       "      <td>47</td>\n",
       "      <td>высшее</td>\n",
       "      <td>0</td>\n",
       "      <td>женат / замужем</td>\n",
       "      <td>0</td>\n",
       "      <td>F</td>\n",
       "      <td>сотрудник</td>\n",
       "      <td>0</td>\n",
       "      <td>NaN</td>\n",
       "      <td>профильное образование</td>\n",
       "    </tr>\n",
       "    <tr>\n",
       "      <th>120</th>\n",
       "      <td>0</td>\n",
       "      <td>NaN</td>\n",
       "      <td>46</td>\n",
       "      <td>среднее</td>\n",
       "      <td>1</td>\n",
       "      <td>женат / замужем</td>\n",
       "      <td>0</td>\n",
       "      <td>F</td>\n",
       "      <td>сотрудник</td>\n",
       "      <td>0</td>\n",
       "      <td>NaN</td>\n",
       "      <td>высшее образование</td>\n",
       "    </tr>\n",
       "  </tbody>\n",
       "</table>\n",
       "</div>"
      ],
      "text/plain": [
       "     children  days_employed  dob_years education  education_id  \\\n",
       "12          0            NaN         65   среднее             1   \n",
       "26          0            NaN         41   среднее             1   \n",
       "29          0            NaN         63   среднее             1   \n",
       "41          0            NaN         50   среднее             1   \n",
       "55          0            NaN         54   среднее             1   \n",
       "65          0            NaN         21   среднее             1   \n",
       "67          0            NaN         52    высшее             0   \n",
       "72          1            NaN         32    высшее             0   \n",
       "82          2            NaN         50    высшее             0   \n",
       "83          0            NaN         52   среднее             1   \n",
       "90          2            NaN         35    высшее             0   \n",
       "94          1            NaN         34    высшее             0   \n",
       "96          0            NaN         44   СРЕДНЕЕ             1   \n",
       "97          0            NaN         47    высшее             0   \n",
       "120         0            NaN         46   среднее             1   \n",
       "\n",
       "             family_status  family_status_id gender  income_type  debt  \\\n",
       "12        гражданский брак                 1      M    пенсионер     0   \n",
       "26         женат / замужем                 0      M  госслужащий     0   \n",
       "29   Не женат / не замужем                 4      F    пенсионер     0   \n",
       "41         женат / замужем                 0      F  госслужащий     0   \n",
       "55        гражданский брак                 1      F    пенсионер     1   \n",
       "65   Не женат / не замужем                 4      M    компаньон     0   \n",
       "67         женат / замужем                 0      F    пенсионер     0   \n",
       "72         женат / замужем                 0      M  госслужащий     0   \n",
       "82         женат / замужем                 0      F    сотрудник     0   \n",
       "83         женат / замужем                 0      M    сотрудник     0   \n",
       "90         женат / замужем                 0      F    сотрудник     0   \n",
       "94        гражданский брак                 1      F    компаньон     0   \n",
       "96         женат / замужем                 0      F    сотрудник     0   \n",
       "97         женат / замужем                 0      F    сотрудник     0   \n",
       "120        женат / замужем                 0      F    сотрудник     0   \n",
       "\n",
       "     total_income                                purpose  \n",
       "12            NaN                        сыграть свадьбу  \n",
       "26            NaN                            образование  \n",
       "29            NaN       строительство жилой недвижимости  \n",
       "41            NaN       сделка с подержанным автомобилем  \n",
       "55            NaN                        сыграть свадьбу  \n",
       "65            NaN  операции с коммерческой недвижимостью  \n",
       "67            NaN                покупка жилья для семьи  \n",
       "72            NaN  операции с коммерческой недвижимостью  \n",
       "82            NaN                                  жилье  \n",
       "83            NaN                                  жилье  \n",
       "90            NaN                      операции с жильем  \n",
       "94            NaN                  на проведение свадьбы  \n",
       "96            NaN             покупка жилой недвижимости  \n",
       "97            NaN                 профильное образование  \n",
       "120           NaN                     высшее образование  "
      ]
     },
     "execution_count": 5,
     "metadata": {},
     "output_type": "execute_result"
    }
   ],
   "source": [
    "# Анализ информации о людях с пропущенными значениями\n",
    "data[(data['days_employed'].isnull()) & (data['total_income'].isnull())].head(15)"
   ]
  },
  {
   "cell_type": "code",
   "execution_count": 6,
   "metadata": {},
   "outputs": [
    {
     "data": {
      "text/plain": [
       "array([42, 36, 33, 32, 53, 27, 43, 50, 35, 41, 40, 65, 54, 56, 26, 48, 24,\n",
       "       21, 57, 67, 28, 63, 62, 47, 34, 68, 25, 31, 30, 20, 49, 37, 45, 61,\n",
       "       64, 44, 52, 46, 23, 38, 39, 51,  0, 59, 29, 60, 55, 58, 71, 22, 73,\n",
       "       66, 69, 19, 72, 70, 74, 75])"
      ]
     },
     "execution_count": 6,
     "metadata": {},
     "output_type": "execute_result"
    }
   ],
   "source": [
    "data['dob_years'].unique() # Проверка уникальных значений "
   ]
  },
  {
   "cell_type": "code",
   "execution_count": 7,
   "metadata": {},
   "outputs": [
    {
     "data": {
      "text/html": [
       "<div>\n",
       "<style scoped>\n",
       "    .dataframe tbody tr th:only-of-type {\n",
       "        vertical-align: middle;\n",
       "    }\n",
       "\n",
       "    .dataframe tbody tr th {\n",
       "        vertical-align: top;\n",
       "    }\n",
       "\n",
       "    .dataframe thead th {\n",
       "        text-align: right;\n",
       "    }\n",
       "</style>\n",
       "<table border=\"1\" class=\"dataframe\">\n",
       "  <thead>\n",
       "    <tr style=\"text-align: right;\">\n",
       "      <th></th>\n",
       "      <th>children</th>\n",
       "      <th>days_employed</th>\n",
       "      <th>dob_years</th>\n",
       "      <th>education</th>\n",
       "      <th>education_id</th>\n",
       "      <th>family_status</th>\n",
       "      <th>family_status_id</th>\n",
       "      <th>gender</th>\n",
       "      <th>income_type</th>\n",
       "      <th>debt</th>\n",
       "      <th>total_income</th>\n",
       "      <th>purpose</th>\n",
       "    </tr>\n",
       "  </thead>\n",
       "  <tbody>\n",
       "    <tr>\n",
       "      <th>99</th>\n",
       "      <td>0</td>\n",
       "      <td>346541.618895</td>\n",
       "      <td>0</td>\n",
       "      <td>Среднее</td>\n",
       "      <td>1</td>\n",
       "      <td>женат / замужем</td>\n",
       "      <td>0</td>\n",
       "      <td>F</td>\n",
       "      <td>пенсионер</td>\n",
       "      <td>0</td>\n",
       "      <td>71291.522491</td>\n",
       "      <td>автомобиль</td>\n",
       "    </tr>\n",
       "    <tr>\n",
       "      <th>149</th>\n",
       "      <td>0</td>\n",
       "      <td>-2664.273168</td>\n",
       "      <td>0</td>\n",
       "      <td>среднее</td>\n",
       "      <td>1</td>\n",
       "      <td>в разводе</td>\n",
       "      <td>3</td>\n",
       "      <td>F</td>\n",
       "      <td>сотрудник</td>\n",
       "      <td>0</td>\n",
       "      <td>70176.435951</td>\n",
       "      <td>операции с жильем</td>\n",
       "    </tr>\n",
       "    <tr>\n",
       "      <th>270</th>\n",
       "      <td>3</td>\n",
       "      <td>-1872.663186</td>\n",
       "      <td>0</td>\n",
       "      <td>среднее</td>\n",
       "      <td>1</td>\n",
       "      <td>женат / замужем</td>\n",
       "      <td>0</td>\n",
       "      <td>F</td>\n",
       "      <td>сотрудник</td>\n",
       "      <td>0</td>\n",
       "      <td>102166.458894</td>\n",
       "      <td>ремонт жилью</td>\n",
       "    </tr>\n",
       "    <tr>\n",
       "      <th>578</th>\n",
       "      <td>0</td>\n",
       "      <td>397856.565013</td>\n",
       "      <td>0</td>\n",
       "      <td>среднее</td>\n",
       "      <td>1</td>\n",
       "      <td>женат / замужем</td>\n",
       "      <td>0</td>\n",
       "      <td>F</td>\n",
       "      <td>пенсионер</td>\n",
       "      <td>0</td>\n",
       "      <td>97620.687042</td>\n",
       "      <td>строительство собственной недвижимости</td>\n",
       "    </tr>\n",
       "    <tr>\n",
       "      <th>1040</th>\n",
       "      <td>0</td>\n",
       "      <td>-1158.029561</td>\n",
       "      <td>0</td>\n",
       "      <td>высшее</td>\n",
       "      <td>0</td>\n",
       "      <td>в разводе</td>\n",
       "      <td>3</td>\n",
       "      <td>F</td>\n",
       "      <td>компаньон</td>\n",
       "      <td>0</td>\n",
       "      <td>303994.134987</td>\n",
       "      <td>свой автомобиль</td>\n",
       "    </tr>\n",
       "    <tr>\n",
       "      <th>...</th>\n",
       "      <td>...</td>\n",
       "      <td>...</td>\n",
       "      <td>...</td>\n",
       "      <td>...</td>\n",
       "      <td>...</td>\n",
       "      <td>...</td>\n",
       "      <td>...</td>\n",
       "      <td>...</td>\n",
       "      <td>...</td>\n",
       "      <td>...</td>\n",
       "      <td>...</td>\n",
       "      <td>...</td>\n",
       "    </tr>\n",
       "    <tr>\n",
       "      <th>19829</th>\n",
       "      <td>0</td>\n",
       "      <td>NaN</td>\n",
       "      <td>0</td>\n",
       "      <td>среднее</td>\n",
       "      <td>1</td>\n",
       "      <td>женат / замужем</td>\n",
       "      <td>0</td>\n",
       "      <td>F</td>\n",
       "      <td>сотрудник</td>\n",
       "      <td>0</td>\n",
       "      <td>NaN</td>\n",
       "      <td>жилье</td>\n",
       "    </tr>\n",
       "    <tr>\n",
       "      <th>20462</th>\n",
       "      <td>0</td>\n",
       "      <td>338734.868540</td>\n",
       "      <td>0</td>\n",
       "      <td>среднее</td>\n",
       "      <td>1</td>\n",
       "      <td>женат / замужем</td>\n",
       "      <td>0</td>\n",
       "      <td>F</td>\n",
       "      <td>пенсионер</td>\n",
       "      <td>0</td>\n",
       "      <td>259193.920299</td>\n",
       "      <td>покупка своего жилья</td>\n",
       "    </tr>\n",
       "    <tr>\n",
       "      <th>20577</th>\n",
       "      <td>0</td>\n",
       "      <td>331741.271455</td>\n",
       "      <td>0</td>\n",
       "      <td>среднее</td>\n",
       "      <td>1</td>\n",
       "      <td>Не женат / не замужем</td>\n",
       "      <td>4</td>\n",
       "      <td>F</td>\n",
       "      <td>пенсионер</td>\n",
       "      <td>0</td>\n",
       "      <td>129788.762899</td>\n",
       "      <td>недвижимость</td>\n",
       "    </tr>\n",
       "    <tr>\n",
       "      <th>21179</th>\n",
       "      <td>2</td>\n",
       "      <td>-108.967042</td>\n",
       "      <td>0</td>\n",
       "      <td>высшее</td>\n",
       "      <td>0</td>\n",
       "      <td>женат / замужем</td>\n",
       "      <td>0</td>\n",
       "      <td>M</td>\n",
       "      <td>компаньон</td>\n",
       "      <td>0</td>\n",
       "      <td>240702.007382</td>\n",
       "      <td>строительство жилой недвижимости</td>\n",
       "    </tr>\n",
       "    <tr>\n",
       "      <th>21313</th>\n",
       "      <td>0</td>\n",
       "      <td>-1268.487728</td>\n",
       "      <td>0</td>\n",
       "      <td>среднее</td>\n",
       "      <td>1</td>\n",
       "      <td>Не женат / не замужем</td>\n",
       "      <td>4</td>\n",
       "      <td>M</td>\n",
       "      <td>сотрудник</td>\n",
       "      <td>0</td>\n",
       "      <td>152419.184851</td>\n",
       "      <td>операции с жильем</td>\n",
       "    </tr>\n",
       "  </tbody>\n",
       "</table>\n",
       "<p>101 rows × 12 columns</p>\n",
       "</div>"
      ],
      "text/plain": [
       "       children  days_employed  dob_years education  education_id  \\\n",
       "99            0  346541.618895          0   Среднее             1   \n",
       "149           0   -2664.273168          0   среднее             1   \n",
       "270           3   -1872.663186          0   среднее             1   \n",
       "578           0  397856.565013          0   среднее             1   \n",
       "1040          0   -1158.029561          0    высшее             0   \n",
       "...         ...            ...        ...       ...           ...   \n",
       "19829         0            NaN          0   среднее             1   \n",
       "20462         0  338734.868540          0   среднее             1   \n",
       "20577         0  331741.271455          0   среднее             1   \n",
       "21179         2    -108.967042          0    высшее             0   \n",
       "21313         0   -1268.487728          0   среднее             1   \n",
       "\n",
       "               family_status  family_status_id gender income_type  debt  \\\n",
       "99           женат / замужем                 0      F   пенсионер     0   \n",
       "149                в разводе                 3      F   сотрудник     0   \n",
       "270          женат / замужем                 0      F   сотрудник     0   \n",
       "578          женат / замужем                 0      F   пенсионер     0   \n",
       "1040               в разводе                 3      F   компаньон     0   \n",
       "...                      ...               ...    ...         ...   ...   \n",
       "19829        женат / замужем                 0      F   сотрудник     0   \n",
       "20462        женат / замужем                 0      F   пенсионер     0   \n",
       "20577  Не женат / не замужем                 4      F   пенсионер     0   \n",
       "21179        женат / замужем                 0      M   компаньон     0   \n",
       "21313  Не женат / не замужем                 4      M   сотрудник     0   \n",
       "\n",
       "        total_income                                 purpose  \n",
       "99      71291.522491                              автомобиль  \n",
       "149     70176.435951                       операции с жильем  \n",
       "270    102166.458894                            ремонт жилью  \n",
       "578     97620.687042  строительство собственной недвижимости  \n",
       "1040   303994.134987                         свой автомобиль  \n",
       "...              ...                                     ...  \n",
       "19829            NaN                                   жилье  \n",
       "20462  259193.920299                    покупка своего жилья  \n",
       "20577  129788.762899                            недвижимость  \n",
       "21179  240702.007382        строительство жилой недвижимости  \n",
       "21313  152419.184851                       операции с жильем  \n",
       "\n",
       "[101 rows x 12 columns]"
      ]
     },
     "execution_count": 7,
     "metadata": {},
     "output_type": "execute_result"
    }
   ],
   "source": [
    "data[data['dob_years'] == 0] # Просмотр людей с возрастом, равным 0 лет"
   ]
  },
  {
   "cell_type": "code",
   "execution_count": 8,
   "metadata": {},
   "outputs": [
    {
     "data": {
      "text/plain": [
       "array([42, 36, 33, 32, 53, 27, 43, 50, 35, 41, 40, 65, 54, 56, 26, 48, 24,\n",
       "       21, 57, 67, 28, 63, 62, 47, 34, 68, 25, 31, 30, 20, 49, 37, 45, 61,\n",
       "       64, 44, 52, 46, 23, 38, 39, 51, 59, 29, 60, 55, 58, 71, 22, 73, 66,\n",
       "       69, 19, 72, 70, 74, 75])"
      ]
     },
     "execution_count": 8,
     "metadata": {},
     "output_type": "execute_result"
    }
   ],
   "source": [
    "data = data[data['dob_years'] != 0].reset_index(drop=True) # Удаление записей с значением возраста, равным 0\n",
    "\n",
    "data['dob_years'].unique() # Проверка результатов удаления"
   ]
  },
  {
   "cell_type": "code",
   "execution_count": 9,
   "metadata": {},
   "outputs": [
    {
     "data": {
      "text/plain": [
       "dob_years_category  dob_years\n",
       "20 - 24             24           264\n",
       "                    23           254\n",
       "                    22           183\n",
       "                    21           111\n",
       "25 - 29             29           545\n",
       "                    28           503\n",
       "                    27           493\n",
       "                    26           408\n",
       "                    25           357\n",
       "30 - 34             34           603\n",
       "                    33           581\n",
       "                    31           560\n",
       "                    30           540\n",
       "                    32           510\n",
       "35 - 39             35           617\n",
       "                    38           598\n",
       "                    39           573\n",
       "                    36           555\n",
       "                    37           537\n",
       "40 - 44             40           609\n",
       "                    41           607\n",
       "                    42           597\n",
       "                    44           547\n",
       "                    43           513\n",
       "45 - 49             48           538\n",
       "                    49           508\n",
       "                    45           497\n",
       "                    47           480\n",
       "                    46           475\n",
       "50 - 54             50           514\n",
       "                    52           484\n",
       "                    54           479\n",
       "                    53           459\n",
       "                    51           448\n",
       "55 - 59             56           487\n",
       "                    58           461\n",
       "                    57           460\n",
       "                    59           444\n",
       "                    55           443\n",
       "60 - 64             60           377\n",
       "                    61           355\n",
       "                    62           352\n",
       "                    63           269\n",
       "                    64           265\n",
       "65 - 69             65           194\n",
       "                    66           183\n",
       "                    67           167\n",
       "                    68            99\n",
       "                    69            85\n",
       "< 20                19            14\n",
       ">= 70               70            65\n",
       "                    71            58\n",
       "                    20            51\n",
       "                    72            33\n",
       "                    73             8\n",
       "                    74             6\n",
       "                    75             1\n",
       "Name: dob_years, dtype: int64"
      ]
     },
     "execution_count": 9,
     "metadata": {},
     "output_type": "execute_result"
    }
   ],
   "source": [
    "# Функция, категоризирующая данные по группам возрастов\n",
    "# dob_years - возраст, numeric\n",
    "# Возвращает - категорию, string\n",
    "def get_dob_years_category(dob_years):\n",
    "    if dob_years < 20:\n",
    "        return '< 20'\n",
    "    if dob_years > 20 and dob_years <= 24:\n",
    "        return '20 - 24'\n",
    "    if dob_years > 24 and dob_years <= 29:\n",
    "        return '25 - 29'\n",
    "    if dob_years > 29 and dob_years <= 34:\n",
    "        return '30 - 34'\n",
    "    if dob_years > 34 and dob_years <= 39:\n",
    "        return '35 - 39'\n",
    "    if dob_years > 39 and dob_years <= 44:\n",
    "        return '40 - 44'\n",
    "    if dob_years > 44 and dob_years <= 49:\n",
    "        return '45 - 49'\n",
    "    if dob_years > 49 and dob_years <= 54:\n",
    "        return '50 - 54'\n",
    "    if dob_years > 54 and dob_years <= 59:\n",
    "        return '55 - 59'\n",
    "    if dob_years > 59 and dob_years <= 64:\n",
    "        return '60 - 64'\n",
    "    if dob_years > 64 and dob_years <= 69:\n",
    "        return '65 - 69'\n",
    "    return '>= 70'\n",
    "\n",
    "# Создание нового столбца dob_years_category с категориями возрастов\n",
    "data['dob_years_category'] = data['dob_years'].apply(get_dob_years_category)\n",
    "\n",
    "# Проверка результатов категоризации возрастов\n",
    "data.groupby('dob_years_category')['dob_years'].value_counts()"
   ]
  },
  {
   "cell_type": "code",
   "execution_count": 10,
   "metadata": {},
   "outputs": [
    {
     "data": {
      "text/plain": [
       "array(['высшее', 'среднее', 'Среднее', 'СРЕДНЕЕ', 'ВЫСШЕЕ',\n",
       "       'неоконченное высшее', 'начальное', 'Высшее',\n",
       "       'НЕОКОНЧЕННОЕ ВЫСШЕЕ', 'Неоконченное высшее', 'НАЧАЛЬНОЕ',\n",
       "       'Начальное', 'Ученая степень', 'УЧЕНАЯ СТЕПЕНЬ', 'ученая степень'],\n",
       "      dtype=object)"
      ]
     },
     "execution_count": 10,
     "metadata": {},
     "output_type": "execute_result"
    }
   ],
   "source": [
    "data['education'].unique() # Проверка уникальных значений "
   ]
  },
  {
   "cell_type": "code",
   "execution_count": 11,
   "metadata": {},
   "outputs": [
    {
     "data": {
      "text/plain": [
       "array([0, 1, 2, 3, 4])"
      ]
     },
     "execution_count": 11,
     "metadata": {},
     "output_type": "execute_result"
    }
   ],
   "source": [
    "data['education_id'].unique() # Проверка уникальных значений "
   ]
  },
  {
   "cell_type": "code",
   "execution_count": 12,
   "metadata": {},
   "outputs": [
    {
     "data": {
      "text/plain": [
       "education_id  education          \n",
       "0             высшее                  4686\n",
       "              ВЫСШЕЕ                   273\n",
       "              Высшее                   266\n",
       "1             среднее                13691\n",
       "              СРЕДНЕЕ                  770\n",
       "              Среднее                  708\n",
       "2             неоконченное высшее      666\n",
       "              Неоконченное высшее       47\n",
       "              НЕОКОНЧЕННОЕ ВЫСШЕЕ       29\n",
       "3             начальное                250\n",
       "              НАЧАЛЬНОЕ                 17\n",
       "              Начальное                 15\n",
       "4             ученая степень             4\n",
       "              УЧЕНАЯ СТЕПЕНЬ             1\n",
       "              Ученая степень             1\n",
       "Name: education, dtype: int64"
      ]
     },
     "execution_count": 12,
     "metadata": {},
     "output_type": "execute_result"
    }
   ],
   "source": [
    "# Проверка соотношения идентификаторов уровня образования с их названиями\n",
    "data.groupby('education_id')['education'].value_counts()"
   ]
  },
  {
   "cell_type": "code",
   "execution_count": 13,
   "metadata": {},
   "outputs": [
    {
     "data": {
      "text/plain": [
       "array(['сотрудник', 'пенсионер', 'компаньон', 'госслужащий',\n",
       "       'безработный', 'предприниматель', 'студент', 'в декрете'],\n",
       "      dtype=object)"
      ]
     },
     "execution_count": 13,
     "metadata": {},
     "output_type": "execute_result"
    }
   ],
   "source": [
    "data['income_type'].unique() # Проверка уникальных значений"
   ]
  },
  {
   "cell_type": "code",
   "execution_count": 14,
   "metadata": {},
   "outputs": [
    {
     "data": {
      "text/html": [
       "<div>\n",
       "<style scoped>\n",
       "    .dataframe tbody tr th:only-of-type {\n",
       "        vertical-align: middle;\n",
       "    }\n",
       "\n",
       "    .dataframe tbody tr th {\n",
       "        vertical-align: top;\n",
       "    }\n",
       "\n",
       "    .dataframe thead th {\n",
       "        text-align: right;\n",
       "    }\n",
       "</style>\n",
       "<table border=\"1\" class=\"dataframe\">\n",
       "  <thead>\n",
       "    <tr style=\"text-align: right;\">\n",
       "      <th></th>\n",
       "      <th>children</th>\n",
       "      <th>days_employed</th>\n",
       "      <th>dob_years</th>\n",
       "      <th>education</th>\n",
       "      <th>education_id</th>\n",
       "      <th>family_status</th>\n",
       "      <th>family_status_id</th>\n",
       "      <th>gender</th>\n",
       "      <th>income_type</th>\n",
       "      <th>debt</th>\n",
       "      <th>total_income</th>\n",
       "      <th>purpose</th>\n",
       "      <th>dob_years_category</th>\n",
       "    </tr>\n",
       "  </thead>\n",
       "  <tbody>\n",
       "    <tr>\n",
       "      <th>1296</th>\n",
       "      <td>1</td>\n",
       "      <td>NaN</td>\n",
       "      <td>70</td>\n",
       "      <td>начальное</td>\n",
       "      <td>3</td>\n",
       "      <td>гражданский брак</td>\n",
       "      <td>1</td>\n",
       "      <td>F</td>\n",
       "      <td>сотрудник</td>\n",
       "      <td>0</td>\n",
       "      <td>NaN</td>\n",
       "      <td>операции с коммерческой недвижимостью</td>\n",
       "      <td>&gt;= 70</td>\n",
       "    </tr>\n",
       "    <tr>\n",
       "      <th>5912</th>\n",
       "      <td>0</td>\n",
       "      <td>NaN</td>\n",
       "      <td>58</td>\n",
       "      <td>высшее</td>\n",
       "      <td>0</td>\n",
       "      <td>женат / замужем</td>\n",
       "      <td>0</td>\n",
       "      <td>M</td>\n",
       "      <td>предприниматель</td>\n",
       "      <td>0</td>\n",
       "      <td>NaN</td>\n",
       "      <td>покупка жилой недвижимости</td>\n",
       "      <td>55 - 59</td>\n",
       "    </tr>\n",
       "    <tr>\n",
       "      <th>8104</th>\n",
       "      <td>0</td>\n",
       "      <td>NaN</td>\n",
       "      <td>64</td>\n",
       "      <td>начальное</td>\n",
       "      <td>3</td>\n",
       "      <td>гражданский брак</td>\n",
       "      <td>1</td>\n",
       "      <td>F</td>\n",
       "      <td>госслужащий</td>\n",
       "      <td>0</td>\n",
       "      <td>NaN</td>\n",
       "      <td>сыграть свадьбу</td>\n",
       "      <td>60 - 64</td>\n",
       "    </tr>\n",
       "  </tbody>\n",
       "</table>\n",
       "</div>"
      ],
      "text/plain": [
       "      children  days_employed  dob_years  education  education_id  \\\n",
       "1296         1            NaN         70  начальное             3   \n",
       "5912         0            NaN         58     высшее             0   \n",
       "8104         0            NaN         64  начальное             3   \n",
       "\n",
       "         family_status  family_status_id gender      income_type  debt  \\\n",
       "1296  гражданский брак                 1      F        сотрудник     0   \n",
       "5912   женат / замужем                 0      M  предприниматель     0   \n",
       "8104  гражданский брак                 1      F      госслужащий     0   \n",
       "\n",
       "      total_income                                purpose dob_years_category  \n",
       "1296           NaN  операции с коммерческой недвижимостью              >= 70  \n",
       "5912           NaN             покупка жилой недвижимости            55 - 59  \n",
       "8104           NaN                        сыграть свадьбу            60 - 64  "
      ]
     },
     "execution_count": 14,
     "metadata": {},
     "output_type": "execute_result"
    }
   ],
   "source": [
    "# Функция, вычисляющая медиану заработной платы человека на основе категории его возраста, уровня образования и типа занятости\n",
    "# row - строка из набора данных, pd.Series\n",
    "# Возвращает - медиана, float\n",
    "def get_total_income_median(row):\n",
    "    return data[\n",
    "            (data['dob_years_category'] == row['dob_years_category']) &\n",
    "            (data['education_id'] == row['education_id']) &\n",
    "            (data['income_type'] == row['income_type']) &\n",
    "            (data['total_income'].isnull() == False)\n",
    "        ]['total_income'].median()\n",
    "\n",
    "# Присвоение пропущенным значениям total_income медианных значений по категориям\n",
    "data.loc[data['total_income'].isnull(), 'total_income'] = data[data['total_income'].isnull()].apply(get_total_income_median, axis=1)\n",
    "\n",
    "# Проверка результатов присвоения\n",
    "data[data['total_income'].isnull()]"
   ]
  },
  {
   "cell_type": "code",
   "execution_count": 15,
   "metadata": {},
   "outputs": [
    {
     "data": {
      "text/plain": [
       "0"
      ]
     },
     "execution_count": 15,
     "metadata": {},
     "output_type": "execute_result"
    }
   ],
   "source": [
    "# Удаление записей с пропусками в столбце total_income, для которых невозможно найти подходящуюю категорию\n",
    "data.dropna(subset=['total_income'], inplace=True)\n",
    "data.reset_index(drop=True)\n",
    "\n",
    "# Проверка результатов удаления\n",
    "len(data[data['total_income'].isnull()])"
   ]
  },
  {
   "cell_type": "code",
   "execution_count": 16,
   "metadata": {},
   "outputs": [
    {
     "data": {
      "text/plain": [
       "0"
      ]
     },
     "execution_count": 16,
     "metadata": {},
     "output_type": "execute_result"
    }
   ],
   "source": [
    "data[data['days_employed'] == 0]['days_employed'].count() # Подсчет количества значений, равных 0"
   ]
  },
  {
   "cell_type": "code",
   "execution_count": 17,
   "metadata": {},
   "outputs": [
    {
     "data": {
      "text/plain": [
       "0"
      ]
     },
     "execution_count": 17,
     "metadata": {},
     "output_type": "execute_result"
    }
   ],
   "source": [
    "data = data.fillna(0) # Заполнение пропусков нулями\n",
    "\n",
    "# Проверка результатов заполнения\n",
    "len(data[(data['days_employed'].isnull()) | (data['total_income'].isnull())])"
   ]
  },
  {
   "cell_type": "markdown",
   "metadata": {},
   "source": [
    "#### Удаление аномалий в столбце children"
   ]
  },
  {
   "cell_type": "code",
   "execution_count": 18,
   "metadata": {},
   "outputs": [
    {
     "data": {
      "text/plain": [
       " 0     14078\n",
       " 1      4801\n",
       " 2      2042\n",
       " 3       328\n",
       " 20       75\n",
       "-1        47\n",
       " 4        41\n",
       " 5         9\n",
       "Name: children, dtype: int64"
      ]
     },
     "execution_count": 18,
     "metadata": {},
     "output_type": "execute_result"
    }
   ],
   "source": [
    "data['children'].value_counts() # Проверка уникальных значений "
   ]
  },
  {
   "cell_type": "code",
   "execution_count": 19,
   "metadata": {},
   "outputs": [
    {
     "data": {
      "text/plain": [
       "0    14078\n",
       "1     4801\n",
       "2     2042\n",
       "3      328\n",
       "4       41\n",
       "5        9\n",
       "Name: children, dtype: int64"
      ]
     },
     "execution_count": 19,
     "metadata": {},
     "output_type": "execute_result"
    }
   ],
   "source": [
    "# Удаление записей с аномальными значениями\n",
    "data = data[(data['children'] != 20) & (data['children'] != -1)].reset_index(drop=True) \n",
    "\n",
    "data['children'].value_counts() # Проверка результатов удаления"
   ]
  },
  {
   "cell_type": "markdown",
   "metadata": {},
   "source": [
    "#### Исправление отрицательных значений в столбце days_employed"
   ]
  },
  {
   "cell_type": "code",
   "execution_count": 20,
   "metadata": {},
   "outputs": [
    {
     "data": {
      "text/plain": [
       " 0.000000         2149\n",
       "-8437.673028         1\n",
       " 394214.527044       1\n",
       "-769.717438          1\n",
       "-3963.590317         1\n",
       "                  ... \n",
       " 390769.069031       1\n",
       " 341277.435955       1\n",
       " 348798.745616       1\n",
       "-2128.237967         1\n",
       "-1984.507589         1\n",
       "Name: days_employed, Length: 19151, dtype: int64"
      ]
     },
     "execution_count": 20,
     "metadata": {},
     "output_type": "execute_result"
    }
   ],
   "source": [
    "data['days_employed'].value_counts() # Проверка уникальных значений "
   ]
  },
  {
   "cell_type": "code",
   "execution_count": 21,
   "metadata": {},
   "outputs": [
    {
     "data": {
      "text/plain": [
       "15736"
      ]
     },
     "execution_count": 21,
     "metadata": {},
     "output_type": "execute_result"
    }
   ],
   "source": [
    "data[data['days_employed'] < 0]['days_employed'].count() # Подсчет количества отрицательных значений"
   ]
  },
  {
   "cell_type": "code",
   "execution_count": 22,
   "metadata": {},
   "outputs": [
    {
     "data": {
      "text/plain": [
       "0"
      ]
     },
     "execution_count": 22,
     "metadata": {},
     "output_type": "execute_result"
    }
   ],
   "source": [
    "# Исправлений записей с отрицательными значениями\n",
    "data.loc[data['days_employed'] < 0, 'days_employed'] = data[data['days_employed'] < 0]['days_employed'] * -1 \n",
    "\n",
    "data[data['days_employed'] < 0]['days_employed'].count() # Проверка результатов исправления"
   ]
  },
  {
   "cell_type": "code",
   "execution_count": 23,
   "metadata": {},
   "outputs": [
    {
     "data": {
      "text/html": [
       "<div>\n",
       "<style scoped>\n",
       "    .dataframe tbody tr th:only-of-type {\n",
       "        vertical-align: middle;\n",
       "    }\n",
       "\n",
       "    .dataframe tbody tr th {\n",
       "        vertical-align: top;\n",
       "    }\n",
       "\n",
       "    .dataframe thead th {\n",
       "        text-align: right;\n",
       "    }\n",
       "</style>\n",
       "<table border=\"1\" class=\"dataframe\">\n",
       "  <thead>\n",
       "    <tr style=\"text-align: right;\">\n",
       "      <th></th>\n",
       "      <th>children</th>\n",
       "      <th>days_employed</th>\n",
       "      <th>dob_years</th>\n",
       "      <th>education</th>\n",
       "      <th>education_id</th>\n",
       "      <th>family_status</th>\n",
       "      <th>family_status_id</th>\n",
       "      <th>gender</th>\n",
       "      <th>income_type</th>\n",
       "      <th>debt</th>\n",
       "      <th>total_income</th>\n",
       "      <th>purpose</th>\n",
       "      <th>dob_years_category</th>\n",
       "    </tr>\n",
       "  </thead>\n",
       "  <tbody>\n",
       "    <tr>\n",
       "      <th>0</th>\n",
       "      <td>1</td>\n",
       "      <td>8437.673028</td>\n",
       "      <td>42</td>\n",
       "      <td>высшее</td>\n",
       "      <td>0</td>\n",
       "      <td>женат / замужем</td>\n",
       "      <td>0</td>\n",
       "      <td>F</td>\n",
       "      <td>сотрудник</td>\n",
       "      <td>0</td>\n",
       "      <td>253875.639453</td>\n",
       "      <td>покупка жилья</td>\n",
       "      <td>40 - 44</td>\n",
       "    </tr>\n",
       "    <tr>\n",
       "      <th>1</th>\n",
       "      <td>1</td>\n",
       "      <td>4024.803754</td>\n",
       "      <td>36</td>\n",
       "      <td>среднее</td>\n",
       "      <td>1</td>\n",
       "      <td>женат / замужем</td>\n",
       "      <td>0</td>\n",
       "      <td>F</td>\n",
       "      <td>сотрудник</td>\n",
       "      <td>0</td>\n",
       "      <td>112080.014102</td>\n",
       "      <td>приобретение автомобиля</td>\n",
       "      <td>35 - 39</td>\n",
       "    </tr>\n",
       "    <tr>\n",
       "      <th>2</th>\n",
       "      <td>0</td>\n",
       "      <td>5623.422610</td>\n",
       "      <td>33</td>\n",
       "      <td>Среднее</td>\n",
       "      <td>1</td>\n",
       "      <td>женат / замужем</td>\n",
       "      <td>0</td>\n",
       "      <td>M</td>\n",
       "      <td>сотрудник</td>\n",
       "      <td>0</td>\n",
       "      <td>145885.952297</td>\n",
       "      <td>покупка жилья</td>\n",
       "      <td>30 - 34</td>\n",
       "    </tr>\n",
       "    <tr>\n",
       "      <th>3</th>\n",
       "      <td>3</td>\n",
       "      <td>4124.747207</td>\n",
       "      <td>32</td>\n",
       "      <td>среднее</td>\n",
       "      <td>1</td>\n",
       "      <td>женат / замужем</td>\n",
       "      <td>0</td>\n",
       "      <td>M</td>\n",
       "      <td>сотрудник</td>\n",
       "      <td>0</td>\n",
       "      <td>267628.550329</td>\n",
       "      <td>дополнительное образование</td>\n",
       "      <td>30 - 34</td>\n",
       "    </tr>\n",
       "    <tr>\n",
       "      <th>4</th>\n",
       "      <td>0</td>\n",
       "      <td>340266.072047</td>\n",
       "      <td>53</td>\n",
       "      <td>среднее</td>\n",
       "      <td>1</td>\n",
       "      <td>гражданский брак</td>\n",
       "      <td>1</td>\n",
       "      <td>F</td>\n",
       "      <td>пенсионер</td>\n",
       "      <td>0</td>\n",
       "      <td>158616.077870</td>\n",
       "      <td>сыграть свадьбу</td>\n",
       "      <td>50 - 54</td>\n",
       "    </tr>\n",
       "  </tbody>\n",
       "</table>\n",
       "</div>"
      ],
      "text/plain": [
       "   children  days_employed  dob_years education  education_id  \\\n",
       "0         1    8437.673028         42    высшее             0   \n",
       "1         1    4024.803754         36   среднее             1   \n",
       "2         0    5623.422610         33   Среднее             1   \n",
       "3         3    4124.747207         32   среднее             1   \n",
       "4         0  340266.072047         53   среднее             1   \n",
       "\n",
       "      family_status  family_status_id gender income_type  debt   total_income  \\\n",
       "0   женат / замужем                 0      F   сотрудник     0  253875.639453   \n",
       "1   женат / замужем                 0      F   сотрудник     0  112080.014102   \n",
       "2   женат / замужем                 0      M   сотрудник     0  145885.952297   \n",
       "3   женат / замужем                 0      M   сотрудник     0  267628.550329   \n",
       "4  гражданский брак                 1      F   пенсионер     0  158616.077870   \n",
       "\n",
       "                      purpose dob_years_category  \n",
       "0               покупка жилья            40 - 44  \n",
       "1     приобретение автомобиля            35 - 39  \n",
       "2               покупка жилья            30 - 34  \n",
       "3  дополнительное образование            30 - 34  \n",
       "4             сыграть свадьбу            50 - 54  "
      ]
     },
     "execution_count": 23,
     "metadata": {},
     "output_type": "execute_result"
    }
   ],
   "source": [
    "data.head() # Дополнительная проверка результатов исправления"
   ]
  },
  {
   "cell_type": "markdown",
   "metadata": {},
   "source": [
    "#### Проверка остальных столбцов на аномалии"
   ]
  },
  {
   "cell_type": "code",
   "execution_count": 24,
   "metadata": {},
   "outputs": [
    {
     "data": {
      "text/plain": [
       "array(['женат / замужем', 'гражданский брак', 'вдовец / вдова',\n",
       "       'в разводе', 'Не женат / не замужем'], dtype=object)"
      ]
     },
     "execution_count": 24,
     "metadata": {},
     "output_type": "execute_result"
    }
   ],
   "source": [
    "data['family_status'].unique() # Проверка уникальных значений "
   ]
  },
  {
   "cell_type": "code",
   "execution_count": 25,
   "metadata": {},
   "outputs": [
    {
     "data": {
      "text/plain": [
       "array([0, 1, 2, 3, 4])"
      ]
     },
     "execution_count": 25,
     "metadata": {},
     "output_type": "execute_result"
    }
   ],
   "source": [
    "data['family_status_id'].unique() # Проверка уникальных значений "
   ]
  },
  {
   "cell_type": "code",
   "execution_count": 26,
   "metadata": {},
   "outputs": [
    {
     "data": {
      "text/plain": [
       "array(['F', 'M', 'XNA'], dtype=object)"
      ]
     },
     "execution_count": 26,
     "metadata": {},
     "output_type": "execute_result"
    }
   ],
   "source": [
    "data['gender'].unique() # Проверка уникальных значений "
   ]
  },
  {
   "cell_type": "code",
   "execution_count": 27,
   "metadata": {},
   "outputs": [
    {
     "data": {
      "text/html": [
       "<div>\n",
       "<style scoped>\n",
       "    .dataframe tbody tr th:only-of-type {\n",
       "        vertical-align: middle;\n",
       "    }\n",
       "\n",
       "    .dataframe tbody tr th {\n",
       "        vertical-align: top;\n",
       "    }\n",
       "\n",
       "    .dataframe thead th {\n",
       "        text-align: right;\n",
       "    }\n",
       "</style>\n",
       "<table border=\"1\" class=\"dataframe\">\n",
       "  <thead>\n",
       "    <tr style=\"text-align: right;\">\n",
       "      <th></th>\n",
       "      <th>children</th>\n",
       "      <th>days_employed</th>\n",
       "      <th>dob_years</th>\n",
       "      <th>education</th>\n",
       "      <th>education_id</th>\n",
       "      <th>family_status</th>\n",
       "      <th>family_status_id</th>\n",
       "      <th>gender</th>\n",
       "      <th>income_type</th>\n",
       "      <th>debt</th>\n",
       "      <th>total_income</th>\n",
       "      <th>purpose</th>\n",
       "      <th>dob_years_category</th>\n",
       "    </tr>\n",
       "  </thead>\n",
       "  <tbody>\n",
       "    <tr>\n",
       "      <th>10592</th>\n",
       "      <td>0</td>\n",
       "      <td>2358.600502</td>\n",
       "      <td>24</td>\n",
       "      <td>неоконченное высшее</td>\n",
       "      <td>2</td>\n",
       "      <td>гражданский брак</td>\n",
       "      <td>1</td>\n",
       "      <td>XNA</td>\n",
       "      <td>компаньон</td>\n",
       "      <td>0</td>\n",
       "      <td>203905.157261</td>\n",
       "      <td>покупка недвижимости</td>\n",
       "      <td>20 - 24</td>\n",
       "    </tr>\n",
       "  </tbody>\n",
       "</table>\n",
       "</div>"
      ],
      "text/plain": [
       "       children  days_employed  dob_years            education  education_id  \\\n",
       "10592         0    2358.600502         24  неоконченное высшее             2   \n",
       "\n",
       "          family_status  family_status_id gender income_type  debt  \\\n",
       "10592  гражданский брак                 1    XNA   компаньон     0   \n",
       "\n",
       "        total_income               purpose dob_years_category  \n",
       "10592  203905.157261  покупка недвижимости            20 - 24  "
      ]
     },
     "execution_count": 27,
     "metadata": {},
     "output_type": "execute_result"
    }
   ],
   "source": [
    "data[data['gender'] == 'XNA'] # Подсчет количества людей с полом XNA"
   ]
  },
  {
   "cell_type": "code",
   "execution_count": 28,
   "metadata": {},
   "outputs": [
    {
     "data": {
      "text/plain": [
       "array([0, 1])"
      ]
     },
     "execution_count": 28,
     "metadata": {},
     "output_type": "execute_result"
    }
   ],
   "source": [
    "data['debt'].unique() # Проверка уникальных значений "
   ]
  },
  {
   "cell_type": "code",
   "execution_count": 29,
   "metadata": {},
   "outputs": [
    {
     "data": {
      "text/plain": [
       "140316.366403    142\n",
       "139542.193221    126\n",
       "136319.471185    125\n",
       "137796.286809    124\n",
       "121063.464888    110\n",
       "                ... \n",
       "215864.375057      1\n",
       "254249.302632      1\n",
       "149000.398440      1\n",
       "172637.167134      1\n",
       "82047.418899       1\n",
       "Name: total_income, Length: 19211, dtype: int64"
      ]
     },
     "execution_count": 29,
     "metadata": {},
     "output_type": "execute_result"
    }
   ],
   "source": [
    "data['total_income'].value_counts() # Проверка уникальных значений "
   ]
  },
  {
   "cell_type": "code",
   "execution_count": 30,
   "metadata": {},
   "outputs": [
    {
     "data": {
      "text/plain": [
       "0"
      ]
     },
     "execution_count": 30,
     "metadata": {},
     "output_type": "execute_result"
    }
   ],
   "source": [
    "data[data['total_income'] < 0]['total_income'].count() # Подсчет количества отрицательных значений"
   ]
  },
  {
   "cell_type": "code",
   "execution_count": 31,
   "metadata": {},
   "outputs": [
    {
     "data": {
      "text/plain": [
       "свадьба                                   791\n",
       "на проведение свадьбы                     768\n",
       "сыграть свадьбу                           763\n",
       "операции с недвижимостью                  670\n",
       "покупка коммерческой недвижимости         658\n",
       "покупка жилья для сдачи                   649\n",
       "операции с коммерческой недвижимостью     643\n",
       "операции с жильем                         642\n",
       "покупка жилья для семьи                   639\n",
       "жилье                                     636\n",
       "покупка жилья                             635\n",
       "недвижимость                              628\n",
       "операции со своей недвижимостью           626\n",
       "строительство собственной недвижимости    626\n",
       "строительство недвижимости                620\n",
       "строительство жилой недвижимости          619\n",
       "покупка своего жилья                      618\n",
       "покупка недвижимости                      616\n",
       "ремонт жилью                              607\n",
       "покупка жилой недвижимости                599\n",
       "на покупку своего автомобиля              501\n",
       "заняться высшим образованием              493\n",
       "автомобиль                                488\n",
       "сделка с подержанным автомобилем          482\n",
       "автомобили                                474\n",
       "на покупку подержанного автомобиля        472\n",
       "свой автомобиль                           472\n",
       "на покупку автомобиля                     466\n",
       "приобретение автомобиля                   458\n",
       "дополнительное образование                455\n",
       "сделка с автомобилем                      454\n",
       "высшее образование                        444\n",
       "получение дополнительного образования     443\n",
       "получение образования                     440\n",
       "образование                               439\n",
       "профильное образование                    431\n",
       "получение высшего образования             423\n",
       "заняться образованием                     411\n",
       "Name: purpose, dtype: int64"
      ]
     },
     "execution_count": 31,
     "metadata": {},
     "output_type": "execute_result"
    }
   ],
   "source": [
    "data['purpose'].value_counts() # Проверка уникальных значений "
   ]
  },
  {
   "cell_type": "markdown",
   "metadata": {},
   "source": [
    "#### Вывод"
   ]
  },
  {
   "cell_type": "markdown",
   "metadata": {},
   "source": [
    "__Пропуски в столбцах days_employed и total_income__\n",
    "Была проведена проверка гипотезы о том, что пропущенный значения в столбцах days_employed и total_income связаны. Гипотеза подтвердилась - пропуски либо есть в обоих столбцах, либо их нет.\n",
    "\n",
    "После этого были проанализированы данные людей, которые имеют пропуски в указанных столбцах. Была выдвинута гипотеза о том, что пропущены значения являются эквивалентом 0 у людей, которые никогда не работали и поэтому также не имеют дохода. Эта гипотеза не подтвердилась, так пропущенные значения имеются у людей с типами занятости, которые предполагают наличие дохода. Например, пенсионер, госслужащий или сотрудник.\n",
    "\n",
    "Также не было обнаружено никаких других связей между пропущенными значениями и другими столбцами. В связи с этим был сделан вывод о том, что данные являются обычной ошибкой и в будущем стоит узнать об этом у поставщика данных. Природа связи пропусков в двух столбцах, а также причина их появления не была определена.\n",
    "\n",
    "__Пропуски в столбце total_income__\n",
    "Для того, чтобы не терять данные, было решено заменить пропуски в столбце total_income на медианные значения total_income людей схожих с людьми, у которых значения пропущены, по следующим признакам (которые также были предварительно проверены на наличие пропусков и других аномалий):\n",
    "- категория возраста;\n",
    "- уровень образования;\n",
    "- тип занятости.\n",
    "\n",
    "В ходе проверка столбца dob_year на пропуски было выявлено, что 100 записей имеют значение 0 в данном столбце, что не может быть реальным. Данные значения было принято удалить, так как они не подлежат вычислению на основе других столбцов и незначительно влияют на выборку из-за своего малого количества относительной всей выборки.\n",
    "\n",
    "Чтобы получить категорию возраста человека была реализована функция, которая в зависимости от возраста человека относит его к одной из групп. Группы составлялись на основе статистического сборника \"Социальное положение и уровень жизни населения России\" 2019 (стр. 46, https://gks.ru/folder/210/document/13212), где возраст делится на группы по 5 лет.\n",
    "\n",
    "В ходе проверка столбца education на пропуски было выявлено, что в столбце есть значения одинаковые по смыслу, но разные по написанию, также было выявлено, что это не отражено в столбце education_id, поэтому его можно использовать для поиска медианы. Процесс удаления дубликатов в столбце education описан в разделе \"Обработка дубликатов\".\n",
    "\n",
    "После замены пропусков было обнаружено, что для 3 записей вычисление медианы невозможно ввиду отсутсвия идентичных по критериям записей. Данные записи было решено удалить поскольку они незначительно влияют на выборку из-за своего малого количества относительной всей выборки.\n",
    "\n",
    "__Пропуски в столбце days_employed__\n",
    "Так как данный столбец не влияет на результаты проверки основных гипотез было приняты решения: \n",
    "- Не удалять записи, так как они составляют значимую часть набора данных;\n",
    "- Заполнить записи с пропущенными значениями нулями, так как невозможно выявить какую-либо закономерность для их заполнения. Это никак не повлияет на качество данных с точки зрения проверки основных гипотез, но необходимо для дальнейшей обработки - приведения к целочисленному типу данных колонок.\n",
    "\n",
    "__Удаление аномалий в столбце children__\n",
    "В столбце children были обнаружены значения \"-20\" и \"-1\", что не может являться реальным количеством детей. В связи с этим записи, где в столбце children указаны значения \"-20\" и \"-1\" были удалены.\n",
    "\n",
    "__Исправление отрицательных значений в столбце days_employed__\n",
    "В столбце days_employed было обнаружены отрицательные значения, которые составляют более 3/4 все значений. Так как отрицательный стаж невозможен, а количество таких значений весьма велико, был сделан вывод, что это ошибка ввода данных. Значения были заменены на положительные. Стоит указать поставщику данных на данную ошибку.\n",
    "\n",
    "__Проверка остальных столбцов на аномалии__\n",
    "В остальных столбцах была найдена только 1 аномалия:\n",
    "В столбце gendre у одного человека указано значение \"XNA\". В связи с тем, что\n",
    "- в современном обществе существуют люди, которые не относят себе ни к одному из существующих гендеров;\n",
    "- количество этих людей очень мало по сравнению с общей численностью человечества;\n",
    "- количество людей в данных в гендером \"XNA\" очень мало по сравнению с количество людей в выборке\n",
    "\n",
    "был сделан вывод, что это может быть один из таких людей и поэтому данная аномалий не требует исправления."
   ]
  },
  {
   "cell_type": "markdown",
   "metadata": {},
   "source": [
    "### Замена типа данных"
   ]
  },
  {
   "cell_type": "code",
   "execution_count": 32,
   "metadata": {},
   "outputs": [
    {
     "name": "stdout",
     "output_type": "stream",
     "text": [
      "<class 'pandas.core.frame.DataFrame'>\n",
      "RangeIndex: 21299 entries, 0 to 21298\n",
      "Data columns (total 13 columns):\n",
      " #   Column              Non-Null Count  Dtype  \n",
      "---  ------              --------------  -----  \n",
      " 0   children            21299 non-null  int64  \n",
      " 1   days_employed       21299 non-null  float64\n",
      " 2   dob_years           21299 non-null  int64  \n",
      " 3   education           21299 non-null  object \n",
      " 4   education_id        21299 non-null  int64  \n",
      " 5   family_status       21299 non-null  object \n",
      " 6   family_status_id    21299 non-null  int64  \n",
      " 7   gender              21299 non-null  object \n",
      " 8   income_type         21299 non-null  object \n",
      " 9   debt                21299 non-null  int64  \n",
      " 10  total_income        21299 non-null  float64\n",
      " 11  purpose             21299 non-null  object \n",
      " 12  dob_years_category  21299 non-null  object \n",
      "dtypes: float64(2), int64(5), object(6)\n",
      "memory usage: 2.1+ MB\n"
     ]
    },
    {
     "data": {
      "text/html": [
       "<div>\n",
       "<style scoped>\n",
       "    .dataframe tbody tr th:only-of-type {\n",
       "        vertical-align: middle;\n",
       "    }\n",
       "\n",
       "    .dataframe tbody tr th {\n",
       "        vertical-align: top;\n",
       "    }\n",
       "\n",
       "    .dataframe thead th {\n",
       "        text-align: right;\n",
       "    }\n",
       "</style>\n",
       "<table border=\"1\" class=\"dataframe\">\n",
       "  <thead>\n",
       "    <tr style=\"text-align: right;\">\n",
       "      <th></th>\n",
       "      <th>children</th>\n",
       "      <th>days_employed</th>\n",
       "      <th>dob_years</th>\n",
       "      <th>education</th>\n",
       "      <th>education_id</th>\n",
       "      <th>family_status</th>\n",
       "      <th>family_status_id</th>\n",
       "      <th>gender</th>\n",
       "      <th>income_type</th>\n",
       "      <th>debt</th>\n",
       "      <th>total_income</th>\n",
       "      <th>purpose</th>\n",
       "      <th>dob_years_category</th>\n",
       "    </tr>\n",
       "  </thead>\n",
       "  <tbody>\n",
       "    <tr>\n",
       "      <th>0</th>\n",
       "      <td>1</td>\n",
       "      <td>8437.673028</td>\n",
       "      <td>42</td>\n",
       "      <td>высшее</td>\n",
       "      <td>0</td>\n",
       "      <td>женат / замужем</td>\n",
       "      <td>0</td>\n",
       "      <td>F</td>\n",
       "      <td>сотрудник</td>\n",
       "      <td>0</td>\n",
       "      <td>253875.639453</td>\n",
       "      <td>покупка жилья</td>\n",
       "      <td>40 - 44</td>\n",
       "    </tr>\n",
       "    <tr>\n",
       "      <th>1</th>\n",
       "      <td>1</td>\n",
       "      <td>4024.803754</td>\n",
       "      <td>36</td>\n",
       "      <td>среднее</td>\n",
       "      <td>1</td>\n",
       "      <td>женат / замужем</td>\n",
       "      <td>0</td>\n",
       "      <td>F</td>\n",
       "      <td>сотрудник</td>\n",
       "      <td>0</td>\n",
       "      <td>112080.014102</td>\n",
       "      <td>приобретение автомобиля</td>\n",
       "      <td>35 - 39</td>\n",
       "    </tr>\n",
       "    <tr>\n",
       "      <th>2</th>\n",
       "      <td>0</td>\n",
       "      <td>5623.422610</td>\n",
       "      <td>33</td>\n",
       "      <td>Среднее</td>\n",
       "      <td>1</td>\n",
       "      <td>женат / замужем</td>\n",
       "      <td>0</td>\n",
       "      <td>M</td>\n",
       "      <td>сотрудник</td>\n",
       "      <td>0</td>\n",
       "      <td>145885.952297</td>\n",
       "      <td>покупка жилья</td>\n",
       "      <td>30 - 34</td>\n",
       "    </tr>\n",
       "    <tr>\n",
       "      <th>3</th>\n",
       "      <td>3</td>\n",
       "      <td>4124.747207</td>\n",
       "      <td>32</td>\n",
       "      <td>среднее</td>\n",
       "      <td>1</td>\n",
       "      <td>женат / замужем</td>\n",
       "      <td>0</td>\n",
       "      <td>M</td>\n",
       "      <td>сотрудник</td>\n",
       "      <td>0</td>\n",
       "      <td>267628.550329</td>\n",
       "      <td>дополнительное образование</td>\n",
       "      <td>30 - 34</td>\n",
       "    </tr>\n",
       "    <tr>\n",
       "      <th>4</th>\n",
       "      <td>0</td>\n",
       "      <td>340266.072047</td>\n",
       "      <td>53</td>\n",
       "      <td>среднее</td>\n",
       "      <td>1</td>\n",
       "      <td>гражданский брак</td>\n",
       "      <td>1</td>\n",
       "      <td>F</td>\n",
       "      <td>пенсионер</td>\n",
       "      <td>0</td>\n",
       "      <td>158616.077870</td>\n",
       "      <td>сыграть свадьбу</td>\n",
       "      <td>50 - 54</td>\n",
       "    </tr>\n",
       "  </tbody>\n",
       "</table>\n",
       "</div>"
      ],
      "text/plain": [
       "   children  days_employed  dob_years education  education_id  \\\n",
       "0         1    8437.673028         42    высшее             0   \n",
       "1         1    4024.803754         36   среднее             1   \n",
       "2         0    5623.422610         33   Среднее             1   \n",
       "3         3    4124.747207         32   среднее             1   \n",
       "4         0  340266.072047         53   среднее             1   \n",
       "\n",
       "      family_status  family_status_id gender income_type  debt   total_income  \\\n",
       "0   женат / замужем                 0      F   сотрудник     0  253875.639453   \n",
       "1   женат / замужем                 0      F   сотрудник     0  112080.014102   \n",
       "2   женат / замужем                 0      M   сотрудник     0  145885.952297   \n",
       "3   женат / замужем                 0      M   сотрудник     0  267628.550329   \n",
       "4  гражданский брак                 1      F   пенсионер     0  158616.077870   \n",
       "\n",
       "                      purpose dob_years_category  \n",
       "0               покупка жилья            40 - 44  \n",
       "1     приобретение автомобиля            35 - 39  \n",
       "2               покупка жилья            30 - 34  \n",
       "3  дополнительное образование            30 - 34  \n",
       "4             сыграть свадьбу            50 - 54  "
      ]
     },
     "execution_count": 32,
     "metadata": {},
     "output_type": "execute_result"
    }
   ],
   "source": [
    "# Анализ данных\n",
    "data.info()\n",
    "data.head()"
   ]
  },
  {
   "cell_type": "code",
   "execution_count": 33,
   "metadata": {},
   "outputs": [],
   "source": [
    "# Приведение к целочисленному типу данных\n",
    "data['days_employed'] = data['days_employed'].astype('int')\n",
    "data['total_income'] = data['total_income'].astype('int')"
   ]
  },
  {
   "cell_type": "code",
   "execution_count": 34,
   "metadata": {},
   "outputs": [
    {
     "name": "stdout",
     "output_type": "stream",
     "text": [
      "<class 'pandas.core.frame.DataFrame'>\n",
      "RangeIndex: 21299 entries, 0 to 21298\n",
      "Data columns (total 13 columns):\n",
      " #   Column              Non-Null Count  Dtype \n",
      "---  ------              --------------  ----- \n",
      " 0   children            21299 non-null  int64 \n",
      " 1   days_employed       21299 non-null  int64 \n",
      " 2   dob_years           21299 non-null  int64 \n",
      " 3   education           21299 non-null  object\n",
      " 4   education_id        21299 non-null  int64 \n",
      " 5   family_status       21299 non-null  object\n",
      " 6   family_status_id    21299 non-null  int64 \n",
      " 7   gender              21299 non-null  object\n",
      " 8   income_type         21299 non-null  object\n",
      " 9   debt                21299 non-null  int64 \n",
      " 10  total_income        21299 non-null  int64 \n",
      " 11  purpose             21299 non-null  object\n",
      " 12  dob_years_category  21299 non-null  object\n",
      "dtypes: int64(7), object(6)\n",
      "memory usage: 2.1+ MB\n"
     ]
    },
    {
     "data": {
      "text/html": [
       "<div>\n",
       "<style scoped>\n",
       "    .dataframe tbody tr th:only-of-type {\n",
       "        vertical-align: middle;\n",
       "    }\n",
       "\n",
       "    .dataframe tbody tr th {\n",
       "        vertical-align: top;\n",
       "    }\n",
       "\n",
       "    .dataframe thead th {\n",
       "        text-align: right;\n",
       "    }\n",
       "</style>\n",
       "<table border=\"1\" class=\"dataframe\">\n",
       "  <thead>\n",
       "    <tr style=\"text-align: right;\">\n",
       "      <th></th>\n",
       "      <th>children</th>\n",
       "      <th>days_employed</th>\n",
       "      <th>dob_years</th>\n",
       "      <th>education</th>\n",
       "      <th>education_id</th>\n",
       "      <th>family_status</th>\n",
       "      <th>family_status_id</th>\n",
       "      <th>gender</th>\n",
       "      <th>income_type</th>\n",
       "      <th>debt</th>\n",
       "      <th>total_income</th>\n",
       "      <th>purpose</th>\n",
       "      <th>dob_years_category</th>\n",
       "    </tr>\n",
       "  </thead>\n",
       "  <tbody>\n",
       "    <tr>\n",
       "      <th>0</th>\n",
       "      <td>1</td>\n",
       "      <td>8437</td>\n",
       "      <td>42</td>\n",
       "      <td>высшее</td>\n",
       "      <td>0</td>\n",
       "      <td>женат / замужем</td>\n",
       "      <td>0</td>\n",
       "      <td>F</td>\n",
       "      <td>сотрудник</td>\n",
       "      <td>0</td>\n",
       "      <td>253875</td>\n",
       "      <td>покупка жилья</td>\n",
       "      <td>40 - 44</td>\n",
       "    </tr>\n",
       "    <tr>\n",
       "      <th>1</th>\n",
       "      <td>1</td>\n",
       "      <td>4024</td>\n",
       "      <td>36</td>\n",
       "      <td>среднее</td>\n",
       "      <td>1</td>\n",
       "      <td>женат / замужем</td>\n",
       "      <td>0</td>\n",
       "      <td>F</td>\n",
       "      <td>сотрудник</td>\n",
       "      <td>0</td>\n",
       "      <td>112080</td>\n",
       "      <td>приобретение автомобиля</td>\n",
       "      <td>35 - 39</td>\n",
       "    </tr>\n",
       "    <tr>\n",
       "      <th>2</th>\n",
       "      <td>0</td>\n",
       "      <td>5623</td>\n",
       "      <td>33</td>\n",
       "      <td>Среднее</td>\n",
       "      <td>1</td>\n",
       "      <td>женат / замужем</td>\n",
       "      <td>0</td>\n",
       "      <td>M</td>\n",
       "      <td>сотрудник</td>\n",
       "      <td>0</td>\n",
       "      <td>145885</td>\n",
       "      <td>покупка жилья</td>\n",
       "      <td>30 - 34</td>\n",
       "    </tr>\n",
       "    <tr>\n",
       "      <th>3</th>\n",
       "      <td>3</td>\n",
       "      <td>4124</td>\n",
       "      <td>32</td>\n",
       "      <td>среднее</td>\n",
       "      <td>1</td>\n",
       "      <td>женат / замужем</td>\n",
       "      <td>0</td>\n",
       "      <td>M</td>\n",
       "      <td>сотрудник</td>\n",
       "      <td>0</td>\n",
       "      <td>267628</td>\n",
       "      <td>дополнительное образование</td>\n",
       "      <td>30 - 34</td>\n",
       "    </tr>\n",
       "    <tr>\n",
       "      <th>4</th>\n",
       "      <td>0</td>\n",
       "      <td>340266</td>\n",
       "      <td>53</td>\n",
       "      <td>среднее</td>\n",
       "      <td>1</td>\n",
       "      <td>гражданский брак</td>\n",
       "      <td>1</td>\n",
       "      <td>F</td>\n",
       "      <td>пенсионер</td>\n",
       "      <td>0</td>\n",
       "      <td>158616</td>\n",
       "      <td>сыграть свадьбу</td>\n",
       "      <td>50 - 54</td>\n",
       "    </tr>\n",
       "  </tbody>\n",
       "</table>\n",
       "</div>"
      ],
      "text/plain": [
       "   children  days_employed  dob_years education  education_id  \\\n",
       "0         1           8437         42    высшее             0   \n",
       "1         1           4024         36   среднее             1   \n",
       "2         0           5623         33   Среднее             1   \n",
       "3         3           4124         32   среднее             1   \n",
       "4         0         340266         53   среднее             1   \n",
       "\n",
       "      family_status  family_status_id gender income_type  debt  total_income  \\\n",
       "0   женат / замужем                 0      F   сотрудник     0        253875   \n",
       "1   женат / замужем                 0      F   сотрудник     0        112080   \n",
       "2   женат / замужем                 0      M   сотрудник     0        145885   \n",
       "3   женат / замужем                 0      M   сотрудник     0        267628   \n",
       "4  гражданский брак                 1      F   пенсионер     0        158616   \n",
       "\n",
       "                      purpose dob_years_category  \n",
       "0               покупка жилья            40 - 44  \n",
       "1     приобретение автомобиля            35 - 39  \n",
       "2               покупка жилья            30 - 34  \n",
       "3  дополнительное образование            30 - 34  \n",
       "4             сыграть свадьбу            50 - 54  "
      ]
     },
     "execution_count": 34,
     "metadata": {},
     "output_type": "execute_result"
    }
   ],
   "source": [
    "data.info()\n",
    "data.head()"
   ]
  },
  {
   "cell_type": "markdown",
   "metadata": {},
   "source": [
    "#### Вывод"
   ]
  },
  {
   "cell_type": "markdown",
   "metadata": {},
   "source": [
    "В наборе данных 2 столбца из всех имеют вещественный тип - days_employed и total_income. \n",
    "\n",
    "Дробные части дней стажа и зарплаты не несут в себе информационной нагрузки ввиду того, что являются очень маленькой по сравнению с целыми частями. Поэтому было принято решение привести указанные столбцы к целочисленному типу с целью экономии памяти.\n",
    "\n",
    "Данная процедура была осуществлена с помощью функции astype() библиотеки Pandas, так как приведение происходило от одного численного типа к другому, а не от строки к численному типу."
   ]
  },
  {
   "cell_type": "markdown",
   "metadata": {},
   "source": [
    "### Обработка дубликатов"
   ]
  },
  {
   "cell_type": "markdown",
   "metadata": {},
   "source": [
    "#### Дубликаты в столбце education"
   ]
  },
  {
   "cell_type": "code",
   "execution_count": 35,
   "metadata": {},
   "outputs": [
    {
     "data": {
      "text/plain": [
       "среднее                13609\n",
       "высшее                  4665\n",
       "СРЕДНЕЕ                  764\n",
       "Среднее                  700\n",
       "неоконченное высшее      663\n",
       "ВЫСШЕЕ                   270\n",
       "Высшее                   266\n",
       "начальное                248\n",
       "Неоконченное высшее       47\n",
       "НЕОКОНЧЕННОЕ ВЫСШЕЕ       29\n",
       "НАЧАЛЬНОЕ                 17\n",
       "Начальное                 15\n",
       "ученая степень             4\n",
       "Ученая степень             1\n",
       "УЧЕНАЯ СТЕПЕНЬ             1\n",
       "Name: education, dtype: int64"
      ]
     },
     "execution_count": 35,
     "metadata": {},
     "output_type": "execute_result"
    }
   ],
   "source": [
    "data['education'].value_counts() # Проверка уникальных значений "
   ]
  },
  {
   "cell_type": "code",
   "execution_count": 36,
   "metadata": {},
   "outputs": [
    {
     "data": {
      "text/plain": [
       "education_id  education          \n",
       "0             высшее                  4665\n",
       "              ВЫСШЕЕ                   270\n",
       "              Высшее                   266\n",
       "1             среднее                13609\n",
       "              СРЕДНЕЕ                  764\n",
       "              Среднее                  700\n",
       "2             неоконченное высшее      663\n",
       "              Неоконченное высшее       47\n",
       "              НЕОКОНЧЕННОЕ ВЫСШЕЕ       29\n",
       "3             начальное                248\n",
       "              НАЧАЛЬНОЕ                 17\n",
       "              Начальное                 15\n",
       "4             ученая степень             4\n",
       "              УЧЕНАЯ СТЕПЕНЬ             1\n",
       "              Ученая степень             1\n",
       "Name: education, dtype: int64"
      ]
     },
     "execution_count": 36,
     "metadata": {},
     "output_type": "execute_result"
    }
   ],
   "source": [
    "# Проверка соотношения идентификаторов уровня образования с их названиями\n",
    "data.groupby('education_id')['education'].value_counts()"
   ]
  },
  {
   "cell_type": "code",
   "execution_count": 37,
   "metadata": {},
   "outputs": [
    {
     "data": {
      "text/plain": [
       "среднее                15073\n",
       "высшее                  5201\n",
       "неоконченное высшее      739\n",
       "начальное                280\n",
       "ученая степень             6\n",
       "Name: education, dtype: int64"
      ]
     },
     "execution_count": 37,
     "metadata": {},
     "output_type": "execute_result"
    }
   ],
   "source": [
    "data['education'] = data['education'].str.lower() # Удаление дубликатов путем приведения к нижнему регистру\n",
    "\n",
    "data['education'].value_counts() # Проверка результатов удаления дубликатов"
   ]
  },
  {
   "cell_type": "markdown",
   "metadata": {},
   "source": [
    "#### Общие дубликаты"
   ]
  },
  {
   "cell_type": "code",
   "execution_count": 38,
   "metadata": {},
   "outputs": [
    {
     "data": {
      "text/plain": [
       "71"
      ]
     },
     "execution_count": 38,
     "metadata": {},
     "output_type": "execute_result"
    }
   ],
   "source": [
    "# Проверка на дубликаты в наборе данных\n",
    "data.duplicated().sum()"
   ]
  },
  {
   "cell_type": "code",
   "execution_count": 39,
   "metadata": {},
   "outputs": [],
   "source": [
    "# Удаление дубликатов\n",
    "data = data.drop_duplicates().reset_index(drop=True)"
   ]
  },
  {
   "cell_type": "code",
   "execution_count": 40,
   "metadata": {},
   "outputs": [
    {
     "data": {
      "text/plain": [
       "0"
      ]
     },
     "execution_count": 40,
     "metadata": {},
     "output_type": "execute_result"
    }
   ],
   "source": [
    "# Проверка результатов удаления\n",
    "data.duplicated().sum()"
   ]
  },
  {
   "cell_type": "markdown",
   "metadata": {},
   "source": [
    "#### Вывод"
   ]
  },
  {
   "cell_type": "markdown",
   "metadata": {},
   "source": [
    "__Дубликаты в столбце education__\n",
    "В ходе поиска дополнительных аномалий в разделе поиска пропусков было обнаружено, что в столбце education есть значения одинаковые по смыслу, но разные по написанию.\n",
    "\n",
    "Для поиска дубликатов были проведены:\n",
    "- дополнительный анализ уникальных значений с помощью функции value_counts(), который более наглядно подтвердил наличие дубликатов;\n",
    "- группировка названий уровней образования по идентификатору с целью проверки необходимости устранения дубликатов в идентификаторах. Проверка показала, что такой необходимости не стоит.\n",
    "\n",
    "После этого дубликаты были устранены путем приведения названий уровней образования к нижнему регистру.\n",
    "\n",
    "Возникновение подобных дубликатов возможно из-за того, что данные собирались из разных источников, например, баз данных, в которых при создании таблицы были указаны одинаковые идентификаторы, но по-разному вводились названия уровней образования. После чего данные из разных БД были склеены в один набор данных.\n",
    "Маловероятно, что дубликаты возникли из-за того, что данные вводились вручную, т.к. тогда в названиях бы однозначно содержались другие ошибки, а в данном случае видно, что уровень образования выбирался из списка.\n",
    "\n",
    "__Общие дубликаты__\n",
    "После удаления дубликатов в столбце education была проведена проверка всего набора данных на наличие полных дубликатов в записях. \n",
    "\n",
    "Проверка осуществлялась с помощью функции duplicated(). Был выявлен 71 дубликат. Дубликаты были удалены с помощью функции drop_duplicates().\n",
    "\n",
    "Появление таких дубликатов возможно по причине того, что данные могут быть собраны из разных банков, в которые обращался клиент для получения кредита. И в связи с этим был внесен в общий набор данных несоколько раз."
   ]
  },
  {
   "cell_type": "markdown",
   "metadata": {},
   "source": [
    "### Лемматизация"
   ]
  },
  {
   "cell_type": "code",
   "execution_count": 41,
   "metadata": {},
   "outputs": [
    {
     "data": {
      "text/plain": [
       "свадьба                                   785\n",
       "на проведение свадьбы                     759\n",
       "сыграть свадьбу                           754\n",
       "операции с недвижимостью                  669\n",
       "покупка коммерческой недвижимости         655\n",
       "покупка жилья для сдачи                   647\n",
       "операции с коммерческой недвижимостью     642\n",
       "операции с жильем                         641\n",
       "покупка жилья для семьи                   636\n",
       "жилье                                     635\n",
       "покупка жилья                             634\n",
       "недвижимость                              627\n",
       "строительство собственной недвижимости    626\n",
       "операции со своей недвижимостью           623\n",
       "строительство недвижимости                619\n",
       "покупка своего жилья                      618\n",
       "строительство жилой недвижимости          617\n",
       "покупка недвижимости                      613\n",
       "ремонт жилью                              602\n",
       "покупка жилой недвижимости                598\n",
       "на покупку своего автомобиля              501\n",
       "заняться высшим образованием              493\n",
       "автомобиль                                487\n",
       "сделка с подержанным автомобилем          479\n",
       "автомобили                                474\n",
       "на покупку подержанного автомобиля        471\n",
       "свой автомобиль                           470\n",
       "на покупку автомобиля                     465\n",
       "приобретение автомобиля                   457\n",
       "сделка с автомобилем                      454\n",
       "дополнительное образование                453\n",
       "высшее образование                        443\n",
       "получение дополнительного образования     442\n",
       "получение образования                     439\n",
       "образование                               439\n",
       "профильное образование                    431\n",
       "получение высшего образования             423\n",
       "заняться образованием                     407\n",
       "Name: purpose, dtype: int64"
      ]
     },
     "execution_count": 41,
     "metadata": {},
     "output_type": "execute_result"
    }
   ],
   "source": [
    "data['purpose'].value_counts() # Проверка уникальных значений "
   ]
  },
  {
   "cell_type": "code",
   "execution_count": 42,
   "metadata": {},
   "outputs": [],
   "source": [
    "# Импорт функции Mystem из библиотеки \n",
    "from pymystem3 import Mystem\n",
    "\n",
    "m = Mystem()"
   ]
  },
  {
   "cell_type": "code",
   "execution_count": 43,
   "metadata": {},
   "outputs": [],
   "source": [
    "# Функция для лемматизации цели получения кредита\n",
    "# purpose - цель получения кредита, string\n",
    "# Возвращает - лемматизированная цель получения кредита, string\n",
    "def lemmatize_purpose(purpose):\n",
    "    return ''.join(m.lemmatize(purpose)[:-1])"
   ]
  },
  {
   "cell_type": "code",
   "execution_count": 44,
   "metadata": {},
   "outputs": [
    {
     "data": {
      "text/plain": [
       "автомобиль                                961\n",
       "свадьба                                   785\n",
       "на проведение свадьба                     759\n",
       "сыграть свадьба                           754\n",
       "операция с недвижимость                   669\n",
       "покупка коммерческий недвижимость         655\n",
       "покупка жилье для сдача                   647\n",
       "операция с коммерческий недвижимость      642\n",
       "операция с жилье                          641\n",
       "покупка жилье для семья                   636\n",
       "жилье                                     635\n",
       "покупка жилье                             634\n",
       "недвижимость                              627\n",
       "строительство собственный недвижимость    626\n",
       "операция со свой недвижимость             623\n",
       "строительство недвижимость                619\n",
       "покупка свой жилье                        618\n",
       "строительство жилой недвижимость          617\n",
       "покупка недвижимость                      613\n",
       "ремонт жилье                              602\n",
       "покупка жилой недвижимость                598\n",
       "на покупка свой автомобиль                501\n",
       "заниматься высокий образование            493\n",
       "сделка с подержанный автомобиль           479\n",
       "на покупка подержать автомобиль           471\n",
       "свой автомобиль                           470\n",
       "на покупка автомобиль                     465\n",
       "приобретение автомобиль                   457\n",
       "сделка с автомобиль                       454\n",
       "дополнительный образование                453\n",
       "высокий образование                       443\n",
       "получение дополнительный образование      442\n",
       "образование                               439\n",
       "получение образование                     439\n",
       "профильный образование                    431\n",
       "получение высокий образование             423\n",
       "заниматься образование                    407\n",
       "Name: purpose, dtype: int64"
      ]
     },
     "execution_count": 44,
     "metadata": {},
     "output_type": "execute_result"
    }
   ],
   "source": [
    "data['purpose'].apply(lemmatize_purpose).value_counts() # Проверка результатов лемматизации"
   ]
  },
  {
   "cell_type": "markdown",
   "metadata": {},
   "source": [
    "#### Вывод"
   ]
  },
  {
   "cell_type": "markdown",
   "metadata": {},
   "source": [
    "Для лемматизации столбца purpose была написана функция lemmatize_purpose(), которая:\n",
    "1. Принимает на вход строку с целью получения кредита;\n",
    "2. Лемматизирует ее с помощью функции lemmatize() из библиотеки pymystem3;\n",
    "3. Убирает символ переноса строки из списка с леммами, так как он не несет никакой ценности;\n",
    "4. Соединяет полученный список обратно в строку;\n",
    "5. Возвращает составленную из лемм строку."
   ]
  },
  {
   "cell_type": "markdown",
   "metadata": {},
   "source": [
    "### Категоризация данных"
   ]
  },
  {
   "cell_type": "code",
   "execution_count": 45,
   "metadata": {},
   "outputs": [
    {
     "data": {
      "text/plain": [
       "have_children  children\n",
       "False          0           14020\n",
       "True           1            4791\n",
       "               2            2039\n",
       "               3             328\n",
       "               4              41\n",
       "               5               9\n",
       "Name: children, dtype: int64"
      ]
     },
     "execution_count": 45,
     "metadata": {},
     "output_type": "execute_result"
    }
   ],
   "source": [
    "# Функция, проверяющая наличие детей у клиента\n",
    "# amount - количество детей, numeric\n",
    "# Возвращает - наличие детей, bool\n",
    "def get_having_children(amount):\n",
    "    if amount != 0:\n",
    "        return True\n",
    "    \n",
    "    return False\n",
    "\n",
    "# Создание столбца, категорезирующего наличие детей у клиента\n",
    "data['have_children'] = data['children'].apply(get_having_children)\n",
    "\n",
    "# Проверка результатов категорезации\n",
    "data.groupby('have_children')['children'].value_counts()"
   ]
  },
  {
   "cell_type": "code",
   "execution_count": 46,
   "metadata": {},
   "outputs": [
    {
     "data": {
      "text/plain": [
       "have_children_type  children\n",
       "детей нет           0           14020\n",
       "малодетная семья    1            4791\n",
       "                    2            2039\n",
       "многодетная семья   3             328\n",
       "                    4              41\n",
       "                    5               9\n",
       "Name: children, dtype: int64"
      ]
     },
     "execution_count": 46,
     "metadata": {},
     "output_type": "execute_result"
    }
   ],
   "source": [
    "# Функция, определяющая тип семьи клиента\n",
    "# amount - количество детей, numeric\n",
    "# Возвращает - тип семьи, string\n",
    "def get_having_children_type(amount):\n",
    "    if amount == 0:\n",
    "        return 'детей нет'\n",
    "    elif amount in [1, 2]:\n",
    "        return 'малодетная семья'\n",
    "    return 'многодетная семья'\n",
    "\n",
    "# Создание столбца, категорезирующего тип семьи клиента\n",
    "data['have_children_type'] = data['children'].apply(get_having_children_type)\n",
    "\n",
    "# Проверка результатов категорезации\n",
    "data.groupby('have_children_type')['children'].value_counts()"
   ]
  },
  {
   "cell_type": "code",
   "execution_count": 47,
   "metadata": {},
   "outputs": [
    {
     "data": {
      "text/plain": [
       "family_status_id  family_status        \n",
       "0                 женат / замужем          12212\n",
       "1                 гражданский брак          4111\n",
       "2                 вдовец / вдова             946\n",
       "3                 в разводе                 1179\n",
       "4                 Не женат / не замужем     2780\n",
       "Name: family_status, dtype: int64"
      ]
     },
     "execution_count": 47,
     "metadata": {},
     "output_type": "execute_result"
    }
   ],
   "source": [
    "# Проверка соотвествия между столбцами family_status_id и family_status\n",
    "data.groupby('family_status_id')['family_status'].value_counts()"
   ]
  },
  {
   "cell_type": "code",
   "execution_count": 48,
   "metadata": {},
   "outputs": [
    {
     "data": {
      "text/plain": [
       "married  family_status        \n",
       "False    Не женат / не замужем     2780\n",
       "         в разводе                 1179\n",
       "         вдовец / вдова             946\n",
       "True     женат / замужем          12212\n",
       "         гражданский брак          4111\n",
       "Name: family_status, dtype: int64"
      ]
     },
     "execution_count": 48,
     "metadata": {},
     "output_type": "execute_result"
    }
   ],
   "source": [
    "# Функция, определяющая в браке ли клиент\n",
    "# status - семейное положение, numeric\n",
    "# Возвращает - в браке ли клиент, bool\n",
    "def get_marrige_type(status):\n",
    "    if status in [0, 1]:\n",
    "        return True\n",
    "    return False\n",
    "\n",
    "# Создание столбца, категорезирующего статус брака клиента\n",
    "data['married'] = data['family_status_id'].apply(get_marrige_type)\n",
    "\n",
    "# Проверка результатов категорезации\n",
    "data.groupby('married')['family_status'].value_counts()"
   ]
  },
  {
   "cell_type": "code",
   "execution_count": 49,
   "metadata": {},
   "outputs": [
    {
     "data": {
      "text/plain": [
       "total_income_type\n",
       "100 - 150 тыс.       6931\n",
       "150 - 300 тыс.       8402\n",
       "300 тыс. - 1 млн.    1444\n",
       "50 - 100 тыс.        4057\n",
       "< 50 тыс.             369\n",
       "> 1 млн.               25\n",
       "Name: total_income, dtype: int64"
      ]
     },
     "execution_count": 49,
     "metadata": {},
     "output_type": "execute_result"
    }
   ],
   "source": [
    "# Функция, определяющая категорию уровня дохода клиента\n",
    "# income - доход, numeric\n",
    "# Возвращает - категория уровня дохода, string\n",
    "def get_total_income_type(income):\n",
    "    if income < 50000:\n",
    "        return '< 50 тыс.'\n",
    "    elif income < 100000:\n",
    "        return '50 - 100 тыс.'\n",
    "    elif income < 150000:\n",
    "        return '100 - 150 тыс.'\n",
    "    elif income < 300000:\n",
    "        return '150 - 300 тыс.'\n",
    "    elif income < 1000000:\n",
    "        return '300 тыс. - 1 млн.'\n",
    "    return '> 1 млн.'\n",
    "\n",
    "# Создание столбца, категорезирующего уровень дохода клиента\n",
    "data['total_income_type'] = data['total_income'].apply(get_total_income_type)\n",
    "\n",
    "# Проверка результатов категорезации\n",
    "data.groupby('total_income_type')['total_income'].count()"
   ]
  },
  {
   "cell_type": "code",
   "execution_count": 50,
   "metadata": {},
   "outputs": [
    {
     "data": {
      "text/plain": [
       "purpose_category           purpose                               \n",
       "автомобиль                 на покупку своего автомобиля              501\n",
       "                           автомобиль                                487\n",
       "                           сделка с подержанным автомобилем          479\n",
       "                           автомобили                                474\n",
       "                           на покупку подержанного автомобиля        471\n",
       "                           свой автомобиль                           470\n",
       "                           на покупку автомобиля                     465\n",
       "                           приобретение автомобиля                   457\n",
       "                           сделка с автомобилем                      454\n",
       "жилье                      покупка жилья для сдачи                   647\n",
       "                           операции с жильем                         641\n",
       "                           покупка жилья для семьи                   636\n",
       "                           жилье                                     635\n",
       "                           покупка жилья                             634\n",
       "                           покупка своего жилья                      618\n",
       "                           строительство жилой недвижимости          617\n",
       "                           ремонт жилью                              602\n",
       "                           покупка жилой недвижимости                598\n",
       "коммерческая недвижимость  покупка коммерческой недвижимости         655\n",
       "                           операции с коммерческой недвижимостью     642\n",
       "недвижимость               операции с недвижимостью                  669\n",
       "                           недвижимость                              627\n",
       "                           строительство собственной недвижимости    626\n",
       "                           операции со своей недвижимостью           623\n",
       "                           строительство недвижимости                619\n",
       "                           покупка недвижимости                      613\n",
       "образование                заняться высшим образованием              493\n",
       "                           дополнительное образование                453\n",
       "                           высшее образование                        443\n",
       "                           получение дополнительного образования     442\n",
       "                           образование                               439\n",
       "                           получение образования                     439\n",
       "                           профильное образование                    431\n",
       "                           получение высшего образования             423\n",
       "                           заняться образованием                     407\n",
       "свадьба                    свадьба                                   785\n",
       "                           на проведение свадьбы                     759\n",
       "                           сыграть свадьбу                           754\n",
       "Name: purpose, dtype: int64"
      ]
     },
     "execution_count": 50,
     "metadata": {},
     "output_type": "execute_result"
    }
   ],
   "source": [
    "# Функция, определяющая категорию цели получения кредита\n",
    "# purpose - цель получения кредита, string\n",
    "# Возвращает - категория цели получения кредита, string\n",
    "def get_purpose_category(purpose):\n",
    "    lemmatized_purpose = m.lemmatize(purpose)\n",
    "    \n",
    "    if 'недвижимость' in lemmatized_purpose:\n",
    "        if 'коммерческий' in lemmatized_purpose:\n",
    "            return 'коммерческая недвижимость'\n",
    "        elif 'жилой' in lemmatized_purpose:\n",
    "            return 'жилье'\n",
    "        else:\n",
    "            return 'недвижимость'\n",
    "    elif 'жилье' in lemmatized_purpose:\n",
    "        return 'жилье'\n",
    "    elif 'автомобиль' in lemmatized_purpose:\n",
    "        return 'автомобиль'\n",
    "    elif 'образование' in lemmatized_purpose:\n",
    "        return 'образование'\n",
    "    elif 'свадьба' in lemmatized_purpose:\n",
    "        return 'свадьба'\n",
    "\n",
    "# Создание столбца, категорезирующего цель получения кредита\n",
    "data['purpose_category'] = data['purpose'].apply(get_purpose_category)\n",
    "\n",
    "# Проверка результатов категорезации\n",
    "data.groupby('purpose_category')['purpose'].value_counts()"
   ]
  },
  {
   "cell_type": "code",
   "execution_count": 51,
   "metadata": {},
   "outputs": [
    {
     "data": {
      "text/html": [
       "<div>\n",
       "<style scoped>\n",
       "    .dataframe tbody tr th:only-of-type {\n",
       "        vertical-align: middle;\n",
       "    }\n",
       "\n",
       "    .dataframe tbody tr th {\n",
       "        vertical-align: top;\n",
       "    }\n",
       "\n",
       "    .dataframe thead th {\n",
       "        text-align: right;\n",
       "    }\n",
       "</style>\n",
       "<table border=\"1\" class=\"dataframe\">\n",
       "  <thead>\n",
       "    <tr style=\"text-align: right;\">\n",
       "      <th></th>\n",
       "      <th>children</th>\n",
       "      <th>days_employed</th>\n",
       "      <th>dob_years</th>\n",
       "      <th>education</th>\n",
       "      <th>education_id</th>\n",
       "      <th>family_status</th>\n",
       "      <th>family_status_id</th>\n",
       "      <th>gender</th>\n",
       "      <th>income_type</th>\n",
       "      <th>debt</th>\n",
       "      <th>total_income</th>\n",
       "      <th>purpose</th>\n",
       "      <th>dob_years_category</th>\n",
       "      <th>have_children</th>\n",
       "      <th>have_children_type</th>\n",
       "      <th>married</th>\n",
       "      <th>total_income_type</th>\n",
       "      <th>purpose_category</th>\n",
       "    </tr>\n",
       "  </thead>\n",
       "  <tbody>\n",
       "    <tr>\n",
       "      <th>0</th>\n",
       "      <td>1</td>\n",
       "      <td>8437</td>\n",
       "      <td>42</td>\n",
       "      <td>высшее</td>\n",
       "      <td>0</td>\n",
       "      <td>женат / замужем</td>\n",
       "      <td>0</td>\n",
       "      <td>F</td>\n",
       "      <td>сотрудник</td>\n",
       "      <td>0</td>\n",
       "      <td>253875</td>\n",
       "      <td>покупка жилья</td>\n",
       "      <td>40 - 44</td>\n",
       "      <td>True</td>\n",
       "      <td>малодетная семья</td>\n",
       "      <td>True</td>\n",
       "      <td>150 - 300 тыс.</td>\n",
       "      <td>жилье</td>\n",
       "    </tr>\n",
       "    <tr>\n",
       "      <th>1</th>\n",
       "      <td>1</td>\n",
       "      <td>4024</td>\n",
       "      <td>36</td>\n",
       "      <td>среднее</td>\n",
       "      <td>1</td>\n",
       "      <td>женат / замужем</td>\n",
       "      <td>0</td>\n",
       "      <td>F</td>\n",
       "      <td>сотрудник</td>\n",
       "      <td>0</td>\n",
       "      <td>112080</td>\n",
       "      <td>приобретение автомобиля</td>\n",
       "      <td>35 - 39</td>\n",
       "      <td>True</td>\n",
       "      <td>малодетная семья</td>\n",
       "      <td>True</td>\n",
       "      <td>100 - 150 тыс.</td>\n",
       "      <td>автомобиль</td>\n",
       "    </tr>\n",
       "    <tr>\n",
       "      <th>2</th>\n",
       "      <td>0</td>\n",
       "      <td>5623</td>\n",
       "      <td>33</td>\n",
       "      <td>среднее</td>\n",
       "      <td>1</td>\n",
       "      <td>женат / замужем</td>\n",
       "      <td>0</td>\n",
       "      <td>M</td>\n",
       "      <td>сотрудник</td>\n",
       "      <td>0</td>\n",
       "      <td>145885</td>\n",
       "      <td>покупка жилья</td>\n",
       "      <td>30 - 34</td>\n",
       "      <td>False</td>\n",
       "      <td>детей нет</td>\n",
       "      <td>True</td>\n",
       "      <td>100 - 150 тыс.</td>\n",
       "      <td>жилье</td>\n",
       "    </tr>\n",
       "    <tr>\n",
       "      <th>3</th>\n",
       "      <td>3</td>\n",
       "      <td>4124</td>\n",
       "      <td>32</td>\n",
       "      <td>среднее</td>\n",
       "      <td>1</td>\n",
       "      <td>женат / замужем</td>\n",
       "      <td>0</td>\n",
       "      <td>M</td>\n",
       "      <td>сотрудник</td>\n",
       "      <td>0</td>\n",
       "      <td>267628</td>\n",
       "      <td>дополнительное образование</td>\n",
       "      <td>30 - 34</td>\n",
       "      <td>True</td>\n",
       "      <td>многодетная семья</td>\n",
       "      <td>True</td>\n",
       "      <td>150 - 300 тыс.</td>\n",
       "      <td>образование</td>\n",
       "    </tr>\n",
       "    <tr>\n",
       "      <th>4</th>\n",
       "      <td>0</td>\n",
       "      <td>340266</td>\n",
       "      <td>53</td>\n",
       "      <td>среднее</td>\n",
       "      <td>1</td>\n",
       "      <td>гражданский брак</td>\n",
       "      <td>1</td>\n",
       "      <td>F</td>\n",
       "      <td>пенсионер</td>\n",
       "      <td>0</td>\n",
       "      <td>158616</td>\n",
       "      <td>сыграть свадьбу</td>\n",
       "      <td>50 - 54</td>\n",
       "      <td>False</td>\n",
       "      <td>детей нет</td>\n",
       "      <td>True</td>\n",
       "      <td>150 - 300 тыс.</td>\n",
       "      <td>свадьба</td>\n",
       "    </tr>\n",
       "  </tbody>\n",
       "</table>\n",
       "</div>"
      ],
      "text/plain": [
       "   children  days_employed  dob_years education  education_id  \\\n",
       "0         1           8437         42    высшее             0   \n",
       "1         1           4024         36   среднее             1   \n",
       "2         0           5623         33   среднее             1   \n",
       "3         3           4124         32   среднее             1   \n",
       "4         0         340266         53   среднее             1   \n",
       "\n",
       "      family_status  family_status_id gender income_type  debt  total_income  \\\n",
       "0   женат / замужем                 0      F   сотрудник     0        253875   \n",
       "1   женат / замужем                 0      F   сотрудник     0        112080   \n",
       "2   женат / замужем                 0      M   сотрудник     0        145885   \n",
       "3   женат / замужем                 0      M   сотрудник     0        267628   \n",
       "4  гражданский брак                 1      F   пенсионер     0        158616   \n",
       "\n",
       "                      purpose dob_years_category  have_children  \\\n",
       "0               покупка жилья            40 - 44           True   \n",
       "1     приобретение автомобиля            35 - 39           True   \n",
       "2               покупка жилья            30 - 34          False   \n",
       "3  дополнительное образование            30 - 34           True   \n",
       "4             сыграть свадьбу            50 - 54          False   \n",
       "\n",
       "  have_children_type  married total_income_type purpose_category  \n",
       "0   малодетная семья     True    150 - 300 тыс.            жилье  \n",
       "1   малодетная семья     True    100 - 150 тыс.       автомобиль  \n",
       "2          детей нет     True    100 - 150 тыс.            жилье  \n",
       "3  многодетная семья     True    150 - 300 тыс.      образование  \n",
       "4          детей нет     True    150 - 300 тыс.          свадьба  "
      ]
     },
     "execution_count": 51,
     "metadata": {},
     "output_type": "execute_result"
    }
   ],
   "source": [
    "# Проверка результатов категоризации данных\n",
    "data.head()"
   ]
  },
  {
   "cell_type": "markdown",
   "metadata": {},
   "source": [
    "#### Вывод"
   ]
  },
  {
   "cell_type": "markdown",
   "metadata": {},
   "source": [
    "Для более точной проверки основных гипотез на шаге 3 данные были категорезированы следующими способами:\n",
    "- Наличие детей: если у клиента 0 детей - False, если больше 0 - True;\n",
    "- Тип семьи: 0 детей - детей нет, 1 или 2 ребенка - малодетная семья, более 2 детей - многодетная семья;\n",
    "- Статус \"в браке ли клиент\": тип брака \"женат / замужем\" и \"гражданский брак\" - True, \"вдовец / вдова\", \"в разводе\" или \"Не женат / не замужем\" - False;\n",
    "- Уровень дохода клиента: менее 50 тыс., 50 - 100 тыс., 100 - 150 тыс., 150 - 300 тыс., 300 тыс. - 1 млн., более 1 млн.;\n",
    "- Цель получения кредита: на операции с недвижимостью - 'недвижимостью', с коммерческой недвижимостью - 'коммерческая недвижимость', с жильем - 'жилье', с автомобилем - 'автомобиль', на образование - 'образование', на проведение свадьбы - 'свадьба'\n",
    "\n",
    "Категоризация уровня дохода клиента проведена исходя из представления о классах доходов людей автора т.к. не удалось найти статистические данные для более точной категоризации.\n",
    "\n",
    "Категоризация по цели получения кредита осуществляется на основе лемматизции каждой цели и проверки наличия в ней одной из ключевых лемм. Для недвижимости категоризация более сложная - недвижимость разделяется на безкатегорийную, коммерческую и жилую, что, в теории, может позволить более точно определить влияние на возврат кредита в срок."
   ]
  },
  {
   "cell_type": "markdown",
   "metadata": {},
   "source": [
    "## Шаг 3. Ответьте на вопросы"
   ]
  },
  {
   "cell_type": "markdown",
   "metadata": {},
   "source": [
    "### Есть ли зависимость между наличием детей и возвратом кредита в срок?"
   ]
  },
  {
   "cell_type": "code",
   "execution_count": 52,
   "metadata": {},
   "outputs": [
    {
     "data": {
      "text/html": [
       "<div>\n",
       "<style scoped>\n",
       "    .dataframe tbody tr th:only-of-type {\n",
       "        vertical-align: middle;\n",
       "    }\n",
       "\n",
       "    .dataframe tbody tr th {\n",
       "        vertical-align: top;\n",
       "    }\n",
       "\n",
       "    .dataframe thead th {\n",
       "        text-align: right;\n",
       "    }\n",
       "</style>\n",
       "<table border=\"1\" class=\"dataframe\">\n",
       "  <thead>\n",
       "    <tr style=\"text-align: right;\">\n",
       "      <th>debt</th>\n",
       "      <th>0</th>\n",
       "      <th>1</th>\n",
       "      <th>%</th>\n",
       "    </tr>\n",
       "    <tr>\n",
       "      <th>children</th>\n",
       "      <th></th>\n",
       "      <th></th>\n",
       "      <th></th>\n",
       "    </tr>\n",
       "  </thead>\n",
       "  <tbody>\n",
       "    <tr>\n",
       "      <th>0</th>\n",
       "      <td>12962</td>\n",
       "      <td>1058</td>\n",
       "      <td>7.546362</td>\n",
       "    </tr>\n",
       "    <tr>\n",
       "      <th>1</th>\n",
       "      <td>4350</td>\n",
       "      <td>441</td>\n",
       "      <td>9.204759</td>\n",
       "    </tr>\n",
       "    <tr>\n",
       "      <th>2</th>\n",
       "      <td>1845</td>\n",
       "      <td>194</td>\n",
       "      <td>9.514468</td>\n",
       "    </tr>\n",
       "    <tr>\n",
       "      <th>3</th>\n",
       "      <td>301</td>\n",
       "      <td>27</td>\n",
       "      <td>8.231707</td>\n",
       "    </tr>\n",
       "    <tr>\n",
       "      <th>4</th>\n",
       "      <td>37</td>\n",
       "      <td>4</td>\n",
       "      <td>9.756098</td>\n",
       "    </tr>\n",
       "    <tr>\n",
       "      <th>5</th>\n",
       "      <td>9</td>\n",
       "      <td>0</td>\n",
       "      <td>0.000000</td>\n",
       "    </tr>\n",
       "  </tbody>\n",
       "</table>\n",
       "</div>"
      ],
      "text/plain": [
       "debt          0     1         %\n",
       "children                       \n",
       "0         12962  1058  7.546362\n",
       "1          4350   441  9.204759\n",
       "2          1845   194  9.514468\n",
       "3           301    27  8.231707\n",
       "4            37     4  9.756098\n",
       "5             9     0  0.000000"
      ]
     },
     "execution_count": 52,
     "metadata": {},
     "output_type": "execute_result"
    }
   ],
   "source": [
    "# Формирование сводной таблицы\n",
    "children_pivot = data.pivot_table(index=['children'], columns='debt', values='total_income', aggfunc='count', fill_value=0)\n",
    "\n",
    "# Расчет процентного соотношения количества клиентов, не вернувших долг вовремя к общему количеству клиентов по категориям\n",
    "children_pivot['%'] = children_pivot[1] / (children_pivot[0] + children_pivot[1]) * 100\n",
    "\n",
    "# Вывод результатов\n",
    "children_pivot"
   ]
  },
  {
   "cell_type": "code",
   "execution_count": 53,
   "metadata": {},
   "outputs": [
    {
     "data": {
      "text/html": [
       "<div>\n",
       "<style scoped>\n",
       "    .dataframe tbody tr th:only-of-type {\n",
       "        vertical-align: middle;\n",
       "    }\n",
       "\n",
       "    .dataframe tbody tr th {\n",
       "        vertical-align: top;\n",
       "    }\n",
       "\n",
       "    .dataframe thead th {\n",
       "        text-align: right;\n",
       "    }\n",
       "</style>\n",
       "<table border=\"1\" class=\"dataframe\">\n",
       "  <thead>\n",
       "    <tr style=\"text-align: right;\">\n",
       "      <th>debt</th>\n",
       "      <th>0</th>\n",
       "      <th>1</th>\n",
       "      <th>%</th>\n",
       "    </tr>\n",
       "    <tr>\n",
       "      <th>have_children</th>\n",
       "      <th></th>\n",
       "      <th></th>\n",
       "      <th></th>\n",
       "    </tr>\n",
       "  </thead>\n",
       "  <tbody>\n",
       "    <tr>\n",
       "      <th>False</th>\n",
       "      <td>12962</td>\n",
       "      <td>1058</td>\n",
       "      <td>7.546362</td>\n",
       "    </tr>\n",
       "    <tr>\n",
       "      <th>True</th>\n",
       "      <td>6542</td>\n",
       "      <td>666</td>\n",
       "      <td>9.239734</td>\n",
       "    </tr>\n",
       "  </tbody>\n",
       "</table>\n",
       "</div>"
      ],
      "text/plain": [
       "debt               0     1         %\n",
       "have_children                       \n",
       "False          12962  1058  7.546362\n",
       "True            6542   666  9.239734"
      ]
     },
     "execution_count": 53,
     "metadata": {},
     "output_type": "execute_result"
    }
   ],
   "source": [
    "# Формирование сводной таблицы\n",
    "have_children_pivot = data.pivot_table(index=['have_children'], columns='debt', values='total_income', aggfunc='count', fill_value=0)\n",
    "\n",
    "# Расчет процентного соотношения количества клиентов, не вернувших долг вовремя к общему количеству клиентов по категориям\n",
    "have_children_pivot['%'] = have_children_pivot[1] / (have_children_pivot[0] + have_children_pivot[1]) * 100\n",
    "\n",
    "# Вывод результатов\n",
    "have_children_pivot"
   ]
  },
  {
   "cell_type": "code",
   "execution_count": 54,
   "metadata": {},
   "outputs": [
    {
     "data": {
      "text/html": [
       "<div>\n",
       "<style scoped>\n",
       "    .dataframe tbody tr th:only-of-type {\n",
       "        vertical-align: middle;\n",
       "    }\n",
       "\n",
       "    .dataframe tbody tr th {\n",
       "        vertical-align: top;\n",
       "    }\n",
       "\n",
       "    .dataframe thead th {\n",
       "        text-align: right;\n",
       "    }\n",
       "</style>\n",
       "<table border=\"1\" class=\"dataframe\">\n",
       "  <thead>\n",
       "    <tr style=\"text-align: right;\">\n",
       "      <th>debt</th>\n",
       "      <th>0</th>\n",
       "      <th>1</th>\n",
       "      <th>%</th>\n",
       "    </tr>\n",
       "    <tr>\n",
       "      <th>have_children_type</th>\n",
       "      <th></th>\n",
       "      <th></th>\n",
       "      <th></th>\n",
       "    </tr>\n",
       "  </thead>\n",
       "  <tbody>\n",
       "    <tr>\n",
       "      <th>детей нет</th>\n",
       "      <td>12962</td>\n",
       "      <td>1058</td>\n",
       "      <td>7.546362</td>\n",
       "    </tr>\n",
       "    <tr>\n",
       "      <th>малодетная семья</th>\n",
       "      <td>6195</td>\n",
       "      <td>635</td>\n",
       "      <td>9.297218</td>\n",
       "    </tr>\n",
       "    <tr>\n",
       "      <th>многодетная семья</th>\n",
       "      <td>347</td>\n",
       "      <td>31</td>\n",
       "      <td>8.201058</td>\n",
       "    </tr>\n",
       "  </tbody>\n",
       "</table>\n",
       "</div>"
      ],
      "text/plain": [
       "debt                    0     1         %\n",
       "have_children_type                       \n",
       "детей нет           12962  1058  7.546362\n",
       "малодетная семья     6195   635  9.297218\n",
       "многодетная семья     347    31  8.201058"
      ]
     },
     "execution_count": 54,
     "metadata": {},
     "output_type": "execute_result"
    }
   ],
   "source": [
    "# Формирование сводной таблицы\n",
    "have_children_type_pivot = data.pivot_table(index=['have_children_type'], columns='debt', values='total_income', aggfunc='count', fill_value=0)\n",
    "\n",
    "# Расчет процентного соотношения количества клиентов, не вернувших долг вовремя к общему количеству клиентов по категориям\n",
    "have_children_type_pivot['%'] = have_children_type_pivot[1] / (have_children_type_pivot[0] + have_children_type_pivot[1]) * 100\n",
    "\n",
    "# Вывод результатов\n",
    "have_children_type_pivot"
   ]
  },
  {
   "cell_type": "markdown",
   "metadata": {},
   "source": [
    "#### Вывод"
   ]
  },
  {
   "cell_type": "markdown",
   "metadata": {},
   "source": [
    "Были сформированы сводные таблицы по 3 категориям наличия детей:\n",
    "- количество детей;\n",
    "- наличие детей;\n",
    "- тип семьи (без детей, малодетная и многодетная).\n",
    "\n",
    "Был рассчитан показательно процентного соотношения количества клиентов, не вернувших долг вовремя к общему количеству клиентов для каждой категории.\n",
    "\n",
    "При категоризации по количеству детей прослеживается небольшая зависимость, заключающая с том, что клиенты без детей чуть чаще возвращают кредиты вовремя. Это подтверждается категоризацией клиентов по наличию детей. \n",
    "Категоризации по типу семьи также подтверждает это, а также демонстрирует, что многодетные семьи чуть чаще возвращают кредит, чем малодетные.\n",
    "\n",
    "В целом же разница в 1 - 2% между разными категориями наличия детей является не значимой и позволяет сделать вывод, что \n",
    "__гипотеза о существовании зависимости между наличием детей и возвратом кредита в срок отвергается.__"
   ]
  },
  {
   "cell_type": "markdown",
   "metadata": {},
   "source": [
    "### Есть ли зависимость между семейным положением и возвратом кредита в срок?"
   ]
  },
  {
   "cell_type": "code",
   "execution_count": 55,
   "metadata": {},
   "outputs": [
    {
     "data": {
      "text/html": [
       "<div>\n",
       "<style scoped>\n",
       "    .dataframe tbody tr th:only-of-type {\n",
       "        vertical-align: middle;\n",
       "    }\n",
       "\n",
       "    .dataframe tbody tr th {\n",
       "        vertical-align: top;\n",
       "    }\n",
       "\n",
       "    .dataframe thead th {\n",
       "        text-align: right;\n",
       "    }\n",
       "</style>\n",
       "<table border=\"1\" class=\"dataframe\">\n",
       "  <thead>\n",
       "    <tr style=\"text-align: right;\">\n",
       "      <th>debt</th>\n",
       "      <th>0</th>\n",
       "      <th>1</th>\n",
       "      <th>%</th>\n",
       "    </tr>\n",
       "    <tr>\n",
       "      <th>family_status</th>\n",
       "      <th></th>\n",
       "      <th></th>\n",
       "      <th></th>\n",
       "    </tr>\n",
       "  </thead>\n",
       "  <tbody>\n",
       "    <tr>\n",
       "      <th>Не женат / не замужем</th>\n",
       "      <td>2508</td>\n",
       "      <td>272</td>\n",
       "      <td>9.784173</td>\n",
       "    </tr>\n",
       "    <tr>\n",
       "      <th>гражданский брак</th>\n",
       "      <td>3728</td>\n",
       "      <td>383</td>\n",
       "      <td>9.316468</td>\n",
       "    </tr>\n",
       "    <tr>\n",
       "      <th>женат / замужем</th>\n",
       "      <td>11289</td>\n",
       "      <td>923</td>\n",
       "      <td>7.558140</td>\n",
       "    </tr>\n",
       "    <tr>\n",
       "      <th>в разводе</th>\n",
       "      <td>1095</td>\n",
       "      <td>84</td>\n",
       "      <td>7.124682</td>\n",
       "    </tr>\n",
       "    <tr>\n",
       "      <th>вдовец / вдова</th>\n",
       "      <td>884</td>\n",
       "      <td>62</td>\n",
       "      <td>6.553911</td>\n",
       "    </tr>\n",
       "  </tbody>\n",
       "</table>\n",
       "</div>"
      ],
      "text/plain": [
       "debt                       0    1         %\n",
       "family_status                              \n",
       "Не женат / не замужем   2508  272  9.784173\n",
       "гражданский брак        3728  383  9.316468\n",
       "женат / замужем        11289  923  7.558140\n",
       "в разводе               1095   84  7.124682\n",
       "вдовец / вдова           884   62  6.553911"
      ]
     },
     "execution_count": 55,
     "metadata": {},
     "output_type": "execute_result"
    }
   ],
   "source": [
    "# Формирование сводной таблицы\n",
    "family_status_pivot = data.pivot_table(index=['family_status'], columns='debt', values='total_income', aggfunc='count', fill_value=0)\n",
    "\n",
    "# Расчет процентного соотношения количества клиентов, не вернувших долг вовремя к общему количеству клиентов по категориям\n",
    "family_status_pivot['%'] = family_status_pivot[1] / (family_status_pivot[0] + family_status_pivot[1]) * 100\n",
    "\n",
    "# Вывод результатов\n",
    "family_status_pivot.sort_values('%', ascending=False)"
   ]
  },
  {
   "cell_type": "code",
   "execution_count": 56,
   "metadata": {},
   "outputs": [
    {
     "data": {
      "text/html": [
       "<div>\n",
       "<style scoped>\n",
       "    .dataframe tbody tr th:only-of-type {\n",
       "        vertical-align: middle;\n",
       "    }\n",
       "\n",
       "    .dataframe tbody tr th {\n",
       "        vertical-align: top;\n",
       "    }\n",
       "\n",
       "    .dataframe thead th {\n",
       "        text-align: right;\n",
       "    }\n",
       "</style>\n",
       "<table border=\"1\" class=\"dataframe\">\n",
       "  <thead>\n",
       "    <tr style=\"text-align: right;\">\n",
       "      <th>debt</th>\n",
       "      <th>0</th>\n",
       "      <th>1</th>\n",
       "      <th>%</th>\n",
       "    </tr>\n",
       "    <tr>\n",
       "      <th>married</th>\n",
       "      <th></th>\n",
       "      <th></th>\n",
       "      <th></th>\n",
       "    </tr>\n",
       "  </thead>\n",
       "  <tbody>\n",
       "    <tr>\n",
       "      <th>False</th>\n",
       "      <td>4487</td>\n",
       "      <td>418</td>\n",
       "      <td>8.521916</td>\n",
       "    </tr>\n",
       "    <tr>\n",
       "      <th>True</th>\n",
       "      <td>15017</td>\n",
       "      <td>1306</td>\n",
       "      <td>8.000980</td>\n",
       "    </tr>\n",
       "  </tbody>\n",
       "</table>\n",
       "</div>"
      ],
      "text/plain": [
       "debt         0     1         %\n",
       "married                       \n",
       "False     4487   418  8.521916\n",
       "True     15017  1306  8.000980"
      ]
     },
     "execution_count": 56,
     "metadata": {},
     "output_type": "execute_result"
    }
   ],
   "source": [
    "# Формирование сводной таблицы\n",
    "married_pivot = data.pivot_table(index=['married'], columns='debt', values='total_income', aggfunc='count', fill_value=0)\n",
    "\n",
    "# Расчет процентного соотношения количества клиентов, не вернувших долг вовремя к общему количеству клиентов по категориям\n",
    "married_pivot['%'] = married_pivot[1] / (married_pivot[0] + married_pivot[1]) * 100\n",
    "\n",
    "# Вывод результатов\n",
    "married_pivot"
   ]
  },
  {
   "cell_type": "markdown",
   "metadata": {},
   "source": [
    "#### Вывод"
   ]
  },
  {
   "cell_type": "markdown",
   "metadata": {},
   "source": [
    "Были сформированы сводные таблицы по 2 категориям семейного положения:\n",
    "- семейное положение;\n",
    "- в браке ли клиент.\n",
    "\n",
    "Был рассчитан показательно процентного соотношения количества клиентов, не вернувших долг вовремя к общему количеству клиентов для каждой категории.\n",
    "\n",
    "В данном случае не вполне понятно отличие типов \"гражданский брак\" и \"женат / замужем\". Данный вопрос стоит уточнить у поставщика данных.\n",
    "\n",
    "При категоризации по семейному положению прослеживается тенденция, что реже всех вовремя отдают кредит клиенты, никогда не находившиеся в браке или находящиеся в гражданском браке (предположительно, сожительствующие, но не скрепившие отношения юридически). Клиенты, находящиеся в браке, а также уже разведенные чуть чаще отдают кредит вовремя. Чаще всех вовремя же отдают кредит клиенты, имеющие статус \"вдовец / вдова\".\n",
    "\n",
    "Но при категоризации людей по признаку \"в браке ли клиент\" в данный момент разница практически отсутствует.\n",
    "\n",
    "В целом же сколько-нибудь значимое отличие присутствует только у клиентов, имеющих статус \"вдовец / вдова\". Но таких людей в принципе очень мало, относительно всей выборки, и, возможно, это продиктовано их возрастом, что требует дополнительного исследования. Это позволяет сделать вывод, что \n",
    "__гипотеза о существовании зависимости между семейным положением и возвратом кредита в срок отвергается.__"
   ]
  },
  {
   "cell_type": "markdown",
   "metadata": {},
   "source": [
    "### Есть ли зависимость между уровнем дохода и возвратом кредита в срок?"
   ]
  },
  {
   "cell_type": "code",
   "execution_count": 57,
   "metadata": {},
   "outputs": [
    {
     "data": {
      "text/html": [
       "<div>\n",
       "<style scoped>\n",
       "    .dataframe tbody tr th:only-of-type {\n",
       "        vertical-align: middle;\n",
       "    }\n",
       "\n",
       "    .dataframe tbody tr th {\n",
       "        vertical-align: top;\n",
       "    }\n",
       "\n",
       "    .dataframe thead th {\n",
       "        text-align: right;\n",
       "    }\n",
       "</style>\n",
       "<table border=\"1\" class=\"dataframe\">\n",
       "  <thead>\n",
       "    <tr style=\"text-align: right;\">\n",
       "      <th>debt</th>\n",
       "      <th>0</th>\n",
       "      <th>1</th>\n",
       "      <th>%</th>\n",
       "    </tr>\n",
       "    <tr>\n",
       "      <th>total_income_type</th>\n",
       "      <th></th>\n",
       "      <th></th>\n",
       "      <th></th>\n",
       "    </tr>\n",
       "  </thead>\n",
       "  <tbody>\n",
       "    <tr>\n",
       "      <th>&lt; 50 тыс.</th>\n",
       "      <td>346</td>\n",
       "      <td>23</td>\n",
       "      <td>6.233062</td>\n",
       "    </tr>\n",
       "    <tr>\n",
       "      <th>300 тыс. - 1 млн.</th>\n",
       "      <td>1340</td>\n",
       "      <td>104</td>\n",
       "      <td>7.202216</td>\n",
       "    </tr>\n",
       "    <tr>\n",
       "      <th>150 - 300 тыс.</th>\n",
       "      <td>7750</td>\n",
       "      <td>652</td>\n",
       "      <td>7.760057</td>\n",
       "    </tr>\n",
       "    <tr>\n",
       "      <th>&gt; 1 млн.</th>\n",
       "      <td>23</td>\n",
       "      <td>2</td>\n",
       "      <td>8.000000</td>\n",
       "    </tr>\n",
       "    <tr>\n",
       "      <th>50 - 100 тыс.</th>\n",
       "      <td>3727</td>\n",
       "      <td>330</td>\n",
       "      <td>8.134089</td>\n",
       "    </tr>\n",
       "    <tr>\n",
       "      <th>100 - 150 тыс.</th>\n",
       "      <td>6318</td>\n",
       "      <td>613</td>\n",
       "      <td>8.844323</td>\n",
       "    </tr>\n",
       "  </tbody>\n",
       "</table>\n",
       "</div>"
      ],
      "text/plain": [
       "debt                  0    1         %\n",
       "total_income_type                     \n",
       "< 50 тыс.           346   23  6.233062\n",
       "300 тыс. - 1 млн.  1340  104  7.202216\n",
       "150 - 300 тыс.     7750  652  7.760057\n",
       "> 1 млн.             23    2  8.000000\n",
       "50 - 100 тыс.      3727  330  8.134089\n",
       "100 - 150 тыс.     6318  613  8.844323"
      ]
     },
     "execution_count": 57,
     "metadata": {},
     "output_type": "execute_result"
    }
   ],
   "source": [
    "# Формирование сводной таблицы\n",
    "total_income_type_pivot = data.pivot_table(index=['total_income_type'], columns='debt', values='total_income', aggfunc='count', fill_value=0)\n",
    "\n",
    "# Расчет процентного соотношения количества клиентов, не вернувших долг вовремя к общему количеству клиентов по категориям\n",
    "total_income_type_pivot['%'] = total_income_type_pivot[1] / (total_income_type_pivot[0] + total_income_type_pivot[1]) * 100\n",
    "\n",
    "# Вывод результатов\n",
    "total_income_type_pivot.sort_values('%')"
   ]
  },
  {
   "cell_type": "markdown",
   "metadata": {},
   "source": [
    "#### Вывод"
   ]
  },
  {
   "cell_type": "markdown",
   "metadata": {},
   "source": [
    "Была сформирована сводная таблица по типу уровня дохода.\n",
    "\n",
    "Был рассчитан показательно процентного соотношения количества клиентов, не вернувших долг вовремя к общему количеству клиентов для каждого типа.\n",
    "\n",
    "Из полученной информации можно сделать следующие выводы:\n",
    "1. Чаще всего вовремя отдают кредиты клиенты, имеющие доход менее 50 тыс. Возможно, это объясняется маленькими суммами кредитов, которые выдаются данной категории клиентов;\n",
    "2. Реже всех вовремя отдают кредиты клиенты, имеющие средний доход - 50 - 150 тыс. Возможно, это объясняется значительными нуждами данной категории клиентов (покупка недвижимости, личного транспорта, наличие детей и т.п.), но для подтверждения этой гипотезы необходимо дополнительное исследование;\n",
    "3. Клиенты, имеющие высокий уровень дохода - от 150 тыс., находятся посередине. Возможно, это объясняется схожими нуждами с категорией клиентов со средним доходом, но наличием большего уровня дохода, что позволяет им чаще вовремя производить погашение кредита.\n",
    "\n",
    "В целом же разница в 1 - 2% между разными типами уровня дохода является не значимой и позволяет сделать вывод, что\n",
    "__гипотеза о существовании зависимости между уровнем дохода и возвратом кредита в срок отвергается.__"
   ]
  },
  {
   "cell_type": "markdown",
   "metadata": {},
   "source": [
    "### Как разные цели кредита влияют на его возврат в срок?"
   ]
  },
  {
   "cell_type": "code",
   "execution_count": 58,
   "metadata": {},
   "outputs": [
    {
     "data": {
      "text/html": [
       "<div>\n",
       "<style scoped>\n",
       "    .dataframe tbody tr th:only-of-type {\n",
       "        vertical-align: middle;\n",
       "    }\n",
       "\n",
       "    .dataframe tbody tr th {\n",
       "        vertical-align: top;\n",
       "    }\n",
       "\n",
       "    .dataframe thead th {\n",
       "        text-align: right;\n",
       "    }\n",
       "</style>\n",
       "<table border=\"1\" class=\"dataframe\">\n",
       "  <thead>\n",
       "    <tr style=\"text-align: right;\">\n",
       "      <th>debt</th>\n",
       "      <th>0</th>\n",
       "      <th>1</th>\n",
       "      <th>%</th>\n",
       "    </tr>\n",
       "    <tr>\n",
       "      <th>purpose_category</th>\n",
       "      <th></th>\n",
       "      <th></th>\n",
       "      <th></th>\n",
       "    </tr>\n",
       "  </thead>\n",
       "  <tbody>\n",
       "    <tr>\n",
       "      <th>жилье</th>\n",
       "      <td>5233</td>\n",
       "      <td>395</td>\n",
       "      <td>7.018479</td>\n",
       "    </tr>\n",
       "    <tr>\n",
       "      <th>недвижимость</th>\n",
       "      <td>3493</td>\n",
       "      <td>284</td>\n",
       "      <td>7.519195</td>\n",
       "    </tr>\n",
       "    <tr>\n",
       "      <th>коммерческая недвижимость</th>\n",
       "      <td>1199</td>\n",
       "      <td>98</td>\n",
       "      <td>7.555898</td>\n",
       "    </tr>\n",
       "    <tr>\n",
       "      <th>свадьба</th>\n",
       "      <td>2117</td>\n",
       "      <td>181</td>\n",
       "      <td>7.876414</td>\n",
       "    </tr>\n",
       "    <tr>\n",
       "      <th>образование</th>\n",
       "      <td>3601</td>\n",
       "      <td>369</td>\n",
       "      <td>9.294710</td>\n",
       "    </tr>\n",
       "    <tr>\n",
       "      <th>автомобиль</th>\n",
       "      <td>3861</td>\n",
       "      <td>397</td>\n",
       "      <td>9.323626</td>\n",
       "    </tr>\n",
       "  </tbody>\n",
       "</table>\n",
       "</div>"
      ],
      "text/plain": [
       "debt                          0    1         %\n",
       "purpose_category                              \n",
       "жилье                      5233  395  7.018479\n",
       "недвижимость               3493  284  7.519195\n",
       "коммерческая недвижимость  1199   98  7.555898\n",
       "свадьба                    2117  181  7.876414\n",
       "образование                3601  369  9.294710\n",
       "автомобиль                 3861  397  9.323626"
      ]
     },
     "execution_count": 58,
     "metadata": {},
     "output_type": "execute_result"
    }
   ],
   "source": [
    "# Формирование сводной таблицы\n",
    "purpose_category_pivot = data.pivot_table(index=['purpose_category'], columns='debt', values='total_income', aggfunc='count', fill_value=0)\n",
    "\n",
    "# Расчет процентного соотношения количества клиентов, не вернувших долг вовремя к общему количеству клиентов по категориям\n",
    "purpose_category_pivot['%'] = purpose_category_pivot[1] / (purpose_category_pivot[0] + purpose_category_pivot[1]) * 100\n",
    "\n",
    "# Вывод результатов\n",
    "purpose_category_pivot.sort_values('%')"
   ]
  },
  {
   "cell_type": "markdown",
   "metadata": {
    "tags": []
   },
   "source": [
    "#### Вывод"
   ]
  },
  {
   "cell_type": "markdown",
   "metadata": {},
   "source": [
    "Была сформирована сводная таблица по категории цели получения кредитов.\n",
    "\n",
    "Был рассчитан показательно процентного соотношения количества клиентов, не вернувших долг вовремя к общему количеству клиентов для каждого типа.\n",
    "\n",
    "Разница в 1 - 2% между разными целями получения кредитов является не значимой и позволяет сделать вывод, что\n",
    "__гипотеза о существовании зависимости целью кредита и возвратом кредита в срок отвергается.__"
   ]
  },
  {
   "cell_type": "markdown",
   "metadata": {},
   "source": [
    "## Шаг 4. Общий вывод"
   ]
  },
  {
   "cell_type": "markdown",
   "metadata": {},
   "source": [
    "После проверки всех гипотез можно сделать вывод, что зависимости между\n",
    "- наличием детей и возвратом кредита в срок;\n",
    "- семейным положением и возвратом кредита в срок;\n",
    "- уровнем дохода и возвратом кредита в срок;\n",
    "- цель получения кредита и возвратом кредита в срок\n",
    "отсутствуют.\n",
    "\n",
    "Также необходимо заметить, что в разных категория представлено количество людей, значительно отличающееся друг от друга (вплоть до десятков и сотен раз). Поэтому, возможно, стоит провести подобное исследование при наличие более равномерно распределенных данных."
   ]
  },
  {
   "cell_type": "markdown",
   "metadata": {},
   "source": [
    "## Чек-лист готовности проекта"
   ]
  },
  {
   "cell_type": "markdown",
   "metadata": {},
   "source": [
    "- [x]  открыт файл;\n",
    "- [x]  файл изучен;\n",
    "\n",
    "\n",
    "- [x]  определены пропущенные значения;\n",
    "- [x]  заполнены пропущенные значения;\n",
    "- [x]  есть пояснение, какие пропущенные значения обнаружены;\n",
    "- [x]  описаны возможные причины появления пропусков в данных;\n",
    "- [x]  объяснено, по какому принципу заполнены пропуски;\n",
    "\n",
    "\n",
    "- [x]  заменен вещественный тип данных на целочисленный;\n",
    "- [x]  есть пояснение, какой метод используется для изменения типа данных и почему;\n",
    "\n",
    "\n",
    "- [x]  удалены дубликаты;\n",
    "- [x]  есть пояснение, какой метод используется для поиска и удаления дубликатов;\n",
    "- [x]  описаны возможные причины появления дубликатов в данных;\n",
    "\n",
    "\n",
    "- [x]  выделены леммы в значениях столбца с целями получения кредита;\n",
    "- [x]  описан процесс лемматизации;\n",
    "\n",
    "\n",
    "- [x]  данные категоризированы;\n",
    "- [x]  есть объяснение принципа категоризации данных;\n",
    "\n",
    "\n",
    "- [x]  есть ответ на вопрос: \"Есть ли зависимость между наличием детей и возвратом кредита в срок?\";\n",
    "- [x]  есть ответ на вопрос: \"Есть ли зависимость между семейным положением и возвратом кредита в срок?\";\n",
    "- [x]  есть ответ на вопрос: \"Есть ли зависимость между уровнем дохода и возвратом кредита в срок?\";\n",
    "- [x]  есть ответ на вопрос: \"Как разные цели кредита влияют на его возврат в срок?\";\n",
    "\n",
    "\n",
    "- [x]  в каждом этапе есть выводы;\n",
    "\n",
    "\n",
    "- [x]  есть общий вывод."
   ]
  }
 ],
 "metadata": {
  "kernelspec": {
   "display_name": "praktikum",
   "language": "python",
   "name": "praktikum"
  },
  "language_info": {
   "codemirror_mode": {
    "name": "ipython",
    "version": 3
   },
   "file_extension": ".py",
   "mimetype": "text/x-python",
   "name": "python",
   "nbconvert_exporter": "python",
   "pygments_lexer": "ipython3",
   "version": "3.9.6"
  }
 },
 "nbformat": 4,
 "nbformat_minor": 4
}
